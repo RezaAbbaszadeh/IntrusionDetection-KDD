{
  "cells": [
    {
      "cell_type": "code",
      "execution_count": 11,
      "metadata": {},
      "outputs": [
        {
          "name": "stdout",
          "output_type": "stream",
          "text": [
            "Requirement already satisfied: seaborn==0.13.2 in c:\\users\\rezaab\\projects\\intrusiondetection-kdd\\.venv\\lib\\site-packages (from -r requirements.txt (line 1)) (0.13.2)\n",
            "Requirement already satisfied: scikeras==0.13.0 in c:\\users\\rezaab\\projects\\intrusiondetection-kdd\\.venv\\lib\\site-packages (from -r requirements.txt (line 2)) (0.13.0)\n",
            "Requirement already satisfied: tensorflow==2.15.0 in c:\\users\\rezaab\\projects\\intrusiondetection-kdd\\.venv\\lib\\site-packages (from -r requirements.txt (line 3)) (2.15.0)\n",
            "Requirement already satisfied: keras==3.2.1 in c:\\users\\rezaab\\projects\\intrusiondetection-kdd\\.venv\\lib\\site-packages (from -r requirements.txt (line 4)) (3.2.1)\n",
            "Requirement already satisfied: numpy!=1.24.0,>=1.20 in c:\\users\\rezaab\\projects\\intrusiondetection-kdd\\.venv\\lib\\site-packages (from seaborn==0.13.2->-r requirements.txt (line 1)) (1.26.4)\n",
            "Requirement already satisfied: pandas>=1.2 in c:\\users\\rezaab\\projects\\intrusiondetection-kdd\\.venv\\lib\\site-packages (from seaborn==0.13.2->-r requirements.txt (line 1)) (2.2.2)\n",
            "Requirement already satisfied: matplotlib!=3.6.1,>=3.4 in c:\\users\\rezaab\\projects\\intrusiondetection-kdd\\.venv\\lib\\site-packages (from seaborn==0.13.2->-r requirements.txt (line 1)) (3.8.4)\n",
            "Requirement already satisfied: scikit-learn>=1.4.2 in c:\\users\\rezaab\\projects\\intrusiondetection-kdd\\.venv\\lib\\site-packages (from scikeras==0.13.0->-r requirements.txt (line 2)) (1.4.2)\n",
            "Requirement already satisfied: tensorflow-intel==2.15.0 in c:\\users\\rezaab\\projects\\intrusiondetection-kdd\\.venv\\lib\\site-packages (from tensorflow==2.15.0->-r requirements.txt (line 3)) (2.15.0)\n",
            "Requirement already satisfied: absl-py in c:\\users\\rezaab\\projects\\intrusiondetection-kdd\\.venv\\lib\\site-packages (from keras==3.2.1->-r requirements.txt (line 4)) (2.1.0)\n",
            "Requirement already satisfied: rich in c:\\users\\rezaab\\projects\\intrusiondetection-kdd\\.venv\\lib\\site-packages (from keras==3.2.1->-r requirements.txt (line 4)) (13.7.1)\n",
            "Requirement already satisfied: namex in c:\\users\\rezaab\\projects\\intrusiondetection-kdd\\.venv\\lib\\site-packages (from keras==3.2.1->-r requirements.txt (line 4)) (0.0.7)\n",
            "Requirement already satisfied: h5py in c:\\users\\rezaab\\projects\\intrusiondetection-kdd\\.venv\\lib\\site-packages (from keras==3.2.1->-r requirements.txt (line 4)) (3.11.0)\n",
            "Requirement already satisfied: optree in c:\\users\\rezaab\\projects\\intrusiondetection-kdd\\.venv\\lib\\site-packages (from keras==3.2.1->-r requirements.txt (line 4)) (0.11.0)\n",
            "Requirement already satisfied: ml-dtypes in c:\\users\\rezaab\\projects\\intrusiondetection-kdd\\.venv\\lib\\site-packages (from keras==3.2.1->-r requirements.txt (line 4)) (0.2.0)\n",
            "Requirement already satisfied: astunparse>=1.6.0 in c:\\users\\rezaab\\projects\\intrusiondetection-kdd\\.venv\\lib\\site-packages (from tensorflow-intel==2.15.0->tensorflow==2.15.0->-r requirements.txt (line 3)) (1.6.3)\n",
            "Requirement already satisfied: flatbuffers>=23.5.26 in c:\\users\\rezaab\\projects\\intrusiondetection-kdd\\.venv\\lib\\site-packages (from tensorflow-intel==2.15.0->tensorflow==2.15.0->-r requirements.txt (line 3)) (24.3.25)\n",
            "Requirement already satisfied: gast!=0.5.0,!=0.5.1,!=0.5.2,>=0.2.1 in c:\\users\\rezaab\\projects\\intrusiondetection-kdd\\.venv\\lib\\site-packages (from tensorflow-intel==2.15.0->tensorflow==2.15.0->-r requirements.txt (line 3)) (0.5.4)\n",
            "Requirement already satisfied: google-pasta>=0.1.1 in c:\\users\\rezaab\\projects\\intrusiondetection-kdd\\.venv\\lib\\site-packages (from tensorflow-intel==2.15.0->tensorflow==2.15.0->-r requirements.txt (line 3)) (0.2.0)\n",
            "Requirement already satisfied: libclang>=13.0.0 in c:\\users\\rezaab\\projects\\intrusiondetection-kdd\\.venv\\lib\\site-packages (from tensorflow-intel==2.15.0->tensorflow==2.15.0->-r requirements.txt (line 3)) (18.1.1)\n",
            "Requirement already satisfied: opt-einsum>=2.3.2 in c:\\users\\rezaab\\projects\\intrusiondetection-kdd\\.venv\\lib\\site-packages (from tensorflow-intel==2.15.0->tensorflow==2.15.0->-r requirements.txt (line 3)) (3.3.0)\n",
            "Requirement already satisfied: packaging in c:\\users\\rezaab\\projects\\intrusiondetection-kdd\\.venv\\lib\\site-packages (from tensorflow-intel==2.15.0->tensorflow==2.15.0->-r requirements.txt (line 3)) (24.0)\n",
            "Requirement already satisfied: protobuf!=4.21.0,!=4.21.1,!=4.21.2,!=4.21.3,!=4.21.4,!=4.21.5,<5.0.0dev,>=3.20.3 in c:\\users\\rezaab\\projects\\intrusiondetection-kdd\\.venv\\lib\\site-packages (from tensorflow-intel==2.15.0->tensorflow==2.15.0->-r requirements.txt (line 3)) (4.25.3)\n",
            "Requirement already satisfied: setuptools in c:\\users\\rezaab\\projects\\intrusiondetection-kdd\\.venv\\lib\\site-packages (from tensorflow-intel==2.15.0->tensorflow==2.15.0->-r requirements.txt (line 3)) (65.5.0)\n",
            "Requirement already satisfied: six>=1.12.0 in c:\\users\\rezaab\\projects\\intrusiondetection-kdd\\.venv\\lib\\site-packages (from tensorflow-intel==2.15.0->tensorflow==2.15.0->-r requirements.txt (line 3)) (1.16.0)\n",
            "Requirement already satisfied: termcolor>=1.1.0 in c:\\users\\rezaab\\projects\\intrusiondetection-kdd\\.venv\\lib\\site-packages (from tensorflow-intel==2.15.0->tensorflow==2.15.0->-r requirements.txt (line 3)) (2.4.0)\n",
            "Requirement already satisfied: typing-extensions>=3.6.6 in c:\\users\\rezaab\\projects\\intrusiondetection-kdd\\.venv\\lib\\site-packages (from tensorflow-intel==2.15.0->tensorflow==2.15.0->-r requirements.txt (line 3)) (4.11.0)\n",
            "Requirement already satisfied: wrapt<1.15,>=1.11.0 in c:\\users\\rezaab\\projects\\intrusiondetection-kdd\\.venv\\lib\\site-packages (from tensorflow-intel==2.15.0->tensorflow==2.15.0->-r requirements.txt (line 3)) (1.14.1)\n",
            "Requirement already satisfied: tensorflow-io-gcs-filesystem>=0.23.1 in c:\\users\\rezaab\\projects\\intrusiondetection-kdd\\.venv\\lib\\site-packages (from tensorflow-intel==2.15.0->tensorflow==2.15.0->-r requirements.txt (line 3)) (0.31.0)\n",
            "Requirement already satisfied: grpcio<2.0,>=1.24.3 in c:\\users\\rezaab\\projects\\intrusiondetection-kdd\\.venv\\lib\\site-packages (from tensorflow-intel==2.15.0->tensorflow==2.15.0->-r requirements.txt (line 3)) (1.62.1)\n",
            "Requirement already satisfied: tensorboard<2.16,>=2.15 in c:\\users\\rezaab\\projects\\intrusiondetection-kdd\\.venv\\lib\\site-packages (from tensorflow-intel==2.15.0->tensorflow==2.15.0->-r requirements.txt (line 3)) (2.15.2)\n",
            "Requirement already satisfied: tensorflow-estimator<2.16,>=2.15.0 in c:\\users\\rezaab\\projects\\intrusiondetection-kdd\\.venv\\lib\\site-packages (from tensorflow-intel==2.15.0->tensorflow==2.15.0->-r requirements.txt (line 3)) (2.15.0)\n",
            "INFO: pip is looking at multiple versions of tensorflow-intel to determine which version is compatible with other requirements. This could take a while.\n",
            "Collecting tensorflow==2.15.0 (from -r requirements.txt (line 3))\n",
            "  Using cached tensorflow-2.15.0-cp311-cp311-win_amd64.whl.metadata (3.6 kB)\n",
            "Collecting scikeras==0.13.0 (from -r requirements.txt (line 2))\n",
            "  Using cached scikeras-0.13.0-py3-none-any.whl.metadata (3.1 kB)\n",
            "\n",
            "The conflict is caused by:\n",
            "    The user requested keras==3.2.1\n",
            "    scikeras 0.13.0 depends on keras>=3.2.0\n",
            "    tensorflow-intel 2.15.0 depends on keras<2.16 and >=2.15.0\n",
            "\n",
            "To fix this you could try to:\n",
            "1. loosen the range of package versions you've specified\n",
            "2. remove package versions to allow pip attempt to solve the dependency conflict\n",
            "\n"
          ]
        },
        {
          "name": "stderr",
          "output_type": "stream",
          "text": [
            "ERROR: Cannot install -r requirements.txt (line 2), keras==3.2.1 and tensorflow-intel==2.15.0 because these package versions have conflicting dependencies.\n",
            "ERROR: ResolutionImpossible: for help visit https://pip.pypa.io/en/latest/topics/dependency-resolution/#dealing-with-dependency-conflicts\n"
          ]
        }
      ],
      "source": [
        "! pip install -r requirements.txt"
      ]
    },
    {
      "cell_type": "code",
      "execution_count": 1,
      "metadata": {
        "id": "fwyp5k2rj6qn"
      },
      "outputs": [],
      "source": [
        "import os\n",
        "import pandas as pd\n",
        "import numpy as np\n",
        "import matplotlib.pyplot as plt\n",
        "import seaborn as sns\n",
        "import time\n",
        "\n",
        "def dataset(file_name:str = ''):\n",
        "  return f'dataset/{file_name}'"
      ]
    },
    {
      "cell_type": "code",
      "execution_count": 2,
      "metadata": {
        "colab": {
          "base_uri": "https://localhost:8080/"
        },
        "id": "J43vI1YZYMWN",
        "outputId": "b267a6ee-80be-4cbd-8d91-a121b86e76f9"
      },
      "outputs": [
        {
          "name": "stdout",
          "output_type": "stream",
          "text": [
            "['corrected.gz', 'dataset.csv', 'kddcup.data.gz', 'kddcup.data_10_percent.gz', 'kddcup.names', 'kddcup.newtestdata_10_percent_unlabeled.gz', 'kddcup.testdata.unlabeled.gz', 'kddcup.testdata.unlabeled_10_percent.gz', 'test_dataset.csv', 'training_attack_types', 'typo-correction.txt']\n"
          ]
        }
      ],
      "source": [
        "import os\n",
        "\n",
        "print(os.listdir(dataset()))"
      ]
    },
    {
      "cell_type": "code",
      "execution_count": 3,
      "metadata": {
        "colab": {
          "base_uri": "https://localhost:8080/"
        },
        "id": "H_eGgspgZKeB",
        "outputId": "08f19a04-fd9a-4467-8413-fdc29dadf426"
      },
      "outputs": [
        {
          "data": {
            "text/plain": [
              "(42,\n",
              " ['duration',\n",
              "  'protocol_type',\n",
              "  'service',\n",
              "  'flag',\n",
              "  'src_bytes',\n",
              "  'dst_bytes',\n",
              "  'land',\n",
              "  'wrong_fragment',\n",
              "  'urgent',\n",
              "  'hot',\n",
              "  'num_failed_logins',\n",
              "  'logged_in',\n",
              "  'num_compromised',\n",
              "  'root_shell',\n",
              "  'su_attempted',\n",
              "  'num_root',\n",
              "  'num_file_creations',\n",
              "  'num_shells',\n",
              "  'num_access_files',\n",
              "  'num_outbound_cmds',\n",
              "  'is_host_login',\n",
              "  'is_guest_login',\n",
              "  'count',\n",
              "  'srv_count',\n",
              "  'serror_rate',\n",
              "  'srv_serror_rate',\n",
              "  'rerror_rate',\n",
              "  'srv_rerror_rate',\n",
              "  'same_srv_rate',\n",
              "  'diff_srv_rate',\n",
              "  'srv_diff_host_rate',\n",
              "  'dst_host_count',\n",
              "  'dst_host_srv_count',\n",
              "  'dst_host_same_srv_rate',\n",
              "  'dst_host_diff_srv_rate',\n",
              "  'dst_host_same_src_port_rate',\n",
              "  'dst_host_srv_diff_host_rate',\n",
              "  'dst_host_serror_rate',\n",
              "  'dst_host_srv_serror_rate',\n",
              "  'dst_host_rerror_rate',\n",
              "  'dst_host_srv_rerror_rate',\n",
              "  'target'])"
            ]
          },
          "execution_count": 3,
          "metadata": {},
          "output_type": "execute_result"
        }
      ],
      "source": [
        "with open(dataset(\"kddcup.names\"),'r') as f:\n",
        "  names = f.read()\n",
        "  features = [name.split(':')[0].strip() for name in names.split('.')][1:-1] + ['target']\n",
        "\n",
        "len(features) , features"
      ]
    },
    {
      "cell_type": "code",
      "execution_count": 4,
      "metadata": {
        "colab": {
          "base_uri": "https://localhost:8080/"
        },
        "id": "U5jE3MwmfT8l",
        "outputId": "0573db1c-6a45-4b69-cbc4-6f4f6a918428"
      },
      "outputs": [
        {
          "data": {
            "text/plain": [
              "(23,\n",
              " {'normal': 'normal',\n",
              "  'back': 'dos',\n",
              "  'buffer_overflow': 'u2r',\n",
              "  'ftp_write': 'r2l',\n",
              "  'guess_passwd': 'r2l',\n",
              "  'imap': 'r2l',\n",
              "  'ipsweep': 'probe',\n",
              "  'land': 'dos',\n",
              "  'loadmodule': 'u2r',\n",
              "  'multihop': 'r2l',\n",
              "  'neptune': 'dos',\n",
              "  'nmap': 'probe',\n",
              "  'perl': 'u2r',\n",
              "  'phf': 'r2l',\n",
              "  'pod': 'dos',\n",
              "  'portsweep': 'probe',\n",
              "  'rootkit': 'u2r',\n",
              "  'satan': 'probe',\n",
              "  'smurf': 'dos',\n",
              "  'spy': 'r2l',\n",
              "  'teardrop': 'dos',\n",
              "  'warezclient': 'r2l',\n",
              "  'warezmaster': 'r2l'})"
            ]
          },
          "execution_count": 4,
          "metadata": {},
          "output_type": "execute_result"
        }
      ],
      "source": [
        "attack_types = {'normal': 'normal'}\n",
        "with open(dataset(\"training_attack_types\"),'r') as f:\n",
        "  types = f.read()\n",
        "  attack_types.update({t.split(' ')[0]: t.split(' ')[1] for t in types.split('\\n')[:-2]})\n",
        "len(attack_types), attack_types"
      ]
    },
    {
      "cell_type": "code",
      "execution_count": 5,
      "metadata": {
        "colab": {
          "base_uri": "https://localhost:8080/",
          "height": 273
        },
        "id": "VqUsOxV3immF",
        "outputId": "b94eb5f2-d9fa-4e78-ee88-626af04155d2"
      },
      "outputs": [
        {
          "data": {
            "text/html": [
              "<div>\n",
              "<style scoped>\n",
              "    .dataframe tbody tr th:only-of-type {\n",
              "        vertical-align: middle;\n",
              "    }\n",
              "\n",
              "    .dataframe tbody tr th {\n",
              "        vertical-align: top;\n",
              "    }\n",
              "\n",
              "    .dataframe thead th {\n",
              "        text-align: right;\n",
              "    }\n",
              "</style>\n",
              "<table border=\"1\" class=\"dataframe\">\n",
              "  <thead>\n",
              "    <tr style=\"text-align: right;\">\n",
              "      <th></th>\n",
              "      <th>duration</th>\n",
              "      <th>protocol_type</th>\n",
              "      <th>service</th>\n",
              "      <th>flag</th>\n",
              "      <th>src_bytes</th>\n",
              "      <th>dst_bytes</th>\n",
              "      <th>land</th>\n",
              "      <th>wrong_fragment</th>\n",
              "      <th>urgent</th>\n",
              "      <th>hot</th>\n",
              "      <th>...</th>\n",
              "      <th>dst_host_diff_srv_rate</th>\n",
              "      <th>dst_host_same_src_port_rate</th>\n",
              "      <th>dst_host_srv_diff_host_rate</th>\n",
              "      <th>dst_host_serror_rate</th>\n",
              "      <th>dst_host_srv_serror_rate</th>\n",
              "      <th>dst_host_rerror_rate</th>\n",
              "      <th>dst_host_srv_rerror_rate</th>\n",
              "      <th>target</th>\n",
              "      <th>benign</th>\n",
              "      <th>Attack Type</th>\n",
              "    </tr>\n",
              "  </thead>\n",
              "  <tbody>\n",
              "    <tr>\n",
              "      <th>0</th>\n",
              "      <td>0</td>\n",
              "      <td>tcp</td>\n",
              "      <td>http</td>\n",
              "      <td>SF</td>\n",
              "      <td>215</td>\n",
              "      <td>45076</td>\n",
              "      <td>0</td>\n",
              "      <td>0</td>\n",
              "      <td>0</td>\n",
              "      <td>0</td>\n",
              "      <td>...</td>\n",
              "      <td>0.0</td>\n",
              "      <td>0.00</td>\n",
              "      <td>0.0</td>\n",
              "      <td>0.0</td>\n",
              "      <td>0.0</td>\n",
              "      <td>0.0</td>\n",
              "      <td>0.0</td>\n",
              "      <td>normal.</td>\n",
              "      <td>1</td>\n",
              "      <td>normal</td>\n",
              "    </tr>\n",
              "    <tr>\n",
              "      <th>1</th>\n",
              "      <td>0</td>\n",
              "      <td>tcp</td>\n",
              "      <td>http</td>\n",
              "      <td>SF</td>\n",
              "      <td>162</td>\n",
              "      <td>4528</td>\n",
              "      <td>0</td>\n",
              "      <td>0</td>\n",
              "      <td>0</td>\n",
              "      <td>0</td>\n",
              "      <td>...</td>\n",
              "      <td>0.0</td>\n",
              "      <td>1.00</td>\n",
              "      <td>0.0</td>\n",
              "      <td>0.0</td>\n",
              "      <td>0.0</td>\n",
              "      <td>0.0</td>\n",
              "      <td>0.0</td>\n",
              "      <td>normal.</td>\n",
              "      <td>1</td>\n",
              "      <td>normal</td>\n",
              "    </tr>\n",
              "    <tr>\n",
              "      <th>2</th>\n",
              "      <td>0</td>\n",
              "      <td>tcp</td>\n",
              "      <td>http</td>\n",
              "      <td>SF</td>\n",
              "      <td>236</td>\n",
              "      <td>1228</td>\n",
              "      <td>0</td>\n",
              "      <td>0</td>\n",
              "      <td>0</td>\n",
              "      <td>0</td>\n",
              "      <td>...</td>\n",
              "      <td>0.0</td>\n",
              "      <td>0.50</td>\n",
              "      <td>0.0</td>\n",
              "      <td>0.0</td>\n",
              "      <td>0.0</td>\n",
              "      <td>0.0</td>\n",
              "      <td>0.0</td>\n",
              "      <td>normal.</td>\n",
              "      <td>1</td>\n",
              "      <td>normal</td>\n",
              "    </tr>\n",
              "    <tr>\n",
              "      <th>3</th>\n",
              "      <td>0</td>\n",
              "      <td>tcp</td>\n",
              "      <td>http</td>\n",
              "      <td>SF</td>\n",
              "      <td>233</td>\n",
              "      <td>2032</td>\n",
              "      <td>0</td>\n",
              "      <td>0</td>\n",
              "      <td>0</td>\n",
              "      <td>0</td>\n",
              "      <td>...</td>\n",
              "      <td>0.0</td>\n",
              "      <td>0.33</td>\n",
              "      <td>0.0</td>\n",
              "      <td>0.0</td>\n",
              "      <td>0.0</td>\n",
              "      <td>0.0</td>\n",
              "      <td>0.0</td>\n",
              "      <td>normal.</td>\n",
              "      <td>1</td>\n",
              "      <td>normal</td>\n",
              "    </tr>\n",
              "    <tr>\n",
              "      <th>4</th>\n",
              "      <td>0</td>\n",
              "      <td>tcp</td>\n",
              "      <td>http</td>\n",
              "      <td>SF</td>\n",
              "      <td>239</td>\n",
              "      <td>486</td>\n",
              "      <td>0</td>\n",
              "      <td>0</td>\n",
              "      <td>0</td>\n",
              "      <td>0</td>\n",
              "      <td>...</td>\n",
              "      <td>0.0</td>\n",
              "      <td>0.25</td>\n",
              "      <td>0.0</td>\n",
              "      <td>0.0</td>\n",
              "      <td>0.0</td>\n",
              "      <td>0.0</td>\n",
              "      <td>0.0</td>\n",
              "      <td>normal.</td>\n",
              "      <td>1</td>\n",
              "      <td>normal</td>\n",
              "    </tr>\n",
              "  </tbody>\n",
              "</table>\n",
              "<p>5 rows × 44 columns</p>\n",
              "</div>"
            ],
            "text/plain": [
              "   duration protocol_type service flag  src_bytes  dst_bytes  land  \\\n",
              "0         0           tcp    http   SF        215      45076     0   \n",
              "1         0           tcp    http   SF        162       4528     0   \n",
              "2         0           tcp    http   SF        236       1228     0   \n",
              "3         0           tcp    http   SF        233       2032     0   \n",
              "4         0           tcp    http   SF        239        486     0   \n",
              "\n",
              "   wrong_fragment  urgent  hot  ...  dst_host_diff_srv_rate  \\\n",
              "0               0       0    0  ...                     0.0   \n",
              "1               0       0    0  ...                     0.0   \n",
              "2               0       0    0  ...                     0.0   \n",
              "3               0       0    0  ...                     0.0   \n",
              "4               0       0    0  ...                     0.0   \n",
              "\n",
              "   dst_host_same_src_port_rate  dst_host_srv_diff_host_rate  \\\n",
              "0                         0.00                          0.0   \n",
              "1                         1.00                          0.0   \n",
              "2                         0.50                          0.0   \n",
              "3                         0.33                          0.0   \n",
              "4                         0.25                          0.0   \n",
              "\n",
              "   dst_host_serror_rate  dst_host_srv_serror_rate  dst_host_rerror_rate  \\\n",
              "0                   0.0                       0.0                   0.0   \n",
              "1                   0.0                       0.0                   0.0   \n",
              "2                   0.0                       0.0                   0.0   \n",
              "3                   0.0                       0.0                   0.0   \n",
              "4                   0.0                       0.0                   0.0   \n",
              "\n",
              "   dst_host_srv_rerror_rate   target  benign  Attack Type  \n",
              "0                       0.0  normal.       1       normal  \n",
              "1                       0.0  normal.       1       normal  \n",
              "2                       0.0  normal.       1       normal  \n",
              "3                       0.0  normal.       1       normal  \n",
              "4                       0.0  normal.       1       normal  \n",
              "\n",
              "[5 rows x 44 columns]"
            ]
          },
          "execution_count": 5,
          "metadata": {},
          "output_type": "execute_result"
        }
      ],
      "source": [
        "import pandas as pd\n",
        "\n",
        "df = pd.read_csv(dataset('kddcup.data.gz'),names=features)\n",
        "\n",
        "df['benign'] = df.target.apply(lambda r: 1 if (r[:-1]=='normal') else 0)\n",
        "df['Attack Type'] = df.target.apply(lambda r:attack_types[r[:-1]])\n",
        "\n",
        "df.head()"
      ]
    },
    {
      "cell_type": "code",
      "execution_count": 6,
      "metadata": {},
      "outputs": [
        {
          "data": {
            "text/html": [
              "<div>\n",
              "<style scoped>\n",
              "    .dataframe tbody tr th:only-of-type {\n",
              "        vertical-align: middle;\n",
              "    }\n",
              "\n",
              "    .dataframe tbody tr th {\n",
              "        vertical-align: top;\n",
              "    }\n",
              "\n",
              "    .dataframe thead th {\n",
              "        text-align: right;\n",
              "    }\n",
              "</style>\n",
              "<table border=\"1\" class=\"dataframe\">\n",
              "  <thead>\n",
              "    <tr style=\"text-align: right;\">\n",
              "      <th></th>\n",
              "      <th>duration</th>\n",
              "      <th>protocol_type</th>\n",
              "      <th>service</th>\n",
              "      <th>flag</th>\n",
              "      <th>src_bytes</th>\n",
              "      <th>dst_bytes</th>\n",
              "      <th>land</th>\n",
              "      <th>wrong_fragment</th>\n",
              "      <th>urgent</th>\n",
              "      <th>hot</th>\n",
              "      <th>...</th>\n",
              "      <th>dst_host_diff_srv_rate</th>\n",
              "      <th>dst_host_same_src_port_rate</th>\n",
              "      <th>dst_host_srv_diff_host_rate</th>\n",
              "      <th>dst_host_serror_rate</th>\n",
              "      <th>dst_host_srv_serror_rate</th>\n",
              "      <th>dst_host_rerror_rate</th>\n",
              "      <th>dst_host_srv_rerror_rate</th>\n",
              "      <th>target</th>\n",
              "      <th>benign</th>\n",
              "      <th>Attack Type</th>\n",
              "    </tr>\n",
              "  </thead>\n",
              "  <tbody>\n",
              "    <tr>\n",
              "      <th>4898426</th>\n",
              "      <td>0</td>\n",
              "      <td>tcp</td>\n",
              "      <td>http</td>\n",
              "      <td>SF</td>\n",
              "      <td>212</td>\n",
              "      <td>2288</td>\n",
              "      <td>0</td>\n",
              "      <td>0</td>\n",
              "      <td>0</td>\n",
              "      <td>0</td>\n",
              "      <td>...</td>\n",
              "      <td>0.0</td>\n",
              "      <td>0.33</td>\n",
              "      <td>0.05</td>\n",
              "      <td>0.0</td>\n",
              "      <td>0.01</td>\n",
              "      <td>0.0</td>\n",
              "      <td>0.0</td>\n",
              "      <td>normal.</td>\n",
              "      <td>1</td>\n",
              "      <td>normal</td>\n",
              "    </tr>\n",
              "    <tr>\n",
              "      <th>4898427</th>\n",
              "      <td>0</td>\n",
              "      <td>tcp</td>\n",
              "      <td>http</td>\n",
              "      <td>SF</td>\n",
              "      <td>219</td>\n",
              "      <td>236</td>\n",
              "      <td>0</td>\n",
              "      <td>0</td>\n",
              "      <td>0</td>\n",
              "      <td>0</td>\n",
              "      <td>...</td>\n",
              "      <td>0.0</td>\n",
              "      <td>0.25</td>\n",
              "      <td>0.05</td>\n",
              "      <td>0.0</td>\n",
              "      <td>0.01</td>\n",
              "      <td>0.0</td>\n",
              "      <td>0.0</td>\n",
              "      <td>normal.</td>\n",
              "      <td>1</td>\n",
              "      <td>normal</td>\n",
              "    </tr>\n",
              "    <tr>\n",
              "      <th>4898428</th>\n",
              "      <td>0</td>\n",
              "      <td>tcp</td>\n",
              "      <td>http</td>\n",
              "      <td>SF</td>\n",
              "      <td>218</td>\n",
              "      <td>3610</td>\n",
              "      <td>0</td>\n",
              "      <td>0</td>\n",
              "      <td>0</td>\n",
              "      <td>0</td>\n",
              "      <td>...</td>\n",
              "      <td>0.0</td>\n",
              "      <td>0.20</td>\n",
              "      <td>0.05</td>\n",
              "      <td>0.0</td>\n",
              "      <td>0.01</td>\n",
              "      <td>0.0</td>\n",
              "      <td>0.0</td>\n",
              "      <td>normal.</td>\n",
              "      <td>1</td>\n",
              "      <td>normal</td>\n",
              "    </tr>\n",
              "    <tr>\n",
              "      <th>4898429</th>\n",
              "      <td>0</td>\n",
              "      <td>tcp</td>\n",
              "      <td>http</td>\n",
              "      <td>SF</td>\n",
              "      <td>219</td>\n",
              "      <td>1234</td>\n",
              "      <td>0</td>\n",
              "      <td>0</td>\n",
              "      <td>0</td>\n",
              "      <td>0</td>\n",
              "      <td>...</td>\n",
              "      <td>0.0</td>\n",
              "      <td>0.17</td>\n",
              "      <td>0.05</td>\n",
              "      <td>0.0</td>\n",
              "      <td>0.01</td>\n",
              "      <td>0.0</td>\n",
              "      <td>0.0</td>\n",
              "      <td>normal.</td>\n",
              "      <td>1</td>\n",
              "      <td>normal</td>\n",
              "    </tr>\n",
              "    <tr>\n",
              "      <th>4898430</th>\n",
              "      <td>0</td>\n",
              "      <td>tcp</td>\n",
              "      <td>http</td>\n",
              "      <td>SF</td>\n",
              "      <td>219</td>\n",
              "      <td>1098</td>\n",
              "      <td>0</td>\n",
              "      <td>0</td>\n",
              "      <td>0</td>\n",
              "      <td>0</td>\n",
              "      <td>...</td>\n",
              "      <td>0.0</td>\n",
              "      <td>0.14</td>\n",
              "      <td>0.05</td>\n",
              "      <td>0.0</td>\n",
              "      <td>0.01</td>\n",
              "      <td>0.0</td>\n",
              "      <td>0.0</td>\n",
              "      <td>normal.</td>\n",
              "      <td>1</td>\n",
              "      <td>normal</td>\n",
              "    </tr>\n",
              "  </tbody>\n",
              "</table>\n",
              "<p>5 rows × 44 columns</p>\n",
              "</div>"
            ],
            "text/plain": [
              "         duration protocol_type service flag  src_bytes  dst_bytes  land  \\\n",
              "4898426         0           tcp    http   SF        212       2288     0   \n",
              "4898427         0           tcp    http   SF        219        236     0   \n",
              "4898428         0           tcp    http   SF        218       3610     0   \n",
              "4898429         0           tcp    http   SF        219       1234     0   \n",
              "4898430         0           tcp    http   SF        219       1098     0   \n",
              "\n",
              "         wrong_fragment  urgent  hot  ...  dst_host_diff_srv_rate  \\\n",
              "4898426               0       0    0  ...                     0.0   \n",
              "4898427               0       0    0  ...                     0.0   \n",
              "4898428               0       0    0  ...                     0.0   \n",
              "4898429               0       0    0  ...                     0.0   \n",
              "4898430               0       0    0  ...                     0.0   \n",
              "\n",
              "         dst_host_same_src_port_rate  dst_host_srv_diff_host_rate  \\\n",
              "4898426                         0.33                         0.05   \n",
              "4898427                         0.25                         0.05   \n",
              "4898428                         0.20                         0.05   \n",
              "4898429                         0.17                         0.05   \n",
              "4898430                         0.14                         0.05   \n",
              "\n",
              "         dst_host_serror_rate  dst_host_srv_serror_rate  dst_host_rerror_rate  \\\n",
              "4898426                   0.0                      0.01                   0.0   \n",
              "4898427                   0.0                      0.01                   0.0   \n",
              "4898428                   0.0                      0.01                   0.0   \n",
              "4898429                   0.0                      0.01                   0.0   \n",
              "4898430                   0.0                      0.01                   0.0   \n",
              "\n",
              "         dst_host_srv_rerror_rate   target  benign  Attack Type  \n",
              "4898426                       0.0  normal.       1       normal  \n",
              "4898427                       0.0  normal.       1       normal  \n",
              "4898428                       0.0  normal.       1       normal  \n",
              "4898429                       0.0  normal.       1       normal  \n",
              "4898430                       0.0  normal.       1       normal  \n",
              "\n",
              "[5 rows x 44 columns]"
            ]
          },
          "execution_count": 6,
          "metadata": {},
          "output_type": "execute_result"
        }
      ],
      "source": [
        "df.tail()"
      ]
    },
    {
      "cell_type": "markdown",
      "metadata": {},
      "source": [
        "# Visualize Dataset"
      ]
    },
    {
      "cell_type": "code",
      "execution_count": 35,
      "metadata": {
        "id": "iDqUohdtjz49"
      },
      "outputs": [],
      "source": [
        "def bar_graph(feature):\n",
        "    df[feature].value_counts().plot(kind=\"bar\")"
      ]
    },
    {
      "cell_type": "code",
      "execution_count": 7,
      "metadata": {
        "colab": {
          "base_uri": "https://localhost:8080/",
          "height": 945
        },
        "id": "FoTYbYrQjTJM",
        "outputId": "273265f7-c547-4c53-b80f-f4987b217803"
      },
      "outputs": [
        {
          "name": "stdout",
          "output_type": "stream",
          "text": [
            "target\n",
            "smurf.              2807886\n",
            "neptune.            1072017\n",
            "normal.              972781\n",
            "satan.                15892\n",
            "ipsweep.              12481\n",
            "portsweep.            10413\n",
            "nmap.                  2316\n",
            "back.                  2203\n",
            "warezclient.           1020\n",
            "teardrop.               979\n",
            "pod.                    264\n",
            "guess_passwd.            53\n",
            "buffer_overflow.         30\n",
            "land.                    21\n",
            "warezmaster.             20\n",
            "imap.                    12\n",
            "rootkit.                 10\n",
            "loadmodule.               9\n",
            "ftp_write.                8\n",
            "multihop.                 7\n",
            "phf.                      4\n",
            "perl.                     3\n",
            "spy.                      2\n",
            "Name: count, dtype: int64\n"
          ]
        },
        {
          "data": {
            "image/png": "[encoded data removed]",
            "text/plain": [
              "<Figure size 640x480 with 1 Axes>"
            ]
          },
          "metadata": {},
          "output_type": "display_data"
        }
      ],
      "source": [
        "print(df['target'].value_counts())\n",
        "bar_graph('target')"
      ]
    },
    {
      "cell_type": "code",
      "execution_count": 17,
      "metadata": {
        "colab": {
          "base_uri": "https://localhost:8080/",
          "height": 569
        },
        "id": "oYnM05nTjag2",
        "outputId": "2456d268-7e97-40c1-db46-545b51d65ffe"
      },
      "outputs": [
        {
          "name": "stdout",
          "output_type": "stream",
          "text": [
            "Attack Type\n",
            "dos       3883370\n",
            "normal     972781\n",
            "probe       41102\n",
            "r2l          1126\n",
            "u2r            52\n",
            "Name: count, dtype: int64\n"
          ]
        },
        {
          "data": {
            "image/png": "[encoded data removed]",
            "text/plain": [
              "<Figure size 640x480 with 1 Axes>"
            ]
          },
          "metadata": {},
          "output_type": "display_data"
        }
      ],
      "source": [
        "print(df['Attack Type'].value_counts())\n",
        "bar_graph('Attack Type')"
      ]
    },
    {
      "cell_type": "code",
      "execution_count": 9,
      "metadata": {
        "colab": {
          "base_uri": "https://localhost:8080/"
        },
        "id": "myAaJ5EfjkFc",
        "outputId": "64f0415a-1f0e-4d32-f363-f95ea4afd476"
      },
      "outputs": [
        {
          "data": {
            "text/plain": [
              "duration                       0\n",
              "protocol_type                  0\n",
              "service                        0\n",
              "flag                           0\n",
              "src_bytes                      0\n",
              "dst_bytes                      0\n",
              "land                           0\n",
              "wrong_fragment                 0\n",
              "urgent                         0\n",
              "hot                            0\n",
              "num_failed_logins              0\n",
              "logged_in                      0\n",
              "num_compromised                0\n",
              "root_shell                     0\n",
              "su_attempted                   0\n",
              "num_root                       0\n",
              "num_file_creations             0\n",
              "num_shells                     0\n",
              "num_access_files               0\n",
              "num_outbound_cmds              0\n",
              "is_host_login                  0\n",
              "is_guest_login                 0\n",
              "count                          0\n",
              "srv_count                      0\n",
              "serror_rate                    0\n",
              "srv_serror_rate                0\n",
              "rerror_rate                    0\n",
              "srv_rerror_rate                0\n",
              "same_srv_rate                  0\n",
              "diff_srv_rate                  0\n",
              "srv_diff_host_rate             0\n",
              "dst_host_count                 0\n",
              "dst_host_srv_count             0\n",
              "dst_host_same_srv_rate         0\n",
              "dst_host_diff_srv_rate         0\n",
              "dst_host_same_src_port_rate    0\n",
              "dst_host_srv_diff_host_rate    0\n",
              "dst_host_serror_rate           0\n",
              "dst_host_srv_serror_rate       0\n",
              "dst_host_rerror_rate           0\n",
              "dst_host_srv_rerror_rate       0\n",
              "target                         0\n",
              "Attack Type                    0\n",
              "dtype: int64"
            ]
          },
          "execution_count": 9,
          "metadata": {},
          "output_type": "execute_result"
        }
      ],
      "source": [
        "df.isnull().sum()"
      ]
    },
    {
      "cell_type": "code",
      "execution_count": 8,
      "metadata": {
        "colab": {
          "base_uri": "https://localhost:8080/"
        },
        "id": "orjxVFZPjrrl",
        "outputId": "a91416fe-820e-435f-df8f-ee01e20b77ed"
      },
      "outputs": [
        {
          "data": {
            "text/plain": [
              "['protocol_type', 'service', 'flag']"
            ]
          },
          "execution_count": 8,
          "metadata": {},
          "output_type": "execute_result"
        }
      ],
      "source": [
        "#Finding categorical features\n",
        "num_cols = df._get_numeric_data().columns\n",
        "\n",
        "cate_cols = list(set(df.columns)-set(num_cols))\n",
        "cate_cols.remove('target')\n",
        "cate_cols.remove('Attack Type')\n",
        "\n",
        "cate_cols"
      ]
    },
    {
      "cell_type": "code",
      "execution_count": 36,
      "metadata": {
        "colab": {
          "base_uri": "https://localhost:8080/",
          "height": 450
        },
        "id": "GtEWPOXVj1Y9",
        "outputId": "a7490710-19b6-4e3d-87b5-39e8a3bb69aa"
      },
      "outputs": [
        {
          "data": {
            "image/png": "[encoded data removed]",
            "text/plain": [
              "<Figure size 640x480 with 1 Axes>"
            ]
          },
          "metadata": {},
          "output_type": "display_data"
        }
      ],
      "source": [
        "bar_graph('protocol_type')"
      ]
    },
    {
      "cell_type": "code",
      "execution_count": 21,
      "metadata": {
        "colab": {
          "base_uri": "https://localhost:8080/",
          "height": 367
        },
        "id": "zU6uhs1dj24e",
        "outputId": "091beab6-5a55-4bc9-f645-4e73b41ca03e"
      },
      "outputs": [
        {
          "data": {
            "image/png": "[encoded data removed]",
            "text/plain": [
              "<Figure size 1500x300 with 1 Axes>"
            ]
          },
          "metadata": {},
          "output_type": "display_data"
        }
      ],
      "source": [
        "plt.figure(figsize=(15,3))\n",
        "bar_graph('service')"
      ]
    },
    {
      "cell_type": "code",
      "execution_count": 22,
      "metadata": {
        "colab": {
          "base_uri": "https://localhost:8080/",
          "height": 471
        },
        "id": "omKR6IbxkKZH",
        "outputId": "b4a3acb7-d5c5-41a6-9865-76c5696826da"
      },
      "outputs": [
        {
          "data": {
            "image/png": "[encoded data removed]",
            "text/plain": [
              "<Figure size 640x480 with 1 Axes>"
            ]
          },
          "metadata": {},
          "output_type": "display_data"
        }
      ],
      "source": [
        "bar_graph('flag')"
      ]
    },
    {
      "cell_type": "code",
      "execution_count": 23,
      "metadata": {
        "colab": {
          "base_uri": "https://localhost:8080/",
          "height": 425
        },
        "id": "qnhNMzGGkMvG",
        "outputId": "39b43a4b-3795-4f32-c7a9-484005e18ecc"
      },
      "outputs": [
        {
          "data": {
            "image/png": "[encoded data removed]",
            "text/plain": [
              "<Figure size 640x480 with 1 Axes>"
            ]
          },
          "metadata": {},
          "output_type": "display_data"
        }
      ],
      "source": [
        "bar_graph('logged_in')"
      ]
    },
    {
      "cell_type": "markdown",
      "metadata": {
        "id": "gBOr0bWZkQRD"
      },
      "source": [
        "logged_in (1 if successfully logged in; 0 otherwise): We notice that just 70000 packets are successfully logged in."
      ]
    },
    {
      "cell_type": "code",
      "execution_count": 8,
      "metadata": {
        "colab": {
          "base_uri": "https://localhost:8080/"
        },
        "id": "T_M-mGPnmiiw",
        "outputId": "c5b0cd81-3710-4d26-9e07-e649567b4b37"
      },
      "outputs": [
        {
          "data": {
            "text/plain": [
              "43"
            ]
          },
          "execution_count": 8,
          "metadata": {},
          "output_type": "execute_result"
        }
      ],
      "source": [
        "len(df.columns)"
      ]
    },
    {
      "cell_type": "markdown",
      "metadata": {},
      "source": [
        "# Data Cleaning"
      ]
    },
    {
      "cell_type": "code",
      "execution_count": 6,
      "metadata": {
        "colab": {
          "base_uri": "https://localhost:8080/"
        },
        "id": "qI64NH-Tmnq4",
        "outputId": "152b13d8-f925-428c-b8ac-30b61dbf7013"
      },
      "outputs": [],
      "source": [
        "df = df.dropna(axis='columns')# drop columns with NaN"
      ]
    },
    {
      "cell_type": "code",
      "execution_count": 7,
      "metadata": {
        "colab": {
          "base_uri": "https://localhost:8080/"
        },
        "id": "oxgFlyztm4-J",
        "outputId": "f2a846c5-6d07-4621-fb76-fe197d5acc12"
      },
      "outputs": [
        {
          "data": {
            "text/plain": [
              "{'duration': 9883,\n",
              " 'protocol_type': 3,\n",
              " 'service': 70,\n",
              " 'flag': 11,\n",
              " 'src_bytes': 7195,\n",
              " 'dst_bytes': 21493,\n",
              " 'land': 2,\n",
              " 'wrong_fragment': 3,\n",
              " 'urgent': 6,\n",
              " 'hot': 30,\n",
              " 'num_failed_logins': 6,\n",
              " 'logged_in': 2,\n",
              " 'num_compromised': 98,\n",
              " 'root_shell': 2,\n",
              " 'su_attempted': 3,\n",
              " 'num_root': 93,\n",
              " 'num_file_creations': 42,\n",
              " 'num_shells': 3,\n",
              " 'num_access_files': 10,\n",
              " 'num_outbound_cmds': 1,\n",
              " 'is_host_login': 2,\n",
              " 'is_guest_login': 2,\n",
              " 'count': 512,\n",
              " 'srv_count': 512,\n",
              " 'serror_rate': 96,\n",
              " 'srv_serror_rate': 87,\n",
              " 'rerror_rate': 89,\n",
              " 'srv_rerror_rate': 76,\n",
              " 'same_srv_rate': 101,\n",
              " 'diff_srv_rate': 95,\n",
              " 'srv_diff_host_rate': 72,\n",
              " 'dst_host_count': 256,\n",
              " 'dst_host_srv_count': 256,\n",
              " 'dst_host_same_srv_rate': 101,\n",
              " 'dst_host_diff_srv_rate': 101,\n",
              " 'dst_host_same_src_port_rate': 101,\n",
              " 'dst_host_srv_diff_host_rate': 76,\n",
              " 'dst_host_serror_rate': 101,\n",
              " 'dst_host_srv_serror_rate': 100,\n",
              " 'dst_host_rerror_rate': 101,\n",
              " 'dst_host_srv_rerror_rate': 101,\n",
              " 'target': 23,\n",
              " 'benign': 2,\n",
              " 'Attack Type': 5}"
            ]
          },
          "execution_count": 7,
          "metadata": {},
          "output_type": "execute_result"
        }
      ],
      "source": [
        "{col:df[col].nunique() for col in df}"
      ]
    },
    {
      "cell_type": "code",
      "execution_count": 8,
      "metadata": {
        "id": "Z7TJP5ZNnfo6"
      },
      "outputs": [],
      "source": [
        "df = df[[col for col in df if df[col].nunique() > 1]]"
      ]
    },
    {
      "cell_type": "code",
      "execution_count": 9,
      "metadata": {
        "colab": {
          "base_uri": "https://localhost:8080/",
          "height": 273
        },
        "id": "IVIYUevq4xHX",
        "outputId": "4a6935fd-08e8-4344-d98d-312c8361089f"
      },
      "outputs": [
        {
          "data": {
            "text/html": [
              "<div>\n",
              "<style scoped>\n",
              "    .dataframe tbody tr th:only-of-type {\n",
              "        vertical-align: middle;\n",
              "    }\n",
              "\n",
              "    .dataframe tbody tr th {\n",
              "        vertical-align: top;\n",
              "    }\n",
              "\n",
              "    .dataframe thead th {\n",
              "        text-align: right;\n",
              "    }\n",
              "</style>\n",
              "<table border=\"1\" class=\"dataframe\">\n",
              "  <thead>\n",
              "    <tr style=\"text-align: right;\">\n",
              "      <th></th>\n",
              "      <th>duration</th>\n",
              "      <th>protocol_type</th>\n",
              "      <th>service</th>\n",
              "      <th>flag</th>\n",
              "      <th>src_bytes</th>\n",
              "      <th>dst_bytes</th>\n",
              "      <th>land</th>\n",
              "      <th>wrong_fragment</th>\n",
              "      <th>urgent</th>\n",
              "      <th>hot</th>\n",
              "      <th>...</th>\n",
              "      <th>dst_host_diff_srv_rate</th>\n",
              "      <th>dst_host_same_src_port_rate</th>\n",
              "      <th>dst_host_srv_diff_host_rate</th>\n",
              "      <th>dst_host_serror_rate</th>\n",
              "      <th>dst_host_srv_serror_rate</th>\n",
              "      <th>dst_host_rerror_rate</th>\n",
              "      <th>dst_host_srv_rerror_rate</th>\n",
              "      <th>target</th>\n",
              "      <th>benign</th>\n",
              "      <th>Attack Type</th>\n",
              "    </tr>\n",
              "  </thead>\n",
              "  <tbody>\n",
              "    <tr>\n",
              "      <th>4898426</th>\n",
              "      <td>0</td>\n",
              "      <td>tcp</td>\n",
              "      <td>http</td>\n",
              "      <td>SF</td>\n",
              "      <td>212</td>\n",
              "      <td>2288</td>\n",
              "      <td>0</td>\n",
              "      <td>0</td>\n",
              "      <td>0</td>\n",
              "      <td>0</td>\n",
              "      <td>...</td>\n",
              "      <td>0.0</td>\n",
              "      <td>0.33</td>\n",
              "      <td>0.05</td>\n",
              "      <td>0.0</td>\n",
              "      <td>0.01</td>\n",
              "      <td>0.0</td>\n",
              "      <td>0.0</td>\n",
              "      <td>normal.</td>\n",
              "      <td>1</td>\n",
              "      <td>normal</td>\n",
              "    </tr>\n",
              "    <tr>\n",
              "      <th>4898427</th>\n",
              "      <td>0</td>\n",
              "      <td>tcp</td>\n",
              "      <td>http</td>\n",
              "      <td>SF</td>\n",
              "      <td>219</td>\n",
              "      <td>236</td>\n",
              "      <td>0</td>\n",
              "      <td>0</td>\n",
              "      <td>0</td>\n",
              "      <td>0</td>\n",
              "      <td>...</td>\n",
              "      <td>0.0</td>\n",
              "      <td>0.25</td>\n",
              "      <td>0.05</td>\n",
              "      <td>0.0</td>\n",
              "      <td>0.01</td>\n",
              "      <td>0.0</td>\n",
              "      <td>0.0</td>\n",
              "      <td>normal.</td>\n",
              "      <td>1</td>\n",
              "      <td>normal</td>\n",
              "    </tr>\n",
              "    <tr>\n",
              "      <th>4898428</th>\n",
              "      <td>0</td>\n",
              "      <td>tcp</td>\n",
              "      <td>http</td>\n",
              "      <td>SF</td>\n",
              "      <td>218</td>\n",
              "      <td>3610</td>\n",
              "      <td>0</td>\n",
              "      <td>0</td>\n",
              "      <td>0</td>\n",
              "      <td>0</td>\n",
              "      <td>...</td>\n",
              "      <td>0.0</td>\n",
              "      <td>0.20</td>\n",
              "      <td>0.05</td>\n",
              "      <td>0.0</td>\n",
              "      <td>0.01</td>\n",
              "      <td>0.0</td>\n",
              "      <td>0.0</td>\n",
              "      <td>normal.</td>\n",
              "      <td>1</td>\n",
              "      <td>normal</td>\n",
              "    </tr>\n",
              "    <tr>\n",
              "      <th>4898429</th>\n",
              "      <td>0</td>\n",
              "      <td>tcp</td>\n",
              "      <td>http</td>\n",
              "      <td>SF</td>\n",
              "      <td>219</td>\n",
              "      <td>1234</td>\n",
              "      <td>0</td>\n",
              "      <td>0</td>\n",
              "      <td>0</td>\n",
              "      <td>0</td>\n",
              "      <td>...</td>\n",
              "      <td>0.0</td>\n",
              "      <td>0.17</td>\n",
              "      <td>0.05</td>\n",
              "      <td>0.0</td>\n",
              "      <td>0.01</td>\n",
              "      <td>0.0</td>\n",
              "      <td>0.0</td>\n",
              "      <td>normal.</td>\n",
              "      <td>1</td>\n",
              "      <td>normal</td>\n",
              "    </tr>\n",
              "    <tr>\n",
              "      <th>4898430</th>\n",
              "      <td>0</td>\n",
              "      <td>tcp</td>\n",
              "      <td>http</td>\n",
              "      <td>SF</td>\n",
              "      <td>219</td>\n",
              "      <td>1098</td>\n",
              "      <td>0</td>\n",
              "      <td>0</td>\n",
              "      <td>0</td>\n",
              "      <td>0</td>\n",
              "      <td>...</td>\n",
              "      <td>0.0</td>\n",
              "      <td>0.14</td>\n",
              "      <td>0.05</td>\n",
              "      <td>0.0</td>\n",
              "      <td>0.01</td>\n",
              "      <td>0.0</td>\n",
              "      <td>0.0</td>\n",
              "      <td>normal.</td>\n",
              "      <td>1</td>\n",
              "      <td>normal</td>\n",
              "    </tr>\n",
              "  </tbody>\n",
              "</table>\n",
              "<p>5 rows × 43 columns</p>\n",
              "</div>"
            ],
            "text/plain": [
              "         duration protocol_type service flag  src_bytes  dst_bytes  land  \\\n",
              "4898426         0           tcp    http   SF        212       2288     0   \n",
              "4898427         0           tcp    http   SF        219        236     0   \n",
              "4898428         0           tcp    http   SF        218       3610     0   \n",
              "4898429         0           tcp    http   SF        219       1234     0   \n",
              "4898430         0           tcp    http   SF        219       1098     0   \n",
              "\n",
              "         wrong_fragment  urgent  hot  ...  dst_host_diff_srv_rate  \\\n",
              "4898426               0       0    0  ...                     0.0   \n",
              "4898427               0       0    0  ...                     0.0   \n",
              "4898428               0       0    0  ...                     0.0   \n",
              "4898429               0       0    0  ...                     0.0   \n",
              "4898430               0       0    0  ...                     0.0   \n",
              "\n",
              "         dst_host_same_src_port_rate  dst_host_srv_diff_host_rate  \\\n",
              "4898426                         0.33                         0.05   \n",
              "4898427                         0.25                         0.05   \n",
              "4898428                         0.20                         0.05   \n",
              "4898429                         0.17                         0.05   \n",
              "4898430                         0.14                         0.05   \n",
              "\n",
              "         dst_host_serror_rate  dst_host_srv_serror_rate  dst_host_rerror_rate  \\\n",
              "4898426                   0.0                      0.01                   0.0   \n",
              "4898427                   0.0                      0.01                   0.0   \n",
              "4898428                   0.0                      0.01                   0.0   \n",
              "4898429                   0.0                      0.01                   0.0   \n",
              "4898430                   0.0                      0.01                   0.0   \n",
              "\n",
              "         dst_host_srv_rerror_rate   target  benign  Attack Type  \n",
              "4898426                       0.0  normal.       1       normal  \n",
              "4898427                       0.0  normal.       1       normal  \n",
              "4898428                       0.0  normal.       1       normal  \n",
              "4898429                       0.0  normal.       1       normal  \n",
              "4898430                       0.0  normal.       1       normal  \n",
              "\n",
              "[5 rows x 43 columns]"
            ]
          },
          "execution_count": 9,
          "metadata": {},
          "output_type": "execute_result"
        }
      ],
      "source": [
        "df.tail()"
      ]
    },
    {
      "cell_type": "code",
      "execution_count": 10,
      "metadata": {},
      "outputs": [],
      "source": [
        "test_df = pd.read_csv(dataset('corrected.gz'),names=features)"
      ]
    },
    {
      "cell_type": "code",
      "execution_count": 11,
      "metadata": {},
      "outputs": [
        {
          "data": {
            "text/plain": [
              "{'apache2.',\n",
              " 'httptunnel.',\n",
              " 'mailbomb.',\n",
              " 'mscan.',\n",
              " 'named.',\n",
              " 'processtable.',\n",
              " 'ps.',\n",
              " 'saint.',\n",
              " 'sendmail.',\n",
              " 'snmpgetattack.',\n",
              " 'snmpguess.',\n",
              " 'sqlattack.',\n",
              " 'udpstorm.',\n",
              " 'worm.',\n",
              " 'xlock.',\n",
              " 'xsnoop.',\n",
              " 'xterm.'}"
            ]
          },
          "execution_count": 11,
          "metadata": {},
          "output_type": "execute_result"
        }
      ],
      "source": [
        "set(test_df.target) - set(df.target)"
      ]
    },
    {
      "cell_type": "code",
      "execution_count": 12,
      "metadata": {},
      "outputs": [],
      "source": [
        "attack_types['apache2'] = 'dos'\n",
        "attack_types['mailbomb'] = 'dos'\n",
        "attack_types['processtable'] = 'dos'\n",
        "attack_types['udpstorm'] = 'dos'\n",
        "attack_types['named'] = 'r2l'\n",
        "attack_types['sendmail'] = 'r2l'\n",
        "attack_types['snmpgetattack'] = 'r2l'\n",
        "attack_types['snmpguess'] = 'r2l'\n",
        "attack_types['worm'] = 'r2l'\n",
        "attack_types['xsnoop'] = 'r2l'\n",
        "attack_types['xlock'] = 'r2l'\n",
        "attack_types['httptunnel'] = 'u2r'\n",
        "attack_types['xterm'] = 'u2r'\n",
        "attack_types['sqlattack'] = 'u2r'\n",
        "attack_types['ps'] = 'u2r'\n",
        "attack_types['saint'] = 'probe'\n",
        "attack_types['mscan'] = 'probe'"
      ]
    },
    {
      "cell_type": "code",
      "execution_count": 13,
      "metadata": {},
      "outputs": [
        {
          "data": {
            "text/html": [
              "<div>\n",
              "<style scoped>\n",
              "    .dataframe tbody tr th:only-of-type {\n",
              "        vertical-align: middle;\n",
              "    }\n",
              "\n",
              "    .dataframe tbody tr th {\n",
              "        vertical-align: top;\n",
              "    }\n",
              "\n",
              "    .dataframe thead th {\n",
              "        text-align: right;\n",
              "    }\n",
              "</style>\n",
              "<table border=\"1\" class=\"dataframe\">\n",
              "  <thead>\n",
              "    <tr style=\"text-align: right;\">\n",
              "      <th></th>\n",
              "      <th>duration</th>\n",
              "      <th>protocol_type</th>\n",
              "      <th>service</th>\n",
              "      <th>flag</th>\n",
              "      <th>src_bytes</th>\n",
              "      <th>dst_bytes</th>\n",
              "      <th>land</th>\n",
              "      <th>wrong_fragment</th>\n",
              "      <th>urgent</th>\n",
              "      <th>hot</th>\n",
              "      <th>...</th>\n",
              "      <th>dst_host_diff_srv_rate</th>\n",
              "      <th>dst_host_same_src_port_rate</th>\n",
              "      <th>dst_host_srv_diff_host_rate</th>\n",
              "      <th>dst_host_serror_rate</th>\n",
              "      <th>dst_host_srv_serror_rate</th>\n",
              "      <th>dst_host_rerror_rate</th>\n",
              "      <th>dst_host_srv_rerror_rate</th>\n",
              "      <th>target</th>\n",
              "      <th>benign</th>\n",
              "      <th>Attack Type</th>\n",
              "    </tr>\n",
              "  </thead>\n",
              "  <tbody>\n",
              "    <tr>\n",
              "      <th>0</th>\n",
              "      <td>0</td>\n",
              "      <td>udp</td>\n",
              "      <td>private</td>\n",
              "      <td>SF</td>\n",
              "      <td>105</td>\n",
              "      <td>146</td>\n",
              "      <td>0</td>\n",
              "      <td>0</td>\n",
              "      <td>0</td>\n",
              "      <td>0</td>\n",
              "      <td>...</td>\n",
              "      <td>0.01</td>\n",
              "      <td>0.00</td>\n",
              "      <td>0.0</td>\n",
              "      <td>0.0</td>\n",
              "      <td>0.0</td>\n",
              "      <td>0.0</td>\n",
              "      <td>0.0</td>\n",
              "      <td>normal.</td>\n",
              "      <td>1</td>\n",
              "      <td>normal</td>\n",
              "    </tr>\n",
              "    <tr>\n",
              "      <th>1</th>\n",
              "      <td>0</td>\n",
              "      <td>udp</td>\n",
              "      <td>private</td>\n",
              "      <td>SF</td>\n",
              "      <td>105</td>\n",
              "      <td>146</td>\n",
              "      <td>0</td>\n",
              "      <td>0</td>\n",
              "      <td>0</td>\n",
              "      <td>0</td>\n",
              "      <td>...</td>\n",
              "      <td>0.01</td>\n",
              "      <td>0.00</td>\n",
              "      <td>0.0</td>\n",
              "      <td>0.0</td>\n",
              "      <td>0.0</td>\n",
              "      <td>0.0</td>\n",
              "      <td>0.0</td>\n",
              "      <td>normal.</td>\n",
              "      <td>1</td>\n",
              "      <td>normal</td>\n",
              "    </tr>\n",
              "    <tr>\n",
              "      <th>2</th>\n",
              "      <td>0</td>\n",
              "      <td>udp</td>\n",
              "      <td>private</td>\n",
              "      <td>SF</td>\n",
              "      <td>105</td>\n",
              "      <td>146</td>\n",
              "      <td>0</td>\n",
              "      <td>0</td>\n",
              "      <td>0</td>\n",
              "      <td>0</td>\n",
              "      <td>...</td>\n",
              "      <td>0.01</td>\n",
              "      <td>0.00</td>\n",
              "      <td>0.0</td>\n",
              "      <td>0.0</td>\n",
              "      <td>0.0</td>\n",
              "      <td>0.0</td>\n",
              "      <td>0.0</td>\n",
              "      <td>normal.</td>\n",
              "      <td>1</td>\n",
              "      <td>normal</td>\n",
              "    </tr>\n",
              "    <tr>\n",
              "      <th>3</th>\n",
              "      <td>0</td>\n",
              "      <td>udp</td>\n",
              "      <td>private</td>\n",
              "      <td>SF</td>\n",
              "      <td>105</td>\n",
              "      <td>146</td>\n",
              "      <td>0</td>\n",
              "      <td>0</td>\n",
              "      <td>0</td>\n",
              "      <td>0</td>\n",
              "      <td>...</td>\n",
              "      <td>0.01</td>\n",
              "      <td>0.00</td>\n",
              "      <td>0.0</td>\n",
              "      <td>0.0</td>\n",
              "      <td>0.0</td>\n",
              "      <td>0.0</td>\n",
              "      <td>0.0</td>\n",
              "      <td>snmpgetattack.</td>\n",
              "      <td>0</td>\n",
              "      <td>r2l</td>\n",
              "    </tr>\n",
              "    <tr>\n",
              "      <th>4</th>\n",
              "      <td>0</td>\n",
              "      <td>udp</td>\n",
              "      <td>private</td>\n",
              "      <td>SF</td>\n",
              "      <td>105</td>\n",
              "      <td>146</td>\n",
              "      <td>0</td>\n",
              "      <td>0</td>\n",
              "      <td>0</td>\n",
              "      <td>0</td>\n",
              "      <td>...</td>\n",
              "      <td>0.01</td>\n",
              "      <td>0.01</td>\n",
              "      <td>0.0</td>\n",
              "      <td>0.0</td>\n",
              "      <td>0.0</td>\n",
              "      <td>0.0</td>\n",
              "      <td>0.0</td>\n",
              "      <td>snmpgetattack.</td>\n",
              "      <td>0</td>\n",
              "      <td>r2l</td>\n",
              "    </tr>\n",
              "  </tbody>\n",
              "</table>\n",
              "<p>5 rows × 43 columns</p>\n",
              "</div>"
            ],
            "text/plain": [
              "   duration protocol_type  service flag  src_bytes  dst_bytes  land  \\\n",
              "0         0           udp  private   SF        105        146     0   \n",
              "1         0           udp  private   SF        105        146     0   \n",
              "2         0           udp  private   SF        105        146     0   \n",
              "3         0           udp  private   SF        105        146     0   \n",
              "4         0           udp  private   SF        105        146     0   \n",
              "\n",
              "   wrong_fragment  urgent  hot  ...  dst_host_diff_srv_rate  \\\n",
              "0               0       0    0  ...                    0.01   \n",
              "1               0       0    0  ...                    0.01   \n",
              "2               0       0    0  ...                    0.01   \n",
              "3               0       0    0  ...                    0.01   \n",
              "4               0       0    0  ...                    0.01   \n",
              "\n",
              "   dst_host_same_src_port_rate  dst_host_srv_diff_host_rate  \\\n",
              "0                         0.00                          0.0   \n",
              "1                         0.00                          0.0   \n",
              "2                         0.00                          0.0   \n",
              "3                         0.00                          0.0   \n",
              "4                         0.01                          0.0   \n",
              "\n",
              "   dst_host_serror_rate  dst_host_srv_serror_rate  dst_host_rerror_rate  \\\n",
              "0                   0.0                       0.0                   0.0   \n",
              "1                   0.0                       0.0                   0.0   \n",
              "2                   0.0                       0.0                   0.0   \n",
              "3                   0.0                       0.0                   0.0   \n",
              "4                   0.0                       0.0                   0.0   \n",
              "\n",
              "   dst_host_srv_rerror_rate          target  benign  Attack Type  \n",
              "0                       0.0         normal.       1       normal  \n",
              "1                       0.0         normal.       1       normal  \n",
              "2                       0.0         normal.       1       normal  \n",
              "3                       0.0  snmpgetattack.       0          r2l  \n",
              "4                       0.0  snmpgetattack.       0          r2l  \n",
              "\n",
              "[5 rows x 43 columns]"
            ]
          },
          "execution_count": 13,
          "metadata": {},
          "output_type": "execute_result"
        }
      ],
      "source": [
        "test_df['benign'] = test_df.target.apply(lambda r: 1 if (r[:-1]=='normal') else 0)\n",
        "test_df['Attack Type'] = test_df.target.apply(lambda r:attack_types[r[:-1]])\n",
        "test_df = test_df[df.columns]\n",
        "test_df.head()"
      ]
    },
    {
      "cell_type": "code",
      "execution_count": 14,
      "metadata": {},
      "outputs": [
        {
          "name": "stdout",
          "output_type": "stream",
          "text": [
            "Attack Type ['dos' 'normal' 'probe' 'r2l' 'u2r']\n",
            "protocol_type ['icmp' 'tcp' 'udp']\n",
            "flag ['OTH' 'REJ' 'RSTO' 'RSTOS0' 'RSTR' 'S0' 'S1' 'S2' 'S3' 'SF' 'SH']\n",
            "service ['IRC' 'X11' 'Z39_50' 'aol' 'auth' 'bgp' 'courier' 'csnet_ns' 'ctf'\n",
            " 'daytime' 'discard' 'domain' 'domain_u' 'echo' 'eco_i' 'ecr_i' 'efs'\n",
            " 'exec' 'finger' 'ftp' 'ftp_data' 'gopher' 'harvest' 'hostnames' 'http'\n",
            " 'http_2784' 'http_443' 'http_8001' 'icmp' 'imap4' 'iso_tsap' 'klogin'\n",
            " 'kshell' 'ldap' 'link' 'login' 'mtp' 'name' 'netbios_dgm' 'netbios_ns'\n",
            " 'netbios_ssn' 'netstat' 'nnsp' 'nntp' 'ntp_u' 'other' 'pm_dump' 'pop_2'\n",
            " 'pop_3' 'printer' 'private' 'red_i' 'remote_job' 'rje' 'shell' 'smtp'\n",
            " 'sql_net' 'ssh' 'sunrpc' 'supdup' 'systat' 'telnet' 'tftp_u' 'tim_i'\n",
            " 'time' 'urh_i' 'urp_i' 'uucp' 'uucp_path' 'vmnet' 'whois']\n",
            "target ['apache2.' 'back.' 'buffer_overflow.' 'ftp_write.' 'guess_passwd.'\n",
            " 'httptunnel.' 'imap.' 'ipsweep.' 'land.' 'loadmodule.' 'mailbomb.'\n",
            " 'mscan.' 'multihop.' 'named.' 'neptune.' 'nmap.' 'normal.' 'perl.' 'phf.'\n",
            " 'pod.' 'portsweep.' 'processtable.' 'ps.' 'rootkit.' 'saint.' 'satan.'\n",
            " 'sendmail.' 'smurf.' 'snmpgetattack.' 'snmpguess.' 'spy.' 'sqlattack.'\n",
            " 'teardrop.' 'udpstorm.' 'warezclient.' 'warezmaster.' 'worm.' 'xlock.'\n",
            " 'xsnoop.' 'xterm.']\n"
          ]
        }
      ],
      "source": [
        "from sklearn.preprocessing import LabelEncoder\n",
        "\n",
        "combined_df = pd.concat([df, test_df], ignore_index=True)\n",
        "\n",
        "label_encoders = {}\n",
        "\n",
        "string_categorical_columns = ['Attack Type', 'protocol_type', 'flag', 'service', 'target']\n",
        "for column in string_categorical_columns:\n",
        "\tlabel_encoders[column] = LabelEncoder()\n",
        "\tcombined_df[column] = label_encoders[column].fit_transform(combined_df[column])\n",
        "\tprint(column, label_encoders[column].classes_)\n",
        "\n",
        "df = combined_df.iloc[:len(df)]\n",
        "test_df = combined_df.iloc[len(df):]\n",
        "\n",
        "df.reset_index(drop=True, inplace=True)\n",
        "test_df.reset_index(drop=True, inplace=True)\n",
        "\n",
        "del combined_df"
      ]
    },
    {
      "cell_type": "code",
      "execution_count": 15,
      "metadata": {},
      "outputs": [
        {
          "data": {
            "text/html": [
              "<div>\n",
              "<style scoped>\n",
              "    .dataframe tbody tr th:only-of-type {\n",
              "        vertical-align: middle;\n",
              "    }\n",
              "\n",
              "    .dataframe tbody tr th {\n",
              "        vertical-align: top;\n",
              "    }\n",
              "\n",
              "    .dataframe thead th {\n",
              "        text-align: right;\n",
              "    }\n",
              "</style>\n",
              "<table border=\"1\" class=\"dataframe\">\n",
              "  <thead>\n",
              "    <tr style=\"text-align: right;\">\n",
              "      <th></th>\n",
              "      <th>duration</th>\n",
              "      <th>protocol_type</th>\n",
              "      <th>service</th>\n",
              "      <th>flag</th>\n",
              "      <th>src_bytes</th>\n",
              "      <th>dst_bytes</th>\n",
              "      <th>land</th>\n",
              "      <th>wrong_fragment</th>\n",
              "      <th>urgent</th>\n",
              "      <th>hot</th>\n",
              "      <th>...</th>\n",
              "      <th>dst_host_diff_srv_rate</th>\n",
              "      <th>dst_host_same_src_port_rate</th>\n",
              "      <th>dst_host_srv_diff_host_rate</th>\n",
              "      <th>dst_host_serror_rate</th>\n",
              "      <th>dst_host_srv_serror_rate</th>\n",
              "      <th>dst_host_rerror_rate</th>\n",
              "      <th>dst_host_srv_rerror_rate</th>\n",
              "      <th>target</th>\n",
              "      <th>benign</th>\n",
              "      <th>Attack Type</th>\n",
              "    </tr>\n",
              "  </thead>\n",
              "  <tbody>\n",
              "    <tr>\n",
              "      <th>0</th>\n",
              "      <td>0</td>\n",
              "      <td>1</td>\n",
              "      <td>24</td>\n",
              "      <td>9</td>\n",
              "      <td>215</td>\n",
              "      <td>45076</td>\n",
              "      <td>0</td>\n",
              "      <td>0</td>\n",
              "      <td>0</td>\n",
              "      <td>0</td>\n",
              "      <td>...</td>\n",
              "      <td>0.0</td>\n",
              "      <td>0.00</td>\n",
              "      <td>0.0</td>\n",
              "      <td>0.0</td>\n",
              "      <td>0.0</td>\n",
              "      <td>0.0</td>\n",
              "      <td>0.0</td>\n",
              "      <td>16</td>\n",
              "      <td>1</td>\n",
              "      <td>1</td>\n",
              "    </tr>\n",
              "    <tr>\n",
              "      <th>1</th>\n",
              "      <td>0</td>\n",
              "      <td>1</td>\n",
              "      <td>24</td>\n",
              "      <td>9</td>\n",
              "      <td>162</td>\n",
              "      <td>4528</td>\n",
              "      <td>0</td>\n",
              "      <td>0</td>\n",
              "      <td>0</td>\n",
              "      <td>0</td>\n",
              "      <td>...</td>\n",
              "      <td>0.0</td>\n",
              "      <td>1.00</td>\n",
              "      <td>0.0</td>\n",
              "      <td>0.0</td>\n",
              "      <td>0.0</td>\n",
              "      <td>0.0</td>\n",
              "      <td>0.0</td>\n",
              "      <td>16</td>\n",
              "      <td>1</td>\n",
              "      <td>1</td>\n",
              "    </tr>\n",
              "    <tr>\n",
              "      <th>2</th>\n",
              "      <td>0</td>\n",
              "      <td>1</td>\n",
              "      <td>24</td>\n",
              "      <td>9</td>\n",
              "      <td>236</td>\n",
              "      <td>1228</td>\n",
              "      <td>0</td>\n",
              "      <td>0</td>\n",
              "      <td>0</td>\n",
              "      <td>0</td>\n",
              "      <td>...</td>\n",
              "      <td>0.0</td>\n",
              "      <td>0.50</td>\n",
              "      <td>0.0</td>\n",
              "      <td>0.0</td>\n",
              "      <td>0.0</td>\n",
              "      <td>0.0</td>\n",
              "      <td>0.0</td>\n",
              "      <td>16</td>\n",
              "      <td>1</td>\n",
              "      <td>1</td>\n",
              "    </tr>\n",
              "    <tr>\n",
              "      <th>3</th>\n",
              "      <td>0</td>\n",
              "      <td>1</td>\n",
              "      <td>24</td>\n",
              "      <td>9</td>\n",
              "      <td>233</td>\n",
              "      <td>2032</td>\n",
              "      <td>0</td>\n",
              "      <td>0</td>\n",
              "      <td>0</td>\n",
              "      <td>0</td>\n",
              "      <td>...</td>\n",
              "      <td>0.0</td>\n",
              "      <td>0.33</td>\n",
              "      <td>0.0</td>\n",
              "      <td>0.0</td>\n",
              "      <td>0.0</td>\n",
              "      <td>0.0</td>\n",
              "      <td>0.0</td>\n",
              "      <td>16</td>\n",
              "      <td>1</td>\n",
              "      <td>1</td>\n",
              "    </tr>\n",
              "    <tr>\n",
              "      <th>4</th>\n",
              "      <td>0</td>\n",
              "      <td>1</td>\n",
              "      <td>24</td>\n",
              "      <td>9</td>\n",
              "      <td>239</td>\n",
              "      <td>486</td>\n",
              "      <td>0</td>\n",
              "      <td>0</td>\n",
              "      <td>0</td>\n",
              "      <td>0</td>\n",
              "      <td>...</td>\n",
              "      <td>0.0</td>\n",
              "      <td>0.25</td>\n",
              "      <td>0.0</td>\n",
              "      <td>0.0</td>\n",
              "      <td>0.0</td>\n",
              "      <td>0.0</td>\n",
              "      <td>0.0</td>\n",
              "      <td>16</td>\n",
              "      <td>1</td>\n",
              "      <td>1</td>\n",
              "    </tr>\n",
              "  </tbody>\n",
              "</table>\n",
              "<p>5 rows × 43 columns</p>\n",
              "</div>"
            ],
            "text/plain": [
              "   duration  protocol_type  service  flag  src_bytes  dst_bytes  land  \\\n",
              "0         0              1       24     9        215      45076     0   \n",
              "1         0              1       24     9        162       4528     0   \n",
              "2         0              1       24     9        236       1228     0   \n",
              "3         0              1       24     9        233       2032     0   \n",
              "4         0              1       24     9        239        486     0   \n",
              "\n",
              "   wrong_fragment  urgent  hot  ...  dst_host_diff_srv_rate  \\\n",
              "0               0       0    0  ...                     0.0   \n",
              "1               0       0    0  ...                     0.0   \n",
              "2               0       0    0  ...                     0.0   \n",
              "3               0       0    0  ...                     0.0   \n",
              "4               0       0    0  ...                     0.0   \n",
              "\n",
              "   dst_host_same_src_port_rate  dst_host_srv_diff_host_rate  \\\n",
              "0                         0.00                          0.0   \n",
              "1                         1.00                          0.0   \n",
              "2                         0.50                          0.0   \n",
              "3                         0.33                          0.0   \n",
              "4                         0.25                          0.0   \n",
              "\n",
              "   dst_host_serror_rate  dst_host_srv_serror_rate  dst_host_rerror_rate  \\\n",
              "0                   0.0                       0.0                   0.0   \n",
              "1                   0.0                       0.0                   0.0   \n",
              "2                   0.0                       0.0                   0.0   \n",
              "3                   0.0                       0.0                   0.0   \n",
              "4                   0.0                       0.0                   0.0   \n",
              "\n",
              "   dst_host_srv_rerror_rate  target  benign  Attack Type  \n",
              "0                       0.0      16       1            1  \n",
              "1                       0.0      16       1            1  \n",
              "2                       0.0      16       1            1  \n",
              "3                       0.0      16       1            1  \n",
              "4                       0.0      16       1            1  \n",
              "\n",
              "[5 rows x 43 columns]"
            ]
          },
          "execution_count": 15,
          "metadata": {},
          "output_type": "execute_result"
        }
      ],
      "source": [
        "df.head()"
      ]
    },
    {
      "cell_type": "markdown",
      "metadata": {},
      "source": [
        "# Corr"
      ]
    },
    {
      "cell_type": "code",
      "execution_count": 16,
      "metadata": {
        "colab": {
          "base_uri": "https://localhost:8080/",
          "height": 1000
        },
        "id": "kpc4a482niPE",
        "outputId": "5e26f95c-6a27-4edc-e32f-a5d5cd57401d"
      },
      "outputs": [
        {
          "data": {
            "image/png": "[encoded data removed]",
            "text/plain": [
              "<Figure size 1500x1200 with 2 Axes>"
            ]
          },
          "metadata": {},
          "output_type": "display_data"
        }
      ],
      "source": [
        "corr = df.corr()\n",
        "\n",
        "plt.figure(figsize=(15,12))\n",
        "\n",
        "sns.heatmap(corr)\n",
        "\n",
        "plt.show()\n"
      ]
    },
    {
      "cell_type": "code",
      "execution_count": 17,
      "metadata": {
        "colab": {
          "base_uri": "https://localhost:8080/"
        },
        "id": "nf7zAVpAueS_",
        "outputId": "738c93da-95b9-41cb-c31f-a88ca22d5926"
      },
      "outputs": [
        {
          "data": {
            "text/plain": [
              "duration                      -0.060129\n",
              "protocol_type                 -0.900354\n",
              "service                       -0.826132\n",
              "flag                           0.640245\n",
              "src_bytes                     -0.000081\n",
              "dst_bytes                     -0.001147\n",
              "land                          -0.004711\n",
              "wrong_fragment                 0.022741\n",
              "urgent                        -0.001227\n",
              "hot                           -0.019977\n",
              "num_failed_logins             -0.007200\n",
              "logged_in                     -0.400753\n",
              "num_compromised               -0.002335\n",
              "root_shell                    -0.009104\n",
              "su_attempted                  -0.004376\n",
              "num_root                      -0.003208\n",
              "num_file_creations            -0.009367\n",
              "num_shells                    -0.008385\n",
              "num_access_files              -0.028080\n",
              "is_host_login                 -0.000623\n",
              "is_guest_login                -0.021724\n",
              "count                          0.904942\n",
              "srv_count                      0.980887\n",
              "serror_rate                   -0.606982\n",
              "srv_serror_rate               -0.606591\n",
              "rerror_rate                   -0.281160\n",
              "srv_rerror_rate               -0.281260\n",
              "same_srv_rate                  0.687476\n",
              "diff_srv_rate                 -0.249355\n",
              "srv_diff_host_rate            -0.214666\n",
              "dst_host_count                 0.349461\n",
              "dst_host_srv_count             0.759308\n",
              "dst_host_same_srv_rate         0.736645\n",
              "dst_host_diff_srv_rate        -0.271439\n",
              "dst_host_same_src_port_rate    0.943133\n",
              "dst_host_srv_diff_host_rate   -0.207040\n",
              "dst_host_serror_rate          -0.607348\n",
              "dst_host_srv_serror_rate      -0.606308\n",
              "dst_host_rerror_rate          -0.283653\n",
              "dst_host_srv_rerror_rate      -0.282780\n",
              "target                         1.000000\n",
              "benign                        -0.485570\n",
              "Attack Type                   -0.471555\n",
              "Name: target, dtype: float64"
            ]
          },
          "execution_count": 17,
          "metadata": {},
          "output_type": "execute_result"
        }
      ],
      "source": [
        "corr['target']"
      ]
    },
    {
      "cell_type": "code",
      "execution_count": 18,
      "metadata": {},
      "outputs": [
        {
          "data": {
            "text/plain": [
              "(13,\n",
              " Index(['protocol_type', 'num_compromised', 'count', 'srv_count', 'serror_rate',\n",
              "        'srv_serror_rate', 'rerror_rate', 'srv_rerror_rate', 'same_srv_rate',\n",
              "        'dst_host_srv_count', 'dst_host_same_src_port_rate',\n",
              "        'dst_host_serror_rate', 'dst_host_rerror_rate'],\n",
              "       dtype='object'))"
            ]
          },
          "execution_count": 18,
          "metadata": {},
          "output_type": "execute_result"
        }
      ],
      "source": [
        "label_cols = ['target', 'Attack Type', 'benign']\n",
        "\n",
        "mask = np.triu(np.ones_like(corr, dtype=bool), k=1)\n",
        "np.fill_diagonal(mask, True)\n",
        "corr_matrix = corr.mask(mask)\n",
        "\n",
        "threshold = 0.9\n",
        "\n",
        "# Find features with correlation above the threshold\n",
        "high_corr_features = ((corr_matrix.abs() > threshold) & (corr_matrix != 1)).any()\n",
        "\n",
        "# Identify and remove redundant features\n",
        "to_drop = high_corr_features[high_corr_features].index\n",
        "to_drop = to_drop.drop(label_cols, errors='ignore')\n",
        "# Drop the redundant features from the DataFrame\n",
        "df = df.drop(columns=to_drop)\n",
        "test_df = test_df.drop(columns=to_drop)\n",
        "len(to_drop), to_drop"
      ]
    },
    {
      "cell_type": "code",
      "execution_count": null,
      "metadata": {},
      "outputs": [],
      "source": [
        "# print(df.shape)\n",
        "\n",
        "# for f,value in corr[label_col].items():\n",
        "#   if abs(value) > 0.6 and f!=label_col:\n",
        "#     df.drop(f,axis = 1, inplace=True)\n",
        "#     print('dropped', f)\n",
        "# df.shape"
      ]
    },
    {
      "cell_type": "code",
      "execution_count": 19,
      "metadata": {
        "colab": {
          "base_uri": "https://localhost:8080/",
          "height": 287
        },
        "id": "Bx2nDMKU-kUH",
        "outputId": "9949ce7a-8371-465f-fd83-ae8f0e41cff1"
      },
      "outputs": [
        {
          "data": {
            "text/plain": [
              "-0.8261317653349612"
            ]
          },
          "execution_count": 19,
          "metadata": {},
          "output_type": "execute_result"
        }
      ],
      "source": [
        "df['service'].corr(df[label_cols[0]])"
      ]
    },
    {
      "cell_type": "code",
      "execution_count": 21,
      "metadata": {
        "colab": {
          "base_uri": "https://localhost:8080/",
          "height": 273
        },
        "id": "vO--vc0D6NOj",
        "outputId": "b36ffad9-61ff-42bc-833a-189c6e687165"
      },
      "outputs": [
        {
          "data": {
            "text/html": [
              "<div>\n",
              "<style scoped>\n",
              "    .dataframe tbody tr th:only-of-type {\n",
              "        vertical-align: middle;\n",
              "    }\n",
              "\n",
              "    .dataframe tbody tr th {\n",
              "        vertical-align: top;\n",
              "    }\n",
              "\n",
              "    .dataframe thead th {\n",
              "        text-align: right;\n",
              "    }\n",
              "</style>\n",
              "<table border=\"1\" class=\"dataframe\">\n",
              "  <thead>\n",
              "    <tr style=\"text-align: right;\">\n",
              "      <th></th>\n",
              "      <th>duration</th>\n",
              "      <th>service</th>\n",
              "      <th>flag</th>\n",
              "      <th>src_bytes</th>\n",
              "      <th>dst_bytes</th>\n",
              "      <th>land</th>\n",
              "      <th>wrong_fragment</th>\n",
              "      <th>urgent</th>\n",
              "      <th>hot</th>\n",
              "      <th>num_failed_logins</th>\n",
              "      <th>...</th>\n",
              "      <th>srv_diff_host_rate</th>\n",
              "      <th>dst_host_count</th>\n",
              "      <th>dst_host_same_srv_rate</th>\n",
              "      <th>dst_host_diff_srv_rate</th>\n",
              "      <th>dst_host_srv_diff_host_rate</th>\n",
              "      <th>dst_host_srv_serror_rate</th>\n",
              "      <th>dst_host_srv_rerror_rate</th>\n",
              "      <th>target</th>\n",
              "      <th>benign</th>\n",
              "      <th>Attack Type</th>\n",
              "    </tr>\n",
              "  </thead>\n",
              "  <tbody>\n",
              "    <tr>\n",
              "      <th>0</th>\n",
              "      <td>0</td>\n",
              "      <td>24</td>\n",
              "      <td>9</td>\n",
              "      <td>215</td>\n",
              "      <td>45076</td>\n",
              "      <td>0</td>\n",
              "      <td>0</td>\n",
              "      <td>0</td>\n",
              "      <td>0</td>\n",
              "      <td>0</td>\n",
              "      <td>...</td>\n",
              "      <td>0.0</td>\n",
              "      <td>0</td>\n",
              "      <td>0.0</td>\n",
              "      <td>0.0</td>\n",
              "      <td>0.0</td>\n",
              "      <td>0.0</td>\n",
              "      <td>0.0</td>\n",
              "      <td>16</td>\n",
              "      <td>1</td>\n",
              "      <td>1</td>\n",
              "    </tr>\n",
              "    <tr>\n",
              "      <th>1</th>\n",
              "      <td>0</td>\n",
              "      <td>24</td>\n",
              "      <td>9</td>\n",
              "      <td>162</td>\n",
              "      <td>4528</td>\n",
              "      <td>0</td>\n",
              "      <td>0</td>\n",
              "      <td>0</td>\n",
              "      <td>0</td>\n",
              "      <td>0</td>\n",
              "      <td>...</td>\n",
              "      <td>0.0</td>\n",
              "      <td>1</td>\n",
              "      <td>1.0</td>\n",
              "      <td>0.0</td>\n",
              "      <td>0.0</td>\n",
              "      <td>0.0</td>\n",
              "      <td>0.0</td>\n",
              "      <td>16</td>\n",
              "      <td>1</td>\n",
              "      <td>1</td>\n",
              "    </tr>\n",
              "    <tr>\n",
              "      <th>2</th>\n",
              "      <td>0</td>\n",
              "      <td>24</td>\n",
              "      <td>9</td>\n",
              "      <td>236</td>\n",
              "      <td>1228</td>\n",
              "      <td>0</td>\n",
              "      <td>0</td>\n",
              "      <td>0</td>\n",
              "      <td>0</td>\n",
              "      <td>0</td>\n",
              "      <td>...</td>\n",
              "      <td>0.0</td>\n",
              "      <td>2</td>\n",
              "      <td>1.0</td>\n",
              "      <td>0.0</td>\n",
              "      <td>0.0</td>\n",
              "      <td>0.0</td>\n",
              "      <td>0.0</td>\n",
              "      <td>16</td>\n",
              "      <td>1</td>\n",
              "      <td>1</td>\n",
              "    </tr>\n",
              "    <tr>\n",
              "      <th>3</th>\n",
              "      <td>0</td>\n",
              "      <td>24</td>\n",
              "      <td>9</td>\n",
              "      <td>233</td>\n",
              "      <td>2032</td>\n",
              "      <td>0</td>\n",
              "      <td>0</td>\n",
              "      <td>0</td>\n",
              "      <td>0</td>\n",
              "      <td>0</td>\n",
              "      <td>...</td>\n",
              "      <td>0.0</td>\n",
              "      <td>3</td>\n",
              "      <td>1.0</td>\n",
              "      <td>0.0</td>\n",
              "      <td>0.0</td>\n",
              "      <td>0.0</td>\n",
              "      <td>0.0</td>\n",
              "      <td>16</td>\n",
              "      <td>1</td>\n",
              "      <td>1</td>\n",
              "    </tr>\n",
              "    <tr>\n",
              "      <th>4</th>\n",
              "      <td>0</td>\n",
              "      <td>24</td>\n",
              "      <td>9</td>\n",
              "      <td>239</td>\n",
              "      <td>486</td>\n",
              "      <td>0</td>\n",
              "      <td>0</td>\n",
              "      <td>0</td>\n",
              "      <td>0</td>\n",
              "      <td>0</td>\n",
              "      <td>...</td>\n",
              "      <td>0.0</td>\n",
              "      <td>4</td>\n",
              "      <td>1.0</td>\n",
              "      <td>0.0</td>\n",
              "      <td>0.0</td>\n",
              "      <td>0.0</td>\n",
              "      <td>0.0</td>\n",
              "      <td>16</td>\n",
              "      <td>1</td>\n",
              "      <td>1</td>\n",
              "    </tr>\n",
              "  </tbody>\n",
              "</table>\n",
              "<p>5 rows × 30 columns</p>\n",
              "</div>"
            ],
            "text/plain": [
              "   duration  service  flag  src_bytes  dst_bytes  land  wrong_fragment  \\\n",
              "0         0       24     9        215      45076     0               0   \n",
              "1         0       24     9        162       4528     0               0   \n",
              "2         0       24     9        236       1228     0               0   \n",
              "3         0       24     9        233       2032     0               0   \n",
              "4         0       24     9        239        486     0               0   \n",
              "\n",
              "   urgent  hot  num_failed_logins  ...  srv_diff_host_rate  dst_host_count  \\\n",
              "0       0    0                  0  ...                 0.0               0   \n",
              "1       0    0                  0  ...                 0.0               1   \n",
              "2       0    0                  0  ...                 0.0               2   \n",
              "3       0    0                  0  ...                 0.0               3   \n",
              "4       0    0                  0  ...                 0.0               4   \n",
              "\n",
              "   dst_host_same_srv_rate  dst_host_diff_srv_rate  \\\n",
              "0                     0.0                     0.0   \n",
              "1                     1.0                     0.0   \n",
              "2                     1.0                     0.0   \n",
              "3                     1.0                     0.0   \n",
              "4                     1.0                     0.0   \n",
              "\n",
              "   dst_host_srv_diff_host_rate  dst_host_srv_serror_rate  \\\n",
              "0                          0.0                       0.0   \n",
              "1                          0.0                       0.0   \n",
              "2                          0.0                       0.0   \n",
              "3                          0.0                       0.0   \n",
              "4                          0.0                       0.0   \n",
              "\n",
              "   dst_host_srv_rerror_rate  target  benign  Attack Type  \n",
              "0                       0.0      16       1            1  \n",
              "1                       0.0      16       1            1  \n",
              "2                       0.0      16       1            1  \n",
              "3                       0.0      16       1            1  \n",
              "4                       0.0      16       1            1  \n",
              "\n",
              "[5 rows x 30 columns]"
            ]
          },
          "execution_count": 21,
          "metadata": {},
          "output_type": "execute_result"
        }
      ],
      "source": [
        "df.head()"
      ]
    },
    {
      "cell_type": "code",
      "execution_count": 22,
      "metadata": {
        "colab": {
          "base_uri": "https://localhost:8080/"
        },
        "id": "xZxOqZ0e6TGa",
        "outputId": "f8091e19-4093-4bca-a41c-4431ec8a2a14"
      },
      "outputs": [
        {
          "data": {
            "text/plain": [
              "is_host_login                       0.000639\n",
              "land                                0.002391\n",
              "urgent                              0.007215\n",
              "num_failed_logins                   0.007299\n",
              "su_attempted                        0.008082\n",
              "root_shell                          0.008257\n",
              "num_shells                          0.008738\n",
              "is_guest_login                      0.028887\n",
              "num_access_files                    0.035510\n",
              "dst_host_srv_diff_host_rate         0.041260\n",
              "wrong_fragment                      0.042854\n",
              "diff_srv_rate                       0.082715\n",
              "dst_host_diff_srv_rate              0.108543\n",
              "num_file_creations                  0.124186\n",
              "srv_diff_host_rate                  0.140560\n",
              "dst_host_srv_rerror_rate            0.230978\n",
              "logged_in                           0.350612\n",
              "dst_host_srv_serror_rate            0.382177\n",
              "benign                              0.398939\n",
              "dst_host_same_srv_rate              0.411186\n",
              "Attack Type                         0.433234\n",
              "hot                                 0.468978\n",
              "flag                                2.256784\n",
              "num_root                            3.938075\n",
              "target                              6.030292\n",
              "service                            15.266210\n",
              "dst_host_count                     64.020937\n",
              "duration                          723.329811\n",
              "dst_bytes                      645012.333743\n",
              "src_bytes                      941431.074491\n",
              "dtype: float64"
            ]
          },
          "execution_count": 22,
          "metadata": {},
          "output_type": "execute_result"
        }
      ],
      "source": [
        "df_std = df.std()\n",
        "df_std = df_std.sort_values(ascending = True)\n",
        "df_std"
      ]
    },
    {
      "cell_type": "code",
      "execution_count": 23,
      "metadata": {
        "id": "qweCnPG05RsV"
      },
      "outputs": [],
      "source": [
        "df.to_csv(dataset('dataset.csv'), index=False)\n",
        "test_df.to_csv(dataset('test_dataset.csv'), index=False)"
      ]
    },
    {
      "cell_type": "markdown",
      "metadata": {
        "id": "AhZV8_2c-9Pq"
      },
      "source": [
        "# Load data"
      ]
    },
    {
      "cell_type": "code",
      "execution_count": 1,
      "metadata": {
        "id": "Nqo-qQid_BqJ"
      },
      "outputs": [],
      "source": [
        "import os\n",
        "import pandas as pd\n",
        "import numpy as np\n",
        "import matplotlib.pyplot as plt\n",
        "import seaborn as sns\n",
        "import time\n",
        "import pandas\n",
        "\n",
        "def dataset(file_name:str = ''):\n",
        "  return f'dataset/{file_name}'"
      ]
    },
    {
      "cell_type": "code",
      "execution_count": 4,
      "metadata": {
        "id": "mdscBe6K-wkz"
      },
      "outputs": [
        {
          "data": {
            "text/plain": [
              "(4898431, 29)"
            ]
          },
          "execution_count": 4,
          "metadata": {},
          "output_type": "execute_result"
        }
      ],
      "source": [
        "df = pandas.read_csv(dataset('dataset2.csv'))\n",
        "test_df = pandas.read_csv(dataset('test_dataset.csv'))\n",
        "df.shape"
      ]
    },
    {
      "cell_type": "code",
      "execution_count": 111,
      "metadata": {},
      "outputs": [
        {
          "data": {
            "text/html": [
              "<div>\n",
              "<style scoped>\n",
              "    .dataframe tbody tr th:only-of-type {\n",
              "        vertical-align: middle;\n",
              "    }\n",
              "\n",
              "    .dataframe tbody tr th {\n",
              "        vertical-align: top;\n",
              "    }\n",
              "\n",
              "    .dataframe thead th {\n",
              "        text-align: right;\n",
              "    }\n",
              "</style>\n",
              "<table border=\"1\" class=\"dataframe\">\n",
              "  <thead>\n",
              "    <tr style=\"text-align: right;\">\n",
              "      <th></th>\n",
              "      <th>duration</th>\n",
              "      <th>protocol_type</th>\n",
              "      <th>service</th>\n",
              "      <th>flag</th>\n",
              "      <th>src_bytes</th>\n",
              "      <th>dst_bytes</th>\n",
              "      <th>land</th>\n",
              "      <th>wrong_fragment</th>\n",
              "      <th>urgent</th>\n",
              "      <th>hot</th>\n",
              "      <th>...</th>\n",
              "      <th>dst_host_count</th>\n",
              "      <th>dst_host_srv_count</th>\n",
              "      <th>dst_host_same_srv_rate</th>\n",
              "      <th>dst_host_diff_srv_rate</th>\n",
              "      <th>dst_host_same_src_port_rate</th>\n",
              "      <th>dst_host_srv_diff_host_rate</th>\n",
              "      <th>dst_host_serror_rate</th>\n",
              "      <th>dst_host_srv_serror_rate</th>\n",
              "      <th>dst_host_rerror_rate</th>\n",
              "      <th>dst_host_srv_rerror_rate</th>\n",
              "    </tr>\n",
              "  </thead>\n",
              "  <tbody>\n",
              "    <tr>\n",
              "      <th>0</th>\n",
              "      <td>0</td>\n",
              "      <td>2</td>\n",
              "      <td>50</td>\n",
              "      <td>9</td>\n",
              "      <td>105</td>\n",
              "      <td>146</td>\n",
              "      <td>0</td>\n",
              "      <td>0</td>\n",
              "      <td>0</td>\n",
              "      <td>0</td>\n",
              "      <td>...</td>\n",
              "      <td>255</td>\n",
              "      <td>254</td>\n",
              "      <td>1.0</td>\n",
              "      <td>0.01</td>\n",
              "      <td>0.00</td>\n",
              "      <td>0.0</td>\n",
              "      <td>0.0</td>\n",
              "      <td>0.0</td>\n",
              "      <td>0.0</td>\n",
              "      <td>0.0</td>\n",
              "    </tr>\n",
              "    <tr>\n",
              "      <th>1</th>\n",
              "      <td>0</td>\n",
              "      <td>2</td>\n",
              "      <td>50</td>\n",
              "      <td>9</td>\n",
              "      <td>105</td>\n",
              "      <td>146</td>\n",
              "      <td>0</td>\n",
              "      <td>0</td>\n",
              "      <td>0</td>\n",
              "      <td>0</td>\n",
              "      <td>...</td>\n",
              "      <td>255</td>\n",
              "      <td>254</td>\n",
              "      <td>1.0</td>\n",
              "      <td>0.01</td>\n",
              "      <td>0.00</td>\n",
              "      <td>0.0</td>\n",
              "      <td>0.0</td>\n",
              "      <td>0.0</td>\n",
              "      <td>0.0</td>\n",
              "      <td>0.0</td>\n",
              "    </tr>\n",
              "    <tr>\n",
              "      <th>2</th>\n",
              "      <td>0</td>\n",
              "      <td>2</td>\n",
              "      <td>50</td>\n",
              "      <td>9</td>\n",
              "      <td>105</td>\n",
              "      <td>146</td>\n",
              "      <td>0</td>\n",
              "      <td>0</td>\n",
              "      <td>0</td>\n",
              "      <td>0</td>\n",
              "      <td>...</td>\n",
              "      <td>255</td>\n",
              "      <td>254</td>\n",
              "      <td>1.0</td>\n",
              "      <td>0.01</td>\n",
              "      <td>0.00</td>\n",
              "      <td>0.0</td>\n",
              "      <td>0.0</td>\n",
              "      <td>0.0</td>\n",
              "      <td>0.0</td>\n",
              "      <td>0.0</td>\n",
              "    </tr>\n",
              "    <tr>\n",
              "      <th>3</th>\n",
              "      <td>0</td>\n",
              "      <td>2</td>\n",
              "      <td>50</td>\n",
              "      <td>9</td>\n",
              "      <td>105</td>\n",
              "      <td>146</td>\n",
              "      <td>0</td>\n",
              "      <td>0</td>\n",
              "      <td>0</td>\n",
              "      <td>0</td>\n",
              "      <td>...</td>\n",
              "      <td>255</td>\n",
              "      <td>254</td>\n",
              "      <td>1.0</td>\n",
              "      <td>0.01</td>\n",
              "      <td>0.00</td>\n",
              "      <td>0.0</td>\n",
              "      <td>0.0</td>\n",
              "      <td>0.0</td>\n",
              "      <td>0.0</td>\n",
              "      <td>0.0</td>\n",
              "    </tr>\n",
              "    <tr>\n",
              "      <th>4</th>\n",
              "      <td>0</td>\n",
              "      <td>2</td>\n",
              "      <td>50</td>\n",
              "      <td>9</td>\n",
              "      <td>105</td>\n",
              "      <td>146</td>\n",
              "      <td>0</td>\n",
              "      <td>0</td>\n",
              "      <td>0</td>\n",
              "      <td>0</td>\n",
              "      <td>...</td>\n",
              "      <td>255</td>\n",
              "      <td>254</td>\n",
              "      <td>1.0</td>\n",
              "      <td>0.01</td>\n",
              "      <td>0.01</td>\n",
              "      <td>0.0</td>\n",
              "      <td>0.0</td>\n",
              "      <td>0.0</td>\n",
              "      <td>0.0</td>\n",
              "      <td>0.0</td>\n",
              "    </tr>\n",
              "  </tbody>\n",
              "</table>\n",
              "<p>5 rows × 40 columns</p>\n",
              "</div>"
            ],
            "text/plain": [
              "   duration  protocol_type  service  flag  src_bytes  dst_bytes  land  \\\n",
              "0         0              2       50     9        105        146     0   \n",
              "1         0              2       50     9        105        146     0   \n",
              "2         0              2       50     9        105        146     0   \n",
              "3         0              2       50     9        105        146     0   \n",
              "4         0              2       50     9        105        146     0   \n",
              "\n",
              "   wrong_fragment  urgent  hot  ...  dst_host_count  dst_host_srv_count  \\\n",
              "0               0       0    0  ...             255                 254   \n",
              "1               0       0    0  ...             255                 254   \n",
              "2               0       0    0  ...             255                 254   \n",
              "3               0       0    0  ...             255                 254   \n",
              "4               0       0    0  ...             255                 254   \n",
              "\n",
              "   dst_host_same_srv_rate  dst_host_diff_srv_rate  \\\n",
              "0                     1.0                    0.01   \n",
              "1                     1.0                    0.01   \n",
              "2                     1.0                    0.01   \n",
              "3                     1.0                    0.01   \n",
              "4                     1.0                    0.01   \n",
              "\n",
              "   dst_host_same_src_port_rate  dst_host_srv_diff_host_rate  \\\n",
              "0                         0.00                          0.0   \n",
              "1                         0.00                          0.0   \n",
              "2                         0.00                          0.0   \n",
              "3                         0.00                          0.0   \n",
              "4                         0.01                          0.0   \n",
              "\n",
              "   dst_host_serror_rate  dst_host_srv_serror_rate  dst_host_rerror_rate  \\\n",
              "0                   0.0                       0.0                   0.0   \n",
              "1                   0.0                       0.0                   0.0   \n",
              "2                   0.0                       0.0                   0.0   \n",
              "3                   0.0                       0.0                   0.0   \n",
              "4                   0.0                       0.0                   0.0   \n",
              "\n",
              "   dst_host_srv_rerror_rate  \n",
              "0                       0.0  \n",
              "1                       0.0  \n",
              "2                       0.0  \n",
              "3                       0.0  \n",
              "4                       0.0  \n",
              "\n",
              "[5 rows x 40 columns]"
            ]
          },
          "execution_count": 111,
          "metadata": {},
          "output_type": "execute_result"
        }
      ],
      "source": [
        "test_df.head()"
      ]
    },
    {
      "cell_type": "code",
      "execution_count": 110,
      "metadata": {},
      "outputs": [
        {
          "data": {
            "text/html": [
              "<div>\n",
              "<style scoped>\n",
              "    .dataframe tbody tr th:only-of-type {\n",
              "        vertical-align: middle;\n",
              "    }\n",
              "\n",
              "    .dataframe tbody tr th {\n",
              "        vertical-align: top;\n",
              "    }\n",
              "\n",
              "    .dataframe thead th {\n",
              "        text-align: right;\n",
              "    }\n",
              "</style>\n",
              "<table border=\"1\" class=\"dataframe\">\n",
              "  <thead>\n",
              "    <tr style=\"text-align: right;\">\n",
              "      <th></th>\n",
              "      <th>duration</th>\n",
              "      <th>service</th>\n",
              "      <th>flag</th>\n",
              "      <th>src_bytes</th>\n",
              "      <th>dst_bytes</th>\n",
              "      <th>land</th>\n",
              "      <th>wrong_fragment</th>\n",
              "      <th>urgent</th>\n",
              "      <th>hot</th>\n",
              "      <th>num_failed_logins</th>\n",
              "      <th>...</th>\n",
              "      <th>is_host_login</th>\n",
              "      <th>is_guest_login</th>\n",
              "      <th>diff_srv_rate</th>\n",
              "      <th>srv_diff_host_rate</th>\n",
              "      <th>dst_host_count</th>\n",
              "      <th>dst_host_same_srv_rate</th>\n",
              "      <th>dst_host_diff_srv_rate</th>\n",
              "      <th>dst_host_srv_diff_host_rate</th>\n",
              "      <th>dst_host_srv_serror_rate</th>\n",
              "      <th>dst_host_srv_rerror_rate</th>\n",
              "    </tr>\n",
              "  </thead>\n",
              "  <tbody>\n",
              "    <tr>\n",
              "      <th>0</th>\n",
              "      <td>0</td>\n",
              "      <td>24</td>\n",
              "      <td>9</td>\n",
              "      <td>215</td>\n",
              "      <td>45076</td>\n",
              "      <td>0</td>\n",
              "      <td>0</td>\n",
              "      <td>0</td>\n",
              "      <td>0</td>\n",
              "      <td>0</td>\n",
              "      <td>...</td>\n",
              "      <td>0</td>\n",
              "      <td>0</td>\n",
              "      <td>0.0</td>\n",
              "      <td>0.0</td>\n",
              "      <td>0</td>\n",
              "      <td>0.0</td>\n",
              "      <td>0.0</td>\n",
              "      <td>0.0</td>\n",
              "      <td>0.0</td>\n",
              "      <td>0.0</td>\n",
              "    </tr>\n",
              "    <tr>\n",
              "      <th>1</th>\n",
              "      <td>0</td>\n",
              "      <td>24</td>\n",
              "      <td>9</td>\n",
              "      <td>162</td>\n",
              "      <td>4528</td>\n",
              "      <td>0</td>\n",
              "      <td>0</td>\n",
              "      <td>0</td>\n",
              "      <td>0</td>\n",
              "      <td>0</td>\n",
              "      <td>...</td>\n",
              "      <td>0</td>\n",
              "      <td>0</td>\n",
              "      <td>0.0</td>\n",
              "      <td>0.0</td>\n",
              "      <td>1</td>\n",
              "      <td>1.0</td>\n",
              "      <td>0.0</td>\n",
              "      <td>0.0</td>\n",
              "      <td>0.0</td>\n",
              "      <td>0.0</td>\n",
              "    </tr>\n",
              "    <tr>\n",
              "      <th>2</th>\n",
              "      <td>0</td>\n",
              "      <td>24</td>\n",
              "      <td>9</td>\n",
              "      <td>236</td>\n",
              "      <td>1228</td>\n",
              "      <td>0</td>\n",
              "      <td>0</td>\n",
              "      <td>0</td>\n",
              "      <td>0</td>\n",
              "      <td>0</td>\n",
              "      <td>...</td>\n",
              "      <td>0</td>\n",
              "      <td>0</td>\n",
              "      <td>0.0</td>\n",
              "      <td>0.0</td>\n",
              "      <td>2</td>\n",
              "      <td>1.0</td>\n",
              "      <td>0.0</td>\n",
              "      <td>0.0</td>\n",
              "      <td>0.0</td>\n",
              "      <td>0.0</td>\n",
              "    </tr>\n",
              "    <tr>\n",
              "      <th>3</th>\n",
              "      <td>0</td>\n",
              "      <td>24</td>\n",
              "      <td>9</td>\n",
              "      <td>233</td>\n",
              "      <td>2032</td>\n",
              "      <td>0</td>\n",
              "      <td>0</td>\n",
              "      <td>0</td>\n",
              "      <td>0</td>\n",
              "      <td>0</td>\n",
              "      <td>...</td>\n",
              "      <td>0</td>\n",
              "      <td>0</td>\n",
              "      <td>0.0</td>\n",
              "      <td>0.0</td>\n",
              "      <td>3</td>\n",
              "      <td>1.0</td>\n",
              "      <td>0.0</td>\n",
              "      <td>0.0</td>\n",
              "      <td>0.0</td>\n",
              "      <td>0.0</td>\n",
              "    </tr>\n",
              "    <tr>\n",
              "      <th>4</th>\n",
              "      <td>0</td>\n",
              "      <td>24</td>\n",
              "      <td>9</td>\n",
              "      <td>239</td>\n",
              "      <td>486</td>\n",
              "      <td>0</td>\n",
              "      <td>0</td>\n",
              "      <td>0</td>\n",
              "      <td>0</td>\n",
              "      <td>0</td>\n",
              "      <td>...</td>\n",
              "      <td>0</td>\n",
              "      <td>0</td>\n",
              "      <td>0.0</td>\n",
              "      <td>0.0</td>\n",
              "      <td>4</td>\n",
              "      <td>1.0</td>\n",
              "      <td>0.0</td>\n",
              "      <td>0.0</td>\n",
              "      <td>0.0</td>\n",
              "      <td>0.0</td>\n",
              "    </tr>\n",
              "  </tbody>\n",
              "</table>\n",
              "<p>5 rows × 27 columns</p>\n",
              "</div>"
            ],
            "text/plain": [
              "   duration  service  flag  src_bytes  dst_bytes  land  wrong_fragment  \\\n",
              "0         0       24     9        215      45076     0               0   \n",
              "1         0       24     9        162       4528     0               0   \n",
              "2         0       24     9        236       1228     0               0   \n",
              "3         0       24     9        233       2032     0               0   \n",
              "4         0       24     9        239        486     0               0   \n",
              "\n",
              "   urgent  hot  num_failed_logins  ...  is_host_login  is_guest_login  \\\n",
              "0       0    0                  0  ...              0               0   \n",
              "1       0    0                  0  ...              0               0   \n",
              "2       0    0                  0  ...              0               0   \n",
              "3       0    0                  0  ...              0               0   \n",
              "4       0    0                  0  ...              0               0   \n",
              "\n",
              "   diff_srv_rate  srv_diff_host_rate  dst_host_count  dst_host_same_srv_rate  \\\n",
              "0            0.0                 0.0               0                     0.0   \n",
              "1            0.0                 0.0               1                     1.0   \n",
              "2            0.0                 0.0               2                     1.0   \n",
              "3            0.0                 0.0               3                     1.0   \n",
              "4            0.0                 0.0               4                     1.0   \n",
              "\n",
              "   dst_host_diff_srv_rate  dst_host_srv_diff_host_rate  \\\n",
              "0                     0.0                          0.0   \n",
              "1                     0.0                          0.0   \n",
              "2                     0.0                          0.0   \n",
              "3                     0.0                          0.0   \n",
              "4                     0.0                          0.0   \n",
              "\n",
              "   dst_host_srv_serror_rate  dst_host_srv_rerror_rate  \n",
              "0                       0.0                       0.0  \n",
              "1                       0.0                       0.0  \n",
              "2                       0.0                       0.0  \n",
              "3                       0.0                       0.0  \n",
              "4                       0.0                       0.0  \n",
              "\n",
              "[5 rows x 27 columns]"
            ]
          },
          "execution_count": 110,
          "metadata": {},
          "output_type": "execute_result"
        }
      ],
      "source": [
        "df.head()"
      ]
    },
    {
      "cell_type": "code",
      "execution_count": 24,
      "metadata": {},
      "outputs": [],
      "source": [
        "df = df.drop(['Attack Type','target'], axis=1)\n",
        "test_df = test_df.drop(['Attack Type','target'], axis=1)"
      ]
    },
    {
      "cell_type": "code",
      "execution_count": 25,
      "metadata": {
        "id": "BTjUKpxB9OM3"
      },
      "outputs": [],
      "source": [
        "label_col = 'benign'\n",
        "# Y = df[[label_col]]\n",
        "# X = df.drop([label_col], axis=1)\n",
        "Y_train = df[[label_col]]\n",
        "X_train = df.drop([label_col], axis=1)\n",
        "df = df.drop([label_col], axis=1)"
      ]
    },
    {
      "cell_type": "code",
      "execution_count": 26,
      "metadata": {},
      "outputs": [],
      "source": [
        "Y_test = test_df[[label_col]]\n",
        "X_test = test_df.drop([label_col], axis=1)\n",
        "test_df = test_df.drop([label_col], axis=1)"
      ]
    },
    {
      "cell_type": "code",
      "execution_count": 29,
      "metadata": {
        "colab": {
          "base_uri": "https://localhost:8080/"
        },
        "id": "-Kl915qr9QhR",
        "outputId": "8652cdf3-6100-4e4d-bdad-8937dd68af4c"
      },
      "outputs": [
        {
          "name": "stdout",
          "output_type": "stream",
          "text": [
            "Train (4408587, 27) (4408587, 1)\n",
            "Validation (489844, 27) (489844, 1)\n",
            "Test (311029, 27) (311029, 1)\n"
          ]
        }
      ],
      "source": [
        "from sklearn.model_selection import train_test_split\n",
        "from sklearn.preprocessing import MinMaxScaler\n",
        "from sklearn.metrics import accuracy_score\n",
        "\n",
        "sc = MinMaxScaler()\n",
        "X_train = sc.fit_transform(X_train)\n",
        "X_test = sc.transform(X_test)\n",
        "\n",
        "X_train, X_val, Y_train, Y_val = train_test_split(X_train, Y_train, test_size=0.1, random_state=273)\n",
        "print('Train', X_train.shape, Y_train.shape)\n",
        "print('Validation', X_val.shape, Y_val.shape)\n",
        "print('Test', X_test.shape, Y_test.shape)"
      ]
    },
    {
      "cell_type": "code",
      "execution_count": 35,
      "metadata": {
        "id": "_0kdeAb2_L1T"
      },
      "outputs": [],
      "source": [
        "def fit(model):\n",
        "  name = type(model).__name__\n",
        "  start_time = time.time()\n",
        "  model.fit(X_train, Y_train.values.ravel())\n",
        "  end_time = time.time()\n",
        "  print(f\"{name}: Training time: \",end_time-start_time)\n",
        "\n",
        "def fit_evaluate(model):\n",
        "  name = type(model).__name__\n",
        "  fit(model)\n",
        "\n",
        "  start_time = time.time()\n",
        "  Y_test_pred1 = model.predict(X_test)\n",
        "  end_time = time.time()\n",
        "  print(f\"{name}: Testing time: \",end_time-start_time)\n",
        "\n",
        "  print(f\"{name}: Train score is:\", model.score(X_train, Y_train))\n",
        "  print(f\"{name}: Validation score is:\", model.score(X_val,Y_val))\n",
        "  print(f\"{name}: Test score is:\", model.score(X_test,Y_test))\n"
      ]
    },
    {
      "cell_type": "code",
      "execution_count": 36,
      "metadata": {
        "colab": {
          "base_uri": "https://localhost:8080/"
        },
        "id": "H9mUjhKl9910",
        "outputId": "2b1d1ada-5956-4e70-dec5-e2bdd5bc3642"
      },
      "outputs": [
        {
          "name": "stdout",
          "output_type": "stream",
          "text": [
            "GaussianNB: Training time:  1.3483672142028809\n",
            "GaussianNB: Testing time:  0.10667109489440918\n",
            "GaussianNB: Train score is: 0.9662864768235264\n",
            "GaussianNB: Validation score is: 0.9664321702419546\n",
            "GaussianNB: Test score is: 0.8981606216783644\n"
          ]
        }
      ],
      "source": [
        "from sklearn.naive_bayes import GaussianNB\n",
        "fit_evaluate(GaussianNB())"
      ]
    },
    {
      "cell_type": "code",
      "execution_count": 37,
      "metadata": {
        "colab": {
          "base_uri": "https://localhost:8080/"
        },
        "id": "amVbXOPQAOX-",
        "outputId": "3c998ca9-a1b8-4328-eae7-c92833dbb242"
      },
      "outputs": [
        {
          "name": "stdout",
          "output_type": "stream",
          "text": [
            "DecisionTreeClassifier: Training time:  5.989065170288086\n",
            "DecisionTreeClassifier: Testing time:  0.025421619415283203\n",
            "DecisionTreeClassifier: Train score is: 0.9984326043696087\n",
            "DecisionTreeClassifier: Validation score is: 0.9985321857570981\n",
            "DecisionTreeClassifier: Test score is: 0.9216889743400133\n"
          ]
        }
      ],
      "source": [
        "from sklearn.tree import DecisionTreeClassifier\n",
        "fit_evaluate(DecisionTreeClassifier(criterion=\"entropy\", max_depth = 6))"
      ]
    },
    {
      "cell_type": "code",
      "execution_count": 42,
      "metadata": {
        "colab": {
          "base_uri": "https://localhost:8080/"
        },
        "id": "r_vx5zhAApCy",
        "outputId": "4c82c109-6ff1-41e8-e6c6-ca640cf81667"
      },
      "outputs": [],
      "source": [
        "from sklearn.svm import SVC\n",
        "fit_evaluate(SVC(gamma = 'scale'))"
      ]
    },
    {
      "cell_type": "code",
      "execution_count": 40,
      "metadata": {
        "colab": {
          "base_uri": "https://localhost:8080/"
        },
        "id": "2rWqae0VA1UH",
        "outputId": "0bef4ed9-9a8f-41a8-f7bb-04680cdb49d6"
      },
      "outputs": [
        {
          "name": "stdout",
          "output_type": "stream",
          "text": [
            "LogisticRegression: Training time:  7.488194704055786\n",
            "LogisticRegression: Testing time:  0.007977485656738281\n",
            "LogisticRegression: Train score is: 0.9856536799659392\n",
            "LogisticRegression: Validation score is: 0.9857628142837311\n",
            "LogisticRegression: Test score is: 0.9126930286243405\n"
          ]
        }
      ],
      "source": [
        "from sklearn.linear_model import LogisticRegression\n",
        "fit_evaluate(LogisticRegression(max_iter=1200000))"
      ]
    },
    {
      "cell_type": "code",
      "execution_count": 41,
      "metadata": {
        "colab": {
          "base_uri": "https://localhost:8080/"
        },
        "id": "OHTL1h5jA6Ws",
        "outputId": "461efc1e-4984-4100-c85a-213cae492f61"
      },
      "outputs": [
        {
          "name": "stdout",
          "output_type": "stream",
          "text": [
            "GradientBoostingClassifier: Training time:  407.0375714302063\n",
            "GradientBoostingClassifier: Testing time:  0.2210860252380371\n",
            "GradientBoostingClassifier: Train score is: 0.9992838975390528\n",
            "GradientBoostingClassifier: Validation score is: 0.9992548648141041\n",
            "GradientBoostingClassifier: Test score is: 0.9229428767092458\n"
          ]
        }
      ],
      "source": [
        "from sklearn.ensemble import GradientBoostingClassifier\n",
        "fit_evaluate(GradientBoostingClassifier(random_state=220))"
      ]
    },
    {
      "cell_type": "code",
      "execution_count": 39,
      "metadata": {
        "colab": {
          "base_uri": "https://localhost:8080/"
        },
        "id": "rii_AYA_Ah6C",
        "outputId": "39e38d40-c990-4155-c20a-009b0d90eb1e"
      },
      "outputs": [
        {
          "name": "stdout",
          "output_type": "stream",
          "text": [
            "RandomForestClassifier: Training time:  59.26685619354248\n",
            "RandomForestClassifier: Testing time:  0.23598957061767578\n",
            "RandomForestClassifier: Train score is: 0.999963480362302\n",
            "RandomForestClassifier: Validation score is: 0.9999040510856517\n",
            "RandomForestClassifier: Test score is: 0.9239877953502728\n"
          ]
        }
      ],
      "source": [
        "from sklearn.ensemble import RandomForestClassifier\n",
        "fit_evaluate(RandomForestClassifier(n_estimators=30))"
      ]
    },
    {
      "cell_type": "code",
      "execution_count": 38,
      "metadata": {
        "colab": {
          "base_uri": "https://localhost:8080/"
        },
        "id": "rqbEov9WF_wh",
        "outputId": "e6fb4261-4b95-46ea-b10a-397fa9fab809"
      },
      "outputs": [
        {
          "name": "stderr",
          "output_type": "stream",
          "text": [
            "c:\\Users\\rezaab\\Projects\\IntrusionDetection-KDD\\.venv\\Lib\\site-packages\\sklearn\\ensemble\\_weight_boosting.py:519: FutureWarning: The SAMME.R algorithm (the default) is deprecated and will be removed in 1.6. Use the SAMME algorithm to circumvent this warning.\n",
            "  warnings.warn(\n"
          ]
        },
        {
          "name": "stdout",
          "output_type": "stream",
          "text": [
            "AdaBoostClassifier: Training time:  114.25183916091919\n",
            "AdaBoostClassifier: Testing time:  1.1632025241851807\n",
            "AdaBoostClassifier: Train score is: 0.9976219137787232\n",
            "AdaBoostClassifier: Validation score is: 0.9975910698099804\n",
            "AdaBoostClassifier: Test score is: 0.9247015551604513\n"
          ]
        }
      ],
      "source": [
        "from sklearn.ensemble import AdaBoostClassifier\n",
        "fit_evaluate(AdaBoostClassifier(random_state=387))"
      ]
    },
    {
      "cell_type": "markdown",
      "metadata": {},
      "source": [
        "# NN"
      ]
    },
    {
      "cell_type": "code",
      "execution_count": 31,
      "metadata": {
        "id": "4aG98_GoBFt1"
      },
      "outputs": [
        {
          "name": "stdout",
          "output_type": "stream",
          "text": [
            "WARNING:tensorflow:From c:\\Users\\rezaab\\Projects\\IntrusionDetection-KDD\\.venv\\Lib\\site-packages\\keras\\src\\backend\\common\\global_state.py:74: The name tf.reset_default_graph is deprecated. Please use tf.compat.v1.reset_default_graph instead.\n",
            "\n"
          ]
        },
        {
          "data": {
            "text/html": [
              "<pre style=\"white-space:pre;overflow-x:auto;line-height:normal;font-family:Menlo,'DejaVu Sans Mono',consolas,'Courier New',monospace\"><span style=\"font-weight: bold\">Model: \"sequential\"</span>\n",
              "</pre>\n"
            ],
            "text/plain": [
              "\u001b[1mModel: \"sequential\"\u001b[0m\n"
            ]
          },
          "metadata": {},
          "output_type": "display_data"
        },
        {
          "data": {
            "text/html": [
              "<pre style=\"white-space:pre;overflow-x:auto;line-height:normal;font-family:Menlo,'DejaVu Sans Mono',consolas,'Courier New',monospace\">┏━━━━━━━━━━━━━━━━━━━━━━━━━━━━━━━━━┳━━━━━━━━━━━━━━━━━━━━━━━━┳━━━━━━━━━━━━━━━┓\n",
              "┃<span style=\"font-weight: bold\"> Layer (type)                    </span>┃<span style=\"font-weight: bold\"> Output Shape           </span>┃<span style=\"font-weight: bold\">       Param # </span>┃\n",
              "┡━━━━━━━━━━━━━━━━━━━━━━━━━━━━━━━━━╇━━━━━━━━━━━━━━━━━━━━━━━━╇━━━━━━━━━━━━━━━┩\n",
              "│ dense (<span style=\"color: #0087ff; text-decoration-color: #0087ff\">Dense</span>)                   │ (<span style=\"color: #00d7ff; text-decoration-color: #00d7ff\">None</span>, <span style=\"color: #00af00; text-decoration-color: #00af00\">27</span>)             │           <span style=\"color: #00af00; text-decoration-color: #00af00\">756</span> │\n",
              "├─────────────────────────────────┼────────────────────────┼───────────────┤\n",
              "│ dense_1 (<span style=\"color: #0087ff; text-decoration-color: #0087ff\">Dense</span>)                 │ (<span style=\"color: #00d7ff; text-decoration-color: #00d7ff\">None</span>, <span style=\"color: #00af00; text-decoration-color: #00af00\">10</span>)             │           <span style=\"color: #00af00; text-decoration-color: #00af00\">280</span> │\n",
              "├─────────────────────────────────┼────────────────────────┼───────────────┤\n",
              "│ dense_2 (<span style=\"color: #0087ff; text-decoration-color: #0087ff\">Dense</span>)                 │ (<span style=\"color: #00d7ff; text-decoration-color: #00d7ff\">None</span>, <span style=\"color: #00af00; text-decoration-color: #00af00\">2</span>)              │            <span style=\"color: #00af00; text-decoration-color: #00af00\">22</span> │\n",
              "└─────────────────────────────────┴────────────────────────┴───────────────┘\n",
              "</pre>\n"
            ],
            "text/plain": [
              "┏━━━━━━━━━━━━━━━━━━━━━━━━━━━━━━━━━┳━━━━━━━━━━━━━━━━━━━━━━━━┳━━━━━━━━━━━━━━━┓\n",
              "┃\u001b[1m \u001b[0m\u001b[1mLayer (type)                   \u001b[0m\u001b[1m \u001b[0m┃\u001b[1m \u001b[0m\u001b[1mOutput Shape          \u001b[0m\u001b[1m \u001b[0m┃\u001b[1m \u001b[0m\u001b[1m      Param #\u001b[0m\u001b[1m \u001b[0m┃\n",
              "┡━━━━━━━━━━━━━━━━━━━━━━━━━━━━━━━━━╇━━━━━━━━━━━━━━━━━━━━━━━━╇━━━━━━━━━━━━━━━┩\n",
              "│ dense (\u001b[38;5;33mDense\u001b[0m)                   │ (\u001b[38;5;45mNone\u001b[0m, \u001b[38;5;34m27\u001b[0m)             │           \u001b[38;5;34m756\u001b[0m │\n",
              "├─────────────────────────────────┼────────────────────────┼───────────────┤\n",
              "│ dense_1 (\u001b[38;5;33mDense\u001b[0m)                 │ (\u001b[38;5;45mNone\u001b[0m, \u001b[38;5;34m10\u001b[0m)             │           \u001b[38;5;34m280\u001b[0m │\n",
              "├─────────────────────────────────┼────────────────────────┼───────────────┤\n",
              "│ dense_2 (\u001b[38;5;33mDense\u001b[0m)                 │ (\u001b[38;5;45mNone\u001b[0m, \u001b[38;5;34m2\u001b[0m)              │            \u001b[38;5;34m22\u001b[0m │\n",
              "└─────────────────────────────────┴────────────────────────┴───────────────┘\n"
            ]
          },
          "metadata": {},
          "output_type": "display_data"
        },
        {
          "data": {
            "text/html": [
              "<pre style=\"white-space:pre;overflow-x:auto;line-height:normal;font-family:Menlo,'DejaVu Sans Mono',consolas,'Courier New',monospace\"><span style=\"font-weight: bold\"> Total params: </span><span style=\"color: #00af00; text-decoration-color: #00af00\">1,058</span> (4.13 KB)\n",
              "</pre>\n"
            ],
            "text/plain": [
              "\u001b[1m Total params: \u001b[0m\u001b[38;5;34m1,058\u001b[0m (4.13 KB)\n"
            ]
          },
          "metadata": {},
          "output_type": "display_data"
        },
        {
          "data": {
            "text/html": [
              "<pre style=\"white-space:pre;overflow-x:auto;line-height:normal;font-family:Menlo,'DejaVu Sans Mono',consolas,'Courier New',monospace\"><span style=\"font-weight: bold\"> Trainable params: </span><span style=\"color: #00af00; text-decoration-color: #00af00\">1,058</span> (4.13 KB)\n",
              "</pre>\n"
            ],
            "text/plain": [
              "\u001b[1m Trainable params: \u001b[0m\u001b[38;5;34m1,058\u001b[0m (4.13 KB)\n"
            ]
          },
          "metadata": {},
          "output_type": "display_data"
        },
        {
          "data": {
            "text/html": [
              "<pre style=\"white-space:pre;overflow-x:auto;line-height:normal;font-family:Menlo,'DejaVu Sans Mono',consolas,'Courier New',monospace\"><span style=\"font-weight: bold\"> Non-trainable params: </span><span style=\"color: #00af00; text-decoration-color: #00af00\">0</span> (0.00 B)\n",
              "</pre>\n"
            ],
            "text/plain": [
              "\u001b[1m Non-trainable params: \u001b[0m\u001b[38;5;34m0\u001b[0m (0.00 B)\n"
            ]
          },
          "metadata": {},
          "output_type": "display_data"
        }
      ],
      "source": [
        "import os\n",
        "os.environ[\"KERAS_BACKEND\"] = \"tensorflow\"\n",
        "\n",
        "import keras\n",
        "from keras.models import Sequential\n",
        "from keras.layers import Dense, Input\n",
        "from scikeras.wrappers import KerasClassifier\n",
        "from keras.losses import CategoricalCrossentropy\n",
        "from keras.optimizers import Adam\n",
        "from keras.metrics import Accuracy\n",
        "import gc\n",
        "\n",
        "keras.backend.clear_session()\n",
        "\n",
        "try:\n",
        "  del kerasModel\n",
        "  gc.collect()\n",
        "  del ann\n",
        "  gc.collect()\n",
        "except:\n",
        "  pass\n",
        "\n",
        "kerasModel = Sequential(\n",
        "\t[\n",
        "\t\tInput(shape=(27,)),\n",
        "\t\tDense(27,activation = 'relu',kernel_initializer='random_uniform'),\n",
        "\t\tDense(10,activation='sigmoid',kernel_initializer='random_uniform'),\n",
        "\t\tDense(2,activation='softmax'),\n",
        "\n",
        "\t]\n",
        ")\n",
        "\n",
        "kerasModel.compile(optimizer = 'adam', loss='categorical_crossentropy',metrics = ['accuracy'])\n",
        "\n",
        "kerasModel.summary()"
      ]
    },
    {
      "cell_type": "code",
      "execution_count": 32,
      "metadata": {},
      "outputs": [
        {
          "data": {
            "text/plain": [
              "(4408587, 1)"
            ]
          },
          "execution_count": 32,
          "metadata": {},
          "output_type": "execute_result"
        }
      ],
      "source": [
        "Y_train.shape"
      ]
    },
    {
      "cell_type": "code",
      "execution_count": 33,
      "metadata": {
        "colab": {
          "base_uri": "https://localhost:8080/"
        },
        "id": "Wx-Wtt4lBTOn",
        "outputId": "f9c9795f-d7d4-45a4-8575-ffa9ac9b5592"
      },
      "outputs": [
        {
          "name": "stdout",
          "output_type": "stream",
          "text": [
            "Epoch 1/10\n",
            "\u001b[1m68885/68885\u001b[0m \u001b[32m━━━━━━━━━━━━━━━━━━━━\u001b[0m\u001b[37m\u001b[0m \u001b[1m26s\u001b[0m 373us/step - accuracy: 0.9845 - loss: 0.0540\n",
            "Epoch 2/10\n",
            "\u001b[1m68885/68885\u001b[0m \u001b[32m━━━━━━━━━━━━━━━━━━━━\u001b[0m\u001b[37m\u001b[0m \u001b[1m26s\u001b[0m 377us/step - accuracy: 0.9953 - loss: 0.0239\n",
            "Epoch 3/10\n",
            "\u001b[1m68885/68885\u001b[0m \u001b[32m━━━━━━━━━━━━━━━━━━━━\u001b[0m\u001b[37m\u001b[0m \u001b[1m28s\u001b[0m 401us/step - accuracy: 0.9963 - loss: 0.0184\n",
            "Epoch 4/10\n",
            "\u001b[1m68885/68885\u001b[0m \u001b[32m━━━━━━━━━━━━━━━━━━━━\u001b[0m\u001b[37m\u001b[0m \u001b[1m30s\u001b[0m 432us/step - accuracy: 0.9978 - loss: 0.0120\n",
            "Epoch 5/10\n",
            "\u001b[1m68885/68885\u001b[0m \u001b[32m━━━━━━━━━━━━━━━━━━━━\u001b[0m\u001b[37m\u001b[0m \u001b[1m30s\u001b[0m 430us/step - accuracy: 0.9979 - loss: 0.0104\n",
            "Epoch 6/10\n",
            "\u001b[1m68885/68885\u001b[0m \u001b[32m━━━━━━━━━━━━━━━━━━━━\u001b[0m\u001b[37m\u001b[0m \u001b[1m29s\u001b[0m 422us/step - accuracy: 0.9984 - loss: 0.0089\n",
            "Epoch 7/10\n",
            "\u001b[1m68885/68885\u001b[0m \u001b[32m━━━━━━━━━━━━━━━━━━━━\u001b[0m\u001b[37m\u001b[0m \u001b[1m30s\u001b[0m 427us/step - accuracy: 0.9984 - loss: 0.0085\n",
            "Epoch 8/10\n",
            "\u001b[1m68885/68885\u001b[0m \u001b[32m━━━━━━━━━━━━━━━━━━━━\u001b[0m\u001b[37m\u001b[0m \u001b[1m30s\u001b[0m 432us/step - accuracy: 0.9985 - loss: 0.0083\n",
            "Epoch 9/10\n",
            "\u001b[1m68885/68885\u001b[0m \u001b[32m━━━━━━━━━━━━━━━━━━━━\u001b[0m\u001b[37m\u001b[0m \u001b[1m30s\u001b[0m 433us/step - accuracy: 0.9986 - loss: 0.0079\n",
            "Epoch 10/10\n",
            "\u001b[1m68885/68885\u001b[0m \u001b[32m━━━━━━━━━━━━━━━━━━━━\u001b[0m\u001b[37m\u001b[0m \u001b[1m30s\u001b[0m 437us/step - accuracy: 0.9986 - loss: 0.0078\n",
            "ANN: Training time:  289.93826508522034\n",
            "\u001b[1m68885/68885\u001b[0m \u001b[32m━━━━━━━━━━━━━━━━━━━━\u001b[0m\u001b[37m\u001b[0m \u001b[1m26s\u001b[0m 380us/step\n",
            "\u001b[1m4860/4860\u001b[0m \u001b[32m━━━━━━━━━━━━━━━━━━━━\u001b[0m\u001b[37m\u001b[0m \u001b[1m2s\u001b[0m 347us/step\n",
            "Train accuracy: 0.9986258635703458\n",
            "Test accuracy: 0.9208080275472705\n"
          ]
        }
      ],
      "source": [
        "from keras.utils import to_categorical\n",
        "\n",
        "ann = KerasClassifier(model=kerasModel, epochs=10, batch_size=64)\n",
        "Y_train_one_hot = to_categorical(Y_train, num_classes=2)\n",
        "Y_test_one_hot = to_categorical(Y_test, num_classes=2)\n",
        "start_time = time.time()\n",
        "ann.fit(X_train, Y_train_one_hot)\n",
        "end_time = time.time()\n",
        "print(f\"ANN: Training time: \",end_time-start_time)\n",
        "\n",
        "ann_train_pred = ann.predict(X_train)\n",
        "ann_val_pred = ann.predict(X_val)\n",
        "ann_test_pred = ann.predict(X_test)\n",
        "\n",
        "ann_train_pred_scalar = np.argmax(ann_train_pred, axis=1)\n",
        "ann_val_pred_scalar = np.argmax(ann_val_pred, axis=1)\n",
        "ann_test_pred_scalar = np.argmax(ann_test_pred, axis=1)\n",
        "\n",
        "print('Train accuracy:', accuracy_score(Y_train,ann_train_pred_scalar))\n",
        "print('Val accuracy:', accuracy_score(Y_val,ann_val_pred_scalar))\n",
        "print('Test accuracy:', accuracy_score(Y_test,ann_test_pred_scalar))"
      ]
    }
  ],
  "metadata": {
    "accelerator": "GPU",
    "colab": {
      "authorship_tag": "ABX9TyPi4DVO8c3v9CAOr0NMJaNx",
      "gpuType": "T4",
      "include_colab_link": true,
      "mount_file_id": "1543CWaeoEqTPpCEYmRa7jx3W8n7f0qt-",
      "provenance": []
    },
    "kernelspec": {
      "display_name": "Python 3",
      "name": "python3"
    },
    "language_info": {
      "codemirror_mode": {
        "name": "ipython",
        "version": 3
      },
      "file_extension": ".py",
      "mimetype": "text/x-python",
      "name": "python",
      "nbconvert_exporter": "python",
      "pygments_lexer": "ipython3",
      "version": "3.11.9"
    }
  },
  "nbformat": 4,
  "nbformat_minor": 0
}
