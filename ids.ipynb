{
  "cells": [
    {
      "cell_type": "code",
      "execution_count": 20,
      "metadata": {},
      "outputs": [
        {
          "name": "stdout",
          "output_type": "stream",
          "text": [
            "Requirement already satisfied: seaborn==0.13.2 in c:\\users\\reza\\anaconda3\\envs\\tmp\\lib\\site-packages (from -r requirements.txt (line 1)) (0.13.2)\n",
            "Collecting scikeras==0.13.0 (from -r requirements.txt (line 2))\n",
            "  Obtaining dependency information for scikeras==0.13.0 from https://files.pythonhosted.org/packages/ea/09/1c02aa24daf7a003c06f629fbb69dc9ae1bda1b247d7b8981e550d752ac9/scikeras-0.13.0-py3-none-any.whl.metadata\n",
            "  Using cached scikeras-0.13.0-py3-none-any.whl.metadata (3.1 kB)\n",
            "Collecting numpy==1.26.4 (from -r requirements.txt (line 3))\n",
            "  Obtaining dependency information for numpy==1.26.4 from https://files.pythonhosted.org/packages/3f/6b/5610004206cf7f8e7ad91c5a85a8c71b2f2f8051a0c0c4d5916b76d6cbb2/numpy-1.26.4-cp311-cp311-win_amd64.whl.metadata\n",
            "  Using cached numpy-1.26.4-cp311-cp311-win_amd64.whl.metadata (61 kB)\n",
            "Requirement already satisfied: scikit-learn==1.4.2 in c:\\users\\reza\\anaconda3\\envs\\tmp\\lib\\site-packages (from -r requirements.txt (line 4)) (1.4.2)\n",
            "Collecting tensorflow==2.15.0 (from -r requirements.txt (line 5))\n",
            "  Obtaining dependency information for tensorflow==2.15.0 from https://files.pythonhosted.org/packages/93/21/9b035a4f823d6aee2917c75415be9a95861ff3d73a0a65e48edbf210cec1/tensorflow-2.15.0-cp311-cp311-win_amd64.whl.metadata\n",
            "  Using cached tensorflow-2.15.0-cp311-cp311-win_amd64.whl.metadata (3.6 kB)\n",
            "Requirement already satisfied: keras==3.2.1 in c:\\users\\reza\\anaconda3\\envs\\tmp\\lib\\site-packages (from -r requirements.txt (line 6)) (3.2.1)\n",
            "Requirement already satisfied: pandas>=1.2 in c:\\users\\reza\\anaconda3\\envs\\tmp\\lib\\site-packages (from seaborn==0.13.2->-r requirements.txt (line 1)) (2.1.0)\n",
            "Requirement already satisfied: matplotlib!=3.6.1,>=3.4 in c:\\users\\reza\\anaconda3\\envs\\tmp\\lib\\site-packages (from seaborn==0.13.2->-r requirements.txt (line 1)) (3.8.4)\n",
            "Requirement already satisfied: scipy>=1.6.0 in c:\\users\\reza\\anaconda3\\envs\\tmp\\lib\\site-packages (from scikit-learn==1.4.2->-r requirements.txt (line 4)) (1.13.0)\n",
            "Requirement already satisfied: joblib>=1.2.0 in c:\\users\\reza\\anaconda3\\envs\\tmp\\lib\\site-packages (from scikit-learn==1.4.2->-r requirements.txt (line 4)) (1.4.0)\n",
            "Requirement already satisfied: threadpoolctl>=2.0.0 in c:\\users\\reza\\anaconda3\\envs\\tmp\\lib\\site-packages (from scikit-learn==1.4.2->-r requirements.txt (line 4)) (3.4.0)\n",
            "Collecting tensorflow-intel==2.15.0 (from tensorflow==2.15.0->-r requirements.txt (line 5))\n",
            "  Obtaining dependency information for tensorflow-intel==2.15.0 from https://files.pythonhosted.org/packages/4c/48/1a5a15517f18eaa4ff8d598b1c000300b20c1bb0e624539d702117a0c369/tensorflow_intel-2.15.0-cp311-cp311-win_amd64.whl.metadata\n",
            "  Using cached tensorflow_intel-2.15.0-cp311-cp311-win_amd64.whl.metadata (5.1 kB)\n",
            "Requirement already satisfied: absl-py in c:\\users\\reza\\anaconda3\\envs\\tmp\\lib\\site-packages (from keras==3.2.1->-r requirements.txt (line 6)) (2.1.0)\n",
            "Requirement already satisfied: rich in c:\\users\\reza\\anaconda3\\envs\\tmp\\lib\\site-packages (from keras==3.2.1->-r requirements.txt (line 6)) (13.7.1)\n",
            "Requirement already satisfied: namex in c:\\users\\reza\\anaconda3\\envs\\tmp\\lib\\site-packages (from keras==3.2.1->-r requirements.txt (line 6)) (0.0.8)\n",
            "Requirement already satisfied: h5py in c:\\users\\reza\\anaconda3\\envs\\tmp\\lib\\site-packages (from keras==3.2.1->-r requirements.txt (line 6)) (3.11.0)\n",
            "Requirement already satisfied: optree in c:\\users\\reza\\anaconda3\\envs\\tmp\\lib\\site-packages (from keras==3.2.1->-r requirements.txt (line 6)) (0.11.0)\n",
            "Requirement already satisfied: ml-dtypes in c:\\users\\reza\\anaconda3\\envs\\tmp\\lib\\site-packages (from keras==3.2.1->-r requirements.txt (line 6)) (0.3.2)\n",
            "Requirement already satisfied: astunparse>=1.6.0 in c:\\users\\reza\\anaconda3\\envs\\tmp\\lib\\site-packages (from tensorflow-intel==2.15.0->tensorflow==2.15.0->-r requirements.txt (line 5)) (1.6.3)\n",
            "Requirement already satisfied: flatbuffers>=23.5.26 in c:\\users\\reza\\anaconda3\\envs\\tmp\\lib\\site-packages (from tensorflow-intel==2.15.0->tensorflow==2.15.0->-r requirements.txt (line 5)) (24.3.25)\n",
            "Requirement already satisfied: gast!=0.5.0,!=0.5.1,!=0.5.2,>=0.2.1 in c:\\users\\reza\\anaconda3\\envs\\tmp\\lib\\site-packages (from tensorflow-intel==2.15.0->tensorflow==2.15.0->-r requirements.txt (line 5)) (0.5.4)\n",
            "Requirement already satisfied: google-pasta>=0.1.1 in c:\\users\\reza\\anaconda3\\envs\\tmp\\lib\\site-packages (from tensorflow-intel==2.15.0->tensorflow==2.15.0->-r requirements.txt (line 5)) (0.2.0)\n",
            "Requirement already satisfied: libclang>=13.0.0 in c:\\users\\reza\\anaconda3\\envs\\tmp\\lib\\site-packages (from tensorflow-intel==2.15.0->tensorflow==2.15.0->-r requirements.txt (line 5)) (18.1.1)\n",
            "Collecting ml-dtypes (from keras==3.2.1->-r requirements.txt (line 6))\n",
            "  Obtaining dependency information for ml-dtypes from https://files.pythonhosted.org/packages/08/89/c727fde1a3d12586e0b8c01abf53754707d76beaa9987640e70807d4545f/ml_dtypes-0.2.0-cp311-cp311-win_amd64.whl.metadata\n",
            "  Using cached ml_dtypes-0.2.0-cp311-cp311-win_amd64.whl.metadata (20 kB)\n",
            "Requirement already satisfied: opt-einsum>=2.3.2 in c:\\users\\reza\\anaconda3\\envs\\tmp\\lib\\site-packages (from tensorflow-intel==2.15.0->tensorflow==2.15.0->-r requirements.txt (line 5)) (3.3.0)\n",
            "Requirement already satisfied: packaging in c:\\users\\reza\\anaconda3\\envs\\tmp\\lib\\site-packages (from tensorflow-intel==2.15.0->tensorflow==2.15.0->-r requirements.txt (line 5)) (24.0)\n",
            "Requirement already satisfied: protobuf!=4.21.0,!=4.21.1,!=4.21.2,!=4.21.3,!=4.21.4,!=4.21.5,<5.0.0dev,>=3.20.3 in c:\\users\\reza\\anaconda3\\envs\\tmp\\lib\\site-packages (from tensorflow-intel==2.15.0->tensorflow==2.15.0->-r requirements.txt (line 5)) (4.25.3)\n",
            "Requirement already satisfied: setuptools in c:\\users\\reza\\anaconda3\\envs\\tmp\\lib\\site-packages (from tensorflow-intel==2.15.0->tensorflow==2.15.0->-r requirements.txt (line 5)) (68.0.0)\n",
            "Requirement already satisfied: six>=1.12.0 in c:\\users\\reza\\anaconda3\\envs\\tmp\\lib\\site-packages (from tensorflow-intel==2.15.0->tensorflow==2.15.0->-r requirements.txt (line 5)) (1.16.0)\n",
            "Requirement already satisfied: termcolor>=1.1.0 in c:\\users\\reza\\anaconda3\\envs\\tmp\\lib\\site-packages (from tensorflow-intel==2.15.0->tensorflow==2.15.0->-r requirements.txt (line 5)) (2.4.0)\n",
            "Requirement already satisfied: typing-extensions>=3.6.6 in c:\\users\\reza\\anaconda3\\envs\\tmp\\lib\\site-packages (from tensorflow-intel==2.15.0->tensorflow==2.15.0->-r requirements.txt (line 5)) (4.11.0)\n",
            "Collecting wrapt<1.15,>=1.11.0 (from tensorflow-intel==2.15.0->tensorflow==2.15.0->-r requirements.txt (line 5))\n",
            "  Obtaining dependency information for wrapt<1.15,>=1.11.0 from https://files.pythonhosted.org/packages/ba/7e/14113996bc6ee68eb987773b4139c87afd3ceff60e27e37648aa5eb2798a/wrapt-1.14.1-cp311-cp311-win_amd64.whl.metadata\n",
            "  Using cached wrapt-1.14.1-cp311-cp311-win_amd64.whl.metadata (6.9 kB)\n",
            "Requirement already satisfied: tensorflow-io-gcs-filesystem>=0.23.1 in c:\\users\\reza\\anaconda3\\envs\\tmp\\lib\\site-packages (from tensorflow-intel==2.15.0->tensorflow==2.15.0->-r requirements.txt (line 5)) (0.31.0)\n",
            "Requirement already satisfied: grpcio<2.0,>=1.24.3 in c:\\users\\reza\\anaconda3\\envs\\tmp\\lib\\site-packages (from tensorflow-intel==2.15.0->tensorflow==2.15.0->-r requirements.txt (line 5)) (1.62.2)\n",
            "Collecting tensorboard<2.16,>=2.15 (from tensorflow-intel==2.15.0->tensorflow==2.15.0->-r requirements.txt (line 5))\n",
            "  Obtaining dependency information for tensorboard<2.16,>=2.15 from https://files.pythonhosted.org/packages/37/12/f6e9b9dcc310263cbd3948274e286538bd6800fd0c268850788f14a0c6d0/tensorboard-2.15.2-py3-none-any.whl.metadata\n",
            "  Using cached tensorboard-2.15.2-py3-none-any.whl.metadata (1.7 kB)\n",
            "Collecting tensorflow-estimator<2.16,>=2.15.0 (from tensorflow-intel==2.15.0->tensorflow==2.15.0->-r requirements.txt (line 5))\n",
            "  Obtaining dependency information for tensorflow-estimator<2.16,>=2.15.0 from https://files.pythonhosted.org/packages/b6/c8/2f823c8958d5342eafc6dd3e922f0cc4fcf8c2e0460284cc462dae3b60a0/tensorflow_estimator-2.15.0-py2.py3-none-any.whl.metadata\n",
            "  Using cached tensorflow_estimator-2.15.0-py2.py3-none-any.whl.metadata (1.3 kB)\n",
            "INFO: pip is looking at multiple versions of tensorflow-intel to determine which version is compatible with other requirements. This could take a while.\n",
            "\n",
            "The conflict is caused by:\n",
            "    The user requested keras==3.2.1\n",
            "    scikeras 0.13.0 depends on keras>=3.2.0\n",
            "    tensorflow-intel 2.15.0 depends on keras<2.16 and >=2.15.0\n",
            "\n",
            "To fix this you could try to:\n",
            "1. loosen the range of package versions you've specified\n",
            "2. remove package versions to allow pip attempt to solve the dependency conflict\n",
            "\n"
          ]
        },
        {
          "name": "stderr",
          "output_type": "stream",
          "text": [
            "ERROR: Cannot install -r requirements.txt (line 2), keras==3.2.1 and tensorflow because these package versions have conflicting dependencies.\n",
            "ERROR: ResolutionImpossible: for help visit https://pip.pypa.io/en/latest/topics/dependency-resolution/#dealing-with-dependency-conflicts\n"
          ]
        }
      ],
      "source": [
        "! pip install -r requirements.txt"
      ]
    },
    {
      "cell_type": "code",
      "execution_count": 124,
      "metadata": {
        "id": "fwyp5k2rj6qn"
      },
      "outputs": [],
      "source": [
        "import os\n",
        "import pandas as pd\n",
        "import numpy as np\n",
        "import matplotlib.pyplot as plt\n",
        "import seaborn as sns\n",
        "import time\n",
        "\n",
        "def dataset(file_name:str = '', dataset:str = 'kdd'):\n",
        "  return f'dataset/{dataset}/{file_name}'"
      ]
    },
    {
      "cell_type": "code",
      "execution_count": 125,
      "metadata": {
        "colab": {
          "base_uri": "https://localhost:8080/"
        },
        "id": "J43vI1YZYMWN",
        "outputId": "b267a6ee-80be-4cbd-8d91-a121b86e76f9"
      },
      "outputs": [
        {
          "name": "stdout",
          "output_type": "stream",
          "text": [
            "['corrected.gz', 'kddcup.data.gz', 'kddcup.data_10_percent.gz', 'kddcup.names', 'kddcup.newtestdata_10_percent_unlabeled.gz', 'kddcup.testdata.unlabeled.gz', 'kddcup.testdata.unlabeled_10_percent.gz', 'training_attack_types', 'typo-correction.txt']\n"
          ]
        }
      ],
      "source": [
        "import os\n",
        "\n",
        "print(os.listdir(dataset()))"
      ]
    },
    {
      "cell_type": "code",
      "execution_count": 126,
      "metadata": {
        "colab": {
          "base_uri": "https://localhost:8080/"
        },
        "id": "H_eGgspgZKeB",
        "outputId": "08f19a04-fd9a-4467-8413-fdc29dadf426"
      },
      "outputs": [
        {
          "data": {
            "text/plain": [
              "(42,\n",
              " ['duration',\n",
              "  'protocol_type',\n",
              "  'service',\n",
              "  'flag',\n",
              "  'src_bytes',\n",
              "  'dst_bytes',\n",
              "  'land',\n",
              "  'wrong_fragment',\n",
              "  'urgent',\n",
              "  'hot',\n",
              "  'num_failed_logins',\n",
              "  'logged_in',\n",
              "  'num_compromised',\n",
              "  'root_shell',\n",
              "  'su_attempted',\n",
              "  'num_root',\n",
              "  'num_file_creations',\n",
              "  'num_shells',\n",
              "  'num_access_files',\n",
              "  'num_outbound_cmds',\n",
              "  'is_host_login',\n",
              "  'is_guest_login',\n",
              "  'count',\n",
              "  'srv_count',\n",
              "  'serror_rate',\n",
              "  'srv_serror_rate',\n",
              "  'rerror_rate',\n",
              "  'srv_rerror_rate',\n",
              "  'same_srv_rate',\n",
              "  'diff_srv_rate',\n",
              "  'srv_diff_host_rate',\n",
              "  'dst_host_count',\n",
              "  'dst_host_srv_count',\n",
              "  'dst_host_same_srv_rate',\n",
              "  'dst_host_diff_srv_rate',\n",
              "  'dst_host_same_src_port_rate',\n",
              "  'dst_host_srv_diff_host_rate',\n",
              "  'dst_host_serror_rate',\n",
              "  'dst_host_srv_serror_rate',\n",
              "  'dst_host_rerror_rate',\n",
              "  'dst_host_srv_rerror_rate',\n",
              "  'target'])"
            ]
          },
          "execution_count": 126,
          "metadata": {},
          "output_type": "execute_result"
        }
      ],
      "source": [
        "with open(dataset(\"kddcup.names\"),'r') as f:\n",
        "  names = f.read()\n",
        "  features = [name.split(':')[0].strip() for name in names.split('.')][1:-1] + ['target']\n",
        "\n",
        "len(features) , features"
      ]
    },
    {
      "cell_type": "code",
      "execution_count": 127,
      "metadata": {
        "colab": {
          "base_uri": "https://localhost:8080/"
        },
        "id": "U5jE3MwmfT8l",
        "outputId": "0573db1c-6a45-4b69-cbc4-6f4f6a918428"
      },
      "outputs": [
        {
          "data": {
            "text/plain": [
              "(23,\n",
              " {'normal': 'normal',\n",
              "  'back': 'dos',\n",
              "  'buffer_overflow': 'u2r',\n",
              "  'ftp_write': 'r2l',\n",
              "  'guess_passwd': 'r2l',\n",
              "  'imap': 'r2l',\n",
              "  'ipsweep': 'probe',\n",
              "  'land': 'dos',\n",
              "  'loadmodule': 'u2r',\n",
              "  'multihop': 'r2l',\n",
              "  'neptune': 'dos',\n",
              "  'nmap': 'probe',\n",
              "  'perl': 'u2r',\n",
              "  'phf': 'r2l',\n",
              "  'pod': 'dos',\n",
              "  'portsweep': 'probe',\n",
              "  'rootkit': 'u2r',\n",
              "  'satan': 'probe',\n",
              "  'smurf': 'dos',\n",
              "  'spy': 'r2l',\n",
              "  'teardrop': 'dos',\n",
              "  'warezclient': 'r2l',\n",
              "  'warezmaster': 'r2l'})"
            ]
          },
          "execution_count": 127,
          "metadata": {},
          "output_type": "execute_result"
        }
      ],
      "source": [
        "attack_types = {'normal': 'normal'}\n",
        "with open(dataset(\"training_attack_types\"),'r') as f:\n",
        "  types = f.read()\n",
        "  attack_types.update({t.split(' ')[0]: t.split(' ')[1] for t in types.split('\\n')[:-2]})\n",
        "len(attack_types), attack_types"
      ]
    },
    {
      "cell_type": "markdown",
      "metadata": {},
      "source": [
        "## KDD"
      ]
    },
    {
      "cell_type": "code",
      "execution_count": 108,
      "metadata": {
        "colab": {
          "base_uri": "https://localhost:8080/",
          "height": 273
        },
        "id": "VqUsOxV3immF",
        "outputId": "b94eb5f2-d9fa-4e78-ee88-626af04155d2"
      },
      "outputs": [
        {
          "data": {
            "text/html": [
              "<div>\n",
              "<style scoped>\n",
              "    .dataframe tbody tr th:only-of-type {\n",
              "        vertical-align: middle;\n",
              "    }\n",
              "\n",
              "    .dataframe tbody tr th {\n",
              "        vertical-align: top;\n",
              "    }\n",
              "\n",
              "    .dataframe thead th {\n",
              "        text-align: right;\n",
              "    }\n",
              "</style>\n",
              "<table border=\"1\" class=\"dataframe\">\n",
              "  <thead>\n",
              "    <tr style=\"text-align: right;\">\n",
              "      <th></th>\n",
              "      <th>duration</th>\n",
              "      <th>protocol_type</th>\n",
              "      <th>service</th>\n",
              "      <th>flag</th>\n",
              "      <th>src_bytes</th>\n",
              "      <th>dst_bytes</th>\n",
              "      <th>land</th>\n",
              "      <th>wrong_fragment</th>\n",
              "      <th>urgent</th>\n",
              "      <th>hot</th>\n",
              "      <th>...</th>\n",
              "      <th>dst_host_diff_srv_rate</th>\n",
              "      <th>dst_host_same_src_port_rate</th>\n",
              "      <th>dst_host_srv_diff_host_rate</th>\n",
              "      <th>dst_host_serror_rate</th>\n",
              "      <th>dst_host_srv_serror_rate</th>\n",
              "      <th>dst_host_rerror_rate</th>\n",
              "      <th>dst_host_srv_rerror_rate</th>\n",
              "      <th>target</th>\n",
              "      <th>benign</th>\n",
              "      <th>Attack Type</th>\n",
              "    </tr>\n",
              "  </thead>\n",
              "  <tbody>\n",
              "    <tr>\n",
              "      <th>0</th>\n",
              "      <td>0</td>\n",
              "      <td>tcp</td>\n",
              "      <td>http</td>\n",
              "      <td>SF</td>\n",
              "      <td>215</td>\n",
              "      <td>45076</td>\n",
              "      <td>0</td>\n",
              "      <td>0</td>\n",
              "      <td>0</td>\n",
              "      <td>0</td>\n",
              "      <td>...</td>\n",
              "      <td>0.0</td>\n",
              "      <td>0.00</td>\n",
              "      <td>0.0</td>\n",
              "      <td>0.0</td>\n",
              "      <td>0.0</td>\n",
              "      <td>0.0</td>\n",
              "      <td>0.0</td>\n",
              "      <td>normal.</td>\n",
              "      <td>0</td>\n",
              "      <td>normal</td>\n",
              "    </tr>\n",
              "    <tr>\n",
              "      <th>1</th>\n",
              "      <td>0</td>\n",
              "      <td>tcp</td>\n",
              "      <td>http</td>\n",
              "      <td>SF</td>\n",
              "      <td>162</td>\n",
              "      <td>4528</td>\n",
              "      <td>0</td>\n",
              "      <td>0</td>\n",
              "      <td>0</td>\n",
              "      <td>0</td>\n",
              "      <td>...</td>\n",
              "      <td>0.0</td>\n",
              "      <td>1.00</td>\n",
              "      <td>0.0</td>\n",
              "      <td>0.0</td>\n",
              "      <td>0.0</td>\n",
              "      <td>0.0</td>\n",
              "      <td>0.0</td>\n",
              "      <td>normal.</td>\n",
              "      <td>0</td>\n",
              "      <td>normal</td>\n",
              "    </tr>\n",
              "    <tr>\n",
              "      <th>2</th>\n",
              "      <td>0</td>\n",
              "      <td>tcp</td>\n",
              "      <td>http</td>\n",
              "      <td>SF</td>\n",
              "      <td>236</td>\n",
              "      <td>1228</td>\n",
              "      <td>0</td>\n",
              "      <td>0</td>\n",
              "      <td>0</td>\n",
              "      <td>0</td>\n",
              "      <td>...</td>\n",
              "      <td>0.0</td>\n",
              "      <td>0.50</td>\n",
              "      <td>0.0</td>\n",
              "      <td>0.0</td>\n",
              "      <td>0.0</td>\n",
              "      <td>0.0</td>\n",
              "      <td>0.0</td>\n",
              "      <td>normal.</td>\n",
              "      <td>0</td>\n",
              "      <td>normal</td>\n",
              "    </tr>\n",
              "    <tr>\n",
              "      <th>3</th>\n",
              "      <td>0</td>\n",
              "      <td>tcp</td>\n",
              "      <td>http</td>\n",
              "      <td>SF</td>\n",
              "      <td>233</td>\n",
              "      <td>2032</td>\n",
              "      <td>0</td>\n",
              "      <td>0</td>\n",
              "      <td>0</td>\n",
              "      <td>0</td>\n",
              "      <td>...</td>\n",
              "      <td>0.0</td>\n",
              "      <td>0.33</td>\n",
              "      <td>0.0</td>\n",
              "      <td>0.0</td>\n",
              "      <td>0.0</td>\n",
              "      <td>0.0</td>\n",
              "      <td>0.0</td>\n",
              "      <td>normal.</td>\n",
              "      <td>0</td>\n",
              "      <td>normal</td>\n",
              "    </tr>\n",
              "    <tr>\n",
              "      <th>4</th>\n",
              "      <td>0</td>\n",
              "      <td>tcp</td>\n",
              "      <td>http</td>\n",
              "      <td>SF</td>\n",
              "      <td>239</td>\n",
              "      <td>486</td>\n",
              "      <td>0</td>\n",
              "      <td>0</td>\n",
              "      <td>0</td>\n",
              "      <td>0</td>\n",
              "      <td>...</td>\n",
              "      <td>0.0</td>\n",
              "      <td>0.25</td>\n",
              "      <td>0.0</td>\n",
              "      <td>0.0</td>\n",
              "      <td>0.0</td>\n",
              "      <td>0.0</td>\n",
              "      <td>0.0</td>\n",
              "      <td>normal.</td>\n",
              "      <td>0</td>\n",
              "      <td>normal</td>\n",
              "    </tr>\n",
              "  </tbody>\n",
              "</table>\n",
              "<p>5 rows × 44 columns</p>\n",
              "</div>"
            ],
            "text/plain": [
              "   duration protocol_type service flag  src_bytes  dst_bytes  land  \\\n",
              "0         0           tcp    http   SF        215      45076     0   \n",
              "1         0           tcp    http   SF        162       4528     0   \n",
              "2         0           tcp    http   SF        236       1228     0   \n",
              "3         0           tcp    http   SF        233       2032     0   \n",
              "4         0           tcp    http   SF        239        486     0   \n",
              "\n",
              "   wrong_fragment  urgent  hot  ...  dst_host_diff_srv_rate  \\\n",
              "0               0       0    0  ...                     0.0   \n",
              "1               0       0    0  ...                     0.0   \n",
              "2               0       0    0  ...                     0.0   \n",
              "3               0       0    0  ...                     0.0   \n",
              "4               0       0    0  ...                     0.0   \n",
              "\n",
              "   dst_host_same_src_port_rate  dst_host_srv_diff_host_rate  \\\n",
              "0                         0.00                          0.0   \n",
              "1                         1.00                          0.0   \n",
              "2                         0.50                          0.0   \n",
              "3                         0.33                          0.0   \n",
              "4                         0.25                          0.0   \n",
              "\n",
              "   dst_host_serror_rate  dst_host_srv_serror_rate  dst_host_rerror_rate  \\\n",
              "0                   0.0                       0.0                   0.0   \n",
              "1                   0.0                       0.0                   0.0   \n",
              "2                   0.0                       0.0                   0.0   \n",
              "3                   0.0                       0.0                   0.0   \n",
              "4                   0.0                       0.0                   0.0   \n",
              "\n",
              "   dst_host_srv_rerror_rate   target  benign  Attack Type  \n",
              "0                       0.0  normal.       0       normal  \n",
              "1                       0.0  normal.       0       normal  \n",
              "2                       0.0  normal.       0       normal  \n",
              "3                       0.0  normal.       0       normal  \n",
              "4                       0.0  normal.       0       normal  \n",
              "\n",
              "[5 rows x 44 columns]"
            ]
          },
          "execution_count": 108,
          "metadata": {},
          "output_type": "execute_result"
        }
      ],
      "source": [
        "import pandas as pd\n",
        "\n",
        "df = pd.read_csv(dataset('kddcup.data.gz'),names=features)\n",
        "\n",
        "df['benign'] = df.target.apply(lambda r: 0 if (r[:-1]=='normal') else 1)\n",
        "df['Attack Type'] = df.target.apply(lambda r:attack_types[r[:-1]])\n",
        "df.head()"
      ]
    },
    {
      "cell_type": "markdown",
      "metadata": {},
      "source": [
        "## NSL"
      ]
    },
    {
      "cell_type": "code",
      "execution_count": 128,
      "metadata": {},
      "outputs": [
        {
          "data": {
            "text/html": [
              "<div>\n",
              "<style scoped>\n",
              "    .dataframe tbody tr th:only-of-type {\n",
              "        vertical-align: middle;\n",
              "    }\n",
              "\n",
              "    .dataframe tbody tr th {\n",
              "        vertical-align: top;\n",
              "    }\n",
              "\n",
              "    .dataframe thead th {\n",
              "        text-align: right;\n",
              "    }\n",
              "</style>\n",
              "<table border=\"1\" class=\"dataframe\">\n",
              "  <thead>\n",
              "    <tr style=\"text-align: right;\">\n",
              "      <th></th>\n",
              "      <th>duration</th>\n",
              "      <th>protocol_type</th>\n",
              "      <th>service</th>\n",
              "      <th>flag</th>\n",
              "      <th>src_bytes</th>\n",
              "      <th>dst_bytes</th>\n",
              "      <th>land</th>\n",
              "      <th>wrong_fragment</th>\n",
              "      <th>urgent</th>\n",
              "      <th>hot</th>\n",
              "      <th>...</th>\n",
              "      <th>dst_host_diff_srv_rate</th>\n",
              "      <th>dst_host_same_src_port_rate</th>\n",
              "      <th>dst_host_srv_diff_host_rate</th>\n",
              "      <th>dst_host_serror_rate</th>\n",
              "      <th>dst_host_srv_serror_rate</th>\n",
              "      <th>dst_host_rerror_rate</th>\n",
              "      <th>dst_host_srv_rerror_rate</th>\n",
              "      <th>target</th>\n",
              "      <th>benign</th>\n",
              "      <th>Attack Type</th>\n",
              "    </tr>\n",
              "  </thead>\n",
              "  <tbody>\n",
              "    <tr>\n",
              "      <th>0</th>\n",
              "      <td>0</td>\n",
              "      <td>tcp</td>\n",
              "      <td>ftp_data</td>\n",
              "      <td>SF</td>\n",
              "      <td>491</td>\n",
              "      <td>0</td>\n",
              "      <td>0</td>\n",
              "      <td>0</td>\n",
              "      <td>0</td>\n",
              "      <td>0</td>\n",
              "      <td>...</td>\n",
              "      <td>0.03</td>\n",
              "      <td>0.17</td>\n",
              "      <td>0.00</td>\n",
              "      <td>0.00</td>\n",
              "      <td>0.00</td>\n",
              "      <td>0.05</td>\n",
              "      <td>0.00</td>\n",
              "      <td>normal</td>\n",
              "      <td>0</td>\n",
              "      <td>normal</td>\n",
              "    </tr>\n",
              "    <tr>\n",
              "      <th>1</th>\n",
              "      <td>0</td>\n",
              "      <td>udp</td>\n",
              "      <td>other</td>\n",
              "      <td>SF</td>\n",
              "      <td>146</td>\n",
              "      <td>0</td>\n",
              "      <td>0</td>\n",
              "      <td>0</td>\n",
              "      <td>0</td>\n",
              "      <td>0</td>\n",
              "      <td>...</td>\n",
              "      <td>0.60</td>\n",
              "      <td>0.88</td>\n",
              "      <td>0.00</td>\n",
              "      <td>0.00</td>\n",
              "      <td>0.00</td>\n",
              "      <td>0.00</td>\n",
              "      <td>0.00</td>\n",
              "      <td>normal</td>\n",
              "      <td>0</td>\n",
              "      <td>normal</td>\n",
              "    </tr>\n",
              "    <tr>\n",
              "      <th>2</th>\n",
              "      <td>0</td>\n",
              "      <td>tcp</td>\n",
              "      <td>private</td>\n",
              "      <td>S0</td>\n",
              "      <td>0</td>\n",
              "      <td>0</td>\n",
              "      <td>0</td>\n",
              "      <td>0</td>\n",
              "      <td>0</td>\n",
              "      <td>0</td>\n",
              "      <td>...</td>\n",
              "      <td>0.05</td>\n",
              "      <td>0.00</td>\n",
              "      <td>0.00</td>\n",
              "      <td>1.00</td>\n",
              "      <td>1.00</td>\n",
              "      <td>0.00</td>\n",
              "      <td>0.00</td>\n",
              "      <td>neptune</td>\n",
              "      <td>1</td>\n",
              "      <td>dos</td>\n",
              "    </tr>\n",
              "    <tr>\n",
              "      <th>3</th>\n",
              "      <td>0</td>\n",
              "      <td>tcp</td>\n",
              "      <td>http</td>\n",
              "      <td>SF</td>\n",
              "      <td>232</td>\n",
              "      <td>8153</td>\n",
              "      <td>0</td>\n",
              "      <td>0</td>\n",
              "      <td>0</td>\n",
              "      <td>0</td>\n",
              "      <td>...</td>\n",
              "      <td>0.00</td>\n",
              "      <td>0.03</td>\n",
              "      <td>0.04</td>\n",
              "      <td>0.03</td>\n",
              "      <td>0.01</td>\n",
              "      <td>0.00</td>\n",
              "      <td>0.01</td>\n",
              "      <td>normal</td>\n",
              "      <td>0</td>\n",
              "      <td>normal</td>\n",
              "    </tr>\n",
              "    <tr>\n",
              "      <th>4</th>\n",
              "      <td>0</td>\n",
              "      <td>tcp</td>\n",
              "      <td>http</td>\n",
              "      <td>SF</td>\n",
              "      <td>199</td>\n",
              "      <td>420</td>\n",
              "      <td>0</td>\n",
              "      <td>0</td>\n",
              "      <td>0</td>\n",
              "      <td>0</td>\n",
              "      <td>...</td>\n",
              "      <td>0.00</td>\n",
              "      <td>0.00</td>\n",
              "      <td>0.00</td>\n",
              "      <td>0.00</td>\n",
              "      <td>0.00</td>\n",
              "      <td>0.00</td>\n",
              "      <td>0.00</td>\n",
              "      <td>normal</td>\n",
              "      <td>0</td>\n",
              "      <td>normal</td>\n",
              "    </tr>\n",
              "  </tbody>\n",
              "</table>\n",
              "<p>5 rows × 44 columns</p>\n",
              "</div>"
            ],
            "text/plain": [
              "   duration protocol_type   service flag  src_bytes  dst_bytes  land  \\\n",
              "0         0           tcp  ftp_data   SF        491          0     0   \n",
              "1         0           udp     other   SF        146          0     0   \n",
              "2         0           tcp   private   S0          0          0     0   \n",
              "3         0           tcp      http   SF        232       8153     0   \n",
              "4         0           tcp      http   SF        199        420     0   \n",
              "\n",
              "   wrong_fragment  urgent  hot  ...  dst_host_diff_srv_rate  \\\n",
              "0               0       0    0  ...                    0.03   \n",
              "1               0       0    0  ...                    0.60   \n",
              "2               0       0    0  ...                    0.05   \n",
              "3               0       0    0  ...                    0.00   \n",
              "4               0       0    0  ...                    0.00   \n",
              "\n",
              "   dst_host_same_src_port_rate  dst_host_srv_diff_host_rate  \\\n",
              "0                         0.17                         0.00   \n",
              "1                         0.88                         0.00   \n",
              "2                         0.00                         0.00   \n",
              "3                         0.03                         0.04   \n",
              "4                         0.00                         0.00   \n",
              "\n",
              "   dst_host_serror_rate  dst_host_srv_serror_rate  dst_host_rerror_rate  \\\n",
              "0                  0.00                      0.00                  0.05   \n",
              "1                  0.00                      0.00                  0.00   \n",
              "2                  1.00                      1.00                  0.00   \n",
              "3                  0.03                      0.01                  0.00   \n",
              "4                  0.00                      0.00                  0.00   \n",
              "\n",
              "   dst_host_srv_rerror_rate   target  benign  Attack Type  \n",
              "0                      0.00   normal       0       normal  \n",
              "1                      0.00   normal       0       normal  \n",
              "2                      0.00  neptune       1          dos  \n",
              "3                      0.01   normal       0       normal  \n",
              "4                      0.00   normal       0       normal  \n",
              "\n",
              "[5 rows x 44 columns]"
            ]
          },
          "execution_count": 128,
          "metadata": {},
          "output_type": "execute_result"
        }
      ],
      "source": [
        "feature_list = ['duration', 'protocol_type' , 'service'  , 'flag' , \\\n",
        "                'src_bytes', 'dst_bytes', 'land', 'wrong_fragment', \\\n",
        "                'urgent', 'hot', 'num_failed_logins', 'logged_in', \\\n",
        "                'num_compromised', 'root_shell', 'su_attempted', \\\n",
        "                'num_root', 'num_file_creations', 'num_shells', \\\n",
        "                'num_access_files', 'num_outbound_cmds', 'is_host_login', \\\n",
        "                'is_guest_login', 'count', 'srv_count', 'serror_rate', \\\n",
        "                'srv_serror_rate', 'rerror_rate', 'srv_rerror_rate', \\\n",
        "                'same_srv_rate', 'diff_srv_rate', 'srv_diff_host_rate', \\\n",
        "                'dst_host_count', 'dst_host_srv_count', 'dst_host_same_srv_rate', \\\n",
        "                'dst_host_diff_srv_rate', 'dst_host_same_src_port_rate', \\\n",
        "                'dst_host_srv_diff_host_rate', 'dst_host_serror_rate', \\\n",
        "                'dst_host_srv_serror_rate', 'dst_host_rerror_rate', \\\n",
        "                'dst_host_srv_rerror_rate', 'class', 'difficulty']\n",
        "\n",
        "\n",
        "df = pd.read_csv(dataset('KDDTrain+.txt', 'nsl'), names=feature_list, index_col=False)\n",
        "\n",
        "\n",
        "df.rename(columns={'class': 'target'}, inplace=True)  # by name\n",
        "df['benign'] = df.target.apply(lambda r: 0 if (r=='normal') else 1)\n",
        "df['Attack Type'] = df.target.apply(lambda r:attack_types[r])\n",
        "df = df.drop(columns=['difficulty'])\n",
        "df.head()"
      ]
    },
    {
      "cell_type": "markdown",
      "metadata": {},
      "source": [
        "# Visualize Dataset"
      ]
    },
    {
      "cell_type": "code",
      "execution_count": 25,
      "metadata": {
        "id": "iDqUohdtjz49"
      },
      "outputs": [],
      "source": [
        "def bar_graph(feature):\n",
        "    df[feature].value_counts().plot(kind=\"bar\")"
      ]
    },
    {
      "cell_type": "code",
      "execution_count": 29,
      "metadata": {},
      "outputs": [
        {
          "data": {
            "text/plain": [
              "(4898431, 44)"
            ]
          },
          "execution_count": 29,
          "metadata": {},
          "output_type": "execute_result"
        }
      ],
      "source": [
        "df.shape"
      ]
    },
    {
      "cell_type": "code",
      "execution_count": 30,
      "metadata": {
        "colab": {
          "base_uri": "https://localhost:8080/",
          "height": 945
        },
        "id": "FoTYbYrQjTJM",
        "outputId": "273265f7-c547-4c53-b80f-f4987b217803"
      },
      "outputs": [
        {
          "name": "stdout",
          "output_type": "stream",
          "text": [
            "target\n",
            "smurf.              2807886\n",
            "neptune.            1072017\n",
            "normal.              972781\n",
            "satan.                15892\n",
            "ipsweep.              12481\n",
            "portsweep.            10413\n",
            "nmap.                  2316\n",
            "back.                  2203\n",
            "warezclient.           1020\n",
            "teardrop.               979\n",
            "pod.                    264\n",
            "guess_passwd.            53\n",
            "buffer_overflow.         30\n",
            "land.                    21\n",
            "warezmaster.             20\n",
            "imap.                    12\n",
            "rootkit.                 10\n",
            "loadmodule.               9\n",
            "ftp_write.                8\n",
            "multihop.                 7\n",
            "phf.                      4\n",
            "perl.                     3\n",
            "spy.                      2\n",
            "Name: count, dtype: int64\n"
          ]
        },
        {
          "data": {
            "image/png": "[encoded data removed]",
            "text/plain": [
              "<Figure size 640x480 with 1 Axes>"
            ]
          },
          "metadata": {},
          "output_type": "display_data"
        }
      ],
      "source": [
        "print(df['target'].value_counts())\n",
        "bar_graph('target')"
      ]
    },
    {
      "cell_type": "code",
      "execution_count": 17,
      "metadata": {
        "colab": {
          "base_uri": "https://localhost:8080/",
          "height": 569
        },
        "id": "oYnM05nTjag2",
        "outputId": "2456d268-7e97-40c1-db46-545b51d65ffe"
      },
      "outputs": [
        {
          "name": "stdout",
          "output_type": "stream",
          "text": [
            "Attack Type\n",
            "dos       3883370\n",
            "normal     972781\n",
            "probe       41102\n",
            "r2l          1126\n",
            "u2r            52\n",
            "Name: count, dtype: int64\n"
          ]
        },
        {
          "data": {
            "image/png": "[encoded data removed]",
            "text/plain": [
              "<Figure size 640x480 with 1 Axes>"
            ]
          },
          "metadata": {},
          "output_type": "display_data"
        }
      ],
      "source": [
        "print(df['Attack Type'].value_counts())\n",
        "bar_graph('Attack Type')"
      ]
    },
    {
      "cell_type": "code",
      "execution_count": null,
      "metadata": {
        "colab": {
          "base_uri": "https://localhost:8080/"
        },
        "id": "myAaJ5EfjkFc",
        "outputId": "64f0415a-1f0e-4d32-f363-f95ea4afd476"
      },
      "outputs": [],
      "source": [
        "df.isnull().sum()"
      ]
    },
    {
      "cell_type": "code",
      "execution_count": null,
      "metadata": {
        "colab": {
          "base_uri": "https://localhost:8080/"
        },
        "id": "orjxVFZPjrrl",
        "outputId": "a91416fe-820e-435f-df8f-ee01e20b77ed"
      },
      "outputs": [],
      "source": [
        "num_cols = df._get_numeric_data().columns\n",
        "\n",
        "cate_cols = list(set(df.columns)-set(num_cols))\n",
        "cate_cols.remove('target')\n",
        "cate_cols.remove('Attack Type')\n",
        "\n",
        "cate_cols"
      ]
    },
    {
      "cell_type": "code",
      "execution_count": null,
      "metadata": {
        "colab": {
          "base_uri": "https://localhost:8080/",
          "height": 450
        },
        "id": "GtEWPOXVj1Y9",
        "outputId": "a7490710-19b6-4e3d-87b5-39e8a3bb69aa"
      },
      "outputs": [],
      "source": [
        "bar_graph('protocol_type')"
      ]
    },
    {
      "cell_type": "code",
      "execution_count": null,
      "metadata": {
        "colab": {
          "base_uri": "https://localhost:8080/",
          "height": 367
        },
        "id": "zU6uhs1dj24e",
        "outputId": "091beab6-5a55-4bc9-f645-4e73b41ca03e"
      },
      "outputs": [],
      "source": [
        "plt.figure(figsize=(15,3))\n",
        "bar_graph('service')"
      ]
    },
    {
      "cell_type": "code",
      "execution_count": null,
      "metadata": {
        "colab": {
          "base_uri": "https://localhost:8080/",
          "height": 471
        },
        "id": "omKR6IbxkKZH",
        "outputId": "b4a3acb7-d5c5-41a6-9865-76c5696826da"
      },
      "outputs": [],
      "source": [
        "bar_graph('flag')"
      ]
    },
    {
      "cell_type": "code",
      "execution_count": null,
      "metadata": {
        "colab": {
          "base_uri": "https://localhost:8080/",
          "height": 425
        },
        "id": "qnhNMzGGkMvG",
        "outputId": "39b43a4b-3795-4f32-c7a9-484005e18ecc"
      },
      "outputs": [],
      "source": [
        "bar_graph('logged_in')"
      ]
    },
    {
      "cell_type": "code",
      "execution_count": null,
      "metadata": {
        "colab": {
          "base_uri": "https://localhost:8080/"
        },
        "id": "T_M-mGPnmiiw",
        "outputId": "c5b0cd81-3710-4d26-9e07-e649567b4b37"
      },
      "outputs": [],
      "source": [
        "len(df.columns)"
      ]
    },
    {
      "cell_type": "markdown",
      "metadata": {},
      "source": [
        "# Data Cleaning"
      ]
    },
    {
      "cell_type": "code",
      "execution_count": 129,
      "metadata": {
        "colab": {
          "base_uri": "https://localhost:8080/"
        },
        "id": "qI64NH-Tmnq4",
        "outputId": "152b13d8-f925-428c-b8ac-30b61dbf7013"
      },
      "outputs": [],
      "source": [
        "df = df.dropna(axis='columns')# drop columns with NaN"
      ]
    },
    {
      "cell_type": "code",
      "execution_count": 130,
      "metadata": {
        "colab": {
          "base_uri": "https://localhost:8080/"
        },
        "id": "oxgFlyztm4-J",
        "outputId": "f2a846c5-6d07-4621-fb76-fe197d5acc12"
      },
      "outputs": [
        {
          "data": {
            "text/plain": [
              "{'duration': 2981,\n",
              " 'protocol_type': 3,\n",
              " 'service': 70,\n",
              " 'flag': 11,\n",
              " 'src_bytes': 3341,\n",
              " 'dst_bytes': 9326,\n",
              " 'land': 2,\n",
              " 'wrong_fragment': 3,\n",
              " 'urgent': 4,\n",
              " 'hot': 28,\n",
              " 'num_failed_logins': 6,\n",
              " 'logged_in': 2,\n",
              " 'num_compromised': 88,\n",
              " 'root_shell': 2,\n",
              " 'su_attempted': 3,\n",
              " 'num_root': 82,\n",
              " 'num_file_creations': 35,\n",
              " 'num_shells': 3,\n",
              " 'num_access_files': 10,\n",
              " 'num_outbound_cmds': 1,\n",
              " 'is_host_login': 2,\n",
              " 'is_guest_login': 2,\n",
              " 'count': 512,\n",
              " 'srv_count': 509,\n",
              " 'serror_rate': 89,\n",
              " 'srv_serror_rate': 86,\n",
              " 'rerror_rate': 82,\n",
              " 'srv_rerror_rate': 62,\n",
              " 'same_srv_rate': 101,\n",
              " 'diff_srv_rate': 95,\n",
              " 'srv_diff_host_rate': 60,\n",
              " 'dst_host_count': 256,\n",
              " 'dst_host_srv_count': 256,\n",
              " 'dst_host_same_srv_rate': 101,\n",
              " 'dst_host_diff_srv_rate': 101,\n",
              " 'dst_host_same_src_port_rate': 101,\n",
              " 'dst_host_srv_diff_host_rate': 75,\n",
              " 'dst_host_serror_rate': 101,\n",
              " 'dst_host_srv_serror_rate': 100,\n",
              " 'dst_host_rerror_rate': 101,\n",
              " 'dst_host_srv_rerror_rate': 101,\n",
              " 'target': 23,\n",
              " 'benign': 2,\n",
              " 'Attack Type': 5}"
            ]
          },
          "execution_count": 130,
          "metadata": {},
          "output_type": "execute_result"
        }
      ],
      "source": [
        "{col:df[col].nunique() for col in df}"
      ]
    },
    {
      "cell_type": "markdown",
      "metadata": {},
      "source": [
        "## KDD"
      ]
    },
    {
      "cell_type": "code",
      "execution_count": 111,
      "metadata": {},
      "outputs": [],
      "source": [
        "test_df = pd.read_csv(dataset('corrected.gz'),names=features)"
      ]
    },
    {
      "cell_type": "markdown",
      "metadata": {},
      "source": [
        "## NSL"
      ]
    },
    {
      "cell_type": "code",
      "execution_count": 131,
      "metadata": {},
      "outputs": [
        {
          "data": {
            "text/plain": [
              "(22544, 42)"
            ]
          },
          "execution_count": 131,
          "metadata": {},
          "output_type": "execute_result"
        }
      ],
      "source": [
        "test_df = pd.read_csv(dataset('KDDTest+.txt', 'nsl'), names=feature_list, index_col=False)\n",
        "\n",
        "\n",
        "test_df.rename(columns={'class': 'target'}, inplace=True)\n",
        "test_df = test_df.drop(columns=['difficulty'])\n",
        "test_df.shape"
      ]
    },
    {
      "cell_type": "markdown",
      "metadata": {},
      "source": [
        "------------------------------------"
      ]
    },
    {
      "cell_type": "code",
      "execution_count": 132,
      "metadata": {},
      "outputs": [
        {
          "name": "stdout",
          "output_type": "stream",
          "text": [
            "Number of duplicate records: 0\n"
          ]
        },
        {
          "data": {
            "text/plain": [
              "(125973, 44)"
            ]
          },
          "execution_count": 132,
          "metadata": {},
          "output_type": "execute_result"
        }
      ],
      "source": [
        "print(\"Number of duplicate records:\", df.duplicated().sum())\n",
        "df = df.drop_duplicates()\n",
        "df.shape"
      ]
    },
    {
      "cell_type": "code",
      "execution_count": 133,
      "metadata": {},
      "outputs": [
        {
          "name": "stdout",
          "output_type": "stream",
          "text": [
            "Number of duplicate records: 0\n"
          ]
        },
        {
          "data": {
            "text/plain": [
              "(22544, 42)"
            ]
          },
          "execution_count": 133,
          "metadata": {},
          "output_type": "execute_result"
        }
      ],
      "source": [
        "print(\"Number of duplicate records:\", test_df.duplicated().sum())\n",
        "test_df = test_df.drop_duplicates()\n",
        "test_df.shape"
      ]
    },
    {
      "cell_type": "code",
      "execution_count": 134,
      "metadata": {
        "id": "Z7TJP5ZNnfo6"
      },
      "outputs": [],
      "source": [
        "df = df[[col for col in df if df[col].nunique() > 1]]"
      ]
    },
    {
      "cell_type": "code",
      "execution_count": 152,
      "metadata": {
        "colab": {
          "base_uri": "https://localhost:8080/",
          "height": 273
        },
        "id": "IVIYUevq4xHX",
        "outputId": "4a6935fd-08e8-4344-d98d-312c8361089f"
      },
      "outputs": [
        {
          "data": {
            "text/html": [
              "<div>\n",
              "<style scoped>\n",
              "    .dataframe tbody tr th:only-of-type {\n",
              "        vertical-align: middle;\n",
              "    }\n",
              "\n",
              "    .dataframe tbody tr th {\n",
              "        vertical-align: top;\n",
              "    }\n",
              "\n",
              "    .dataframe thead th {\n",
              "        text-align: right;\n",
              "    }\n",
              "</style>\n",
              "<table border=\"1\" class=\"dataframe\">\n",
              "  <thead>\n",
              "    <tr style=\"text-align: right;\">\n",
              "      <th></th>\n",
              "      <th>duration</th>\n",
              "      <th>protocol_type</th>\n",
              "      <th>service</th>\n",
              "      <th>flag</th>\n",
              "      <th>src_bytes</th>\n",
              "      <th>dst_bytes</th>\n",
              "      <th>land</th>\n",
              "      <th>wrong_fragment</th>\n",
              "      <th>urgent</th>\n",
              "      <th>hot</th>\n",
              "      <th>...</th>\n",
              "      <th>srv_diff_host_rate</th>\n",
              "      <th>dst_host_count</th>\n",
              "      <th>dst_host_srv_count</th>\n",
              "      <th>dst_host_same_srv_rate</th>\n",
              "      <th>dst_host_diff_srv_rate</th>\n",
              "      <th>dst_host_same_src_port_rate</th>\n",
              "      <th>dst_host_srv_diff_host_rate</th>\n",
              "      <th>dst_host_srv_serror_rate</th>\n",
              "      <th>dst_host_rerror_rate</th>\n",
              "      <th>dst_host_srv_rerror_rate</th>\n",
              "    </tr>\n",
              "  </thead>\n",
              "  <tbody>\n",
              "    <tr>\n",
              "      <th>125968</th>\n",
              "      <td>0</td>\n",
              "      <td>1</td>\n",
              "      <td>49</td>\n",
              "      <td>5</td>\n",
              "      <td>0</td>\n",
              "      <td>0</td>\n",
              "      <td>0</td>\n",
              "      <td>0</td>\n",
              "      <td>0</td>\n",
              "      <td>0</td>\n",
              "      <td>...</td>\n",
              "      <td>0.0</td>\n",
              "      <td>255</td>\n",
              "      <td>25</td>\n",
              "      <td>0.10</td>\n",
              "      <td>0.06</td>\n",
              "      <td>0.00</td>\n",
              "      <td>0.0</td>\n",
              "      <td>1.0</td>\n",
              "      <td>0.00</td>\n",
              "      <td>0.0</td>\n",
              "    </tr>\n",
              "    <tr>\n",
              "      <th>125969</th>\n",
              "      <td>8</td>\n",
              "      <td>2</td>\n",
              "      <td>49</td>\n",
              "      <td>9</td>\n",
              "      <td>105</td>\n",
              "      <td>145</td>\n",
              "      <td>0</td>\n",
              "      <td>0</td>\n",
              "      <td>0</td>\n",
              "      <td>0</td>\n",
              "      <td>...</td>\n",
              "      <td>0.0</td>\n",
              "      <td>255</td>\n",
              "      <td>244</td>\n",
              "      <td>0.96</td>\n",
              "      <td>0.01</td>\n",
              "      <td>0.01</td>\n",
              "      <td>0.0</td>\n",
              "      <td>0.0</td>\n",
              "      <td>0.00</td>\n",
              "      <td>0.0</td>\n",
              "    </tr>\n",
              "    <tr>\n",
              "      <th>125970</th>\n",
              "      <td>0</td>\n",
              "      <td>1</td>\n",
              "      <td>54</td>\n",
              "      <td>9</td>\n",
              "      <td>2231</td>\n",
              "      <td>384</td>\n",
              "      <td>0</td>\n",
              "      <td>0</td>\n",
              "      <td>0</td>\n",
              "      <td>0</td>\n",
              "      <td>...</td>\n",
              "      <td>0.0</td>\n",
              "      <td>255</td>\n",
              "      <td>30</td>\n",
              "      <td>0.12</td>\n",
              "      <td>0.06</td>\n",
              "      <td>0.00</td>\n",
              "      <td>0.0</td>\n",
              "      <td>0.0</td>\n",
              "      <td>0.01</td>\n",
              "      <td>0.0</td>\n",
              "    </tr>\n",
              "    <tr>\n",
              "      <th>125971</th>\n",
              "      <td>0</td>\n",
              "      <td>1</td>\n",
              "      <td>30</td>\n",
              "      <td>5</td>\n",
              "      <td>0</td>\n",
              "      <td>0</td>\n",
              "      <td>0</td>\n",
              "      <td>0</td>\n",
              "      <td>0</td>\n",
              "      <td>0</td>\n",
              "      <td>...</td>\n",
              "      <td>0.0</td>\n",
              "      <td>255</td>\n",
              "      <td>8</td>\n",
              "      <td>0.03</td>\n",
              "      <td>0.05</td>\n",
              "      <td>0.00</td>\n",
              "      <td>0.0</td>\n",
              "      <td>1.0</td>\n",
              "      <td>0.00</td>\n",
              "      <td>0.0</td>\n",
              "    </tr>\n",
              "    <tr>\n",
              "      <th>125972</th>\n",
              "      <td>0</td>\n",
              "      <td>1</td>\n",
              "      <td>20</td>\n",
              "      <td>9</td>\n",
              "      <td>151</td>\n",
              "      <td>0</td>\n",
              "      <td>0</td>\n",
              "      <td>0</td>\n",
              "      <td>0</td>\n",
              "      <td>0</td>\n",
              "      <td>...</td>\n",
              "      <td>0.0</td>\n",
              "      <td>255</td>\n",
              "      <td>77</td>\n",
              "      <td>0.30</td>\n",
              "      <td>0.03</td>\n",
              "      <td>0.30</td>\n",
              "      <td>0.0</td>\n",
              "      <td>0.0</td>\n",
              "      <td>0.00</td>\n",
              "      <td>0.0</td>\n",
              "    </tr>\n",
              "  </tbody>\n",
              "</table>\n",
              "<p>5 rows × 34 columns</p>\n",
              "</div>"
            ],
            "text/plain": [
              "        duration  protocol_type  service  flag  src_bytes  dst_bytes  land  \\\n",
              "125968         0              1       49     5          0          0     0   \n",
              "125969         8              2       49     9        105        145     0   \n",
              "125970         0              1       54     9       2231        384     0   \n",
              "125971         0              1       30     5          0          0     0   \n",
              "125972         0              1       20     9        151          0     0   \n",
              "\n",
              "        wrong_fragment  urgent  hot  ...  srv_diff_host_rate  dst_host_count  \\\n",
              "125968               0       0    0  ...                 0.0             255   \n",
              "125969               0       0    0  ...                 0.0             255   \n",
              "125970               0       0    0  ...                 0.0             255   \n",
              "125971               0       0    0  ...                 0.0             255   \n",
              "125972               0       0    0  ...                 0.0             255   \n",
              "\n",
              "        dst_host_srv_count  dst_host_same_srv_rate  dst_host_diff_srv_rate  \\\n",
              "125968                  25                    0.10                    0.06   \n",
              "125969                 244                    0.96                    0.01   \n",
              "125970                  30                    0.12                    0.06   \n",
              "125971                   8                    0.03                    0.05   \n",
              "125972                  77                    0.30                    0.03   \n",
              "\n",
              "        dst_host_same_src_port_rate  dst_host_srv_diff_host_rate  \\\n",
              "125968                         0.00                          0.0   \n",
              "125969                         0.01                          0.0   \n",
              "125970                         0.00                          0.0   \n",
              "125971                         0.00                          0.0   \n",
              "125972                         0.30                          0.0   \n",
              "\n",
              "        dst_host_srv_serror_rate  dst_host_rerror_rate  \\\n",
              "125968                       1.0                  0.00   \n",
              "125969                       0.0                  0.00   \n",
              "125970                       0.0                  0.01   \n",
              "125971                       1.0                  0.00   \n",
              "125972                       0.0                  0.00   \n",
              "\n",
              "        dst_host_srv_rerror_rate  \n",
              "125968                       0.0  \n",
              "125969                       0.0  \n",
              "125970                       0.0  \n",
              "125971                       0.0  \n",
              "125972                       0.0  \n",
              "\n",
              "[5 rows x 34 columns]"
            ]
          },
          "execution_count": 152,
          "metadata": {},
          "output_type": "execute_result"
        }
      ],
      "source": [
        "df.tail()"
      ]
    },
    {
      "cell_type": "code",
      "execution_count": 136,
      "metadata": {},
      "outputs": [
        {
          "data": {
            "text/plain": [
              "{'apache2',\n",
              " 'httptunnel',\n",
              " 'mailbomb',\n",
              " 'mscan',\n",
              " 'named',\n",
              " 'processtable',\n",
              " 'ps',\n",
              " 'saint',\n",
              " 'sendmail',\n",
              " 'snmpgetattack',\n",
              " 'snmpguess',\n",
              " 'sqlattack',\n",
              " 'udpstorm',\n",
              " 'worm',\n",
              " 'xlock',\n",
              " 'xsnoop',\n",
              " 'xterm'}"
            ]
          },
          "execution_count": 136,
          "metadata": {},
          "output_type": "execute_result"
        }
      ],
      "source": [
        "set(test_df.target) - set(df.target)"
      ]
    },
    {
      "cell_type": "code",
      "execution_count": 137,
      "metadata": {},
      "outputs": [],
      "source": [
        "attack_types['apache2'] = 'dos'\n",
        "attack_types['mailbomb'] = 'dos'\n",
        "attack_types['processtable'] = 'dos'\n",
        "attack_types['udpstorm'] = 'dos'\n",
        "attack_types['named'] = 'r2l'\n",
        "attack_types['sendmail'] = 'r2l'\n",
        "attack_types['snmpgetattack'] = 'r2l'\n",
        "attack_types['snmpguess'] = 'r2l'\n",
        "attack_types['worm'] = 'r2l'\n",
        "attack_types['xsnoop'] = 'r2l'\n",
        "attack_types['xlock'] = 'r2l'\n",
        "attack_types['httptunnel'] = 'u2r'\n",
        "attack_types['xterm'] = 'u2r'\n",
        "attack_types['sqlattack'] = 'u2r'\n",
        "attack_types['ps'] = 'u2r'\n",
        "attack_types['saint'] = 'probe'\n",
        "attack_types['mscan'] = 'probe'"
      ]
    },
    {
      "cell_type": "markdown",
      "metadata": {},
      "source": [
        "## KDD"
      ]
    },
    {
      "cell_type": "code",
      "execution_count": 117,
      "metadata": {},
      "outputs": [],
      "source": [
        "test_df['benign'] = test_df.target.apply(lambda r: 0 if (r[:-1]=='normal') else 1)\n",
        "test_df['Attack Type'] = test_df.target.apply(lambda r:attack_types[r[:-1]])"
      ]
    },
    {
      "cell_type": "markdown",
      "metadata": {},
      "source": [
        "## NSL"
      ]
    },
    {
      "cell_type": "code",
      "execution_count": 138,
      "metadata": {},
      "outputs": [],
      "source": [
        "test_df['benign'] = test_df.target.apply(lambda r: 0 if (r=='normal') else 1)\n",
        "test_df['Attack Type'] = test_df.target.apply(lambda r:attack_types[r])"
      ]
    },
    {
      "cell_type": "markdown",
      "metadata": {},
      "source": [
        "---"
      ]
    },
    {
      "cell_type": "code",
      "execution_count": 139,
      "metadata": {},
      "outputs": [
        {
          "data": {
            "text/html": [
              "<div>\n",
              "<style scoped>\n",
              "    .dataframe tbody tr th:only-of-type {\n",
              "        vertical-align: middle;\n",
              "    }\n",
              "\n",
              "    .dataframe tbody tr th {\n",
              "        vertical-align: top;\n",
              "    }\n",
              "\n",
              "    .dataframe thead th {\n",
              "        text-align: right;\n",
              "    }\n",
              "</style>\n",
              "<table border=\"1\" class=\"dataframe\">\n",
              "  <thead>\n",
              "    <tr style=\"text-align: right;\">\n",
              "      <th></th>\n",
              "      <th>duration</th>\n",
              "      <th>protocol_type</th>\n",
              "      <th>service</th>\n",
              "      <th>flag</th>\n",
              "      <th>src_bytes</th>\n",
              "      <th>dst_bytes</th>\n",
              "      <th>land</th>\n",
              "      <th>wrong_fragment</th>\n",
              "      <th>urgent</th>\n",
              "      <th>hot</th>\n",
              "      <th>...</th>\n",
              "      <th>dst_host_diff_srv_rate</th>\n",
              "      <th>dst_host_same_src_port_rate</th>\n",
              "      <th>dst_host_srv_diff_host_rate</th>\n",
              "      <th>dst_host_serror_rate</th>\n",
              "      <th>dst_host_srv_serror_rate</th>\n",
              "      <th>dst_host_rerror_rate</th>\n",
              "      <th>dst_host_srv_rerror_rate</th>\n",
              "      <th>target</th>\n",
              "      <th>benign</th>\n",
              "      <th>Attack Type</th>\n",
              "    </tr>\n",
              "  </thead>\n",
              "  <tbody>\n",
              "    <tr>\n",
              "      <th>0</th>\n",
              "      <td>0</td>\n",
              "      <td>tcp</td>\n",
              "      <td>private</td>\n",
              "      <td>REJ</td>\n",
              "      <td>0</td>\n",
              "      <td>0</td>\n",
              "      <td>0</td>\n",
              "      <td>0</td>\n",
              "      <td>0</td>\n",
              "      <td>0</td>\n",
              "      <td>...</td>\n",
              "      <td>0.06</td>\n",
              "      <td>0.00</td>\n",
              "      <td>0.00</td>\n",
              "      <td>0.0</td>\n",
              "      <td>0.0</td>\n",
              "      <td>1.00</td>\n",
              "      <td>1.00</td>\n",
              "      <td>neptune</td>\n",
              "      <td>1</td>\n",
              "      <td>dos</td>\n",
              "    </tr>\n",
              "    <tr>\n",
              "      <th>1</th>\n",
              "      <td>0</td>\n",
              "      <td>tcp</td>\n",
              "      <td>private</td>\n",
              "      <td>REJ</td>\n",
              "      <td>0</td>\n",
              "      <td>0</td>\n",
              "      <td>0</td>\n",
              "      <td>0</td>\n",
              "      <td>0</td>\n",
              "      <td>0</td>\n",
              "      <td>...</td>\n",
              "      <td>0.06</td>\n",
              "      <td>0.00</td>\n",
              "      <td>0.00</td>\n",
              "      <td>0.0</td>\n",
              "      <td>0.0</td>\n",
              "      <td>1.00</td>\n",
              "      <td>1.00</td>\n",
              "      <td>neptune</td>\n",
              "      <td>1</td>\n",
              "      <td>dos</td>\n",
              "    </tr>\n",
              "    <tr>\n",
              "      <th>2</th>\n",
              "      <td>2</td>\n",
              "      <td>tcp</td>\n",
              "      <td>ftp_data</td>\n",
              "      <td>SF</td>\n",
              "      <td>12983</td>\n",
              "      <td>0</td>\n",
              "      <td>0</td>\n",
              "      <td>0</td>\n",
              "      <td>0</td>\n",
              "      <td>0</td>\n",
              "      <td>...</td>\n",
              "      <td>0.04</td>\n",
              "      <td>0.61</td>\n",
              "      <td>0.02</td>\n",
              "      <td>0.0</td>\n",
              "      <td>0.0</td>\n",
              "      <td>0.00</td>\n",
              "      <td>0.00</td>\n",
              "      <td>normal</td>\n",
              "      <td>0</td>\n",
              "      <td>normal</td>\n",
              "    </tr>\n",
              "    <tr>\n",
              "      <th>3</th>\n",
              "      <td>0</td>\n",
              "      <td>icmp</td>\n",
              "      <td>eco_i</td>\n",
              "      <td>SF</td>\n",
              "      <td>20</td>\n",
              "      <td>0</td>\n",
              "      <td>0</td>\n",
              "      <td>0</td>\n",
              "      <td>0</td>\n",
              "      <td>0</td>\n",
              "      <td>...</td>\n",
              "      <td>0.00</td>\n",
              "      <td>1.00</td>\n",
              "      <td>0.28</td>\n",
              "      <td>0.0</td>\n",
              "      <td>0.0</td>\n",
              "      <td>0.00</td>\n",
              "      <td>0.00</td>\n",
              "      <td>saint</td>\n",
              "      <td>1</td>\n",
              "      <td>probe</td>\n",
              "    </tr>\n",
              "    <tr>\n",
              "      <th>4</th>\n",
              "      <td>1</td>\n",
              "      <td>tcp</td>\n",
              "      <td>telnet</td>\n",
              "      <td>RSTO</td>\n",
              "      <td>0</td>\n",
              "      <td>15</td>\n",
              "      <td>0</td>\n",
              "      <td>0</td>\n",
              "      <td>0</td>\n",
              "      <td>0</td>\n",
              "      <td>...</td>\n",
              "      <td>0.17</td>\n",
              "      <td>0.03</td>\n",
              "      <td>0.02</td>\n",
              "      <td>0.0</td>\n",
              "      <td>0.0</td>\n",
              "      <td>0.83</td>\n",
              "      <td>0.71</td>\n",
              "      <td>mscan</td>\n",
              "      <td>1</td>\n",
              "      <td>probe</td>\n",
              "    </tr>\n",
              "  </tbody>\n",
              "</table>\n",
              "<p>5 rows × 43 columns</p>\n",
              "</div>"
            ],
            "text/plain": [
              "   duration protocol_type   service  flag  src_bytes  dst_bytes  land  \\\n",
              "0         0           tcp   private   REJ          0          0     0   \n",
              "1         0           tcp   private   REJ          0          0     0   \n",
              "2         2           tcp  ftp_data    SF      12983          0     0   \n",
              "3         0          icmp     eco_i    SF         20          0     0   \n",
              "4         1           tcp    telnet  RSTO          0         15     0   \n",
              "\n",
              "   wrong_fragment  urgent  hot  ...  dst_host_diff_srv_rate  \\\n",
              "0               0       0    0  ...                    0.06   \n",
              "1               0       0    0  ...                    0.06   \n",
              "2               0       0    0  ...                    0.04   \n",
              "3               0       0    0  ...                    0.00   \n",
              "4               0       0    0  ...                    0.17   \n",
              "\n",
              "   dst_host_same_src_port_rate  dst_host_srv_diff_host_rate  \\\n",
              "0                         0.00                         0.00   \n",
              "1                         0.00                         0.00   \n",
              "2                         0.61                         0.02   \n",
              "3                         1.00                         0.28   \n",
              "4                         0.03                         0.02   \n",
              "\n",
              "   dst_host_serror_rate  dst_host_srv_serror_rate  dst_host_rerror_rate  \\\n",
              "0                   0.0                       0.0                  1.00   \n",
              "1                   0.0                       0.0                  1.00   \n",
              "2                   0.0                       0.0                  0.00   \n",
              "3                   0.0                       0.0                  0.00   \n",
              "4                   0.0                       0.0                  0.83   \n",
              "\n",
              "   dst_host_srv_rerror_rate   target  benign  Attack Type  \n",
              "0                      1.00  neptune       1          dos  \n",
              "1                      1.00  neptune       1          dos  \n",
              "2                      0.00   normal       0       normal  \n",
              "3                      0.00    saint       1        probe  \n",
              "4                      0.71    mscan       1        probe  \n",
              "\n",
              "[5 rows x 43 columns]"
            ]
          },
          "execution_count": 139,
          "metadata": {},
          "output_type": "execute_result"
        }
      ],
      "source": [
        "test_df = test_df[df.columns]\n",
        "test_df.head()"
      ]
    },
    {
      "cell_type": "code",
      "execution_count": 140,
      "metadata": {},
      "outputs": [
        {
          "name": "stdout",
          "output_type": "stream",
          "text": [
            "Attack Type ['dos' 'normal' 'probe' 'r2l' 'u2r']\n",
            "protocol_type ['icmp' 'tcp' 'udp']\n",
            "flag ['OTH' 'REJ' 'RSTO' 'RSTOS0' 'RSTR' 'S0' 'S1' 'S2' 'S3' 'SF' 'SH']\n",
            "service ['IRC' 'X11' 'Z39_50' 'aol' 'auth' 'bgp' 'courier' 'csnet_ns' 'ctf'\n",
            " 'daytime' 'discard' 'domain' 'domain_u' 'echo' 'eco_i' 'ecr_i' 'efs'\n",
            " 'exec' 'finger' 'ftp' 'ftp_data' 'gopher' 'harvest' 'hostnames' 'http'\n",
            " 'http_2784' 'http_443' 'http_8001' 'imap4' 'iso_tsap' 'klogin' 'kshell'\n",
            " 'ldap' 'link' 'login' 'mtp' 'name' 'netbios_dgm' 'netbios_ns'\n",
            " 'netbios_ssn' 'netstat' 'nnsp' 'nntp' 'ntp_u' 'other' 'pm_dump' 'pop_2'\n",
            " 'pop_3' 'printer' 'private' 'red_i' 'remote_job' 'rje' 'shell' 'smtp'\n",
            " 'sql_net' 'ssh' 'sunrpc' 'supdup' 'systat' 'telnet' 'tftp_u' 'tim_i'\n",
            " 'time' 'urh_i' 'urp_i' 'uucp' 'uucp_path' 'vmnet' 'whois']\n",
            "target ['apache2' 'back' 'buffer_overflow' 'ftp_write' 'guess_passwd'\n",
            " 'httptunnel' 'imap' 'ipsweep' 'land' 'loadmodule' 'mailbomb' 'mscan'\n",
            " 'multihop' 'named' 'neptune' 'nmap' 'normal' 'perl' 'phf' 'pod'\n",
            " 'portsweep' 'processtable' 'ps' 'rootkit' 'saint' 'satan' 'sendmail'\n",
            " 'smurf' 'snmpgetattack' 'snmpguess' 'spy' 'sqlattack' 'teardrop'\n",
            " 'udpstorm' 'warezclient' 'warezmaster' 'worm' 'xlock' 'xsnoop' 'xterm']\n"
          ]
        }
      ],
      "source": [
        "from sklearn.preprocessing import LabelEncoder\n",
        "\n",
        "combined_df = pd.concat([df, test_df], ignore_index=True)\n",
        "\n",
        "label_encoders = {}\n",
        "\n",
        "string_categorical_columns = ['Attack Type', 'protocol_type', 'flag', 'service', 'target']\n",
        "for column in string_categorical_columns:\n",
        "\tlabel_encoders[column] = LabelEncoder()\n",
        "\tcombined_df[column] = label_encoders[column].fit_transform(combined_df[column])\n",
        "\tprint(column, label_encoders[column].classes_)\n",
        "\n",
        "df = combined_df.iloc[:len(df)]\n",
        "test_df = combined_df.iloc[len(df):]\n",
        "\n",
        "df.reset_index(drop=True, inplace=True)\n",
        "test_df.reset_index(drop=True, inplace=True)\n",
        "\n",
        "del combined_df"
      ]
    },
    {
      "cell_type": "code",
      "execution_count": 141,
      "metadata": {},
      "outputs": [
        {
          "data": {
            "text/html": [
              "<div>\n",
              "<style scoped>\n",
              "    .dataframe tbody tr th:only-of-type {\n",
              "        vertical-align: middle;\n",
              "    }\n",
              "\n",
              "    .dataframe tbody tr th {\n",
              "        vertical-align: top;\n",
              "    }\n",
              "\n",
              "    .dataframe thead th {\n",
              "        text-align: right;\n",
              "    }\n",
              "</style>\n",
              "<table border=\"1\" class=\"dataframe\">\n",
              "  <thead>\n",
              "    <tr style=\"text-align: right;\">\n",
              "      <th></th>\n",
              "      <th>duration</th>\n",
              "      <th>protocol_type</th>\n",
              "      <th>service</th>\n",
              "      <th>flag</th>\n",
              "      <th>src_bytes</th>\n",
              "      <th>dst_bytes</th>\n",
              "      <th>land</th>\n",
              "      <th>wrong_fragment</th>\n",
              "      <th>urgent</th>\n",
              "      <th>hot</th>\n",
              "      <th>...</th>\n",
              "      <th>dst_host_diff_srv_rate</th>\n",
              "      <th>dst_host_same_src_port_rate</th>\n",
              "      <th>dst_host_srv_diff_host_rate</th>\n",
              "      <th>dst_host_serror_rate</th>\n",
              "      <th>dst_host_srv_serror_rate</th>\n",
              "      <th>dst_host_rerror_rate</th>\n",
              "      <th>dst_host_srv_rerror_rate</th>\n",
              "      <th>target</th>\n",
              "      <th>benign</th>\n",
              "      <th>Attack Type</th>\n",
              "    </tr>\n",
              "  </thead>\n",
              "  <tbody>\n",
              "    <tr>\n",
              "      <th>0</th>\n",
              "      <td>0</td>\n",
              "      <td>1</td>\n",
              "      <td>20</td>\n",
              "      <td>9</td>\n",
              "      <td>491</td>\n",
              "      <td>0</td>\n",
              "      <td>0</td>\n",
              "      <td>0</td>\n",
              "      <td>0</td>\n",
              "      <td>0</td>\n",
              "      <td>...</td>\n",
              "      <td>0.03</td>\n",
              "      <td>0.17</td>\n",
              "      <td>0.00</td>\n",
              "      <td>0.00</td>\n",
              "      <td>0.00</td>\n",
              "      <td>0.05</td>\n",
              "      <td>0.00</td>\n",
              "      <td>16</td>\n",
              "      <td>0</td>\n",
              "      <td>1</td>\n",
              "    </tr>\n",
              "    <tr>\n",
              "      <th>1</th>\n",
              "      <td>0</td>\n",
              "      <td>2</td>\n",
              "      <td>44</td>\n",
              "      <td>9</td>\n",
              "      <td>146</td>\n",
              "      <td>0</td>\n",
              "      <td>0</td>\n",
              "      <td>0</td>\n",
              "      <td>0</td>\n",
              "      <td>0</td>\n",
              "      <td>...</td>\n",
              "      <td>0.60</td>\n",
              "      <td>0.88</td>\n",
              "      <td>0.00</td>\n",
              "      <td>0.00</td>\n",
              "      <td>0.00</td>\n",
              "      <td>0.00</td>\n",
              "      <td>0.00</td>\n",
              "      <td>16</td>\n",
              "      <td>0</td>\n",
              "      <td>1</td>\n",
              "    </tr>\n",
              "    <tr>\n",
              "      <th>2</th>\n",
              "      <td>0</td>\n",
              "      <td>1</td>\n",
              "      <td>49</td>\n",
              "      <td>5</td>\n",
              "      <td>0</td>\n",
              "      <td>0</td>\n",
              "      <td>0</td>\n",
              "      <td>0</td>\n",
              "      <td>0</td>\n",
              "      <td>0</td>\n",
              "      <td>...</td>\n",
              "      <td>0.05</td>\n",
              "      <td>0.00</td>\n",
              "      <td>0.00</td>\n",
              "      <td>1.00</td>\n",
              "      <td>1.00</td>\n",
              "      <td>0.00</td>\n",
              "      <td>0.00</td>\n",
              "      <td>14</td>\n",
              "      <td>1</td>\n",
              "      <td>0</td>\n",
              "    </tr>\n",
              "    <tr>\n",
              "      <th>3</th>\n",
              "      <td>0</td>\n",
              "      <td>1</td>\n",
              "      <td>24</td>\n",
              "      <td>9</td>\n",
              "      <td>232</td>\n",
              "      <td>8153</td>\n",
              "      <td>0</td>\n",
              "      <td>0</td>\n",
              "      <td>0</td>\n",
              "      <td>0</td>\n",
              "      <td>...</td>\n",
              "      <td>0.00</td>\n",
              "      <td>0.03</td>\n",
              "      <td>0.04</td>\n",
              "      <td>0.03</td>\n",
              "      <td>0.01</td>\n",
              "      <td>0.00</td>\n",
              "      <td>0.01</td>\n",
              "      <td>16</td>\n",
              "      <td>0</td>\n",
              "      <td>1</td>\n",
              "    </tr>\n",
              "    <tr>\n",
              "      <th>4</th>\n",
              "      <td>0</td>\n",
              "      <td>1</td>\n",
              "      <td>24</td>\n",
              "      <td>9</td>\n",
              "      <td>199</td>\n",
              "      <td>420</td>\n",
              "      <td>0</td>\n",
              "      <td>0</td>\n",
              "      <td>0</td>\n",
              "      <td>0</td>\n",
              "      <td>...</td>\n",
              "      <td>0.00</td>\n",
              "      <td>0.00</td>\n",
              "      <td>0.00</td>\n",
              "      <td>0.00</td>\n",
              "      <td>0.00</td>\n",
              "      <td>0.00</td>\n",
              "      <td>0.00</td>\n",
              "      <td>16</td>\n",
              "      <td>0</td>\n",
              "      <td>1</td>\n",
              "    </tr>\n",
              "  </tbody>\n",
              "</table>\n",
              "<p>5 rows × 43 columns</p>\n",
              "</div>"
            ],
            "text/plain": [
              "   duration  protocol_type  service  flag  src_bytes  dst_bytes  land  \\\n",
              "0         0              1       20     9        491          0     0   \n",
              "1         0              2       44     9        146          0     0   \n",
              "2         0              1       49     5          0          0     0   \n",
              "3         0              1       24     9        232       8153     0   \n",
              "4         0              1       24     9        199        420     0   \n",
              "\n",
              "   wrong_fragment  urgent  hot  ...  dst_host_diff_srv_rate  \\\n",
              "0               0       0    0  ...                    0.03   \n",
              "1               0       0    0  ...                    0.60   \n",
              "2               0       0    0  ...                    0.05   \n",
              "3               0       0    0  ...                    0.00   \n",
              "4               0       0    0  ...                    0.00   \n",
              "\n",
              "   dst_host_same_src_port_rate  dst_host_srv_diff_host_rate  \\\n",
              "0                         0.17                         0.00   \n",
              "1                         0.88                         0.00   \n",
              "2                         0.00                         0.00   \n",
              "3                         0.03                         0.04   \n",
              "4                         0.00                         0.00   \n",
              "\n",
              "   dst_host_serror_rate  dst_host_srv_serror_rate  dst_host_rerror_rate  \\\n",
              "0                  0.00                      0.00                  0.05   \n",
              "1                  0.00                      0.00                  0.00   \n",
              "2                  1.00                      1.00                  0.00   \n",
              "3                  0.03                      0.01                  0.00   \n",
              "4                  0.00                      0.00                  0.00   \n",
              "\n",
              "   dst_host_srv_rerror_rate  target  benign  Attack Type  \n",
              "0                      0.00      16       0            1  \n",
              "1                      0.00      16       0            1  \n",
              "2                      0.00      14       1            0  \n",
              "3                      0.01      16       0            1  \n",
              "4                      0.00      16       0            1  \n",
              "\n",
              "[5 rows x 43 columns]"
            ]
          },
          "execution_count": 141,
          "metadata": {},
          "output_type": "execute_result"
        }
      ],
      "source": [
        "df.head()"
      ]
    },
    {
      "cell_type": "markdown",
      "metadata": {},
      "source": [
        "# Corr"
      ]
    },
    {
      "cell_type": "code",
      "execution_count": 142,
      "metadata": {
        "colab": {
          "base_uri": "https://localhost:8080/",
          "height": 1000
        },
        "id": "kpc4a482niPE",
        "outputId": "5e26f95c-6a27-4edc-e32f-a5d5cd57401d"
      },
      "outputs": [
        {
          "data": {
            "image/png": "[encoded data removed]",
            "text/plain": [
              "<Figure size 1500x1200 with 2 Axes>"
            ]
          },
          "metadata": {},
          "output_type": "display_data"
        }
      ],
      "source": [
        "corr = df.corr()\n",
        "\n",
        "plt.figure(figsize=(15,12))\n",
        "\n",
        "sns.heatmap(corr)\n",
        "\n",
        "plt.show()\n"
      ]
    },
    {
      "cell_type": "code",
      "execution_count": null,
      "metadata": {
        "colab": {
          "base_uri": "https://localhost:8080/"
        },
        "id": "nf7zAVpAueS_",
        "outputId": "738c93da-95b9-41cb-c31f-a88ca22d5926"
      },
      "outputs": [],
      "source": [
        "corr['target']"
      ]
    },
    {
      "cell_type": "code",
      "execution_count": 143,
      "metadata": {},
      "outputs": [
        {
          "data": {
            "text/plain": [
              "(6,\n",
              " Index(['num_compromised', 'serror_rate', 'srv_serror_rate', 'rerror_rate',\n",
              "        'srv_rerror_rate', 'dst_host_serror_rate'],\n",
              "       dtype='object'))"
            ]
          },
          "execution_count": 143,
          "metadata": {},
          "output_type": "execute_result"
        }
      ],
      "source": [
        "label_cols = ['target', 'Attack Type', 'benign']\n",
        "\n",
        "mask = np.triu(np.ones_like(corr, dtype=bool), k=1)\n",
        "np.fill_diagonal(mask, True)\n",
        "corr_matrix = corr.mask(mask)\n",
        "\n",
        "threshold = 0.95\n",
        "\n",
        "high_corr_features = ((corr_matrix.abs() > threshold) & (corr_matrix != 1)).any()\n",
        "\n",
        "to_drop = high_corr_features[high_corr_features].index\n",
        "to_drop = to_drop.drop(label_cols, errors='ignore')\n",
        "\n",
        "df = df.drop(columns=to_drop)\n",
        "test_df = test_df.drop(columns=to_drop)\n",
        "len(to_drop), to_drop"
      ]
    },
    {
      "cell_type": "code",
      "execution_count": null,
      "metadata": {},
      "outputs": [],
      "source": [
        "# print(df.shape)\n",
        "\n",
        "# for f,value in corr[label_col].items():\n",
        "#   if abs(value) > 0.6 and f!=label_col:\n",
        "#     df.drop(f,axis = 1, inplace=True)\n",
        "#     print('dropped', f)\n",
        "# df.shape"
      ]
    },
    {
      "cell_type": "code",
      "execution_count": null,
      "metadata": {
        "colab": {
          "base_uri": "https://localhost:8080/",
          "height": 287
        },
        "id": "Bx2nDMKU-kUH",
        "outputId": "9949ce7a-8371-465f-fd83-ae8f0e41cff1"
      },
      "outputs": [],
      "source": [
        "df['service'].corr(df[label_cols[0]])"
      ]
    },
    {
      "cell_type": "code",
      "execution_count": null,
      "metadata": {
        "colab": {
          "base_uri": "https://localhost:8080/",
          "height": 273
        },
        "id": "vO--vc0D6NOj",
        "outputId": "b36ffad9-61ff-42bc-833a-189c6e687165"
      },
      "outputs": [],
      "source": [
        "df.head()"
      ]
    },
    {
      "cell_type": "code",
      "execution_count": 144,
      "metadata": {
        "colab": {
          "base_uri": "https://localhost:8080/"
        },
        "id": "xZxOqZ0e6TGa",
        "outputId": "f8091e19-4093-4bca-a41c-4431ec8a2a14"
      },
      "outputs": [
        {
          "data": {
            "text/plain": [
              "is_host_login                  2.817483e-03\n",
              "land                           1.408607e-02\n",
              "urgent                         1.436603e-02\n",
              "num_shells                     2.218113e-02\n",
              "root_shell                     3.660284e-02\n",
              "su_attempted                   4.515438e-02\n",
              "num_failed_logins              4.523914e-02\n",
              "is_guest_login                 9.661233e-02\n",
              "num_access_files               9.936956e-02\n",
              "dst_host_srv_diff_host_rate    1.125638e-01\n",
              "diff_srv_rate                  1.803144e-01\n",
              "dst_host_diff_srv_rate         1.889218e-01\n",
              "wrong_fragment                 2.535300e-01\n",
              "srv_diff_host_rate             2.598305e-01\n",
              "dst_host_rerror_rate           3.065575e-01\n",
              "dst_host_same_src_port_rate    3.089971e-01\n",
              "dst_host_srv_rerror_rate       3.194594e-01\n",
              "protocol_type                  4.266196e-01\n",
              "same_srv_rate                  4.396229e-01\n",
              "dst_host_srv_serror_rate       4.456691e-01\n",
              "dst_host_same_srv_rate         4.489494e-01\n",
              "num_file_creations             4.839351e-01\n",
              "logged_in                      4.890101e-01\n",
              "benign                         4.988046e-01\n",
              "Attack Type                    6.537475e-01\n",
              "hot                            2.149968e+00\n",
              "flag                           2.689365e+00\n",
              "target                         3.855667e+00\n",
              "service                        1.634647e+01\n",
              "num_root                       2.439962e+01\n",
              "srv_count                      7.263584e+01\n",
              "dst_host_count                 9.920621e+01\n",
              "dst_host_srv_count             1.107027e+02\n",
              "count                          1.145086e+02\n",
              "duration                       2.604515e+03\n",
              "dst_bytes                      4.021269e+06\n",
              "src_bytes                      5.870331e+06\n",
              "dtype: float64"
            ]
          },
          "execution_count": 144,
          "metadata": {},
          "output_type": "execute_result"
        }
      ],
      "source": [
        "df_std = df.std()\n",
        "df_std = df_std.sort_values(ascending = True)\n",
        "df_std"
      ]
    },
    {
      "cell_type": "code",
      "execution_count": 145,
      "metadata": {
        "id": "qweCnPG05RsV"
      },
      "outputs": [],
      "source": [
        "df.to_csv(dataset('dataset_nsl.csv', 'csvs'), index=False)\n",
        "test_df.to_csv(dataset('test_dataset_nsl.csv', 'csvs'), index=False)"
      ]
    },
    {
      "cell_type": "markdown",
      "metadata": {
        "id": "AhZV8_2c-9Pq"
      },
      "source": [
        "# Load data"
      ]
    },
    {
      "cell_type": "code",
      "execution_count": 1,
      "metadata": {
        "id": "Nqo-qQid_BqJ"
      },
      "outputs": [],
      "source": [
        "import os\n",
        "import pandas as pd\n",
        "import numpy as np\n",
        "import matplotlib.pyplot as plt\n",
        "import seaborn as sns\n",
        "import time\n",
        "\n",
        "def dataset(file_name:str = '', dataset:str = 'kdd'):\n",
        "  return f'dataset/{dataset}/{file_name}'"
      ]
    },
    {
      "cell_type": "code",
      "execution_count": 34,
      "metadata": {
        "id": "mdscBe6K-wkz"
      },
      "outputs": [
        {
          "data": {
            "text/plain": [
              "((125973, 37), (22544, 37))"
            ]
          },
          "execution_count": 34,
          "metadata": {},
          "output_type": "execute_result"
        }
      ],
      "source": [
        "df = pd.read_csv(dataset('dataset_nsl.csv', 'csvs'))\n",
        "test_df = pd.read_csv(dataset('test_dataset_nsl.csv', 'csvs'))\n",
        "df.shape, test_df.shape"
      ]
    },
    {
      "cell_type": "code",
      "execution_count": 3,
      "metadata": {},
      "outputs": [
        {
          "data": {
            "text/html": [
              "<div>\n",
              "<style scoped>\n",
              "    .dataframe tbody tr th:only-of-type {\n",
              "        vertical-align: middle;\n",
              "    }\n",
              "\n",
              "    .dataframe tbody tr th {\n",
              "        vertical-align: top;\n",
              "    }\n",
              "\n",
              "    .dataframe thead th {\n",
              "        text-align: right;\n",
              "    }\n",
              "</style>\n",
              "<table border=\"1\" class=\"dataframe\">\n",
              "  <thead>\n",
              "    <tr style=\"text-align: right;\">\n",
              "      <th></th>\n",
              "      <th>duration</th>\n",
              "      <th>protocol_type</th>\n",
              "      <th>service</th>\n",
              "      <th>flag</th>\n",
              "      <th>src_bytes</th>\n",
              "      <th>dst_bytes</th>\n",
              "      <th>land</th>\n",
              "      <th>wrong_fragment</th>\n",
              "      <th>urgent</th>\n",
              "      <th>hot</th>\n",
              "      <th>...</th>\n",
              "      <th>dst_host_same_srv_rate</th>\n",
              "      <th>dst_host_diff_srv_rate</th>\n",
              "      <th>dst_host_same_src_port_rate</th>\n",
              "      <th>dst_host_srv_diff_host_rate</th>\n",
              "      <th>dst_host_srv_serror_rate</th>\n",
              "      <th>dst_host_rerror_rate</th>\n",
              "      <th>dst_host_srv_rerror_rate</th>\n",
              "      <th>target</th>\n",
              "      <th>benign</th>\n",
              "      <th>Attack Type</th>\n",
              "    </tr>\n",
              "  </thead>\n",
              "  <tbody>\n",
              "    <tr>\n",
              "      <th>0</th>\n",
              "      <td>0</td>\n",
              "      <td>1</td>\n",
              "      <td>49</td>\n",
              "      <td>1</td>\n",
              "      <td>0</td>\n",
              "      <td>0</td>\n",
              "      <td>0</td>\n",
              "      <td>0</td>\n",
              "      <td>0</td>\n",
              "      <td>0</td>\n",
              "      <td>...</td>\n",
              "      <td>0.04</td>\n",
              "      <td>0.06</td>\n",
              "      <td>0.00</td>\n",
              "      <td>0.00</td>\n",
              "      <td>0.0</td>\n",
              "      <td>1.00</td>\n",
              "      <td>1.00</td>\n",
              "      <td>14</td>\n",
              "      <td>1</td>\n",
              "      <td>0</td>\n",
              "    </tr>\n",
              "    <tr>\n",
              "      <th>1</th>\n",
              "      <td>0</td>\n",
              "      <td>1</td>\n",
              "      <td>49</td>\n",
              "      <td>1</td>\n",
              "      <td>0</td>\n",
              "      <td>0</td>\n",
              "      <td>0</td>\n",
              "      <td>0</td>\n",
              "      <td>0</td>\n",
              "      <td>0</td>\n",
              "      <td>...</td>\n",
              "      <td>0.00</td>\n",
              "      <td>0.06</td>\n",
              "      <td>0.00</td>\n",
              "      <td>0.00</td>\n",
              "      <td>0.0</td>\n",
              "      <td>1.00</td>\n",
              "      <td>1.00</td>\n",
              "      <td>14</td>\n",
              "      <td>1</td>\n",
              "      <td>0</td>\n",
              "    </tr>\n",
              "    <tr>\n",
              "      <th>2</th>\n",
              "      <td>2</td>\n",
              "      <td>1</td>\n",
              "      <td>20</td>\n",
              "      <td>9</td>\n",
              "      <td>12983</td>\n",
              "      <td>0</td>\n",
              "      <td>0</td>\n",
              "      <td>0</td>\n",
              "      <td>0</td>\n",
              "      <td>0</td>\n",
              "      <td>...</td>\n",
              "      <td>0.61</td>\n",
              "      <td>0.04</td>\n",
              "      <td>0.61</td>\n",
              "      <td>0.02</td>\n",
              "      <td>0.0</td>\n",
              "      <td>0.00</td>\n",
              "      <td>0.00</td>\n",
              "      <td>16</td>\n",
              "      <td>0</td>\n",
              "      <td>1</td>\n",
              "    </tr>\n",
              "    <tr>\n",
              "      <th>3</th>\n",
              "      <td>0</td>\n",
              "      <td>0</td>\n",
              "      <td>14</td>\n",
              "      <td>9</td>\n",
              "      <td>20</td>\n",
              "      <td>0</td>\n",
              "      <td>0</td>\n",
              "      <td>0</td>\n",
              "      <td>0</td>\n",
              "      <td>0</td>\n",
              "      <td>...</td>\n",
              "      <td>1.00</td>\n",
              "      <td>0.00</td>\n",
              "      <td>1.00</td>\n",
              "      <td>0.28</td>\n",
              "      <td>0.0</td>\n",
              "      <td>0.00</td>\n",
              "      <td>0.00</td>\n",
              "      <td>24</td>\n",
              "      <td>1</td>\n",
              "      <td>2</td>\n",
              "    </tr>\n",
              "    <tr>\n",
              "      <th>4</th>\n",
              "      <td>1</td>\n",
              "      <td>1</td>\n",
              "      <td>60</td>\n",
              "      <td>2</td>\n",
              "      <td>0</td>\n",
              "      <td>15</td>\n",
              "      <td>0</td>\n",
              "      <td>0</td>\n",
              "      <td>0</td>\n",
              "      <td>0</td>\n",
              "      <td>...</td>\n",
              "      <td>0.31</td>\n",
              "      <td>0.17</td>\n",
              "      <td>0.03</td>\n",
              "      <td>0.02</td>\n",
              "      <td>0.0</td>\n",
              "      <td>0.83</td>\n",
              "      <td>0.71</td>\n",
              "      <td>11</td>\n",
              "      <td>1</td>\n",
              "      <td>2</td>\n",
              "    </tr>\n",
              "  </tbody>\n",
              "</table>\n",
              "<p>5 rows × 37 columns</p>\n",
              "</div>"
            ],
            "text/plain": [
              "   duration  protocol_type  service  flag  src_bytes  dst_bytes  land  \\\n",
              "0         0              1       49     1          0          0     0   \n",
              "1         0              1       49     1          0          0     0   \n",
              "2         2              1       20     9      12983          0     0   \n",
              "3         0              0       14     9         20          0     0   \n",
              "4         1              1       60     2          0         15     0   \n",
              "\n",
              "   wrong_fragment  urgent  hot  ...  dst_host_same_srv_rate  \\\n",
              "0               0       0    0  ...                    0.04   \n",
              "1               0       0    0  ...                    0.00   \n",
              "2               0       0    0  ...                    0.61   \n",
              "3               0       0    0  ...                    1.00   \n",
              "4               0       0    0  ...                    0.31   \n",
              "\n",
              "   dst_host_diff_srv_rate  dst_host_same_src_port_rate  \\\n",
              "0                    0.06                         0.00   \n",
              "1                    0.06                         0.00   \n",
              "2                    0.04                         0.61   \n",
              "3                    0.00                         1.00   \n",
              "4                    0.17                         0.03   \n",
              "\n",
              "   dst_host_srv_diff_host_rate  dst_host_srv_serror_rate  \\\n",
              "0                         0.00                       0.0   \n",
              "1                         0.00                       0.0   \n",
              "2                         0.02                       0.0   \n",
              "3                         0.28                       0.0   \n",
              "4                         0.02                       0.0   \n",
              "\n",
              "   dst_host_rerror_rate  dst_host_srv_rerror_rate  target  benign  Attack Type  \n",
              "0                  1.00                      1.00      14       1            0  \n",
              "1                  1.00                      1.00      14       1            0  \n",
              "2                  0.00                      0.00      16       0            1  \n",
              "3                  0.00                      0.00      24       1            2  \n",
              "4                  0.83                      0.71      11       1            2  \n",
              "\n",
              "[5 rows x 37 columns]"
            ]
          },
          "execution_count": 3,
          "metadata": {},
          "output_type": "execute_result"
        }
      ],
      "source": [
        "test_df.head()"
      ]
    },
    {
      "cell_type": "code",
      "execution_count": 151,
      "metadata": {},
      "outputs": [
        {
          "data": {
            "text/html": [
              "<div>\n",
              "<style scoped>\n",
              "    .dataframe tbody tr th:only-of-type {\n",
              "        vertical-align: middle;\n",
              "    }\n",
              "\n",
              "    .dataframe tbody tr th {\n",
              "        vertical-align: top;\n",
              "    }\n",
              "\n",
              "    .dataframe thead th {\n",
              "        text-align: right;\n",
              "    }\n",
              "</style>\n",
              "<table border=\"1\" class=\"dataframe\">\n",
              "  <thead>\n",
              "    <tr style=\"text-align: right;\">\n",
              "      <th></th>\n",
              "      <th>duration</th>\n",
              "      <th>protocol_type</th>\n",
              "      <th>service</th>\n",
              "      <th>flag</th>\n",
              "      <th>src_bytes</th>\n",
              "      <th>dst_bytes</th>\n",
              "      <th>land</th>\n",
              "      <th>wrong_fragment</th>\n",
              "      <th>urgent</th>\n",
              "      <th>hot</th>\n",
              "      <th>...</th>\n",
              "      <th>srv_diff_host_rate</th>\n",
              "      <th>dst_host_count</th>\n",
              "      <th>dst_host_srv_count</th>\n",
              "      <th>dst_host_same_srv_rate</th>\n",
              "      <th>dst_host_diff_srv_rate</th>\n",
              "      <th>dst_host_same_src_port_rate</th>\n",
              "      <th>dst_host_srv_diff_host_rate</th>\n",
              "      <th>dst_host_srv_serror_rate</th>\n",
              "      <th>dst_host_rerror_rate</th>\n",
              "      <th>dst_host_srv_rerror_rate</th>\n",
              "    </tr>\n",
              "  </thead>\n",
              "  <tbody>\n",
              "    <tr>\n",
              "      <th>0</th>\n",
              "      <td>0</td>\n",
              "      <td>1</td>\n",
              "      <td>20</td>\n",
              "      <td>9</td>\n",
              "      <td>491</td>\n",
              "      <td>0</td>\n",
              "      <td>0</td>\n",
              "      <td>0</td>\n",
              "      <td>0</td>\n",
              "      <td>0</td>\n",
              "      <td>...</td>\n",
              "      <td>0.00</td>\n",
              "      <td>150</td>\n",
              "      <td>25</td>\n",
              "      <td>0.17</td>\n",
              "      <td>0.03</td>\n",
              "      <td>0.17</td>\n",
              "      <td>0.00</td>\n",
              "      <td>0.00</td>\n",
              "      <td>0.05</td>\n",
              "      <td>0.00</td>\n",
              "    </tr>\n",
              "    <tr>\n",
              "      <th>1</th>\n",
              "      <td>0</td>\n",
              "      <td>2</td>\n",
              "      <td>44</td>\n",
              "      <td>9</td>\n",
              "      <td>146</td>\n",
              "      <td>0</td>\n",
              "      <td>0</td>\n",
              "      <td>0</td>\n",
              "      <td>0</td>\n",
              "      <td>0</td>\n",
              "      <td>...</td>\n",
              "      <td>0.00</td>\n",
              "      <td>255</td>\n",
              "      <td>1</td>\n",
              "      <td>0.00</td>\n",
              "      <td>0.60</td>\n",
              "      <td>0.88</td>\n",
              "      <td>0.00</td>\n",
              "      <td>0.00</td>\n",
              "      <td>0.00</td>\n",
              "      <td>0.00</td>\n",
              "    </tr>\n",
              "    <tr>\n",
              "      <th>2</th>\n",
              "      <td>0</td>\n",
              "      <td>1</td>\n",
              "      <td>49</td>\n",
              "      <td>5</td>\n",
              "      <td>0</td>\n",
              "      <td>0</td>\n",
              "      <td>0</td>\n",
              "      <td>0</td>\n",
              "      <td>0</td>\n",
              "      <td>0</td>\n",
              "      <td>...</td>\n",
              "      <td>0.00</td>\n",
              "      <td>255</td>\n",
              "      <td>26</td>\n",
              "      <td>0.10</td>\n",
              "      <td>0.05</td>\n",
              "      <td>0.00</td>\n",
              "      <td>0.00</td>\n",
              "      <td>1.00</td>\n",
              "      <td>0.00</td>\n",
              "      <td>0.00</td>\n",
              "    </tr>\n",
              "    <tr>\n",
              "      <th>3</th>\n",
              "      <td>0</td>\n",
              "      <td>1</td>\n",
              "      <td>24</td>\n",
              "      <td>9</td>\n",
              "      <td>232</td>\n",
              "      <td>8153</td>\n",
              "      <td>0</td>\n",
              "      <td>0</td>\n",
              "      <td>0</td>\n",
              "      <td>0</td>\n",
              "      <td>...</td>\n",
              "      <td>0.00</td>\n",
              "      <td>30</td>\n",
              "      <td>255</td>\n",
              "      <td>1.00</td>\n",
              "      <td>0.00</td>\n",
              "      <td>0.03</td>\n",
              "      <td>0.04</td>\n",
              "      <td>0.01</td>\n",
              "      <td>0.00</td>\n",
              "      <td>0.01</td>\n",
              "    </tr>\n",
              "    <tr>\n",
              "      <th>4</th>\n",
              "      <td>0</td>\n",
              "      <td>1</td>\n",
              "      <td>24</td>\n",
              "      <td>9</td>\n",
              "      <td>199</td>\n",
              "      <td>420</td>\n",
              "      <td>0</td>\n",
              "      <td>0</td>\n",
              "      <td>0</td>\n",
              "      <td>0</td>\n",
              "      <td>...</td>\n",
              "      <td>0.09</td>\n",
              "      <td>255</td>\n",
              "      <td>255</td>\n",
              "      <td>1.00</td>\n",
              "      <td>0.00</td>\n",
              "      <td>0.00</td>\n",
              "      <td>0.00</td>\n",
              "      <td>0.00</td>\n",
              "      <td>0.00</td>\n",
              "      <td>0.00</td>\n",
              "    </tr>\n",
              "  </tbody>\n",
              "</table>\n",
              "<p>5 rows × 34 columns</p>\n",
              "</div>"
            ],
            "text/plain": [
              "   duration  protocol_type  service  flag  src_bytes  dst_bytes  land  \\\n",
              "0         0              1       20     9        491          0     0   \n",
              "1         0              2       44     9        146          0     0   \n",
              "2         0              1       49     5          0          0     0   \n",
              "3         0              1       24     9        232       8153     0   \n",
              "4         0              1       24     9        199        420     0   \n",
              "\n",
              "   wrong_fragment  urgent  hot  ...  srv_diff_host_rate  dst_host_count  \\\n",
              "0               0       0    0  ...                0.00             150   \n",
              "1               0       0    0  ...                0.00             255   \n",
              "2               0       0    0  ...                0.00             255   \n",
              "3               0       0    0  ...                0.00              30   \n",
              "4               0       0    0  ...                0.09             255   \n",
              "\n",
              "   dst_host_srv_count  dst_host_same_srv_rate  dst_host_diff_srv_rate  \\\n",
              "0                  25                    0.17                    0.03   \n",
              "1                   1                    0.00                    0.60   \n",
              "2                  26                    0.10                    0.05   \n",
              "3                 255                    1.00                    0.00   \n",
              "4                 255                    1.00                    0.00   \n",
              "\n",
              "   dst_host_same_src_port_rate  dst_host_srv_diff_host_rate  \\\n",
              "0                         0.17                         0.00   \n",
              "1                         0.88                         0.00   \n",
              "2                         0.00                         0.00   \n",
              "3                         0.03                         0.04   \n",
              "4                         0.00                         0.00   \n",
              "\n",
              "   dst_host_srv_serror_rate  dst_host_rerror_rate  dst_host_srv_rerror_rate  \n",
              "0                      0.00                  0.05                      0.00  \n",
              "1                      0.00                  0.00                      0.00  \n",
              "2                      1.00                  0.00                      0.00  \n",
              "3                      0.01                  0.00                      0.01  \n",
              "4                      0.00                  0.00                      0.00  \n",
              "\n",
              "[5 rows x 34 columns]"
            ]
          },
          "execution_count": 151,
          "metadata": {},
          "output_type": "execute_result"
        }
      ],
      "source": [
        "df.head()"
      ]
    },
    {
      "cell_type": "code",
      "execution_count": 35,
      "metadata": {},
      "outputs": [],
      "source": [
        "label_col = 'Attack Type'\n",
        "label_cols = ['Attack Type','target','benign']\n",
        "label_cols.remove(label_col)"
      ]
    },
    {
      "cell_type": "code",
      "execution_count": 36,
      "metadata": {},
      "outputs": [],
      "source": [
        "df = df.drop(label_cols, axis=1)\n",
        "test_df = test_df.drop(label_cols, axis=1)"
      ]
    },
    {
      "cell_type": "code",
      "execution_count": 37,
      "metadata": {
        "id": "BTjUKpxB9OM3"
      },
      "outputs": [],
      "source": [
        "# Y = df[[label_col]]\n",
        "# X = df.drop([label_col], axis=1)\n",
        "Y_train = df[[label_col]]\n",
        "X_train = df.drop([label_col], axis=1)\n",
        "df = df.drop([label_col], axis=1)"
      ]
    },
    {
      "cell_type": "code",
      "execution_count": 38,
      "metadata": {},
      "outputs": [],
      "source": [
        "Y_test = test_df[[label_col]]\n",
        "X_test = test_df.drop([label_col], axis=1)\n",
        "test_df = test_df.drop([label_col], axis=1)"
      ]
    },
    {
      "cell_type": "code",
      "execution_count": 39,
      "metadata": {},
      "outputs": [
        {
          "data": {
            "text/plain": [
              "(22544, 34)"
            ]
          },
          "execution_count": 39,
          "metadata": {},
          "output_type": "execute_result"
        }
      ],
      "source": [
        "X_test.shape"
      ]
    },
    {
      "cell_type": "code",
      "execution_count": 40,
      "metadata": {
        "colab": {
          "base_uri": "https://localhost:8080/"
        },
        "id": "-Kl915qr9QhR",
        "outputId": "8652cdf3-6100-4e4d-bdad-8937dd68af4c"
      },
      "outputs": [
        {
          "name": "stdout",
          "output_type": "stream",
          "text": [
            "Train (113375, 34) (113375, 1)\n",
            "Validation (12598, 34) (12598, 1)\n",
            "Test (22544, 34) (22544, 1)\n"
          ]
        }
      ],
      "source": [
        "from sklearn.model_selection import train_test_split\n",
        "from sklearn.preprocessing import MinMaxScaler\n",
        "from sklearn.metrics import accuracy_score\n",
        "\n",
        "sc = MinMaxScaler()\n",
        "X_train = sc.fit_transform(X_train)\n",
        "X_test = sc.transform(X_test)\n",
        "\n",
        "X_train, X_val, Y_train, Y_val = train_test_split(X_train, Y_train, test_size=0.1, random_state=273, shuffle=True)\n",
        "print('Train', X_train.shape, Y_train.shape)\n",
        "print('Validation', X_val.shape, Y_val.shape)\n",
        "print('Test', X_test.shape, Y_test.shape)"
      ]
    },
    {
      "cell_type": "code",
      "execution_count": 41,
      "metadata": {},
      "outputs": [
        {
          "name": "stdout",
          "output_type": "stream",
          "text": [
            "5\n"
          ]
        }
      ],
      "source": [
        "from keras.utils import to_categorical\n",
        "\n",
        "label_cat_count = len(set(Y_test[label_col]))\n",
        "print(label_cat_count)\n",
        "\n",
        "Y_train_one_hot = to_categorical(Y_train, num_classes=label_cat_count)\n",
        "Y_val_one_hot = to_categorical(Y_val, num_classes=label_cat_count)\n",
        "Y_test_one_hot = to_categorical(Y_test, num_classes=label_cat_count)"
      ]
    },
    {
      "cell_type": "code",
      "execution_count": 42,
      "metadata": {
        "id": "_0kdeAb2_L1T"
      },
      "outputs": [],
      "source": [
        "from sklearn.metrics import classification_report, confusion_matrix\n",
        "\n",
        "def fit(model, X_train = X_train, Y_train = Y_train):\n",
        "  name = type(model).__name__\n",
        "  start_time = time.time()\n",
        "  model.fit(X_train, Y_train.values.ravel())\n",
        "  end_time = time.time()\n",
        "  print(f\"{name}: Training time: \",end_time-start_time)\n",
        "\n",
        "def fit_evaluate(model, X_train = X_train, Y_train = Y_train, X_val=X_val, Y_val=Y_val, X_test=X_test):\n",
        "  name = type(model).__name__\n",
        "  fit(model, X_train, Y_train)\n",
        "\n",
        "  start_time = time.time()\n",
        "  Y_test_pred = model.predict(X_test)\n",
        "  # Y_val_pred = model.predict(X_val)\n",
        "  end_time = time.time()\n",
        "  print(f\"{name}: Testing time: \",end_time-start_time)\n",
        "\n",
        "  print(f\"{name}: Train score is:\", model.score(X_train, Y_train))\n",
        "  print(f\"{name}: Validation score is:\", model.score(X_val,Y_val))\n",
        "  print(f\"{name}: Test score is:\", model.score(X_test,Y_test))\n",
        "\n",
        "  print(classification_report(Y_test, Y_test_pred))\n",
        "\n",
        "  conf_matrix = confusion_matrix(Y_test, Y_test_pred)\n",
        "  TN, FP = conf_matrix[0][0], conf_matrix[0][1]\n",
        "  false_alarm_rate = FP / (FP + TN)\n",
        "  print(f\"{name}: False Alarm rate is:\", false_alarm_rate)\n"
      ]
    },
    {
      "cell_type": "markdown",
      "metadata": {},
      "source": [
        "# Models"
      ]
    },
    {
      "cell_type": "code",
      "execution_count": 55,
      "metadata": {},
      "outputs": [],
      "source": [
        "X_train_tmp, X_val_tmp, X_test_tmp  = X_train, X_val, X_test"
      ]
    },
    {
      "cell_type": "code",
      "execution_count": 97,
      "metadata": {
        "colab": {
          "base_uri": "https://localhost:8080/"
        },
        "id": "H9mUjhKl9910",
        "outputId": "2b1d1ada-5956-4e70-dec5-e2bdd5bc3642"
      },
      "outputs": [
        {
          "name": "stdout",
          "output_type": "stream",
          "text": [
            "GaussianNB: Training time:  0.03647494316101074\n",
            "GaussianNB: Testing time:  0.012478113174438477\n",
            "GaussianNB: Train score is: 0.9266945975744212\n",
            "GaussianNB: Validation score is: 0.9297507540879505\n",
            "GaussianNB: Test score is: 0.7193488289567069\n",
            "              precision    recall  f1-score   support\n",
            "\n",
            "           0       0.97      0.68      0.80      7458\n",
            "           1       0.66      0.93      0.77      9711\n",
            "           2       0.58      0.84      0.69      2421\n",
            "           3       0.65      0.01      0.02      2754\n",
            "           4       0.52      0.17      0.26       200\n",
            "\n",
            "    accuracy                           0.72     22544\n",
            "   macro avg       0.68      0.53      0.51     22544\n",
            "weighted avg       0.75      0.72      0.68     22544\n",
            "\n",
            "GaussianNB: False Alarm rate is: 0.2509197939661516\n"
          ]
        }
      ],
      "source": [
        "from sklearn.naive_bayes import GaussianNB\n",
        "fit_evaluate(GaussianNB(),\n",
        "              X_train=X_train_tmp, X_val=X_val_tmp, X_test=X_test_tmp)"
      ]
    },
    {
      "cell_type": "code",
      "execution_count": 98,
      "metadata": {
        "colab": {
          "base_uri": "https://localhost:8080/"
        },
        "id": "amVbXOPQAOX-",
        "outputId": "3c998ca9-a1b8-4328-eae7-c92833dbb242"
      },
      "outputs": [
        {
          "name": "stdout",
          "output_type": "stream",
          "text": [
            "DecisionTreeClassifier: Training time:  1.2111687660217285\n",
            "DecisionTreeClassifier: Testing time:  0.0007469654083251953\n",
            "DecisionTreeClassifier: Train score is: 0.9998941565600882\n",
            "DecisionTreeClassifier: Validation score is: 0.9902365454834101\n",
            "DecisionTreeClassifier: Test score is: 0.7464957416607523\n",
            "              precision    recall  f1-score   support\n",
            "\n",
            "           0       0.96      0.77      0.85      7458\n",
            "           1       0.65      0.98      0.78      9711\n",
            "           2       0.83      0.59      0.69      2421\n",
            "           3       0.77      0.06      0.11      2754\n",
            "           4       0.47      0.07      0.12       200\n",
            "\n",
            "    accuracy                           0.75     22544\n",
            "   macro avg       0.73      0.49      0.51     22544\n",
            "weighted avg       0.78      0.75      0.71     22544\n",
            "\n",
            "DecisionTreeClassifier: False Alarm rate is: 0.22123893805309736\n"
          ]
        }
      ],
      "source": [
        "from sklearn.tree import DecisionTreeClassifier\n",
        "fit_evaluate(DecisionTreeClassifier(criterion=\"entropy\"),\n",
        "              X_train=X_train_tmp, X_val=X_val_tmp, X_test=X_test_tmp)"
      ]
    },
    {
      "cell_type": "code",
      "execution_count": 99,
      "metadata": {
        "colab": {
          "base_uri": "https://localhost:8080/"
        },
        "id": "r_vx5zhAApCy",
        "outputId": "4c82c109-6ff1-41e8-e6c6-ca640cf81667"
      },
      "outputs": [
        {
          "name": "stdout",
          "output_type": "stream",
          "text": [
            "SVC: Training time:  73.64619088172913\n",
            "SVC: Testing time:  19.97177481651306\n",
            "SVC: Train score is: 0.9651157662624035\n",
            "SVC: Validation score is: 0.9671376408953802\n",
            "SVC: Test score is: 0.7246717530163236\n",
            "              precision    recall  f1-score   support\n",
            "\n",
            "           0       0.96      0.73      0.83      7458\n",
            "           1       0.62      0.98      0.76      9711\n",
            "           2       0.87      0.56      0.68      2421\n",
            "           3       0.68      0.01      0.01      2754\n",
            "           4       0.73      0.04      0.08       200\n",
            "\n",
            "    accuracy                           0.72     22544\n",
            "   macro avg       0.77      0.46      0.47     22544\n",
            "weighted avg       0.77      0.72      0.68     22544\n",
            "\n",
            "SVC: False Alarm rate is: 0.2648961984362362\n"
          ]
        }
      ],
      "source": [
        "from sklearn.svm import SVC\n",
        "fit_evaluate(SVC(gamma = 'scale'),\n",
        "              X_train=X_train_tmp, X_val=X_val_tmp, X_test=X_test_tmp)"
      ]
    },
    {
      "cell_type": "code",
      "execution_count": 100,
      "metadata": {
        "colab": {
          "base_uri": "https://localhost:8080/"
        },
        "id": "2rWqae0VA1UH",
        "outputId": "0bef4ed9-9a8f-41a8-f7bb-04680cdb49d6"
      },
      "outputs": [
        {
          "name": "stdout",
          "output_type": "stream",
          "text": [
            "LogisticRegression: Training time:  1.209317684173584\n",
            "LogisticRegression: Testing time:  0.0\n",
            "LogisticRegression: Train score is: 0.9446262403528115\n",
            "LogisticRegression: Validation score is: 0.9509445943800603\n",
            "LogisticRegression: Test score is: 0.7033800567778566\n",
            "              precision    recall  f1-score   support\n",
            "\n",
            "           0       0.91      0.70      0.79      7458\n",
            "           1       0.62      0.94      0.75      9711\n",
            "           2       0.74      0.63      0.68      2421\n",
            "           3       0.33      0.00      0.00      2754\n",
            "           4       0.95      0.10      0.18       200\n",
            "\n",
            "    accuracy                           0.70     22544\n",
            "   macro avg       0.71      0.47      0.48     22544\n",
            "weighted avg       0.70      0.70      0.66     22544\n",
            "\n",
            "LogisticRegression: False Alarm rate is: 0.2746853146853147\n"
          ]
        }
      ],
      "source": [
        "from sklearn.linear_model import LogisticRegression\n",
        "fit_evaluate(LogisticRegression(max_iter=1200000),\n",
        "              X_train=X_train_tmp, X_val=X_val_tmp, X_test=X_test_tmp)"
      ]
    },
    {
      "cell_type": "code",
      "execution_count": 101,
      "metadata": {
        "colab": {
          "base_uri": "https://localhost:8080/"
        },
        "id": "OHTL1h5jA6Ws",
        "outputId": "461efc1e-4984-4100-c85a-213cae492f61"
      },
      "outputs": [
        {
          "name": "stdout",
          "output_type": "stream",
          "text": [
            "GradientBoostingClassifier: Training time:  134.4315173625946\n",
            "GradientBoostingClassifier: Testing time:  0.10009360313415527\n",
            "GradientBoostingClassifier: Train score is: 0.9817772877618522\n",
            "GradientBoostingClassifier: Validation score is: 0.9820606445467535\n",
            "GradientBoostingClassifier: Test score is: 0.7437899219304471\n",
            "              precision    recall  f1-score   support\n",
            "\n",
            "           0       0.97      0.75      0.85      7458\n",
            "           1       0.65      0.98      0.78      9711\n",
            "           2       0.81      0.64      0.71      2421\n",
            "           3       0.93      0.04      0.08      2754\n",
            "           4       0.83      0.07      0.14       200\n",
            "\n",
            "    accuracy                           0.74     22544\n",
            "   macro avg       0.84      0.50      0.51     22544\n",
            "weighted avg       0.81      0.74      0.70     22544\n",
            "\n",
            "GradientBoostingClassifier: False Alarm rate is: 0.22883797503086845\n"
          ]
        }
      ],
      "source": [
        "from sklearn.ensemble import GradientBoostingClassifier\n",
        "fit_evaluate(GradientBoostingClassifier(random_state=220),\n",
        "              X_train=X_train_tmp, X_val=X_val_tmp, X_test=X_test_tmp)"
      ]
    },
    {
      "cell_type": "code",
      "execution_count": 102,
      "metadata": {
        "colab": {
          "base_uri": "https://localhost:8080/"
        },
        "id": "rii_AYA_Ah6C",
        "outputId": "39e38d40-c990-4155-c20a-009b0d90eb1e"
      },
      "outputs": [
        {
          "name": "stdout",
          "output_type": "stream",
          "text": [
            "RandomForestClassifier: Training time:  33.239954710006714\n",
            "RandomForestClassifier: Testing time:  0.19972777366638184\n",
            "RandomForestClassifier: Train score is: 0.9998941565600882\n",
            "RandomForestClassifier: Validation score is: 0.99237974281632\n",
            "RandomForestClassifier: Test score is: 0.74361249112846\n",
            "              precision    recall  f1-score   support\n",
            "\n",
            "           0       0.97      0.76      0.85      7458\n",
            "           1       0.64      0.98      0.77      9711\n",
            "           2       0.89      0.62      0.73      2421\n",
            "           3       0.86      0.02      0.03      2754\n",
            "           4       0.88      0.07      0.14       200\n",
            "\n",
            "    accuracy                           0.74     22544\n",
            "   macro avg       0.85      0.49      0.50     22544\n",
            "weighted avg       0.80      0.74      0.70     22544\n",
            "\n",
            "RandomForestClassifier: False Alarm rate is: 0.23581607959128797\n"
          ]
        }
      ],
      "source": [
        "from sklearn.ensemble import RandomForestClassifier\n",
        "fit_evaluate(RandomForestClassifier(n_estimators=100),\n",
        "              X_train=X_train_tmp, X_val=X_val_tmp, X_test=X_test_tmp)"
      ]
    },
    {
      "cell_type": "code",
      "execution_count": null,
      "metadata": {
        "colab": {
          "base_uri": "https://localhost:8080/"
        },
        "id": "rqbEov9WF_wh",
        "outputId": "e6fb4261-4b95-46ea-b10a-397fa9fab809"
      },
      "outputs": [],
      "source": [
        "from sklearn.ensemble import AdaBoostClassifier\n",
        "fit_evaluate(AdaBoostClassifier(random_state=387),\n",
        "              X_train=X_train_tmp, X_val=X_val_tmp, X_test=X_test_tmp)"
      ]
    },
    {
      "cell_type": "markdown",
      "metadata": {},
      "source": [
        "## NN"
      ]
    },
    {
      "cell_type": "code",
      "execution_count": 103,
      "metadata": {
        "id": "4aG98_GoBFt1"
      },
      "outputs": [
        {
          "data": {
            "text/html": [
              "<pre style=\"white-space:pre;overflow-x:auto;line-height:normal;font-family:Menlo,'DejaVu Sans Mono',consolas,'Courier New',monospace\"><span style=\"font-weight: bold\">Model: \"sequential\"</span>\n",
              "</pre>\n"
            ],
            "text/plain": [
              "\u001b[1mModel: \"sequential\"\u001b[0m\n"
            ]
          },
          "metadata": {},
          "output_type": "display_data"
        },
        {
          "data": {
            "text/html": [
              "<pre style=\"white-space:pre;overflow-x:auto;line-height:normal;font-family:Menlo,'DejaVu Sans Mono',consolas,'Courier New',monospace\">┏━━━━━━━━━━━━━━━━━━━━━━━━━━━━━━━━━┳━━━━━━━━━━━━━━━━━━━━━━━━┳━━━━━━━━━━━━━━━┓\n",
              "┃<span style=\"font-weight: bold\"> Layer (type)                    </span>┃<span style=\"font-weight: bold\"> Output Shape           </span>┃<span style=\"font-weight: bold\">       Param # </span>┃\n",
              "┡━━━━━━━━━━━━━━━━━━━━━━━━━━━━━━━━━╇━━━━━━━━━━━━━━━━━━━━━━━━╇━━━━━━━━━━━━━━━┩\n",
              "│ dense (<span style=\"color: #0087ff; text-decoration-color: #0087ff\">Dense</span>)                   │ (<span style=\"color: #00d7ff; text-decoration-color: #00d7ff\">None</span>, <span style=\"color: #00af00; text-decoration-color: #00af00\">32</span>)             │           <span style=\"color: #00af00; text-decoration-color: #00af00\">160</span> │\n",
              "├─────────────────────────────────┼────────────────────────┼───────────────┤\n",
              "│ batch_normalization             │ (<span style=\"color: #00d7ff; text-decoration-color: #00d7ff\">None</span>, <span style=\"color: #00af00; text-decoration-color: #00af00\">32</span>)             │           <span style=\"color: #00af00; text-decoration-color: #00af00\">128</span> │\n",
              "│ (<span style=\"color: #0087ff; text-decoration-color: #0087ff\">BatchNormalization</span>)            │                        │               │\n",
              "├─────────────────────────────────┼────────────────────────┼───────────────┤\n",
              "│ dropout (<span style=\"color: #0087ff; text-decoration-color: #0087ff\">Dropout</span>)               │ (<span style=\"color: #00d7ff; text-decoration-color: #00d7ff\">None</span>, <span style=\"color: #00af00; text-decoration-color: #00af00\">32</span>)             │             <span style=\"color: #00af00; text-decoration-color: #00af00\">0</span> │\n",
              "├─────────────────────────────────┼────────────────────────┼───────────────┤\n",
              "│ dense_1 (<span style=\"color: #0087ff; text-decoration-color: #0087ff\">Dense</span>)                 │ (<span style=\"color: #00d7ff; text-decoration-color: #00d7ff\">None</span>, <span style=\"color: #00af00; text-decoration-color: #00af00\">16</span>)             │           <span style=\"color: #00af00; text-decoration-color: #00af00\">528</span> │\n",
              "├─────────────────────────────────┼────────────────────────┼───────────────┤\n",
              "│ batch_normalization_1           │ (<span style=\"color: #00d7ff; text-decoration-color: #00d7ff\">None</span>, <span style=\"color: #00af00; text-decoration-color: #00af00\">16</span>)             │            <span style=\"color: #00af00; text-decoration-color: #00af00\">64</span> │\n",
              "│ (<span style=\"color: #0087ff; text-decoration-color: #0087ff\">BatchNormalization</span>)            │                        │               │\n",
              "├─────────────────────────────────┼────────────────────────┼───────────────┤\n",
              "│ dropout_1 (<span style=\"color: #0087ff; text-decoration-color: #0087ff\">Dropout</span>)             │ (<span style=\"color: #00d7ff; text-decoration-color: #00d7ff\">None</span>, <span style=\"color: #00af00; text-decoration-color: #00af00\">16</span>)             │             <span style=\"color: #00af00; text-decoration-color: #00af00\">0</span> │\n",
              "├─────────────────────────────────┼────────────────────────┼───────────────┤\n",
              "│ dense_2 (<span style=\"color: #0087ff; text-decoration-color: #0087ff\">Dense</span>)                 │ (<span style=\"color: #00d7ff; text-decoration-color: #00d7ff\">None</span>, <span style=\"color: #00af00; text-decoration-color: #00af00\">5</span>)              │            <span style=\"color: #00af00; text-decoration-color: #00af00\">85</span> │\n",
              "└─────────────────────────────────┴────────────────────────┴───────────────┘\n",
              "</pre>\n"
            ],
            "text/plain": [
              "┏━━━━━━━━━━━━━━━━━━━━━━━━━━━━━━━━━┳━━━━━━━━━━━━━━━━━━━━━━━━┳━━━━━━━━━━━━━━━┓\n",
              "┃\u001b[1m \u001b[0m\u001b[1mLayer (type)                   \u001b[0m\u001b[1m \u001b[0m┃\u001b[1m \u001b[0m\u001b[1mOutput Shape          \u001b[0m\u001b[1m \u001b[0m┃\u001b[1m \u001b[0m\u001b[1m      Param #\u001b[0m\u001b[1m \u001b[0m┃\n",
              "┡━━━━━━━━━━━━━━━━━━━━━━━━━━━━━━━━━╇━━━━━━━━━━━━━━━━━━━━━━━━╇━━━━━━━━━━━━━━━┩\n",
              "│ dense (\u001b[38;5;33mDense\u001b[0m)                   │ (\u001b[38;5;45mNone\u001b[0m, \u001b[38;5;34m32\u001b[0m)             │           \u001b[38;5;34m160\u001b[0m │\n",
              "├─────────────────────────────────┼────────────────────────┼───────────────┤\n",
              "│ batch_normalization             │ (\u001b[38;5;45mNone\u001b[0m, \u001b[38;5;34m32\u001b[0m)             │           \u001b[38;5;34m128\u001b[0m │\n",
              "│ (\u001b[38;5;33mBatchNormalization\u001b[0m)            │                        │               │\n",
              "├─────────────────────────────────┼────────────────────────┼───────────────┤\n",
              "│ dropout (\u001b[38;5;33mDropout\u001b[0m)               │ (\u001b[38;5;45mNone\u001b[0m, \u001b[38;5;34m32\u001b[0m)             │             \u001b[38;5;34m0\u001b[0m │\n",
              "├─────────────────────────────────┼────────────────────────┼───────────────┤\n",
              "│ dense_1 (\u001b[38;5;33mDense\u001b[0m)                 │ (\u001b[38;5;45mNone\u001b[0m, \u001b[38;5;34m16\u001b[0m)             │           \u001b[38;5;34m528\u001b[0m │\n",
              "├─────────────────────────────────┼────────────────────────┼───────────────┤\n",
              "│ batch_normalization_1           │ (\u001b[38;5;45mNone\u001b[0m, \u001b[38;5;34m16\u001b[0m)             │            \u001b[38;5;34m64\u001b[0m │\n",
              "│ (\u001b[38;5;33mBatchNormalization\u001b[0m)            │                        │               │\n",
              "├─────────────────────────────────┼────────────────────────┼───────────────┤\n",
              "│ dropout_1 (\u001b[38;5;33mDropout\u001b[0m)             │ (\u001b[38;5;45mNone\u001b[0m, \u001b[38;5;34m16\u001b[0m)             │             \u001b[38;5;34m0\u001b[0m │\n",
              "├─────────────────────────────────┼────────────────────────┼───────────────┤\n",
              "│ dense_2 (\u001b[38;5;33mDense\u001b[0m)                 │ (\u001b[38;5;45mNone\u001b[0m, \u001b[38;5;34m5\u001b[0m)              │            \u001b[38;5;34m85\u001b[0m │\n",
              "└─────────────────────────────────┴────────────────────────┴───────────────┘\n"
            ]
          },
          "metadata": {},
          "output_type": "display_data"
        },
        {
          "data": {
            "text/html": [
              "<pre style=\"white-space:pre;overflow-x:auto;line-height:normal;font-family:Menlo,'DejaVu Sans Mono',consolas,'Courier New',monospace\"><span style=\"font-weight: bold\"> Total params: </span><span style=\"color: #00af00; text-decoration-color: #00af00\">965</span> (3.77 KB)\n",
              "</pre>\n"
            ],
            "text/plain": [
              "\u001b[1m Total params: \u001b[0m\u001b[38;5;34m965\u001b[0m (3.77 KB)\n"
            ]
          },
          "metadata": {},
          "output_type": "display_data"
        },
        {
          "data": {
            "text/html": [
              "<pre style=\"white-space:pre;overflow-x:auto;line-height:normal;font-family:Menlo,'DejaVu Sans Mono',consolas,'Courier New',monospace\"><span style=\"font-weight: bold\"> Trainable params: </span><span style=\"color: #00af00; text-decoration-color: #00af00\">869</span> (3.39 KB)\n",
              "</pre>\n"
            ],
            "text/plain": [
              "\u001b[1m Trainable params: \u001b[0m\u001b[38;5;34m869\u001b[0m (3.39 KB)\n"
            ]
          },
          "metadata": {},
          "output_type": "display_data"
        },
        {
          "data": {
            "text/html": [
              "<pre style=\"white-space:pre;overflow-x:auto;line-height:normal;font-family:Menlo,'DejaVu Sans Mono',consolas,'Courier New',monospace\"><span style=\"font-weight: bold\"> Non-trainable params: </span><span style=\"color: #00af00; text-decoration-color: #00af00\">96</span> (384.00 B)\n",
              "</pre>\n"
            ],
            "text/plain": [
              "\u001b[1m Non-trainable params: \u001b[0m\u001b[38;5;34m96\u001b[0m (384.00 B)\n"
            ]
          },
          "metadata": {},
          "output_type": "display_data"
        }
      ],
      "source": [
        "import os\n",
        "os.environ[\"KERAS_BACKEND\"] = \"tensorflow\"\n",
        "\n",
        "import keras\n",
        "from keras.models import Sequential\n",
        "from keras.layers import Dense, Input, Dropout, BatchNormalization\n",
        "from scikeras.wrappers import KerasClassifier\n",
        "from keras.losses import CategoricalCrossentropy\n",
        "from keras.optimizers import Adam\n",
        "from keras.metrics import Accuracy\n",
        "import gc\n",
        "from keras.callbacks import EarlyStopping\n",
        "\n",
        "\n",
        "keras.backend.clear_session()\n",
        "\n",
        "try:\n",
        "  del kerasModel\n",
        "  gc.collect()\n",
        "  del ann\n",
        "  gc.collect()\n",
        "except:\n",
        "  pass\n",
        "\n",
        "kerasModel = Sequential(\n",
        "\t[\n",
        "\t\tInput(shape=(X_train_tmp.shape[1],)),\n",
        "\t\tDense(32, activation='sigmoid', kernel_initializer='he_uniform'),\n",
        "    \tBatchNormalization(),\n",
        "    \tDropout(0.2),\n",
        "\t\tDense(16, activation='sigmoid', kernel_initializer='he_uniform'),\n",
        "    \tBatchNormalization(),\n",
        "    \tDropout(0.2),\n",
        "\t\tDense(label_cat_count, activation='softmax')\n",
        "\t]\n",
        ")\n",
        "\n",
        "kerasModel.compile(optimizer = 'adam', loss='categorical_crossentropy',metrics = ['accuracy'])\n",
        "\n",
        "kerasModel.summary()"
      ]
    },
    {
      "cell_type": "code",
      "execution_count": 104,
      "metadata": {
        "colab": {
          "base_uri": "https://localhost:8080/"
        },
        "id": "Wx-Wtt4lBTOn",
        "outputId": "f9c9795f-d7d4-45a4-8575-ffa9ac9b5592"
      },
      "outputs": [
        {
          "name": "stdout",
          "output_type": "stream",
          "text": [
            "Epoch 1/100\n"
          ]
        },
        {
          "name": "stdout",
          "output_type": "stream",
          "text": [
            "\u001b[1m1772/1772\u001b[0m \u001b[32m━━━━━━━━━━━━━━━━━━━━\u001b[0m\u001b[37m\u001b[0m \u001b[1m6s\u001b[0m 2ms/step - accuracy: 0.8872 - loss: 0.3969 - val_accuracy: 0.9568 - val_loss: 0.1276\n",
            "Epoch 2/100\n",
            "\u001b[1m1772/1772\u001b[0m \u001b[32m━━━━━━━━━━━━━━━━━━━━\u001b[0m\u001b[37m\u001b[0m \u001b[1m3s\u001b[0m 2ms/step - accuracy: 0.9476 - loss: 0.1689 - val_accuracy: 0.9593 - val_loss: 0.1156\n",
            "Epoch 3/100\n",
            "\u001b[1m1772/1772\u001b[0m \u001b[32m━━━━━━━━━━━━━━━━━━━━\u001b[0m\u001b[37m\u001b[0m \u001b[1m3s\u001b[0m 2ms/step - accuracy: 0.9477 - loss: 0.1566 - val_accuracy: 0.9606 - val_loss: 0.1120\n",
            "Epoch 4/100\n",
            "\u001b[1m1772/1772\u001b[0m \u001b[32m━━━━━━━━━━━━━━━━━━━━\u001b[0m\u001b[37m\u001b[0m \u001b[1m4s\u001b[0m 2ms/step - accuracy: 0.9493 - loss: 0.1524 - val_accuracy: 0.9620 - val_loss: 0.1048\n",
            "Epoch 5/100\n",
            "\u001b[1m1772/1772\u001b[0m \u001b[32m━━━━━━━━━━━━━━━━━━━━\u001b[0m\u001b[37m\u001b[0m \u001b[1m3s\u001b[0m 2ms/step - accuracy: 0.9521 - loss: 0.1414 - val_accuracy: 0.9624 - val_loss: 0.1011\n",
            "Epoch 6/100\n",
            "\u001b[1m1772/1772\u001b[0m \u001b[32m━━━━━━━━━━━━━━━━━━━━\u001b[0m\u001b[37m\u001b[0m \u001b[1m3s\u001b[0m 2ms/step - accuracy: 0.9526 - loss: 0.1382 - val_accuracy: 0.9628 - val_loss: 0.0980\n",
            "Epoch 7/100\n",
            "\u001b[1m1772/1772\u001b[0m \u001b[32m━━━━━━━━━━━━━━━━━━━━\u001b[0m\u001b[37m\u001b[0m \u001b[1m4s\u001b[0m 2ms/step - accuracy: 0.9547 - loss: 0.1336 - val_accuracy: 0.9617 - val_loss: 0.0950\n",
            "Epoch 8/100\n",
            "\u001b[1m1772/1772\u001b[0m \u001b[32m━━━━━━━━━━━━━━━━━━━━\u001b[0m\u001b[37m\u001b[0m \u001b[1m4s\u001b[0m 2ms/step - accuracy: 0.9536 - loss: 0.1340 - val_accuracy: 0.9644 - val_loss: 0.0929\n",
            "Epoch 9/100\n",
            "\u001b[1m1772/1772\u001b[0m \u001b[32m━━━━━━━━━━━━━━━━━━━━\u001b[0m\u001b[37m\u001b[0m \u001b[1m4s\u001b[0m 2ms/step - accuracy: 0.9556 - loss: 0.1290 - val_accuracy: 0.9649 - val_loss: 0.0915\n",
            "Epoch 10/100\n",
            "\u001b[1m1772/1772\u001b[0m \u001b[32m━━━━━━━━━━━━━━━━━━━━\u001b[0m\u001b[37m\u001b[0m \u001b[1m4s\u001b[0m 2ms/step - accuracy: 0.9543 - loss: 0.1283 - val_accuracy: 0.9632 - val_loss: 0.0888\n",
            "Epoch 11/100\n",
            "\u001b[1m1772/1772\u001b[0m \u001b[32m━━━━━━━━━━━━━━━━━━━━\u001b[0m\u001b[37m\u001b[0m \u001b[1m4s\u001b[0m 2ms/step - accuracy: 0.9551 - loss: 0.1274 - val_accuracy: 0.9657 - val_loss: 0.0868\n",
            "Epoch 12/100\n",
            "\u001b[1m1772/1772\u001b[0m \u001b[32m━━━━━━━━━━━━━━━━━━━━\u001b[0m\u001b[37m\u001b[0m \u001b[1m4s\u001b[0m 2ms/step - accuracy: 0.9568 - loss: 0.1240 - val_accuracy: 0.9655 - val_loss: 0.0871\n",
            "Epoch 13/100\n",
            "\u001b[1m1772/1772\u001b[0m \u001b[32m━━━━━━━━━━━━━━━━━━━━\u001b[0m\u001b[37m\u001b[0m \u001b[1m3s\u001b[0m 2ms/step - accuracy: 0.9569 - loss: 0.1243 - val_accuracy: 0.9672 - val_loss: 0.0858\n",
            "Epoch 14/100\n",
            "\u001b[1m1772/1772\u001b[0m \u001b[32m━━━━━━━━━━━━━━━━━━━━\u001b[0m\u001b[37m\u001b[0m \u001b[1m4s\u001b[0m 2ms/step - accuracy: 0.9572 - loss: 0.1214 - val_accuracy: 0.9648 - val_loss: 0.0861\n",
            "Epoch 15/100\n",
            "\u001b[1m1772/1772\u001b[0m \u001b[32m━━━━━━━━━━━━━━━━━━━━\u001b[0m\u001b[37m\u001b[0m \u001b[1m3s\u001b[0m 2ms/step - accuracy: 0.9565 - loss: 0.1232 - val_accuracy: 0.9665 - val_loss: 0.0852\n",
            "Epoch 16/100\n",
            "\u001b[1m1772/1772\u001b[0m \u001b[32m━━━━━━━━━━━━━━━━━━━━\u001b[0m\u001b[37m\u001b[0m \u001b[1m3s\u001b[0m 2ms/step - accuracy: 0.9570 - loss: 0.1206 - val_accuracy: 0.9669 - val_loss: 0.0844\n",
            "Epoch 17/100\n",
            "\u001b[1m1772/1772\u001b[0m \u001b[32m━━━━━━━━━━━━━━━━━━━━\u001b[0m\u001b[37m\u001b[0m \u001b[1m4s\u001b[0m 2ms/step - accuracy: 0.9577 - loss: 0.1223 - val_accuracy: 0.9677 - val_loss: 0.0837\n",
            "Epoch 18/100\n",
            "\u001b[1m1772/1772\u001b[0m \u001b[32m━━━━━━━━━━━━━━━━━━━━\u001b[0m\u001b[37m\u001b[0m \u001b[1m3s\u001b[0m 2ms/step - accuracy: 0.9583 - loss: 0.1179 - val_accuracy: 0.9668 - val_loss: 0.0843\n",
            "Epoch 19/100\n",
            "\u001b[1m1772/1772\u001b[0m \u001b[32m━━━━━━━━━━━━━━━━━━━━\u001b[0m\u001b[37m\u001b[0m \u001b[1m4s\u001b[0m 2ms/step - accuracy: 0.9575 - loss: 0.1187 - val_accuracy: 0.9719 - val_loss: 0.0828\n",
            "Epoch 20/100\n",
            "\u001b[1m1772/1772\u001b[0m \u001b[32m━━━━━━━━━━━━━━━━━━━━\u001b[0m\u001b[37m\u001b[0m \u001b[1m4s\u001b[0m 2ms/step - accuracy: 0.9583 - loss: 0.1173 - val_accuracy: 0.9706 - val_loss: 0.0820\n",
            "Epoch 21/100\n",
            "\u001b[1m1772/1772\u001b[0m \u001b[32m━━━━━━━━━━━━━━━━━━━━\u001b[0m\u001b[37m\u001b[0m \u001b[1m4s\u001b[0m 2ms/step - accuracy: 0.9576 - loss: 0.1205 - val_accuracy: 0.9671 - val_loss: 0.0814\n",
            "Epoch 22/100\n",
            "\u001b[1m1772/1772\u001b[0m \u001b[32m━━━━━━━━━━━━━━━━━━━━\u001b[0m\u001b[37m\u001b[0m \u001b[1m3s\u001b[0m 2ms/step - accuracy: 0.9587 - loss: 0.1164 - val_accuracy: 0.9711 - val_loss: 0.0815\n",
            "Epoch 23/100\n",
            "\u001b[1m1772/1772\u001b[0m \u001b[32m━━━━━━━━━━━━━━━━━━━━\u001b[0m\u001b[37m\u001b[0m \u001b[1m4s\u001b[0m 2ms/step - accuracy: 0.9577 - loss: 0.1188 - val_accuracy: 0.9702 - val_loss: 0.0808\n",
            "Epoch 24/100\n",
            "\u001b[1m1772/1772\u001b[0m \u001b[32m━━━━━━━━━━━━━━━━━━━━\u001b[0m\u001b[37m\u001b[0m \u001b[1m4s\u001b[0m 2ms/step - accuracy: 0.9598 - loss: 0.1168 - val_accuracy: 0.9705 - val_loss: 0.0801\n",
            "Epoch 25/100\n",
            "\u001b[1m1772/1772\u001b[0m \u001b[32m━━━━━━━━━━━━━━━━━━━━\u001b[0m\u001b[37m\u001b[0m \u001b[1m4s\u001b[0m 2ms/step - accuracy: 0.9577 - loss: 0.1173 - val_accuracy: 0.9694 - val_loss: 0.0800\n",
            "Epoch 26/100\n",
            "\u001b[1m1772/1772\u001b[0m \u001b[32m━━━━━━━━━━━━━━━━━━━━\u001b[0m\u001b[37m\u001b[0m \u001b[1m4s\u001b[0m 2ms/step - accuracy: 0.9585 - loss: 0.1165 - val_accuracy: 0.9697 - val_loss: 0.0796\n",
            "Epoch 27/100\n",
            "\u001b[1m1772/1772\u001b[0m \u001b[32m━━━━━━━━━━━━━━━━━━━━\u001b[0m\u001b[37m\u001b[0m \u001b[1m3s\u001b[0m 2ms/step - accuracy: 0.9587 - loss: 0.1161 - val_accuracy: 0.9703 - val_loss: 0.0798\n",
            "Epoch 28/100\n",
            "\u001b[1m1772/1772\u001b[0m \u001b[32m━━━━━━━━━━━━━━━━━━━━\u001b[0m\u001b[37m\u001b[0m \u001b[1m3s\u001b[0m 2ms/step - accuracy: 0.9585 - loss: 0.1164 - val_accuracy: 0.9692 - val_loss: 0.0793\n",
            "Epoch 29/100\n",
            "\u001b[1m1772/1772\u001b[0m \u001b[32m━━━━━━━━━━━━━━━━━━━━\u001b[0m\u001b[37m\u001b[0m \u001b[1m4s\u001b[0m 2ms/step - accuracy: 0.9592 - loss: 0.1140 - val_accuracy: 0.9713 - val_loss: 0.0782\n",
            "Epoch 30/100\n",
            "\u001b[1m1772/1772\u001b[0m \u001b[32m━━━━━━━━━━━━━━━━━━━━\u001b[0m\u001b[37m\u001b[0m \u001b[1m3s\u001b[0m 2ms/step - accuracy: 0.9598 - loss: 0.1134 - val_accuracy: 0.9712 - val_loss: 0.0782\n",
            "Epoch 31/100\n",
            "\u001b[1m1772/1772\u001b[0m \u001b[32m━━━━━━━━━━━━━━━━━━━━\u001b[0m\u001b[37m\u001b[0m \u001b[1m4s\u001b[0m 2ms/step - accuracy: 0.9592 - loss: 0.1170 - val_accuracy: 0.9696 - val_loss: 0.0781\n",
            "Epoch 32/100\n",
            "\u001b[1m1772/1772\u001b[0m \u001b[32m━━━━━━━━━━━━━━━━━━━━\u001b[0m\u001b[37m\u001b[0m \u001b[1m3s\u001b[0m 2ms/step - accuracy: 0.9601 - loss: 0.1129 - val_accuracy: 0.9719 - val_loss: 0.0774\n",
            "Epoch 33/100\n",
            "\u001b[1m1772/1772\u001b[0m \u001b[32m━━━━━━━━━━━━━━━━━━━━\u001b[0m\u001b[37m\u001b[0m \u001b[1m4s\u001b[0m 2ms/step - accuracy: 0.9598 - loss: 0.1130 - val_accuracy: 0.9701 - val_loss: 0.0789\n",
            "Epoch 34/100\n",
            "\u001b[1m1772/1772\u001b[0m \u001b[32m━━━━━━━━━━━━━━━━━━━━\u001b[0m\u001b[37m\u001b[0m \u001b[1m4s\u001b[0m 2ms/step - accuracy: 0.9601 - loss: 0.1127 - val_accuracy: 0.9690 - val_loss: 0.0771\n",
            "Epoch 35/100\n",
            "\u001b[1m1772/1772\u001b[0m \u001b[32m━━━━━━━━━━━━━━━━━━━━\u001b[0m\u001b[37m\u001b[0m \u001b[1m4s\u001b[0m 2ms/step - accuracy: 0.9597 - loss: 0.1100 - val_accuracy: 0.9691 - val_loss: 0.0781\n",
            "Epoch 36/100\n",
            "\u001b[1m1772/1772\u001b[0m \u001b[32m━━━━━━━━━━━━━━━━━━━━\u001b[0m\u001b[37m\u001b[0m \u001b[1m4s\u001b[0m 2ms/step - accuracy: 0.9606 - loss: 0.1133 - val_accuracy: 0.9715 - val_loss: 0.0764\n",
            "Epoch 37/100\n",
            "\u001b[1m1772/1772\u001b[0m \u001b[32m━━━━━━━━━━━━━━━━━━━━\u001b[0m\u001b[37m\u001b[0m \u001b[1m3s\u001b[0m 2ms/step - accuracy: 0.9612 - loss: 0.1102 - val_accuracy: 0.9714 - val_loss: 0.0767\n",
            "Epoch 38/100\n",
            "\u001b[1m1772/1772\u001b[0m \u001b[32m━━━━━━━━━━━━━━━━━━━━\u001b[0m\u001b[37m\u001b[0m \u001b[1m4s\u001b[0m 2ms/step - accuracy: 0.9605 - loss: 0.1112 - val_accuracy: 0.9699 - val_loss: 0.0766\n",
            "Epoch 39/100\n",
            "\u001b[1m1772/1772\u001b[0m \u001b[32m━━━━━━━━━━━━━━━━━━━━\u001b[0m\u001b[37m\u001b[0m \u001b[1m4s\u001b[0m 2ms/step - accuracy: 0.9602 - loss: 0.1114 - val_accuracy: 0.9713 - val_loss: 0.0755\n",
            "Epoch 40/100\n",
            "\u001b[1m1772/1772\u001b[0m \u001b[32m━━━━━━━━━━━━━━━━━━━━\u001b[0m\u001b[37m\u001b[0m \u001b[1m4s\u001b[0m 2ms/step - accuracy: 0.9600 - loss: 0.1116 - val_accuracy: 0.9718 - val_loss: 0.0759\n",
            "Epoch 41/100\n",
            "\u001b[1m1772/1772\u001b[0m \u001b[32m━━━━━━━━━━━━━━━━━━━━\u001b[0m\u001b[37m\u001b[0m \u001b[1m4s\u001b[0m 2ms/step - accuracy: 0.9608 - loss: 0.1094 - val_accuracy: 0.9714 - val_loss: 0.0756\n",
            "Epoch 42/100\n",
            "\u001b[1m1772/1772\u001b[0m \u001b[32m━━━━━━━━━━━━━━━━━━━━\u001b[0m\u001b[37m\u001b[0m \u001b[1m4s\u001b[0m 2ms/step - accuracy: 0.9604 - loss: 0.1119 - val_accuracy: 0.9709 - val_loss: 0.0758\n",
            "Epoch 43/100\n",
            "\u001b[1m1772/1772\u001b[0m \u001b[32m━━━━━━━━━━━━━━━━━━━━\u001b[0m\u001b[37m\u001b[0m \u001b[1m4s\u001b[0m 2ms/step - accuracy: 0.9598 - loss: 0.1126 - val_accuracy: 0.9707 - val_loss: 0.0755\n",
            "Epoch 44/100\n",
            "\u001b[1m1772/1772\u001b[0m \u001b[32m━━━━━━━━━━━━━━━━━━━━\u001b[0m\u001b[37m\u001b[0m \u001b[1m4s\u001b[0m 2ms/step - accuracy: 0.9598 - loss: 0.1114 - val_accuracy: 0.9714 - val_loss: 0.0744\n",
            "Epoch 45/100\n",
            "\u001b[1m1772/1772\u001b[0m \u001b[32m━━━━━━━━━━━━━━━━━━━━\u001b[0m\u001b[37m\u001b[0m \u001b[1m4s\u001b[0m 2ms/step - accuracy: 0.9585 - loss: 0.1164 - val_accuracy: 0.9703 - val_loss: 0.0754\n",
            "Epoch 46/100\n",
            "\u001b[1m1772/1772\u001b[0m \u001b[32m━━━━━━━━━━━━━━━━━━━━\u001b[0m\u001b[37m\u001b[0m \u001b[1m4s\u001b[0m 2ms/step - accuracy: 0.9602 - loss: 0.1100 - val_accuracy: 0.9714 - val_loss: 0.0753\n",
            "Epoch 47/100\n",
            "\u001b[1m1772/1772\u001b[0m \u001b[32m━━━━━━━━━━━━━━━━━━━━\u001b[0m\u001b[37m\u001b[0m \u001b[1m4s\u001b[0m 2ms/step - accuracy: 0.9614 - loss: 0.1090 - val_accuracy: 0.9715 - val_loss: 0.0740\n",
            "Epoch 48/100\n",
            "\u001b[1m1772/1772\u001b[0m \u001b[32m━━━━━━━━━━━━━━━━━━━━\u001b[0m\u001b[37m\u001b[0m \u001b[1m4s\u001b[0m 2ms/step - accuracy: 0.9587 - loss: 0.1131 - val_accuracy: 0.9717 - val_loss: 0.0740\n",
            "Epoch 49/100\n",
            "\u001b[1m1772/1772\u001b[0m \u001b[32m━━━━━━━━━━━━━━━━━━━━\u001b[0m\u001b[37m\u001b[0m \u001b[1m4s\u001b[0m 2ms/step - accuracy: 0.9609 - loss: 0.1109 - val_accuracy: 0.9714 - val_loss: 0.0739\n",
            "Epoch 50/100\n",
            "\u001b[1m1772/1772\u001b[0m \u001b[32m━━━━━━━━━━━━━━━━━━━━\u001b[0m\u001b[37m\u001b[0m \u001b[1m4s\u001b[0m 2ms/step - accuracy: 0.9598 - loss: 0.1122 - val_accuracy: 0.9715 - val_loss: 0.0748\n",
            "Epoch 51/100\n",
            "\u001b[1m1772/1772\u001b[0m \u001b[32m━━━━━━━━━━━━━━━━━━━━\u001b[0m\u001b[37m\u001b[0m \u001b[1m4s\u001b[0m 2ms/step - accuracy: 0.9616 - loss: 0.1084 - val_accuracy: 0.9742 - val_loss: 0.0739\n",
            "Epoch 52/100\n",
            "\u001b[1m1772/1772\u001b[0m \u001b[32m━━━━━━━━━━━━━━━━━━━━\u001b[0m\u001b[37m\u001b[0m \u001b[1m4s\u001b[0m 2ms/step - accuracy: 0.9613 - loss: 0.1086 - val_accuracy: 0.9716 - val_loss: 0.0740\n",
            "Epoch 53/100\n",
            "\u001b[1m1772/1772\u001b[0m \u001b[32m━━━━━━━━━━━━━━━━━━━━\u001b[0m\u001b[37m\u001b[0m \u001b[1m4s\u001b[0m 2ms/step - accuracy: 0.9620 - loss: 0.1083 - val_accuracy: 0.9712 - val_loss: 0.0732\n",
            "Epoch 54/100\n",
            "\u001b[1m1772/1772\u001b[0m \u001b[32m━━━━━━━━━━━━━━━━━━━━\u001b[0m\u001b[37m\u001b[0m \u001b[1m4s\u001b[0m 2ms/step - accuracy: 0.9615 - loss: 0.1072 - val_accuracy: 0.9716 - val_loss: 0.0732\n",
            "Epoch 55/100\n",
            "\u001b[1m1772/1772\u001b[0m \u001b[32m━━━━━━━━━━━━━━━━━━━━\u001b[0m\u001b[37m\u001b[0m \u001b[1m4s\u001b[0m 2ms/step - accuracy: 0.9608 - loss: 0.1081 - val_accuracy: 0.9716 - val_loss: 0.0750\n",
            "Epoch 56/100\n",
            "\u001b[1m1772/1772\u001b[0m \u001b[32m━━━━━━━━━━━━━━━━━━━━\u001b[0m\u001b[37m\u001b[0m \u001b[1m4s\u001b[0m 2ms/step - accuracy: 0.9601 - loss: 0.1101 - val_accuracy: 0.9725 - val_loss: 0.0719\n",
            "Epoch 57/100\n",
            "\u001b[1m1772/1772\u001b[0m \u001b[32m━━━━━━━━━━━━━━━━━━━━\u001b[0m\u001b[37m\u001b[0m \u001b[1m4s\u001b[0m 2ms/step - accuracy: 0.9609 - loss: 0.1091 - val_accuracy: 0.9709 - val_loss: 0.0731\n",
            "Epoch 58/100\n",
            "\u001b[1m1772/1772\u001b[0m \u001b[32m━━━━━━━━━━━━━━━━━━━━\u001b[0m\u001b[37m\u001b[0m \u001b[1m4s\u001b[0m 2ms/step - accuracy: 0.9617 - loss: 0.1092 - val_accuracy: 0.9736 - val_loss: 0.0725\n",
            "Epoch 59/100\n",
            "\u001b[1m1772/1772\u001b[0m \u001b[32m━━━━━━━━━━━━━━━━━━━━\u001b[0m\u001b[37m\u001b[0m \u001b[1m4s\u001b[0m 2ms/step - accuracy: 0.9611 - loss: 0.1101 - val_accuracy: 0.9736 - val_loss: 0.0717\n",
            "Epoch 60/100\n",
            "\u001b[1m1772/1772\u001b[0m \u001b[32m━━━━━━━━━━━━━━━━━━━━\u001b[0m\u001b[37m\u001b[0m \u001b[1m4s\u001b[0m 2ms/step - accuracy: 0.9613 - loss: 0.1106 - val_accuracy: 0.9725 - val_loss: 0.0731\n",
            "Epoch 61/100\n",
            "\u001b[1m1772/1772\u001b[0m \u001b[32m━━━━━━━━━━━━━━━━━━━━\u001b[0m\u001b[37m\u001b[0m \u001b[1m4s\u001b[0m 2ms/step - accuracy: 0.9622 - loss: 0.1061 - val_accuracy: 0.9721 - val_loss: 0.0721\n",
            "Epoch 62/100\n",
            "\u001b[1m1772/1772\u001b[0m \u001b[32m━━━━━━━━━━━━━━━━━━━━\u001b[0m\u001b[37m\u001b[0m \u001b[1m4s\u001b[0m 2ms/step - accuracy: 0.9604 - loss: 0.1092 - val_accuracy: 0.9715 - val_loss: 0.0754\n",
            "Epoch 63/100\n",
            "\u001b[1m1772/1772\u001b[0m \u001b[32m━━━━━━━━━━━━━━━━━━━━\u001b[0m\u001b[37m\u001b[0m \u001b[1m4s\u001b[0m 2ms/step - accuracy: 0.9616 - loss: 0.1065 - val_accuracy: 0.9731 - val_loss: 0.0716\n",
            "Epoch 64/100\n",
            "\u001b[1m1772/1772\u001b[0m \u001b[32m━━━━━━━━━━━━━━━━━━━━\u001b[0m\u001b[37m\u001b[0m \u001b[1m4s\u001b[0m 2ms/step - accuracy: 0.9611 - loss: 0.1088 - val_accuracy: 0.9717 - val_loss: 0.0733\n",
            "Epoch 65/100\n",
            "\u001b[1m1772/1772\u001b[0m \u001b[32m━━━━━━━━━━━━━━━━━━━━\u001b[0m\u001b[37m\u001b[0m \u001b[1m4s\u001b[0m 2ms/step - accuracy: 0.9619 - loss: 0.1100 - val_accuracy: 0.9729 - val_loss: 0.0725\n",
            "Epoch 66/100\n",
            "\u001b[1m1772/1772\u001b[0m \u001b[32m━━━━━━━━━━━━━━━━━━━━\u001b[0m\u001b[37m\u001b[0m \u001b[1m4s\u001b[0m 2ms/step - accuracy: 0.9622 - loss: 0.1068 - val_accuracy: 0.9744 - val_loss: 0.0707\n",
            "Epoch 67/100\n",
            "\u001b[1m1772/1772\u001b[0m \u001b[32m━━━━━━━━━━━━━━━━━━━━\u001b[0m\u001b[37m\u001b[0m \u001b[1m4s\u001b[0m 2ms/step - accuracy: 0.9596 - loss: 0.1109 - val_accuracy: 0.9702 - val_loss: 0.0742\n",
            "Epoch 68/100\n",
            "\u001b[1m1772/1772\u001b[0m \u001b[32m━━━━━━━━━━━━━━━━━━━━\u001b[0m\u001b[37m\u001b[0m \u001b[1m4s\u001b[0m 2ms/step - accuracy: 0.9618 - loss: 0.1065 - val_accuracy: 0.9709 - val_loss: 0.0734\n",
            "Epoch 69/100\n",
            "\u001b[1m1772/1772\u001b[0m \u001b[32m━━━━━━━━━━━━━━━━━━━━\u001b[0m\u001b[37m\u001b[0m \u001b[1m4s\u001b[0m 2ms/step - accuracy: 0.9624 - loss: 0.1054 - val_accuracy: 0.9724 - val_loss: 0.0725\n",
            "Epoch 70/100\n",
            "\u001b[1m1772/1772\u001b[0m \u001b[32m━━━━━━━━━━━━━━━━━━━━\u001b[0m\u001b[37m\u001b[0m \u001b[1m4s\u001b[0m 2ms/step - accuracy: 0.9612 - loss: 0.1074 - val_accuracy: 0.9732 - val_loss: 0.0721\n",
            "Epoch 71/100\n",
            "\u001b[1m1772/1772\u001b[0m \u001b[32m━━━━━━━━━━━━━━━━━━━━\u001b[0m\u001b[37m\u001b[0m \u001b[1m4s\u001b[0m 2ms/step - accuracy: 0.9631 - loss: 0.1017 - val_accuracy: 0.9723 - val_loss: 0.0710\n",
            "Epoch 72/100\n",
            "\u001b[1m1772/1772\u001b[0m \u001b[32m━━━━━━━━━━━━━━━━━━━━\u001b[0m\u001b[37m\u001b[0m \u001b[1m4s\u001b[0m 2ms/step - accuracy: 0.9625 - loss: 0.1062 - val_accuracy: 0.9715 - val_loss: 0.0707\n",
            "Epoch 73/100\n",
            "\u001b[1m1772/1772\u001b[0m \u001b[32m━━━━━━━━━━━━━━━━━━━━\u001b[0m\u001b[37m\u001b[0m \u001b[1m4s\u001b[0m 2ms/step - accuracy: 0.9616 - loss: 0.1072 - val_accuracy: 0.9725 - val_loss: 0.0705\n",
            "Epoch 74/100\n",
            "\u001b[1m1772/1772\u001b[0m \u001b[32m━━━━━━━━━━━━━━━━━━━━\u001b[0m\u001b[37m\u001b[0m \u001b[1m4s\u001b[0m 2ms/step - accuracy: 0.9615 - loss: 0.1078 - val_accuracy: 0.9720 - val_loss: 0.0714\n",
            "Epoch 75/100\n",
            "\u001b[1m1772/1772\u001b[0m \u001b[32m━━━━━━━━━━━━━━━━━━━━\u001b[0m\u001b[37m\u001b[0m \u001b[1m4s\u001b[0m 2ms/step - accuracy: 0.9628 - loss: 0.1043 - val_accuracy: 0.9733 - val_loss: 0.0700\n",
            "Epoch 76/100\n",
            "\u001b[1m1772/1772\u001b[0m \u001b[32m━━━━━━━━━━━━━━━━━━━━\u001b[0m\u001b[37m\u001b[0m \u001b[1m4s\u001b[0m 2ms/step - accuracy: 0.9620 - loss: 0.1054 - val_accuracy: 0.9721 - val_loss: 0.0708\n",
            "Epoch 76: early stopping\n",
            "ANN: Training time:  287.04750299453735\n",
            "\u001b[1m3543/3543\u001b[0m \u001b[32m━━━━━━━━━━━━━━━━━━━━\u001b[0m\u001b[37m\u001b[0m \u001b[1m5s\u001b[0m 1ms/step\n",
            "\u001b[1m394/394\u001b[0m \u001b[32m━━━━━━━━━━━━━━━━━━━━\u001b[0m\u001b[37m\u001b[0m \u001b[1m1s\u001b[0m 1ms/step\n",
            "\u001b[1m705/705\u001b[0m \u001b[32m━━━━━━━━━━━━━━━━━━━━\u001b[0m\u001b[37m\u001b[0m \u001b[1m1s\u001b[0m 1ms/step\n",
            "Train accuracy: 0.9696934950385887\n",
            "Val accuracy: 0.9720590569931735\n",
            "Test accuracy: 0.7325230660042583\n",
            "              precision    recall  f1-score   support\n",
            "\n",
            "           0       0.96      0.73      0.83      7458\n",
            "           1       0.63      0.98      0.77      9711\n",
            "           2       0.86      0.65      0.74      2421\n",
            "           3       0.62      0.00      0.01      2754\n",
            "           4       0.00      0.00      0.00       200\n",
            "\n",
            "    accuracy                           0.73     22544\n",
            "   macro avg       0.61      0.47      0.47     22544\n",
            "weighted avg       0.76      0.73      0.69     22544\n",
            "\n",
            "False Alarm rate is: 0.26441593517893314\n"
          ]
        },
        {
          "name": "stderr",
          "output_type": "stream",
          "text": [
            "c:\\Users\\Reza\\anaconda3\\envs\\tmp\\Lib\\site-packages\\sklearn\\metrics\\_classification.py:1509: UndefinedMetricWarning: Precision is ill-defined and being set to 0.0 in labels with no predicted samples. Use `zero_division` parameter to control this behavior.\n",
            "  _warn_prf(average, modifier, f\"{metric.capitalize()} is\", len(result))\n",
            "c:\\Users\\Reza\\anaconda3\\envs\\tmp\\Lib\\site-packages\\sklearn\\metrics\\_classification.py:1509: UndefinedMetricWarning: Precision is ill-defined and being set to 0.0 in labels with no predicted samples. Use `zero_division` parameter to control this behavior.\n",
            "  _warn_prf(average, modifier, f\"{metric.capitalize()} is\", len(result))\n",
            "c:\\Users\\Reza\\anaconda3\\envs\\tmp\\Lib\\site-packages\\sklearn\\metrics\\_classification.py:1509: UndefinedMetricWarning: Precision is ill-defined and being set to 0.0 in labels with no predicted samples. Use `zero_division` parameter to control this behavior.\n",
            "  _warn_prf(average, modifier, f\"{metric.capitalize()} is\", len(result))\n"
          ]
        }
      ],
      "source": [
        "early_stopping = EarlyStopping(\n",
        "    monitor='val_loss', \n",
        "    min_delta=0.001, \n",
        "    patience=10, \n",
        "    verbose=1, \n",
        "    mode='min', \n",
        "    restore_best_weights=False\n",
        ")\n",
        "\n",
        "\n",
        "start_time = time.time()\n",
        "kerasModel.fit(X_train_tmp, Y_train_one_hot, \n",
        "               validation_data=(X_val_tmp, Y_val_one_hot), \n",
        "               epochs=100,\n",
        "               batch_size=64, \n",
        "               callbacks=[early_stopping])\n",
        "end_time = time.time()\n",
        "print(f\"ANN: Training time: \",end_time-start_time)\n",
        "\n",
        "ann_train_pred = kerasModel.predict(X_train_tmp)\n",
        "ann_val_pred = kerasModel.predict(X_val_tmp)\n",
        "ann_test_pred = kerasModel.predict(X_test_tmp)\n",
        "\n",
        "ann_train_pred_scalar = np.argmax(ann_train_pred, axis=1)\n",
        "ann_val_pred_scalar = np.argmax(ann_val_pred, axis=1)\n",
        "ann_test_pred_scalar = np.argmax(ann_test_pred, axis=1)\n",
        "\n",
        "print('Train accuracy:', accuracy_score(Y_train,ann_train_pred_scalar))\n",
        "print('Val accuracy:', accuracy_score(Y_val,ann_val_pred_scalar))\n",
        "print('Test accuracy:', accuracy_score(Y_test,ann_test_pred_scalar))\n",
        "\n",
        "print(classification_report(Y_test, ann_test_pred_scalar))\n",
        "\n",
        "\n",
        "conf_matrix = confusion_matrix(Y_test, ann_test_pred_scalar)\n",
        "TN, FP = conf_matrix[0][0], conf_matrix[0][1]\n",
        "false_alarm_rate = FP / (FP + TN)\n",
        "print(f\"False Alarm rate is:\", false_alarm_rate)"
      ]
    },
    {
      "cell_type": "markdown",
      "metadata": {},
      "source": [
        "# Dimension Reduction"
      ]
    },
    {
      "cell_type": "markdown",
      "metadata": {},
      "source": [
        "### Non-Symmetric Deep Auto-Encoder (NDAE)"
      ]
    },
    {
      "cell_type": "code",
      "execution_count": 66,
      "metadata": {},
      "outputs": [],
      "source": [
        "import os\n",
        "os.environ[\"KERAS_BACKEND\"] = \"tensorflow\"\n",
        "\n",
        "import keras\n",
        "from keras.models import Model\n",
        "from keras.layers import Dense, Input, Dropout, BatchNormalization\n",
        "from scikeras.wrappers import KerasClassifier\n",
        "from keras.losses import CategoricalCrossentropy\n",
        "from keras.optimizers import Adam\n",
        "from keras.metrics import Accuracy\n",
        "import gc\n",
        "from sklearn.metrics import classification_report\n",
        "from keras.callbacks import EarlyStopping\n",
        "from keras.losses import MeanSquaredError\n",
        "\n",
        "keras.backend.clear_session()\n"
      ]
    },
    {
      "cell_type": "code",
      "execution_count": 160,
      "metadata": {},
      "outputs": [
        {
          "data": {
            "text/plain": [
              "array([[1., 0.],\n",
              "       [1., 0.],\n",
              "       [1., 0.],\n",
              "       ...,\n",
              "       [0., 1.],\n",
              "       [1., 0.],\n",
              "       [1., 0.]])"
            ]
          },
          "execution_count": 160,
          "metadata": {},
          "output_type": "execute_result"
        }
      ],
      "source": [
        "Y_train_one_hot"
      ]
    },
    {
      "cell_type": "code",
      "execution_count": 67,
      "metadata": {},
      "outputs": [
        {
          "name": "stdout",
          "output_type": "stream",
          "text": [
            "Epoch 1/200\n"
          ]
        },
        {
          "name": "stdout",
          "output_type": "stream",
          "text": [
            "\u001b[1m1772/1772\u001b[0m \u001b[32m━━━━━━━━━━━━━━━━━━━━\u001b[0m\u001b[37m\u001b[0m \u001b[1m5s\u001b[0m 2ms/step - loss: 0.0638 - val_loss: 0.0269\n",
            "Epoch 2/200\n",
            "\u001b[1m1772/1772\u001b[0m \u001b[32m━━━━━━━━━━━━━━━━━━━━\u001b[0m\u001b[37m\u001b[0m \u001b[1m3s\u001b[0m 2ms/step - loss: 0.0232 - val_loss: 0.0137\n",
            "Epoch 3/200\n",
            "\u001b[1m1772/1772\u001b[0m \u001b[32m━━━━━━━━━━━━━━━━━━━━\u001b[0m\u001b[37m\u001b[0m \u001b[1m3s\u001b[0m 2ms/step - loss: 0.0127 - val_loss: 0.0074\n",
            "Epoch 4/200\n",
            "\u001b[1m1772/1772\u001b[0m \u001b[32m━━━━━━━━━━━━━━━━━━━━\u001b[0m\u001b[37m\u001b[0m \u001b[1m2s\u001b[0m 1ms/step - loss: 0.0066 - val_loss: 0.0046\n",
            "Epoch 5/200\n",
            "\u001b[1m1772/1772\u001b[0m \u001b[32m━━━━━━━━━━━━━━━━━━━━\u001b[0m\u001b[37m\u001b[0m \u001b[1m3s\u001b[0m 1ms/step - loss: 0.0044 - val_loss: 0.0036\n",
            "Epoch 6/200\n",
            "\u001b[1m1772/1772\u001b[0m \u001b[32m━━━━━━━━━━━━━━━━━━━━\u001b[0m\u001b[37m\u001b[0m \u001b[1m2s\u001b[0m 1ms/step - loss: 0.0035 - val_loss: 0.0029\n",
            "Epoch 7/200\n",
            "\u001b[1m1772/1772\u001b[0m \u001b[32m━━━━━━━━━━━━━━━━━━━━\u001b[0m\u001b[37m\u001b[0m \u001b[1m2s\u001b[0m 1ms/step - loss: 0.0029 - val_loss: 0.0025\n",
            "Epoch 8/200\n",
            "\u001b[1m1772/1772\u001b[0m \u001b[32m━━━━━━━━━━━━━━━━━━━━\u001b[0m\u001b[37m\u001b[0m \u001b[1m2s\u001b[0m 1ms/step - loss: 0.0025 - val_loss: 0.0022\n",
            "Epoch 9/200\n",
            "\u001b[1m1772/1772\u001b[0m \u001b[32m━━━━━━━━━━━━━━━━━━━━\u001b[0m\u001b[37m\u001b[0m \u001b[1m2s\u001b[0m 1ms/step - loss: 0.0022 - val_loss: 0.0020\n",
            "Epoch 10/200\n",
            "\u001b[1m1772/1772\u001b[0m \u001b[32m━━━━━━━━━━━━━━━━━━━━\u001b[0m\u001b[37m\u001b[0m \u001b[1m2s\u001b[0m 1ms/step - loss: 0.0020 - val_loss: 0.0018\n",
            "Epoch 11/200\n",
            "\u001b[1m1772/1772\u001b[0m \u001b[32m━━━━━━━━━━━━━━━━━━━━\u001b[0m\u001b[37m\u001b[0m \u001b[1m2s\u001b[0m 1ms/step - loss: 0.0018 - val_loss: 0.0017\n",
            "Epoch 12/200\n",
            "\u001b[1m1772/1772\u001b[0m \u001b[32m━━━━━━━━━━━━━━━━━━━━\u001b[0m\u001b[37m\u001b[0m \u001b[1m2s\u001b[0m 1ms/step - loss: 0.0017 - val_loss: 0.0016\n",
            "Epoch 13/200\n",
            "\u001b[1m1772/1772\u001b[0m \u001b[32m━━━━━━━━━━━━━━━━━━━━\u001b[0m\u001b[37m\u001b[0m \u001b[1m2s\u001b[0m 1ms/step - loss: 0.0016 - val_loss: 0.0015\n",
            "Epoch 14/200\n",
            "\u001b[1m1772/1772\u001b[0m \u001b[32m━━━━━━━━━━━━━━━━━━━━\u001b[0m\u001b[37m\u001b[0m \u001b[1m2s\u001b[0m 1ms/step - loss: 0.0015 - val_loss: 0.0014\n",
            "Epoch 15/200\n",
            "\u001b[1m1772/1772\u001b[0m \u001b[32m━━━━━━━━━━━━━━━━━━━━\u001b[0m\u001b[37m\u001b[0m \u001b[1m3s\u001b[0m 1ms/step - loss: 0.0014 - val_loss: 0.0013\n",
            "Epoch 16/200\n",
            "\u001b[1m1772/1772\u001b[0m \u001b[32m━━━━━━━━━━━━━━━━━━━━\u001b[0m\u001b[37m\u001b[0m \u001b[1m2s\u001b[0m 1ms/step - loss: 0.0013 - val_loss: 0.0012\n",
            "Epoch 17/200\n",
            "\u001b[1m1772/1772\u001b[0m \u001b[32m━━━━━━━━━━━━━━━━━━━━\u001b[0m\u001b[37m\u001b[0m \u001b[1m2s\u001b[0m 1ms/step - loss: 0.0012 - val_loss: 0.0011\n",
            "Epoch 18/200\n",
            "\u001b[1m1772/1772\u001b[0m \u001b[32m━━━━━━━━━━━━━━━━━━━━\u001b[0m\u001b[37m\u001b[0m \u001b[1m2s\u001b[0m 1ms/step - loss: 0.0011 - val_loss: 0.0010\n",
            "Epoch 19/200\n",
            "\u001b[1m1772/1772\u001b[0m \u001b[32m━━━━━━━━━━━━━━━━━━━━\u001b[0m\u001b[37m\u001b[0m \u001b[1m2s\u001b[0m 1ms/step - loss: 0.0010 - val_loss: 9.8182e-04\n",
            "Epoch 20/200\n",
            "\u001b[1m1772/1772\u001b[0m \u001b[32m━━━━━━━━━━━━━━━━━━━━\u001b[0m\u001b[37m\u001b[0m \u001b[1m2s\u001b[0m 1ms/step - loss: 9.9926e-04 - val_loss: 9.3076e-04\n",
            "Epoch 21/200\n",
            "\u001b[1m1772/1772\u001b[0m \u001b[32m━━━━━━━━━━━━━━━━━━━━\u001b[0m\u001b[37m\u001b[0m \u001b[1m2s\u001b[0m 1ms/step - loss: 9.4094e-04 - val_loss: 8.9882e-04\n",
            "Epoch 22/200\n",
            "\u001b[1m1772/1772\u001b[0m \u001b[32m━━━━━━━━━━━━━━━━━━━━\u001b[0m\u001b[37m\u001b[0m \u001b[1m2s\u001b[0m 1ms/step - loss: 9.0559e-04 - val_loss: 8.2905e-04\n",
            "Epoch 23/200\n",
            "\u001b[1m1772/1772\u001b[0m \u001b[32m━━━━━━━━━━━━━━━━━━━━\u001b[0m\u001b[37m\u001b[0m \u001b[1m2s\u001b[0m 1ms/step - loss: 8.4098e-04 - val_loss: 7.7524e-04\n",
            "Epoch 23: early stopping\n",
            "\u001b[1m3543/3543\u001b[0m \u001b[32m━━━━━━━━━━━━━━━━━━━━\u001b[0m\u001b[37m\u001b[0m \u001b[1m3s\u001b[0m 838us/step\n",
            "\u001b[1m705/705\u001b[0m \u001b[32m━━━━━━━━━━━━━━━━━━━━\u001b[0m\u001b[37m\u001b[0m \u001b[1m1s\u001b[0m 852us/step\n",
            "\u001b[1m394/394\u001b[0m \u001b[32m━━━━━━━━━━━━━━━━━━━━\u001b[0m\u001b[37m\u001b[0m \u001b[1m0s\u001b[0m 895us/step\n",
            "\u001b[1m3543/3543\u001b[0m \u001b[32m━━━━━━━━━━━━━━━━━━━━\u001b[0m\u001b[37m\u001b[0m \u001b[1m3s\u001b[0m 866us/step\n",
            "\u001b[1m394/394\u001b[0m \u001b[32m━━━━━━━━━━━━━━━━━━━━\u001b[0m\u001b[37m\u001b[0m \u001b[1m0s\u001b[0m 848us/step\n",
            "\u001b[1m705/705\u001b[0m \u001b[32m━━━━━━━━━━━━━━━━━━━━\u001b[0m\u001b[37m\u001b[0m \u001b[1m1s\u001b[0m 971us/step\n",
            "Train error: 0.0007953152\n",
            "Val error: 0.000775235\n",
            "Test error: 0.002781377\n"
          ]
        }
      ],
      "source": [
        "early_stopping = EarlyStopping(\n",
        "    monitor='val_loss', \n",
        "    min_delta=0.001, \n",
        "    patience=10,\n",
        "    verbose=1, \n",
        "    mode='min', \n",
        "    restore_best_weights=False\n",
        ")\n",
        "\n",
        "input_layer1 = Input(shape=(X_train.shape[1],))\n",
        "encoded1 = Dense(14, activation='sigmoid')(input_layer1)\n",
        "encoded1 = Dense(28, activation='sigmoid')(encoded1)\n",
        "encoded1 = Dense(28, activation='sigmoid')(encoded1)\n",
        "output_layer1 = Dense(X_train.shape[1], activation='sigmoid')(encoded1)  # Output layer size same as input\n",
        "# Decoder part to reconstruct the input\n",
        "\n",
        "autoencoder1  = Model(inputs=input_layer1, outputs=output_layer1)\n",
        "autoencoder1.compile(optimizer='adam', loss='mse')\n",
        "\n",
        "autoencoder1.fit(X_train, X_train, epochs=200, batch_size=64, shuffle=True,validation_data=(X_val, X_val), \n",
        "               callbacks=[early_stopping])\n",
        "\n",
        "encoder1  = Model(inputs=input_layer1, outputs=encoded1)\n",
        "\n",
        "X_train_transformed1 = encoder1.predict(X_train)\n",
        "X_test_transformed1 = encoder1.predict(X_test)\n",
        "X_val_transformed1 = encoder1.predict(X_val)\n",
        "\n",
        "pred_train1 = autoencoder1.predict(X_train)\n",
        "pred_val1 = autoencoder1.predict(X_val)\n",
        "pred_test1 = autoencoder1.predict(X_test)\n",
        "\n",
        "\n",
        "reconstruction_error = MeanSquaredError()\n",
        "print('Train error:', reconstruction_error(X_train,pred_train1).numpy())\n",
        "print('Val error:', reconstruction_error(X_val,pred_val1).numpy())\n",
        "print('Test error:', reconstruction_error(X_test,pred_test1).numpy())\n"
      ]
    },
    {
      "cell_type": "code",
      "execution_count": 68,
      "metadata": {},
      "outputs": [
        {
          "name": "stdout",
          "output_type": "stream",
          "text": [
            "Epoch 1/200\n"
          ]
        },
        {
          "name": "stdout",
          "output_type": "stream",
          "text": [
            "\u001b[1m1772/1772\u001b[0m \u001b[32m━━━━━━━━━━━━━━━━━━━━\u001b[0m\u001b[37m\u001b[0m \u001b[1m4s\u001b[0m 2ms/step - loss: 0.0697 - val_loss: 0.0270\n",
            "Epoch 2/200\n",
            "\u001b[1m1772/1772\u001b[0m \u001b[32m━━━━━━━━━━━━━━━━━━━━\u001b[0m\u001b[37m\u001b[0m \u001b[1m3s\u001b[0m 1ms/step - loss: 0.0237 - val_loss: 0.0122\n",
            "Epoch 3/200\n",
            "\u001b[1m1772/1772\u001b[0m \u001b[32m━━━━━━━━━━━━━━━━━━━━\u001b[0m\u001b[37m\u001b[0m \u001b[1m3s\u001b[0m 1ms/step - loss: 0.0109 - val_loss: 0.0076\n",
            "Epoch 4/200\n",
            "\u001b[1m1772/1772\u001b[0m \u001b[32m━━━━━━━━━━━━━━━━━━━━\u001b[0m\u001b[37m\u001b[0m \u001b[1m3s\u001b[0m 1ms/step - loss: 0.0071 - val_loss: 0.0053\n",
            "Epoch 5/200\n",
            "\u001b[1m1772/1772\u001b[0m \u001b[32m━━━━━━━━━━━━━━━━━━━━\u001b[0m\u001b[37m\u001b[0m \u001b[1m3s\u001b[0m 1ms/step - loss: 0.0050 - val_loss: 0.0038\n",
            "Epoch 6/200\n",
            "\u001b[1m1772/1772\u001b[0m \u001b[32m━━━━━━━━━━━━━━━━━━━━\u001b[0m\u001b[37m\u001b[0m \u001b[1m3s\u001b[0m 1ms/step - loss: 0.0036 - val_loss: 0.0029\n",
            "Epoch 7/200\n",
            "\u001b[1m1772/1772\u001b[0m \u001b[32m━━━━━━━━━━━━━━━━━━━━\u001b[0m\u001b[37m\u001b[0m \u001b[1m3s\u001b[0m 1ms/step - loss: 0.0029 - val_loss: 0.0025\n",
            "Epoch 8/200\n",
            "\u001b[1m1772/1772\u001b[0m \u001b[32m━━━━━━━━━━━━━━━━━━━━\u001b[0m\u001b[37m\u001b[0m \u001b[1m3s\u001b[0m 1ms/step - loss: 0.0025 - val_loss: 0.0023\n",
            "Epoch 9/200\n",
            "\u001b[1m1772/1772\u001b[0m \u001b[32m━━━━━━━━━━━━━━━━━━━━\u001b[0m\u001b[37m\u001b[0m \u001b[1m3s\u001b[0m 1ms/step - loss: 0.0023 - val_loss: 0.0021\n",
            "Epoch 10/200\n",
            "\u001b[1m1772/1772\u001b[0m \u001b[32m━━━━━━━━━━━━━━━━━━━━\u001b[0m\u001b[37m\u001b[0m \u001b[1m3s\u001b[0m 1ms/step - loss: 0.0021 - val_loss: 0.0020\n",
            "Epoch 11/200\n",
            "\u001b[1m1772/1772\u001b[0m \u001b[32m━━━━━━━━━━━━━━━━━━━━\u001b[0m\u001b[37m\u001b[0m \u001b[1m3s\u001b[0m 2ms/step - loss: 0.0020 - val_loss: 0.0018\n",
            "Epoch 12/200\n",
            "\u001b[1m1772/1772\u001b[0m \u001b[32m━━━━━━━━━━━━━━━━━━━━\u001b[0m\u001b[37m\u001b[0m \u001b[1m3s\u001b[0m 2ms/step - loss: 0.0019 - val_loss: 0.0017\n",
            "Epoch 13/200\n",
            "\u001b[1m1772/1772\u001b[0m \u001b[32m━━━━━━━━━━━━━━━━━━━━\u001b[0m\u001b[37m\u001b[0m \u001b[1m3s\u001b[0m 2ms/step - loss: 0.0017 - val_loss: 0.0016\n",
            "Epoch 14/200\n",
            "\u001b[1m1772/1772\u001b[0m \u001b[32m━━━━━━━━━━━━━━━━━━━━\u001b[0m\u001b[37m\u001b[0m \u001b[1m3s\u001b[0m 2ms/step - loss: 0.0016 - val_loss: 0.0015\n",
            "Epoch 15/200\n",
            "\u001b[1m1772/1772\u001b[0m \u001b[32m━━━━━━━━━━━━━━━━━━━━\u001b[0m\u001b[37m\u001b[0m \u001b[1m3s\u001b[0m 2ms/step - loss: 0.0015 - val_loss: 0.0014\n",
            "Epoch 16/200\n",
            "\u001b[1m1772/1772\u001b[0m \u001b[32m━━━━━━━━━━━━━━━━━━━━\u001b[0m\u001b[37m\u001b[0m \u001b[1m3s\u001b[0m 2ms/step - loss: 0.0014 - val_loss: 0.0014\n",
            "Epoch 17/200\n",
            "\u001b[1m1772/1772\u001b[0m \u001b[32m━━━━━━━━━━━━━━━━━━━━\u001b[0m\u001b[37m\u001b[0m \u001b[1m3s\u001b[0m 2ms/step - loss: 0.0014 - val_loss: 0.0013\n",
            "Epoch 18/200\n",
            "\u001b[1m1772/1772\u001b[0m \u001b[32m━━━━━━━━━━━━━━━━━━━━\u001b[0m\u001b[37m\u001b[0m \u001b[1m3s\u001b[0m 2ms/step - loss: 0.0013 - val_loss: 0.0013\n",
            "Epoch 19/200\n",
            "\u001b[1m1772/1772\u001b[0m \u001b[32m━━━━━━━━━━━━━━━━━━━━\u001b[0m\u001b[37m\u001b[0m \u001b[1m5s\u001b[0m 2ms/step - loss: 0.0013 - val_loss: 0.0013\n",
            "Epoch 20/200\n",
            "\u001b[1m1772/1772\u001b[0m \u001b[32m━━━━━━━━━━━━━━━━━━━━\u001b[0m\u001b[37m\u001b[0m \u001b[1m3s\u001b[0m 2ms/step - loss: 0.0013 - val_loss: 0.0012\n",
            "Epoch 21/200\n",
            "\u001b[1m1772/1772\u001b[0m \u001b[32m━━━━━━━━━━━━━━━━━━━━\u001b[0m\u001b[37m\u001b[0m \u001b[1m3s\u001b[0m 2ms/step - loss: 0.0012 - val_loss: 0.0012\n",
            "Epoch 22/200\n",
            "\u001b[1m1772/1772\u001b[0m \u001b[32m━━━━━━━━━━━━━━━━━━━━\u001b[0m\u001b[37m\u001b[0m \u001b[1m3s\u001b[0m 1ms/step - loss: 0.0012 - val_loss: 0.0012\n",
            "Epoch 23/200\n",
            "\u001b[1m1772/1772\u001b[0m \u001b[32m━━━━━━━━━━━━━━━━━━━━\u001b[0m\u001b[37m\u001b[0m \u001b[1m3s\u001b[0m 2ms/step - loss: 0.0012 - val_loss: 0.0011\n",
            "Epoch 24/200\n",
            "\u001b[1m1772/1772\u001b[0m \u001b[32m━━━━━━━━━━━━━━━━━━━━\u001b[0m\u001b[37m\u001b[0m \u001b[1m3s\u001b[0m 2ms/step - loss: 0.0011 - val_loss: 0.0011\n",
            "Epoch 25/200\n",
            "\u001b[1m1772/1772\u001b[0m \u001b[32m━━━━━━━━━━━━━━━━━━━━\u001b[0m\u001b[37m\u001b[0m \u001b[1m3s\u001b[0m 2ms/step - loss: 0.0011 - val_loss: 0.0011\n",
            "Epoch 25: early stopping\n",
            "\u001b[1m3543/3543\u001b[0m \u001b[32m━━━━━━━━━━━━━━━━━━━━\u001b[0m\u001b[37m\u001b[0m \u001b[1m3s\u001b[0m 970us/step\n",
            "\u001b[1m705/705\u001b[0m \u001b[32m━━━━━━━━━━━━━━━━━━━━\u001b[0m\u001b[37m\u001b[0m \u001b[1m1s\u001b[0m 998us/step\n",
            "\u001b[1m394/394\u001b[0m \u001b[32m━━━━━━━━━━━━━━━━━━━━\u001b[0m\u001b[37m\u001b[0m \u001b[1m0s\u001b[0m 990us/step\n",
            "\u001b[1m3543/3543\u001b[0m \u001b[32m━━━━━━━━━━━━━━━━━━━━\u001b[0m\u001b[37m\u001b[0m \u001b[1m4s\u001b[0m 1ms/step\n",
            "\u001b[1m394/394\u001b[0m \u001b[32m━━━━━━━━━━━━━━━━━━━━\u001b[0m\u001b[37m\u001b[0m \u001b[1m0s\u001b[0m 1ms/step\n",
            "\u001b[1m705/705\u001b[0m \u001b[32m━━━━━━━━━━━━━━━━━━━━\u001b[0m\u001b[37m\u001b[0m \u001b[1m1s\u001b[0m 1ms/step\n",
            "Train error: 0.0010864402\n",
            "Val error: 0.0010720735\n",
            "Test error: 0.0031750465\n"
          ]
        }
      ],
      "source": [
        "early_stopping = EarlyStopping(\n",
        "    monitor='val_loss', \n",
        "    min_delta=0.001, \n",
        "    patience=10, \n",
        "    verbose=1, \n",
        "    mode='min', \n",
        "    restore_best_weights=False\n",
        ")\n",
        "\n",
        "input_layer2 = Input(shape=(28,))\n",
        "encoded2 = Dense(14, activation='sigmoid')(input_layer2)\n",
        "encoded2 = Dense(28, activation='sigmoid')(encoded2)\n",
        "encoded2 = Dense(28, activation='sigmoid')(encoded2)\n",
        "output_layer2 = Dense(X_train.shape[1], activation='sigmoid')(encoded2)  # Output layer size same as input\n",
        "\n",
        "autoencoder2  = Model(inputs=input_layer2, outputs=output_layer2)\n",
        "autoencoder2.compile(optimizer='adam', loss='mse')\n",
        "\n",
        "autoencoder2.fit(X_train_transformed1, X_train, epochs=200, batch_size=64, shuffle=True,\n",
        "                 validation_data=(X_val_transformed1, X_val), \n",
        "               callbacks=[early_stopping])\n",
        "\n",
        "encoder2  = Model(inputs=input_layer2, outputs=encoded2)\n",
        "X_train_transformed2 = encoder2.predict(X_train_transformed1)\n",
        "X_test_transformed2 = encoder2.predict(X_test_transformed1)\n",
        "X_val_transformed2 = encoder2.predict(X_val_transformed1)\n",
        "\n",
        "\n",
        "pred_train2 = autoencoder2.predict(X_train_transformed1)\n",
        "pred_val2 = autoencoder2.predict(X_val_transformed1)\n",
        "pred_test2 = autoencoder2.predict(X_test_transformed1)\n",
        "\n",
        "\n",
        "reconstruction_error = MeanSquaredError()\n",
        "print('Train error:', reconstruction_error(X_train,pred_train2).numpy())\n",
        "print('Val error:', reconstruction_error(X_val,pred_val2).numpy())\n",
        "print('Test error:', reconstruction_error(X_test,pred_test2).numpy())"
      ]
    },
    {
      "cell_type": "code",
      "execution_count": 69,
      "metadata": {},
      "outputs": [],
      "source": [
        "X_train_tmp, X_val_tmp, X_test_tmp = X_train_transformed2, X_val_transformed2, X_test_transformed2"
      ]
    },
    {
      "cell_type": "markdown",
      "metadata": {},
      "source": [
        "### PCA"
      ]
    },
    {
      "cell_type": "code",
      "execution_count": 81,
      "metadata": {},
      "outputs": [
        {
          "data": {
            "text/plain": [
              "20"
            ]
          },
          "execution_count": 81,
          "metadata": {},
          "output_type": "execute_result"
        }
      ],
      "source": [
        "from sklearn.decomposition import PCA\n",
        "\n",
        "pca = PCA(n_components=20)\n",
        "X_train_tmp = pca.fit_transform(X_train)\n",
        "X_val_tmp = pca.transform(X_val)\n",
        "X_test_tmp = pca.transform(X_test)\n",
        "\n",
        "len(pca.components_)"
      ]
    },
    {
      "cell_type": "markdown",
      "metadata": {},
      "source": [
        "### LDA"
      ]
    },
    {
      "cell_type": "code",
      "execution_count": 96,
      "metadata": {},
      "outputs": [
        {
          "data": {
            "text/plain": [
              "(5, (113375, 4))"
            ]
          },
          "execution_count": 96,
          "metadata": {},
          "output_type": "execute_result"
        }
      ],
      "source": [
        "from sklearn.discriminant_analysis import LinearDiscriminantAnalysis\n",
        "\n",
        "lda = LinearDiscriminantAnalysis()\n",
        "X_train_tmp = lda.fit_transform(X_train, Y_train.values.ravel())\n",
        "X_val_tmp = lda.transform(X_val)\n",
        "X_test_tmp = lda.transform(X_test)\n",
        "\n",
        "len(lda.classes_), X_train_tmp.shape"
      ]
    },
    {
      "cell_type": "markdown",
      "metadata": {},
      "source": [
        "### t-SNE"
      ]
    },
    {
      "cell_type": "code",
      "execution_count": null,
      "metadata": {},
      "outputs": [],
      "source": [
        "from sklearn.manifold import TSNE\n",
        "\n",
        "tsne = TSNE()\n",
        "X_train_tmp = tsne.fit_transform(X_train, Y_train)\n",
        "X_val_tmp = tsne.transform(X_val)\n",
        "X_test_tmp = tsne.transform(X_test)\n",
        "\n",
        "len(tsne.embedding_)"
      ]
    },
    {
      "cell_type": "markdown",
      "metadata": {},
      "source": [
        "# Versions"
      ]
    },
    {
      "cell_type": "code",
      "execution_count": 206,
      "metadata": {},
      "outputs": [
        {
          "data": {
            "text/plain": [
              "['pip 24.0 from c:\\\\Users\\\\rezaab\\\\Projects\\\\IntrusionDetection-KDD\\\\.venv\\\\Lib\\\\site-packages\\\\pip (python 3.11)',\n",
              " '']"
            ]
          },
          "execution_count": 206,
          "metadata": {},
          "output_type": "execute_result"
        }
      ],
      "source": [
        "!! pip --version"
      ]
    },
    {
      "cell_type": "code",
      "execution_count": 205,
      "metadata": {},
      "outputs": [
        {
          "data": {
            "text/plain": [
              "['Package                      Version',\n",
              " '---------------------------- -----------',\n",
              " 'absl-py                      2.1.0',\n",
              " 'asttokens                    2.4.1',\n",
              " 'astunparse                   1.6.3',\n",
              " 'cachetools                   5.3.3',\n",
              " 'certifi                      2024.2.2',\n",
              " 'charset-normalizer           3.3.2',\n",
              " 'colorama                     0.4.6',\n",
              " 'comm                         0.2.2',\n",
              " 'contourpy                    1.2.1',\n",
              " 'cycler                       0.12.1',\n",
              " 'debugpy                      1.8.1',\n",
              " 'decorator                    5.1.1',\n",
              " 'executing                    2.0.1',\n",
              " 'flatbuffers                  24.3.25',\n",
              " 'fonttools                    4.51.0',\n",
              " 'gast                         0.5.4',\n",
              " 'google-auth                  2.29.0',\n",
              " 'google-auth-oauthlib         1.2.0',\n",
              " 'google-pasta                 0.2.0',\n",
              " 'grpcio                       1.62.1',\n",
              " 'h5py                         3.11.0',\n",
              " 'idna                         3.7',\n",
              " 'ipykernel                    6.29.4',\n",
              " 'ipython                      8.23.0',\n",
              " 'jedi                         0.19.1',\n",
              " 'joblib                       1.4.0',\n",
              " 'jupyter_client               8.6.1',\n",
              " 'jupyter_core                 5.7.2',\n",
              " 'keras                        3.2.1',\n",
              " 'kiwisolver                   1.4.5',\n",
              " 'libclang                     18.1.1',\n",
              " 'Markdown                     3.6',\n",
              " 'markdown-it-py               3.0.0',\n",
              " 'MarkupSafe                   2.1.5',\n",
              " 'matplotlib                   3.8.4',\n",
              " 'matplotlib-inline            0.1.6',\n",
              " 'mdurl                        0.1.2',\n",
              " 'ml-dtypes                    0.2.0',\n",
              " 'namex                        0.0.7',\n",
              " 'nest-asyncio                 1.6.0',\n",
              " 'numpy                        1.26.4',\n",
              " 'oauthlib                     3.2.2',\n",
              " 'opt-einsum                   3.3.0',\n",
              " 'optree                       0.11.0',\n",
              " 'packaging                    24.0',\n",
              " 'pandas                       2.2.2',\n",
              " 'parso                        0.8.4',\n",
              " 'pillow                       10.3.0',\n",
              " 'pip                          24.0',\n",
              " 'platformdirs                 4.2.0',\n",
              " 'prompt-toolkit               3.0.43',\n",
              " 'protobuf                     4.25.3',\n",
              " 'psutil                       5.9.8',\n",
              " 'pure-eval                    0.2.2',\n",
              " 'pyasn1                       0.6.0',\n",
              " 'pyasn1_modules               0.4.0',\n",
              " 'pydot                        2.0.0',\n",
              " 'pydotplus                    2.0.2',\n",
              " 'Pygments                     2.17.2',\n",
              " 'pyparsing                    3.1.2',\n",
              " 'python-dateutil              2.9.0.post0',\n",
              " 'pytz                         2024.1',\n",
              " 'pywin32                      306',\n",
              " 'pyzmq                        25.1.2',\n",
              " 'requests                     2.31.0',\n",
              " 'requests-oauthlib            2.0.0',\n",
              " 'rich                         13.7.1',\n",
              " 'rsa                          4.9',\n",
              " 'scikeras                     0.13.0',\n",
              " 'scikit-learn                 1.4.2',\n",
              " 'scipy                        1.13.0',\n",
              " 'seaborn                      0.13.2',\n",
              " 'setuptools                   65.5.0',\n",
              " 'six                          1.16.0',\n",
              " 'stack-data                   0.6.3',\n",
              " 'tensorboard                  2.15.2',\n",
              " 'tensorboard-data-server      0.7.2',\n",
              " 'tensorflow                   2.15.0',\n",
              " 'tensorflow-estimator         2.15.0',\n",
              " 'tensorflow-intel             2.15.0',\n",
              " 'tensorflow-io-gcs-filesystem 0.31.0',\n",
              " 'termcolor                    2.4.0',\n",
              " 'threadpoolctl                3.4.0',\n",
              " 'tornado                      6.4',\n",
              " 'traitlets                    5.14.2',\n",
              " 'typing_extensions            4.11.0',\n",
              " 'tzdata                       2024.1',\n",
              " 'urllib3                      2.2.1',\n",
              " 'wcwidth                      0.2.13',\n",
              " 'Werkzeug                     3.0.2',\n",
              " 'wheel                        0.43.0',\n",
              " 'wrapt                        1.14.1']"
            ]
          },
          "execution_count": 205,
          "metadata": {},
          "output_type": "execute_result"
        }
      ],
      "source": [
        "!! pip list"
      ]
    }
  ],
  "metadata": {
    "accelerator": "GPU",
    "colab": {
      "authorship_tag": "ABX9TyPi4DVO8c3v9CAOr0NMJaNx",
      "gpuType": "T4",
      "include_colab_link": true,
      "mount_file_id": "1543CWaeoEqTPpCEYmRa7jx3W8n7f0qt-",
      "provenance": []
    },
    "kernelspec": {
      "display_name": "Python 3",
      "name": "python3"
    },
    "language_info": {
      "codemirror_mode": {
        "name": "ipython",
        "version": 3
      },
      "file_extension": ".py",
      "mimetype": "text/x-python",
      "name": "python",
      "nbconvert_exporter": "python",
      "pygments_lexer": "ipython3",
      "version": "3.11.5"
    }
  },
  "nbformat": 4,
  "nbformat_minor": 0
}
