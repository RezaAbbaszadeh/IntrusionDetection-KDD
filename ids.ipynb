{
  "cells": [
    {
      "cell_type": "code",
      "execution_count": null,
      "metadata": {},
      "outputs": [],
      "source": [
        "! pip install -r requirements.txt"
      ]
    },
    {
      "cell_type": "code",
      "execution_count": 1,
      "metadata": {
        "id": "fwyp5k2rj6qn"
      },
      "outputs": [],
      "source": [
        "import os\n",
        "import pandas as pd\n",
        "import numpy as np\n",
        "import matplotlib.pyplot as plt\n",
        "import seaborn as sns\n",
        "import time\n",
        "\n",
        "def dataset(file_name:str = ''):\n",
        "  return f'dataset/kdd/{file_name}'"
      ]
    },
    {
      "cell_type": "code",
      "execution_count": 2,
      "metadata": {
        "colab": {
          "base_uri": "https://localhost:8080/"
        },
        "id": "J43vI1YZYMWN",
        "outputId": "b267a6ee-80be-4cbd-8d91-a121b86e76f9"
      },
      "outputs": [
        {
          "name": "stdout",
          "output_type": "stream",
          "text": [
            "['corrected.gz', 'dataset.csv', 'dataset2.csv', 'kddcup.data.gz', 'kddcup.data_10_percent.gz', 'kddcup.names', 'kddcup.newtestdata_10_percent_unlabeled.gz', 'kddcup.testdata.unlabeled.gz', 'kddcup.testdata.unlabeled_10_percent.gz', 'test_dataset.csv', 'test_dataset2.csv', 'training_attack_types', 'typo-correction.txt']\n"
          ]
        }
      ],
      "source": [
        "import os\n",
        "\n",
        "print(os.listdir(dataset()))"
      ]
    },
    {
      "cell_type": "code",
      "execution_count": 3,
      "metadata": {
        "colab": {
          "base_uri": "https://localhost:8080/"
        },
        "id": "H_eGgspgZKeB",
        "outputId": "08f19a04-fd9a-4467-8413-fdc29dadf426"
      },
      "outputs": [
        {
          "data": {
            "text/plain": [
              "(42,\n",
              " ['duration',\n",
              "  'protocol_type',\n",
              "  'service',\n",
              "  'flag',\n",
              "  'src_bytes',\n",
              "  'dst_bytes',\n",
              "  'land',\n",
              "  'wrong_fragment',\n",
              "  'urgent',\n",
              "  'hot',\n",
              "  'num_failed_logins',\n",
              "  'logged_in',\n",
              "  'num_compromised',\n",
              "  'root_shell',\n",
              "  'su_attempted',\n",
              "  'num_root',\n",
              "  'num_file_creations',\n",
              "  'num_shells',\n",
              "  'num_access_files',\n",
              "  'num_outbound_cmds',\n",
              "  'is_host_login',\n",
              "  'is_guest_login',\n",
              "  'count',\n",
              "  'srv_count',\n",
              "  'serror_rate',\n",
              "  'srv_serror_rate',\n",
              "  'rerror_rate',\n",
              "  'srv_rerror_rate',\n",
              "  'same_srv_rate',\n",
              "  'diff_srv_rate',\n",
              "  'srv_diff_host_rate',\n",
              "  'dst_host_count',\n",
              "  'dst_host_srv_count',\n",
              "  'dst_host_same_srv_rate',\n",
              "  'dst_host_diff_srv_rate',\n",
              "  'dst_host_same_src_port_rate',\n",
              "  'dst_host_srv_diff_host_rate',\n",
              "  'dst_host_serror_rate',\n",
              "  'dst_host_srv_serror_rate',\n",
              "  'dst_host_rerror_rate',\n",
              "  'dst_host_srv_rerror_rate',\n",
              "  'target'])"
            ]
          },
          "execution_count": 3,
          "metadata": {},
          "output_type": "execute_result"
        }
      ],
      "source": [
        "with open(dataset(\"kddcup.names\"),'r') as f:\n",
        "  names = f.read()\n",
        "  features = [name.split(':')[0].strip() for name in names.split('.')][1:-1] + ['target']\n",
        "\n",
        "len(features) , features"
      ]
    },
    {
      "cell_type": "code",
      "execution_count": 4,
      "metadata": {
        "colab": {
          "base_uri": "https://localhost:8080/"
        },
        "id": "U5jE3MwmfT8l",
        "outputId": "0573db1c-6a45-4b69-cbc4-6f4f6a918428"
      },
      "outputs": [
        {
          "data": {
            "text/plain": [
              "(23,\n",
              " {'normal': 'normal',\n",
              "  'back': 'dos',\n",
              "  'buffer_overflow': 'u2r',\n",
              "  'ftp_write': 'r2l',\n",
              "  'guess_passwd': 'r2l',\n",
              "  'imap': 'r2l',\n",
              "  'ipsweep': 'probe',\n",
              "  'land': 'dos',\n",
              "  'loadmodule': 'u2r',\n",
              "  'multihop': 'r2l',\n",
              "  'neptune': 'dos',\n",
              "  'nmap': 'probe',\n",
              "  'perl': 'u2r',\n",
              "  'phf': 'r2l',\n",
              "  'pod': 'dos',\n",
              "  'portsweep': 'probe',\n",
              "  'rootkit': 'u2r',\n",
              "  'satan': 'probe',\n",
              "  'smurf': 'dos',\n",
              "  'spy': 'r2l',\n",
              "  'teardrop': 'dos',\n",
              "  'warezclient': 'r2l',\n",
              "  'warezmaster': 'r2l'})"
            ]
          },
          "execution_count": 4,
          "metadata": {},
          "output_type": "execute_result"
        }
      ],
      "source": [
        "attack_types = {'normal': 'normal'}\n",
        "with open(dataset(\"training_attack_types\"),'r') as f:\n",
        "  types = f.read()\n",
        "  attack_types.update({t.split(' ')[0]: t.split(' ')[1] for t in types.split('\\n')[:-2]})\n",
        "len(attack_types), attack_types"
      ]
    },
    {
      "cell_type": "code",
      "execution_count": 5,
      "metadata": {
        "colab": {
          "base_uri": "https://localhost:8080/",
          "height": 273
        },
        "id": "VqUsOxV3immF",
        "outputId": "b94eb5f2-d9fa-4e78-ee88-626af04155d2"
      },
      "outputs": [
        {
          "data": {
            "text/html": [
              "<div>\n",
              "<style scoped>\n",
              "    .dataframe tbody tr th:only-of-type {\n",
              "        vertical-align: middle;\n",
              "    }\n",
              "\n",
              "    .dataframe tbody tr th {\n",
              "        vertical-align: top;\n",
              "    }\n",
              "\n",
              "    .dataframe thead th {\n",
              "        text-align: right;\n",
              "    }\n",
              "</style>\n",
              "<table border=\"1\" class=\"dataframe\">\n",
              "  <thead>\n",
              "    <tr style=\"text-align: right;\">\n",
              "      <th></th>\n",
              "      <th>duration</th>\n",
              "      <th>protocol_type</th>\n",
              "      <th>service</th>\n",
              "      <th>flag</th>\n",
              "      <th>src_bytes</th>\n",
              "      <th>dst_bytes</th>\n",
              "      <th>land</th>\n",
              "      <th>wrong_fragment</th>\n",
              "      <th>urgent</th>\n",
              "      <th>hot</th>\n",
              "      <th>...</th>\n",
              "      <th>dst_host_diff_srv_rate</th>\n",
              "      <th>dst_host_same_src_port_rate</th>\n",
              "      <th>dst_host_srv_diff_host_rate</th>\n",
              "      <th>dst_host_serror_rate</th>\n",
              "      <th>dst_host_srv_serror_rate</th>\n",
              "      <th>dst_host_rerror_rate</th>\n",
              "      <th>dst_host_srv_rerror_rate</th>\n",
              "      <th>target</th>\n",
              "      <th>benign</th>\n",
              "      <th>Attack Type</th>\n",
              "    </tr>\n",
              "  </thead>\n",
              "  <tbody>\n",
              "    <tr>\n",
              "      <th>0</th>\n",
              "      <td>0</td>\n",
              "      <td>tcp</td>\n",
              "      <td>http</td>\n",
              "      <td>SF</td>\n",
              "      <td>215</td>\n",
              "      <td>45076</td>\n",
              "      <td>0</td>\n",
              "      <td>0</td>\n",
              "      <td>0</td>\n",
              "      <td>0</td>\n",
              "      <td>...</td>\n",
              "      <td>0.0</td>\n",
              "      <td>0.00</td>\n",
              "      <td>0.0</td>\n",
              "      <td>0.0</td>\n",
              "      <td>0.0</td>\n",
              "      <td>0.0</td>\n",
              "      <td>0.0</td>\n",
              "      <td>normal.</td>\n",
              "      <td>1</td>\n",
              "      <td>normal</td>\n",
              "    </tr>\n",
              "    <tr>\n",
              "      <th>1</th>\n",
              "      <td>0</td>\n",
              "      <td>tcp</td>\n",
              "      <td>http</td>\n",
              "      <td>SF</td>\n",
              "      <td>162</td>\n",
              "      <td>4528</td>\n",
              "      <td>0</td>\n",
              "      <td>0</td>\n",
              "      <td>0</td>\n",
              "      <td>0</td>\n",
              "      <td>...</td>\n",
              "      <td>0.0</td>\n",
              "      <td>1.00</td>\n",
              "      <td>0.0</td>\n",
              "      <td>0.0</td>\n",
              "      <td>0.0</td>\n",
              "      <td>0.0</td>\n",
              "      <td>0.0</td>\n",
              "      <td>normal.</td>\n",
              "      <td>1</td>\n",
              "      <td>normal</td>\n",
              "    </tr>\n",
              "    <tr>\n",
              "      <th>2</th>\n",
              "      <td>0</td>\n",
              "      <td>tcp</td>\n",
              "      <td>http</td>\n",
              "      <td>SF</td>\n",
              "      <td>236</td>\n",
              "      <td>1228</td>\n",
              "      <td>0</td>\n",
              "      <td>0</td>\n",
              "      <td>0</td>\n",
              "      <td>0</td>\n",
              "      <td>...</td>\n",
              "      <td>0.0</td>\n",
              "      <td>0.50</td>\n",
              "      <td>0.0</td>\n",
              "      <td>0.0</td>\n",
              "      <td>0.0</td>\n",
              "      <td>0.0</td>\n",
              "      <td>0.0</td>\n",
              "      <td>normal.</td>\n",
              "      <td>1</td>\n",
              "      <td>normal</td>\n",
              "    </tr>\n",
              "    <tr>\n",
              "      <th>3</th>\n",
              "      <td>0</td>\n",
              "      <td>tcp</td>\n",
              "      <td>http</td>\n",
              "      <td>SF</td>\n",
              "      <td>233</td>\n",
              "      <td>2032</td>\n",
              "      <td>0</td>\n",
              "      <td>0</td>\n",
              "      <td>0</td>\n",
              "      <td>0</td>\n",
              "      <td>...</td>\n",
              "      <td>0.0</td>\n",
              "      <td>0.33</td>\n",
              "      <td>0.0</td>\n",
              "      <td>0.0</td>\n",
              "      <td>0.0</td>\n",
              "      <td>0.0</td>\n",
              "      <td>0.0</td>\n",
              "      <td>normal.</td>\n",
              "      <td>1</td>\n",
              "      <td>normal</td>\n",
              "    </tr>\n",
              "    <tr>\n",
              "      <th>4</th>\n",
              "      <td>0</td>\n",
              "      <td>tcp</td>\n",
              "      <td>http</td>\n",
              "      <td>SF</td>\n",
              "      <td>239</td>\n",
              "      <td>486</td>\n",
              "      <td>0</td>\n",
              "      <td>0</td>\n",
              "      <td>0</td>\n",
              "      <td>0</td>\n",
              "      <td>...</td>\n",
              "      <td>0.0</td>\n",
              "      <td>0.25</td>\n",
              "      <td>0.0</td>\n",
              "      <td>0.0</td>\n",
              "      <td>0.0</td>\n",
              "      <td>0.0</td>\n",
              "      <td>0.0</td>\n",
              "      <td>normal.</td>\n",
              "      <td>1</td>\n",
              "      <td>normal</td>\n",
              "    </tr>\n",
              "  </tbody>\n",
              "</table>\n",
              "<p>5 rows × 44 columns</p>\n",
              "</div>"
            ],
            "text/plain": [
              "   duration protocol_type service flag  src_bytes  dst_bytes  land  \\\n",
              "0         0           tcp    http   SF        215      45076     0   \n",
              "1         0           tcp    http   SF        162       4528     0   \n",
              "2         0           tcp    http   SF        236       1228     0   \n",
              "3         0           tcp    http   SF        233       2032     0   \n",
              "4         0           tcp    http   SF        239        486     0   \n",
              "\n",
              "   wrong_fragment  urgent  hot  ...  dst_host_diff_srv_rate  \\\n",
              "0               0       0    0  ...                     0.0   \n",
              "1               0       0    0  ...                     0.0   \n",
              "2               0       0    0  ...                     0.0   \n",
              "3               0       0    0  ...                     0.0   \n",
              "4               0       0    0  ...                     0.0   \n",
              "\n",
              "   dst_host_same_src_port_rate  dst_host_srv_diff_host_rate  \\\n",
              "0                         0.00                          0.0   \n",
              "1                         1.00                          0.0   \n",
              "2                         0.50                          0.0   \n",
              "3                         0.33                          0.0   \n",
              "4                         0.25                          0.0   \n",
              "\n",
              "   dst_host_serror_rate  dst_host_srv_serror_rate  dst_host_rerror_rate  \\\n",
              "0                   0.0                       0.0                   0.0   \n",
              "1                   0.0                       0.0                   0.0   \n",
              "2                   0.0                       0.0                   0.0   \n",
              "3                   0.0                       0.0                   0.0   \n",
              "4                   0.0                       0.0                   0.0   \n",
              "\n",
              "   dst_host_srv_rerror_rate   target  benign  Attack Type  \n",
              "0                       0.0  normal.       1       normal  \n",
              "1                       0.0  normal.       1       normal  \n",
              "2                       0.0  normal.       1       normal  \n",
              "3                       0.0  normal.       1       normal  \n",
              "4                       0.0  normal.       1       normal  \n",
              "\n",
              "[5 rows x 44 columns]"
            ]
          },
          "execution_count": 5,
          "metadata": {},
          "output_type": "execute_result"
        }
      ],
      "source": [
        "import pandas as pd\n",
        "\n",
        "df = pd.read_csv(dataset('kddcup.data.gz'),names=features)\n",
        "\n",
        "df['benign'] = df.target.apply(lambda r: 1 if (r[:-1]=='normal') else 0)\n",
        "df['Attack Type'] = df.target.apply(lambda r:attack_types[r[:-1]])\n",
        "\n",
        "df.head()"
      ]
    },
    {
      "cell_type": "code",
      "execution_count": 6,
      "metadata": {},
      "outputs": [
        {
          "data": {
            "text/html": [
              "<div>\n",
              "<style scoped>\n",
              "    .dataframe tbody tr th:only-of-type {\n",
              "        vertical-align: middle;\n",
              "    }\n",
              "\n",
              "    .dataframe tbody tr th {\n",
              "        vertical-align: top;\n",
              "    }\n",
              "\n",
              "    .dataframe thead th {\n",
              "        text-align: right;\n",
              "    }\n",
              "</style>\n",
              "<table border=\"1\" class=\"dataframe\">\n",
              "  <thead>\n",
              "    <tr style=\"text-align: right;\">\n",
              "      <th></th>\n",
              "      <th>duration</th>\n",
              "      <th>protocol_type</th>\n",
              "      <th>service</th>\n",
              "      <th>flag</th>\n",
              "      <th>src_bytes</th>\n",
              "      <th>dst_bytes</th>\n",
              "      <th>land</th>\n",
              "      <th>wrong_fragment</th>\n",
              "      <th>urgent</th>\n",
              "      <th>hot</th>\n",
              "      <th>...</th>\n",
              "      <th>dst_host_diff_srv_rate</th>\n",
              "      <th>dst_host_same_src_port_rate</th>\n",
              "      <th>dst_host_srv_diff_host_rate</th>\n",
              "      <th>dst_host_serror_rate</th>\n",
              "      <th>dst_host_srv_serror_rate</th>\n",
              "      <th>dst_host_rerror_rate</th>\n",
              "      <th>dst_host_srv_rerror_rate</th>\n",
              "      <th>target</th>\n",
              "      <th>benign</th>\n",
              "      <th>Attack Type</th>\n",
              "    </tr>\n",
              "  </thead>\n",
              "  <tbody>\n",
              "    <tr>\n",
              "      <th>4898426</th>\n",
              "      <td>0</td>\n",
              "      <td>tcp</td>\n",
              "      <td>http</td>\n",
              "      <td>SF</td>\n",
              "      <td>212</td>\n",
              "      <td>2288</td>\n",
              "      <td>0</td>\n",
              "      <td>0</td>\n",
              "      <td>0</td>\n",
              "      <td>0</td>\n",
              "      <td>...</td>\n",
              "      <td>0.0</td>\n",
              "      <td>0.33</td>\n",
              "      <td>0.05</td>\n",
              "      <td>0.0</td>\n",
              "      <td>0.01</td>\n",
              "      <td>0.0</td>\n",
              "      <td>0.0</td>\n",
              "      <td>normal.</td>\n",
              "      <td>1</td>\n",
              "      <td>normal</td>\n",
              "    </tr>\n",
              "    <tr>\n",
              "      <th>4898427</th>\n",
              "      <td>0</td>\n",
              "      <td>tcp</td>\n",
              "      <td>http</td>\n",
              "      <td>SF</td>\n",
              "      <td>219</td>\n",
              "      <td>236</td>\n",
              "      <td>0</td>\n",
              "      <td>0</td>\n",
              "      <td>0</td>\n",
              "      <td>0</td>\n",
              "      <td>...</td>\n",
              "      <td>0.0</td>\n",
              "      <td>0.25</td>\n",
              "      <td>0.05</td>\n",
              "      <td>0.0</td>\n",
              "      <td>0.01</td>\n",
              "      <td>0.0</td>\n",
              "      <td>0.0</td>\n",
              "      <td>normal.</td>\n",
              "      <td>1</td>\n",
              "      <td>normal</td>\n",
              "    </tr>\n",
              "    <tr>\n",
              "      <th>4898428</th>\n",
              "      <td>0</td>\n",
              "      <td>tcp</td>\n",
              "      <td>http</td>\n",
              "      <td>SF</td>\n",
              "      <td>218</td>\n",
              "      <td>3610</td>\n",
              "      <td>0</td>\n",
              "      <td>0</td>\n",
              "      <td>0</td>\n",
              "      <td>0</td>\n",
              "      <td>...</td>\n",
              "      <td>0.0</td>\n",
              "      <td>0.20</td>\n",
              "      <td>0.05</td>\n",
              "      <td>0.0</td>\n",
              "      <td>0.01</td>\n",
              "      <td>0.0</td>\n",
              "      <td>0.0</td>\n",
              "      <td>normal.</td>\n",
              "      <td>1</td>\n",
              "      <td>normal</td>\n",
              "    </tr>\n",
              "    <tr>\n",
              "      <th>4898429</th>\n",
              "      <td>0</td>\n",
              "      <td>tcp</td>\n",
              "      <td>http</td>\n",
              "      <td>SF</td>\n",
              "      <td>219</td>\n",
              "      <td>1234</td>\n",
              "      <td>0</td>\n",
              "      <td>0</td>\n",
              "      <td>0</td>\n",
              "      <td>0</td>\n",
              "      <td>...</td>\n",
              "      <td>0.0</td>\n",
              "      <td>0.17</td>\n",
              "      <td>0.05</td>\n",
              "      <td>0.0</td>\n",
              "      <td>0.01</td>\n",
              "      <td>0.0</td>\n",
              "      <td>0.0</td>\n",
              "      <td>normal.</td>\n",
              "      <td>1</td>\n",
              "      <td>normal</td>\n",
              "    </tr>\n",
              "    <tr>\n",
              "      <th>4898430</th>\n",
              "      <td>0</td>\n",
              "      <td>tcp</td>\n",
              "      <td>http</td>\n",
              "      <td>SF</td>\n",
              "      <td>219</td>\n",
              "      <td>1098</td>\n",
              "      <td>0</td>\n",
              "      <td>0</td>\n",
              "      <td>0</td>\n",
              "      <td>0</td>\n",
              "      <td>...</td>\n",
              "      <td>0.0</td>\n",
              "      <td>0.14</td>\n",
              "      <td>0.05</td>\n",
              "      <td>0.0</td>\n",
              "      <td>0.01</td>\n",
              "      <td>0.0</td>\n",
              "      <td>0.0</td>\n",
              "      <td>normal.</td>\n",
              "      <td>1</td>\n",
              "      <td>normal</td>\n",
              "    </tr>\n",
              "  </tbody>\n",
              "</table>\n",
              "<p>5 rows × 44 columns</p>\n",
              "</div>"
            ],
            "text/plain": [
              "         duration protocol_type service flag  src_bytes  dst_bytes  land  \\\n",
              "4898426         0           tcp    http   SF        212       2288     0   \n",
              "4898427         0           tcp    http   SF        219        236     0   \n",
              "4898428         0           tcp    http   SF        218       3610     0   \n",
              "4898429         0           tcp    http   SF        219       1234     0   \n",
              "4898430         0           tcp    http   SF        219       1098     0   \n",
              "\n",
              "         wrong_fragment  urgent  hot  ...  dst_host_diff_srv_rate  \\\n",
              "4898426               0       0    0  ...                     0.0   \n",
              "4898427               0       0    0  ...                     0.0   \n",
              "4898428               0       0    0  ...                     0.0   \n",
              "4898429               0       0    0  ...                     0.0   \n",
              "4898430               0       0    0  ...                     0.0   \n",
              "\n",
              "         dst_host_same_src_port_rate  dst_host_srv_diff_host_rate  \\\n",
              "4898426                         0.33                         0.05   \n",
              "4898427                         0.25                         0.05   \n",
              "4898428                         0.20                         0.05   \n",
              "4898429                         0.17                         0.05   \n",
              "4898430                         0.14                         0.05   \n",
              "\n",
              "         dst_host_serror_rate  dst_host_srv_serror_rate  dst_host_rerror_rate  \\\n",
              "4898426                   0.0                      0.01                   0.0   \n",
              "4898427                   0.0                      0.01                   0.0   \n",
              "4898428                   0.0                      0.01                   0.0   \n",
              "4898429                   0.0                      0.01                   0.0   \n",
              "4898430                   0.0                      0.01                   0.0   \n",
              "\n",
              "         dst_host_srv_rerror_rate   target  benign  Attack Type  \n",
              "4898426                       0.0  normal.       1       normal  \n",
              "4898427                       0.0  normal.       1       normal  \n",
              "4898428                       0.0  normal.       1       normal  \n",
              "4898429                       0.0  normal.       1       normal  \n",
              "4898430                       0.0  normal.       1       normal  \n",
              "\n",
              "[5 rows x 44 columns]"
            ]
          },
          "execution_count": 6,
          "metadata": {},
          "output_type": "execute_result"
        }
      ],
      "source": [
        "df.tail()"
      ]
    },
    {
      "cell_type": "markdown",
      "metadata": {},
      "source": [
        "# Visualize Dataset"
      ]
    },
    {
      "cell_type": "code",
      "execution_count": null,
      "metadata": {
        "id": "iDqUohdtjz49"
      },
      "outputs": [],
      "source": [
        "def bar_graph(feature):\n",
        "    df[feature].value_counts().plot(kind=\"bar\")"
      ]
    },
    {
      "cell_type": "code",
      "execution_count": null,
      "metadata": {
        "colab": {
          "base_uri": "https://localhost:8080/",
          "height": 945
        },
        "id": "FoTYbYrQjTJM",
        "outputId": "273265f7-c547-4c53-b80f-f4987b217803"
      },
      "outputs": [],
      "source": [
        "print(df['target'].value_counts())\n",
        "bar_graph('target')"
      ]
    },
    {
      "cell_type": "code",
      "execution_count": null,
      "metadata": {
        "colab": {
          "base_uri": "https://localhost:8080/",
          "height": 569
        },
        "id": "oYnM05nTjag2",
        "outputId": "2456d268-7e97-40c1-db46-545b51d65ffe"
      },
      "outputs": [],
      "source": [
        "print(df['Attack Type'].value_counts())\n",
        "bar_graph('Attack Type')"
      ]
    },
    {
      "cell_type": "code",
      "execution_count": null,
      "metadata": {
        "colab": {
          "base_uri": "https://localhost:8080/"
        },
        "id": "myAaJ5EfjkFc",
        "outputId": "64f0415a-1f0e-4d32-f363-f95ea4afd476"
      },
      "outputs": [],
      "source": [
        "df.isnull().sum()"
      ]
    },
    {
      "cell_type": "code",
      "execution_count": null,
      "metadata": {
        "colab": {
          "base_uri": "https://localhost:8080/"
        },
        "id": "orjxVFZPjrrl",
        "outputId": "a91416fe-820e-435f-df8f-ee01e20b77ed"
      },
      "outputs": [],
      "source": [
        "#Finding categorical features\n",
        "num_cols = df._get_numeric_data().columns\n",
        "\n",
        "cate_cols = list(set(df.columns)-set(num_cols))\n",
        "cate_cols.remove('target')\n",
        "cate_cols.remove('Attack Type')\n",
        "\n",
        "cate_cols"
      ]
    },
    {
      "cell_type": "code",
      "execution_count": null,
      "metadata": {
        "colab": {
          "base_uri": "https://localhost:8080/",
          "height": 450
        },
        "id": "GtEWPOXVj1Y9",
        "outputId": "a7490710-19b6-4e3d-87b5-39e8a3bb69aa"
      },
      "outputs": [],
      "source": [
        "bar_graph('protocol_type')"
      ]
    },
    {
      "cell_type": "code",
      "execution_count": null,
      "metadata": {
        "colab": {
          "base_uri": "https://localhost:8080/",
          "height": 367
        },
        "id": "zU6uhs1dj24e",
        "outputId": "091beab6-5a55-4bc9-f645-4e73b41ca03e"
      },
      "outputs": [],
      "source": [
        "plt.figure(figsize=(15,3))\n",
        "bar_graph('service')"
      ]
    },
    {
      "cell_type": "code",
      "execution_count": null,
      "metadata": {
        "colab": {
          "base_uri": "https://localhost:8080/",
          "height": 471
        },
        "id": "omKR6IbxkKZH",
        "outputId": "b4a3acb7-d5c5-41a6-9865-76c5696826da"
      },
      "outputs": [],
      "source": [
        "bar_graph('flag')"
      ]
    },
    {
      "cell_type": "code",
      "execution_count": null,
      "metadata": {
        "colab": {
          "base_uri": "https://localhost:8080/",
          "height": 425
        },
        "id": "qnhNMzGGkMvG",
        "outputId": "39b43a4b-3795-4f32-c7a9-484005e18ecc"
      },
      "outputs": [],
      "source": [
        "bar_graph('logged_in')"
      ]
    },
    {
      "cell_type": "markdown",
      "metadata": {
        "id": "gBOr0bWZkQRD"
      },
      "source": [
        "logged_in (1 if successfully logged in; 0 otherwise): We notice that just 70000 packets are successfully logged in."
      ]
    },
    {
      "cell_type": "code",
      "execution_count": null,
      "metadata": {
        "colab": {
          "base_uri": "https://localhost:8080/"
        },
        "id": "T_M-mGPnmiiw",
        "outputId": "c5b0cd81-3710-4d26-9e07-e649567b4b37"
      },
      "outputs": [],
      "source": [
        "len(df.columns)"
      ]
    },
    {
      "cell_type": "markdown",
      "metadata": {},
      "source": [
        "# Data Cleaning"
      ]
    },
    {
      "cell_type": "code",
      "execution_count": 7,
      "metadata": {
        "colab": {
          "base_uri": "https://localhost:8080/"
        },
        "id": "qI64NH-Tmnq4",
        "outputId": "152b13d8-f925-428c-b8ac-30b61dbf7013"
      },
      "outputs": [],
      "source": [
        "df = df.dropna(axis='columns')# drop columns with NaN"
      ]
    },
    {
      "cell_type": "code",
      "execution_count": null,
      "metadata": {
        "colab": {
          "base_uri": "https://localhost:8080/"
        },
        "id": "oxgFlyztm4-J",
        "outputId": "f2a846c5-6d07-4621-fb76-fe197d5acc12"
      },
      "outputs": [],
      "source": [
        "{col:df[col].nunique() for col in df}"
      ]
    },
    {
      "cell_type": "code",
      "execution_count": 8,
      "metadata": {},
      "outputs": [],
      "source": [
        "test_df = pd.read_csv(dataset('corrected.gz'),names=features)"
      ]
    },
    {
      "cell_type": "code",
      "execution_count": 9,
      "metadata": {},
      "outputs": [
        {
          "name": "stdout",
          "output_type": "stream",
          "text": [
            "Number of duplicate records: 3823439\n"
          ]
        },
        {
          "data": {
            "text/plain": [
              "(1074992, 44)"
            ]
          },
          "execution_count": 9,
          "metadata": {},
          "output_type": "execute_result"
        }
      ],
      "source": [
        "print(\"Number of duplicate records:\", df.duplicated().sum())\n",
        "df = df.drop_duplicates()\n",
        "df.shape"
      ]
    },
    {
      "cell_type": "code",
      "execution_count": 10,
      "metadata": {},
      "outputs": [
        {
          "name": "stdout",
          "output_type": "stream",
          "text": [
            "Number of duplicate records: 233738\n"
          ]
        },
        {
          "data": {
            "text/plain": [
              "(77291, 42)"
            ]
          },
          "execution_count": 10,
          "metadata": {},
          "output_type": "execute_result"
        }
      ],
      "source": [
        "print(\"Number of duplicate records:\", test_df.duplicated().sum())\n",
        "test_df = test_df.drop_duplicates()\n",
        "test_df.shape"
      ]
    },
    {
      "cell_type": "code",
      "execution_count": 11,
      "metadata": {
        "id": "Z7TJP5ZNnfo6"
      },
      "outputs": [],
      "source": [
        "df = df[[col for col in df if df[col].nunique() > 1]]"
      ]
    },
    {
      "cell_type": "code",
      "execution_count": 12,
      "metadata": {
        "colab": {
          "base_uri": "https://localhost:8080/",
          "height": 273
        },
        "id": "IVIYUevq4xHX",
        "outputId": "4a6935fd-08e8-4344-d98d-312c8361089f"
      },
      "outputs": [
        {
          "data": {
            "text/html": [
              "<div>\n",
              "<style scoped>\n",
              "    .dataframe tbody tr th:only-of-type {\n",
              "        vertical-align: middle;\n",
              "    }\n",
              "\n",
              "    .dataframe tbody tr th {\n",
              "        vertical-align: top;\n",
              "    }\n",
              "\n",
              "    .dataframe thead th {\n",
              "        text-align: right;\n",
              "    }\n",
              "</style>\n",
              "<table border=\"1\" class=\"dataframe\">\n",
              "  <thead>\n",
              "    <tr style=\"text-align: right;\">\n",
              "      <th></th>\n",
              "      <th>duration</th>\n",
              "      <th>protocol_type</th>\n",
              "      <th>service</th>\n",
              "      <th>flag</th>\n",
              "      <th>src_bytes</th>\n",
              "      <th>dst_bytes</th>\n",
              "      <th>land</th>\n",
              "      <th>wrong_fragment</th>\n",
              "      <th>urgent</th>\n",
              "      <th>hot</th>\n",
              "      <th>...</th>\n",
              "      <th>dst_host_diff_srv_rate</th>\n",
              "      <th>dst_host_same_src_port_rate</th>\n",
              "      <th>dst_host_srv_diff_host_rate</th>\n",
              "      <th>dst_host_serror_rate</th>\n",
              "      <th>dst_host_srv_serror_rate</th>\n",
              "      <th>dst_host_rerror_rate</th>\n",
              "      <th>dst_host_srv_rerror_rate</th>\n",
              "      <th>target</th>\n",
              "      <th>benign</th>\n",
              "      <th>Attack Type</th>\n",
              "    </tr>\n",
              "  </thead>\n",
              "  <tbody>\n",
              "    <tr>\n",
              "      <th>4898426</th>\n",
              "      <td>0</td>\n",
              "      <td>tcp</td>\n",
              "      <td>http</td>\n",
              "      <td>SF</td>\n",
              "      <td>212</td>\n",
              "      <td>2288</td>\n",
              "      <td>0</td>\n",
              "      <td>0</td>\n",
              "      <td>0</td>\n",
              "      <td>0</td>\n",
              "      <td>...</td>\n",
              "      <td>0.0</td>\n",
              "      <td>0.33</td>\n",
              "      <td>0.05</td>\n",
              "      <td>0.0</td>\n",
              "      <td>0.01</td>\n",
              "      <td>0.0</td>\n",
              "      <td>0.0</td>\n",
              "      <td>normal.</td>\n",
              "      <td>1</td>\n",
              "      <td>normal</td>\n",
              "    </tr>\n",
              "    <tr>\n",
              "      <th>4898427</th>\n",
              "      <td>0</td>\n",
              "      <td>tcp</td>\n",
              "      <td>http</td>\n",
              "      <td>SF</td>\n",
              "      <td>219</td>\n",
              "      <td>236</td>\n",
              "      <td>0</td>\n",
              "      <td>0</td>\n",
              "      <td>0</td>\n",
              "      <td>0</td>\n",
              "      <td>...</td>\n",
              "      <td>0.0</td>\n",
              "      <td>0.25</td>\n",
              "      <td>0.05</td>\n",
              "      <td>0.0</td>\n",
              "      <td>0.01</td>\n",
              "      <td>0.0</td>\n",
              "      <td>0.0</td>\n",
              "      <td>normal.</td>\n",
              "      <td>1</td>\n",
              "      <td>normal</td>\n",
              "    </tr>\n",
              "    <tr>\n",
              "      <th>4898428</th>\n",
              "      <td>0</td>\n",
              "      <td>tcp</td>\n",
              "      <td>http</td>\n",
              "      <td>SF</td>\n",
              "      <td>218</td>\n",
              "      <td>3610</td>\n",
              "      <td>0</td>\n",
              "      <td>0</td>\n",
              "      <td>0</td>\n",
              "      <td>0</td>\n",
              "      <td>...</td>\n",
              "      <td>0.0</td>\n",
              "      <td>0.20</td>\n",
              "      <td>0.05</td>\n",
              "      <td>0.0</td>\n",
              "      <td>0.01</td>\n",
              "      <td>0.0</td>\n",
              "      <td>0.0</td>\n",
              "      <td>normal.</td>\n",
              "      <td>1</td>\n",
              "      <td>normal</td>\n",
              "    </tr>\n",
              "    <tr>\n",
              "      <th>4898429</th>\n",
              "      <td>0</td>\n",
              "      <td>tcp</td>\n",
              "      <td>http</td>\n",
              "      <td>SF</td>\n",
              "      <td>219</td>\n",
              "      <td>1234</td>\n",
              "      <td>0</td>\n",
              "      <td>0</td>\n",
              "      <td>0</td>\n",
              "      <td>0</td>\n",
              "      <td>...</td>\n",
              "      <td>0.0</td>\n",
              "      <td>0.17</td>\n",
              "      <td>0.05</td>\n",
              "      <td>0.0</td>\n",
              "      <td>0.01</td>\n",
              "      <td>0.0</td>\n",
              "      <td>0.0</td>\n",
              "      <td>normal.</td>\n",
              "      <td>1</td>\n",
              "      <td>normal</td>\n",
              "    </tr>\n",
              "    <tr>\n",
              "      <th>4898430</th>\n",
              "      <td>0</td>\n",
              "      <td>tcp</td>\n",
              "      <td>http</td>\n",
              "      <td>SF</td>\n",
              "      <td>219</td>\n",
              "      <td>1098</td>\n",
              "      <td>0</td>\n",
              "      <td>0</td>\n",
              "      <td>0</td>\n",
              "      <td>0</td>\n",
              "      <td>...</td>\n",
              "      <td>0.0</td>\n",
              "      <td>0.14</td>\n",
              "      <td>0.05</td>\n",
              "      <td>0.0</td>\n",
              "      <td>0.01</td>\n",
              "      <td>0.0</td>\n",
              "      <td>0.0</td>\n",
              "      <td>normal.</td>\n",
              "      <td>1</td>\n",
              "      <td>normal</td>\n",
              "    </tr>\n",
              "  </tbody>\n",
              "</table>\n",
              "<p>5 rows × 43 columns</p>\n",
              "</div>"
            ],
            "text/plain": [
              "         duration protocol_type service flag  src_bytes  dst_bytes  land  \\\n",
              "4898426         0           tcp    http   SF        212       2288     0   \n",
              "4898427         0           tcp    http   SF        219        236     0   \n",
              "4898428         0           tcp    http   SF        218       3610     0   \n",
              "4898429         0           tcp    http   SF        219       1234     0   \n",
              "4898430         0           tcp    http   SF        219       1098     0   \n",
              "\n",
              "         wrong_fragment  urgent  hot  ...  dst_host_diff_srv_rate  \\\n",
              "4898426               0       0    0  ...                     0.0   \n",
              "4898427               0       0    0  ...                     0.0   \n",
              "4898428               0       0    0  ...                     0.0   \n",
              "4898429               0       0    0  ...                     0.0   \n",
              "4898430               0       0    0  ...                     0.0   \n",
              "\n",
              "         dst_host_same_src_port_rate  dst_host_srv_diff_host_rate  \\\n",
              "4898426                         0.33                         0.05   \n",
              "4898427                         0.25                         0.05   \n",
              "4898428                         0.20                         0.05   \n",
              "4898429                         0.17                         0.05   \n",
              "4898430                         0.14                         0.05   \n",
              "\n",
              "         dst_host_serror_rate  dst_host_srv_serror_rate  dst_host_rerror_rate  \\\n",
              "4898426                   0.0                      0.01                   0.0   \n",
              "4898427                   0.0                      0.01                   0.0   \n",
              "4898428                   0.0                      0.01                   0.0   \n",
              "4898429                   0.0                      0.01                   0.0   \n",
              "4898430                   0.0                      0.01                   0.0   \n",
              "\n",
              "         dst_host_srv_rerror_rate   target  benign  Attack Type  \n",
              "4898426                       0.0  normal.       1       normal  \n",
              "4898427                       0.0  normal.       1       normal  \n",
              "4898428                       0.0  normal.       1       normal  \n",
              "4898429                       0.0  normal.       1       normal  \n",
              "4898430                       0.0  normal.       1       normal  \n",
              "\n",
              "[5 rows x 43 columns]"
            ]
          },
          "execution_count": 12,
          "metadata": {},
          "output_type": "execute_result"
        }
      ],
      "source": [
        "df.tail()"
      ]
    },
    {
      "cell_type": "code",
      "execution_count": 13,
      "metadata": {},
      "outputs": [
        {
          "data": {
            "text/plain": [
              "{'apache2.',\n",
              " 'httptunnel.',\n",
              " 'mailbomb.',\n",
              " 'mscan.',\n",
              " 'named.',\n",
              " 'processtable.',\n",
              " 'ps.',\n",
              " 'saint.',\n",
              " 'sendmail.',\n",
              " 'snmpgetattack.',\n",
              " 'snmpguess.',\n",
              " 'sqlattack.',\n",
              " 'udpstorm.',\n",
              " 'worm.',\n",
              " 'xlock.',\n",
              " 'xsnoop.',\n",
              " 'xterm.'}"
            ]
          },
          "execution_count": 13,
          "metadata": {},
          "output_type": "execute_result"
        }
      ],
      "source": [
        "set(test_df.target) - set(df.target)"
      ]
    },
    {
      "cell_type": "code",
      "execution_count": 14,
      "metadata": {},
      "outputs": [],
      "source": [
        "attack_types['apache2'] = 'dos'\n",
        "attack_types['mailbomb'] = 'dos'\n",
        "attack_types['processtable'] = 'dos'\n",
        "attack_types['udpstorm'] = 'dos'\n",
        "attack_types['named'] = 'r2l'\n",
        "attack_types['sendmail'] = 'r2l'\n",
        "attack_types['snmpgetattack'] = 'r2l'\n",
        "attack_types['snmpguess'] = 'r2l'\n",
        "attack_types['worm'] = 'r2l'\n",
        "attack_types['xsnoop'] = 'r2l'\n",
        "attack_types['xlock'] = 'r2l'\n",
        "attack_types['httptunnel'] = 'u2r'\n",
        "attack_types['xterm'] = 'u2r'\n",
        "attack_types['sqlattack'] = 'u2r'\n",
        "attack_types['ps'] = 'u2r'\n",
        "attack_types['saint'] = 'probe'\n",
        "attack_types['mscan'] = 'probe'"
      ]
    },
    {
      "cell_type": "code",
      "execution_count": 15,
      "metadata": {},
      "outputs": [
        {
          "data": {
            "text/html": [
              "<div>\n",
              "<style scoped>\n",
              "    .dataframe tbody tr th:only-of-type {\n",
              "        vertical-align: middle;\n",
              "    }\n",
              "\n",
              "    .dataframe tbody tr th {\n",
              "        vertical-align: top;\n",
              "    }\n",
              "\n",
              "    .dataframe thead th {\n",
              "        text-align: right;\n",
              "    }\n",
              "</style>\n",
              "<table border=\"1\" class=\"dataframe\">\n",
              "  <thead>\n",
              "    <tr style=\"text-align: right;\">\n",
              "      <th></th>\n",
              "      <th>duration</th>\n",
              "      <th>protocol_type</th>\n",
              "      <th>service</th>\n",
              "      <th>flag</th>\n",
              "      <th>src_bytes</th>\n",
              "      <th>dst_bytes</th>\n",
              "      <th>land</th>\n",
              "      <th>wrong_fragment</th>\n",
              "      <th>urgent</th>\n",
              "      <th>hot</th>\n",
              "      <th>...</th>\n",
              "      <th>dst_host_diff_srv_rate</th>\n",
              "      <th>dst_host_same_src_port_rate</th>\n",
              "      <th>dst_host_srv_diff_host_rate</th>\n",
              "      <th>dst_host_serror_rate</th>\n",
              "      <th>dst_host_srv_serror_rate</th>\n",
              "      <th>dst_host_rerror_rate</th>\n",
              "      <th>dst_host_srv_rerror_rate</th>\n",
              "      <th>target</th>\n",
              "      <th>benign</th>\n",
              "      <th>Attack Type</th>\n",
              "    </tr>\n",
              "  </thead>\n",
              "  <tbody>\n",
              "    <tr>\n",
              "      <th>0</th>\n",
              "      <td>0</td>\n",
              "      <td>udp</td>\n",
              "      <td>private</td>\n",
              "      <td>SF</td>\n",
              "      <td>105</td>\n",
              "      <td>146</td>\n",
              "      <td>0</td>\n",
              "      <td>0</td>\n",
              "      <td>0</td>\n",
              "      <td>0</td>\n",
              "      <td>...</td>\n",
              "      <td>0.01</td>\n",
              "      <td>0.00</td>\n",
              "      <td>0.0</td>\n",
              "      <td>0.0</td>\n",
              "      <td>0.0</td>\n",
              "      <td>0.0</td>\n",
              "      <td>0.0</td>\n",
              "      <td>normal.</td>\n",
              "      <td>1</td>\n",
              "      <td>normal</td>\n",
              "    </tr>\n",
              "    <tr>\n",
              "      <th>3</th>\n",
              "      <td>0</td>\n",
              "      <td>udp</td>\n",
              "      <td>private</td>\n",
              "      <td>SF</td>\n",
              "      <td>105</td>\n",
              "      <td>146</td>\n",
              "      <td>0</td>\n",
              "      <td>0</td>\n",
              "      <td>0</td>\n",
              "      <td>0</td>\n",
              "      <td>...</td>\n",
              "      <td>0.01</td>\n",
              "      <td>0.00</td>\n",
              "      <td>0.0</td>\n",
              "      <td>0.0</td>\n",
              "      <td>0.0</td>\n",
              "      <td>0.0</td>\n",
              "      <td>0.0</td>\n",
              "      <td>snmpgetattack.</td>\n",
              "      <td>0</td>\n",
              "      <td>r2l</td>\n",
              "    </tr>\n",
              "    <tr>\n",
              "      <th>4</th>\n",
              "      <td>0</td>\n",
              "      <td>udp</td>\n",
              "      <td>private</td>\n",
              "      <td>SF</td>\n",
              "      <td>105</td>\n",
              "      <td>146</td>\n",
              "      <td>0</td>\n",
              "      <td>0</td>\n",
              "      <td>0</td>\n",
              "      <td>0</td>\n",
              "      <td>...</td>\n",
              "      <td>0.01</td>\n",
              "      <td>0.01</td>\n",
              "      <td>0.0</td>\n",
              "      <td>0.0</td>\n",
              "      <td>0.0</td>\n",
              "      <td>0.0</td>\n",
              "      <td>0.0</td>\n",
              "      <td>snmpgetattack.</td>\n",
              "      <td>0</td>\n",
              "      <td>r2l</td>\n",
              "    </tr>\n",
              "    <tr>\n",
              "      <th>5</th>\n",
              "      <td>0</td>\n",
              "      <td>udp</td>\n",
              "      <td>private</td>\n",
              "      <td>SF</td>\n",
              "      <td>105</td>\n",
              "      <td>146</td>\n",
              "      <td>0</td>\n",
              "      <td>0</td>\n",
              "      <td>0</td>\n",
              "      <td>0</td>\n",
              "      <td>...</td>\n",
              "      <td>0.00</td>\n",
              "      <td>0.01</td>\n",
              "      <td>0.0</td>\n",
              "      <td>0.0</td>\n",
              "      <td>0.0</td>\n",
              "      <td>0.0</td>\n",
              "      <td>0.0</td>\n",
              "      <td>snmpgetattack.</td>\n",
              "      <td>0</td>\n",
              "      <td>r2l</td>\n",
              "    </tr>\n",
              "    <tr>\n",
              "      <th>6</th>\n",
              "      <td>0</td>\n",
              "      <td>udp</td>\n",
              "      <td>domain_u</td>\n",
              "      <td>SF</td>\n",
              "      <td>29</td>\n",
              "      <td>0</td>\n",
              "      <td>0</td>\n",
              "      <td>0</td>\n",
              "      <td>0</td>\n",
              "      <td>0</td>\n",
              "      <td>...</td>\n",
              "      <td>0.30</td>\n",
              "      <td>0.30</td>\n",
              "      <td>0.0</td>\n",
              "      <td>0.0</td>\n",
              "      <td>0.0</td>\n",
              "      <td>0.0</td>\n",
              "      <td>0.0</td>\n",
              "      <td>normal.</td>\n",
              "      <td>1</td>\n",
              "      <td>normal</td>\n",
              "    </tr>\n",
              "  </tbody>\n",
              "</table>\n",
              "<p>5 rows × 43 columns</p>\n",
              "</div>"
            ],
            "text/plain": [
              "   duration protocol_type   service flag  src_bytes  dst_bytes  land  \\\n",
              "0         0           udp   private   SF        105        146     0   \n",
              "3         0           udp   private   SF        105        146     0   \n",
              "4         0           udp   private   SF        105        146     0   \n",
              "5         0           udp   private   SF        105        146     0   \n",
              "6         0           udp  domain_u   SF         29          0     0   \n",
              "\n",
              "   wrong_fragment  urgent  hot  ...  dst_host_diff_srv_rate  \\\n",
              "0               0       0    0  ...                    0.01   \n",
              "3               0       0    0  ...                    0.01   \n",
              "4               0       0    0  ...                    0.01   \n",
              "5               0       0    0  ...                    0.00   \n",
              "6               0       0    0  ...                    0.30   \n",
              "\n",
              "   dst_host_same_src_port_rate  dst_host_srv_diff_host_rate  \\\n",
              "0                         0.00                          0.0   \n",
              "3                         0.00                          0.0   \n",
              "4                         0.01                          0.0   \n",
              "5                         0.01                          0.0   \n",
              "6                         0.30                          0.0   \n",
              "\n",
              "   dst_host_serror_rate  dst_host_srv_serror_rate  dst_host_rerror_rate  \\\n",
              "0                   0.0                       0.0                   0.0   \n",
              "3                   0.0                       0.0                   0.0   \n",
              "4                   0.0                       0.0                   0.0   \n",
              "5                   0.0                       0.0                   0.0   \n",
              "6                   0.0                       0.0                   0.0   \n",
              "\n",
              "   dst_host_srv_rerror_rate          target  benign  Attack Type  \n",
              "0                       0.0         normal.       1       normal  \n",
              "3                       0.0  snmpgetattack.       0          r2l  \n",
              "4                       0.0  snmpgetattack.       0          r2l  \n",
              "5                       0.0  snmpgetattack.       0          r2l  \n",
              "6                       0.0         normal.       1       normal  \n",
              "\n",
              "[5 rows x 43 columns]"
            ]
          },
          "execution_count": 15,
          "metadata": {},
          "output_type": "execute_result"
        }
      ],
      "source": [
        "test_df['benign'] = test_df.target.apply(lambda r: 1 if (r[:-1]=='normal') else 0)\n",
        "test_df['Attack Type'] = test_df.target.apply(lambda r:attack_types[r[:-1]])\n",
        "test_df = test_df[df.columns]\n",
        "test_df.head()"
      ]
    },
    {
      "cell_type": "code",
      "execution_count": 16,
      "metadata": {},
      "outputs": [
        {
          "name": "stdout",
          "output_type": "stream",
          "text": [
            "Attack Type ['dos' 'normal' 'probe' 'r2l' 'u2r']\n",
            "protocol_type ['icmp' 'tcp' 'udp']\n",
            "flag ['OTH' 'REJ' 'RSTO' 'RSTOS0' 'RSTR' 'S0' 'S1' 'S2' 'S3' 'SF' 'SH']\n",
            "service ['IRC' 'X11' 'Z39_50' 'aol' 'auth' 'bgp' 'courier' 'csnet_ns' 'ctf'\n",
            " 'daytime' 'discard' 'domain' 'domain_u' 'echo' 'eco_i' 'ecr_i' 'efs'\n",
            " 'exec' 'finger' 'ftp' 'ftp_data' 'gopher' 'harvest' 'hostnames' 'http'\n",
            " 'http_2784' 'http_443' 'http_8001' 'icmp' 'imap4' 'iso_tsap' 'klogin'\n",
            " 'kshell' 'ldap' 'link' 'login' 'mtp' 'name' 'netbios_dgm' 'netbios_ns'\n",
            " 'netbios_ssn' 'netstat' 'nnsp' 'nntp' 'ntp_u' 'other' 'pm_dump' 'pop_2'\n",
            " 'pop_3' 'printer' 'private' 'red_i' 'remote_job' 'rje' 'shell' 'smtp'\n",
            " 'sql_net' 'ssh' 'sunrpc' 'supdup' 'systat' 'telnet' 'tftp_u' 'tim_i'\n",
            " 'time' 'urh_i' 'urp_i' 'uucp' 'uucp_path' 'vmnet' 'whois']\n",
            "target ['apache2.' 'back.' 'buffer_overflow.' 'ftp_write.' 'guess_passwd.'\n",
            " 'httptunnel.' 'imap.' 'ipsweep.' 'land.' 'loadmodule.' 'mailbomb.'\n",
            " 'mscan.' 'multihop.' 'named.' 'neptune.' 'nmap.' 'normal.' 'perl.' 'phf.'\n",
            " 'pod.' 'portsweep.' 'processtable.' 'ps.' 'rootkit.' 'saint.' 'satan.'\n",
            " 'sendmail.' 'smurf.' 'snmpgetattack.' 'snmpguess.' 'spy.' 'sqlattack.'\n",
            " 'teardrop.' 'udpstorm.' 'warezclient.' 'warezmaster.' 'worm.' 'xlock.'\n",
            " 'xsnoop.' 'xterm.']\n"
          ]
        }
      ],
      "source": [
        "from sklearn.preprocessing import LabelEncoder\n",
        "\n",
        "combined_df = pd.concat([df, test_df], ignore_index=True)\n",
        "\n",
        "label_encoders = {}\n",
        "\n",
        "string_categorical_columns = ['Attack Type', 'protocol_type', 'flag', 'service', 'target']\n",
        "for column in string_categorical_columns:\n",
        "\tlabel_encoders[column] = LabelEncoder()\n",
        "\tcombined_df[column] = label_encoders[column].fit_transform(combined_df[column])\n",
        "\tprint(column, label_encoders[column].classes_)\n",
        "\n",
        "df = combined_df.iloc[:len(df)]\n",
        "test_df = combined_df.iloc[len(df):]\n",
        "\n",
        "df.reset_index(drop=True, inplace=True)\n",
        "test_df.reset_index(drop=True, inplace=True)\n",
        "\n",
        "del combined_df"
      ]
    },
    {
      "cell_type": "code",
      "execution_count": 17,
      "metadata": {},
      "outputs": [
        {
          "data": {
            "text/html": [
              "<div>\n",
              "<style scoped>\n",
              "    .dataframe tbody tr th:only-of-type {\n",
              "        vertical-align: middle;\n",
              "    }\n",
              "\n",
              "    .dataframe tbody tr th {\n",
              "        vertical-align: top;\n",
              "    }\n",
              "\n",
              "    .dataframe thead th {\n",
              "        text-align: right;\n",
              "    }\n",
              "</style>\n",
              "<table border=\"1\" class=\"dataframe\">\n",
              "  <thead>\n",
              "    <tr style=\"text-align: right;\">\n",
              "      <th></th>\n",
              "      <th>duration</th>\n",
              "      <th>protocol_type</th>\n",
              "      <th>service</th>\n",
              "      <th>flag</th>\n",
              "      <th>src_bytes</th>\n",
              "      <th>dst_bytes</th>\n",
              "      <th>land</th>\n",
              "      <th>wrong_fragment</th>\n",
              "      <th>urgent</th>\n",
              "      <th>hot</th>\n",
              "      <th>...</th>\n",
              "      <th>dst_host_diff_srv_rate</th>\n",
              "      <th>dst_host_same_src_port_rate</th>\n",
              "      <th>dst_host_srv_diff_host_rate</th>\n",
              "      <th>dst_host_serror_rate</th>\n",
              "      <th>dst_host_srv_serror_rate</th>\n",
              "      <th>dst_host_rerror_rate</th>\n",
              "      <th>dst_host_srv_rerror_rate</th>\n",
              "      <th>target</th>\n",
              "      <th>benign</th>\n",
              "      <th>Attack Type</th>\n",
              "    </tr>\n",
              "  </thead>\n",
              "  <tbody>\n",
              "    <tr>\n",
              "      <th>0</th>\n",
              "      <td>0</td>\n",
              "      <td>1</td>\n",
              "      <td>24</td>\n",
              "      <td>9</td>\n",
              "      <td>215</td>\n",
              "      <td>45076</td>\n",
              "      <td>0</td>\n",
              "      <td>0</td>\n",
              "      <td>0</td>\n",
              "      <td>0</td>\n",
              "      <td>...</td>\n",
              "      <td>0.0</td>\n",
              "      <td>0.00</td>\n",
              "      <td>0.0</td>\n",
              "      <td>0.0</td>\n",
              "      <td>0.0</td>\n",
              "      <td>0.0</td>\n",
              "      <td>0.0</td>\n",
              "      <td>16</td>\n",
              "      <td>1</td>\n",
              "      <td>1</td>\n",
              "    </tr>\n",
              "    <tr>\n",
              "      <th>1</th>\n",
              "      <td>0</td>\n",
              "      <td>1</td>\n",
              "      <td>24</td>\n",
              "      <td>9</td>\n",
              "      <td>162</td>\n",
              "      <td>4528</td>\n",
              "      <td>0</td>\n",
              "      <td>0</td>\n",
              "      <td>0</td>\n",
              "      <td>0</td>\n",
              "      <td>...</td>\n",
              "      <td>0.0</td>\n",
              "      <td>1.00</td>\n",
              "      <td>0.0</td>\n",
              "      <td>0.0</td>\n",
              "      <td>0.0</td>\n",
              "      <td>0.0</td>\n",
              "      <td>0.0</td>\n",
              "      <td>16</td>\n",
              "      <td>1</td>\n",
              "      <td>1</td>\n",
              "    </tr>\n",
              "    <tr>\n",
              "      <th>2</th>\n",
              "      <td>0</td>\n",
              "      <td>1</td>\n",
              "      <td>24</td>\n",
              "      <td>9</td>\n",
              "      <td>236</td>\n",
              "      <td>1228</td>\n",
              "      <td>0</td>\n",
              "      <td>0</td>\n",
              "      <td>0</td>\n",
              "      <td>0</td>\n",
              "      <td>...</td>\n",
              "      <td>0.0</td>\n",
              "      <td>0.50</td>\n",
              "      <td>0.0</td>\n",
              "      <td>0.0</td>\n",
              "      <td>0.0</td>\n",
              "      <td>0.0</td>\n",
              "      <td>0.0</td>\n",
              "      <td>16</td>\n",
              "      <td>1</td>\n",
              "      <td>1</td>\n",
              "    </tr>\n",
              "    <tr>\n",
              "      <th>3</th>\n",
              "      <td>0</td>\n",
              "      <td>1</td>\n",
              "      <td>24</td>\n",
              "      <td>9</td>\n",
              "      <td>233</td>\n",
              "      <td>2032</td>\n",
              "      <td>0</td>\n",
              "      <td>0</td>\n",
              "      <td>0</td>\n",
              "      <td>0</td>\n",
              "      <td>...</td>\n",
              "      <td>0.0</td>\n",
              "      <td>0.33</td>\n",
              "      <td>0.0</td>\n",
              "      <td>0.0</td>\n",
              "      <td>0.0</td>\n",
              "      <td>0.0</td>\n",
              "      <td>0.0</td>\n",
              "      <td>16</td>\n",
              "      <td>1</td>\n",
              "      <td>1</td>\n",
              "    </tr>\n",
              "    <tr>\n",
              "      <th>4</th>\n",
              "      <td>0</td>\n",
              "      <td>1</td>\n",
              "      <td>24</td>\n",
              "      <td>9</td>\n",
              "      <td>239</td>\n",
              "      <td>486</td>\n",
              "      <td>0</td>\n",
              "      <td>0</td>\n",
              "      <td>0</td>\n",
              "      <td>0</td>\n",
              "      <td>...</td>\n",
              "      <td>0.0</td>\n",
              "      <td>0.25</td>\n",
              "      <td>0.0</td>\n",
              "      <td>0.0</td>\n",
              "      <td>0.0</td>\n",
              "      <td>0.0</td>\n",
              "      <td>0.0</td>\n",
              "      <td>16</td>\n",
              "      <td>1</td>\n",
              "      <td>1</td>\n",
              "    </tr>\n",
              "  </tbody>\n",
              "</table>\n",
              "<p>5 rows × 43 columns</p>\n",
              "</div>"
            ],
            "text/plain": [
              "   duration  protocol_type  service  flag  src_bytes  dst_bytes  land  \\\n",
              "0         0              1       24     9        215      45076     0   \n",
              "1         0              1       24     9        162       4528     0   \n",
              "2         0              1       24     9        236       1228     0   \n",
              "3         0              1       24     9        233       2032     0   \n",
              "4         0              1       24     9        239        486     0   \n",
              "\n",
              "   wrong_fragment  urgent  hot  ...  dst_host_diff_srv_rate  \\\n",
              "0               0       0    0  ...                     0.0   \n",
              "1               0       0    0  ...                     0.0   \n",
              "2               0       0    0  ...                     0.0   \n",
              "3               0       0    0  ...                     0.0   \n",
              "4               0       0    0  ...                     0.0   \n",
              "\n",
              "   dst_host_same_src_port_rate  dst_host_srv_diff_host_rate  \\\n",
              "0                         0.00                          0.0   \n",
              "1                         1.00                          0.0   \n",
              "2                         0.50                          0.0   \n",
              "3                         0.33                          0.0   \n",
              "4                         0.25                          0.0   \n",
              "\n",
              "   dst_host_serror_rate  dst_host_srv_serror_rate  dst_host_rerror_rate  \\\n",
              "0                   0.0                       0.0                   0.0   \n",
              "1                   0.0                       0.0                   0.0   \n",
              "2                   0.0                       0.0                   0.0   \n",
              "3                   0.0                       0.0                   0.0   \n",
              "4                   0.0                       0.0                   0.0   \n",
              "\n",
              "   dst_host_srv_rerror_rate  target  benign  Attack Type  \n",
              "0                       0.0      16       1            1  \n",
              "1                       0.0      16       1            1  \n",
              "2                       0.0      16       1            1  \n",
              "3                       0.0      16       1            1  \n",
              "4                       0.0      16       1            1  \n",
              "\n",
              "[5 rows x 43 columns]"
            ]
          },
          "execution_count": 17,
          "metadata": {},
          "output_type": "execute_result"
        }
      ],
      "source": [
        "df.head()"
      ]
    },
    {
      "cell_type": "markdown",
      "metadata": {},
      "source": [
        "# Corr"
      ]
    },
    {
      "cell_type": "code",
      "execution_count": 18,
      "metadata": {
        "colab": {
          "base_uri": "https://localhost:8080/",
          "height": 1000
        },
        "id": "kpc4a482niPE",
        "outputId": "5e26f95c-6a27-4edc-e32f-a5d5cd57401d"
      },
      "outputs": [
        {
          "data": {
            "image/png": "[encoded data removed]",
            "text/plain": [
              "<Figure size 1500x1200 with 2 Axes>"
            ]
          },
          "metadata": {},
          "output_type": "display_data"
        }
      ],
      "source": [
        "corr = df.corr()\n",
        "\n",
        "plt.figure(figsize=(15,12))\n",
        "\n",
        "sns.heatmap(corr)\n",
        "\n",
        "plt.show()\n"
      ]
    },
    {
      "cell_type": "code",
      "execution_count": null,
      "metadata": {
        "colab": {
          "base_uri": "https://localhost:8080/"
        },
        "id": "nf7zAVpAueS_",
        "outputId": "738c93da-95b9-41cb-c31f-a88ca22d5926"
      },
      "outputs": [],
      "source": [
        "corr['target']"
      ]
    },
    {
      "cell_type": "code",
      "execution_count": 19,
      "metadata": {},
      "outputs": [
        {
          "data": {
            "text/plain": [
              "(7,\n",
              " Index(['num_compromised', 'serror_rate', 'srv_serror_rate', 'rerror_rate',\n",
              "        'srv_rerror_rate', 'dst_host_serror_rate', 'dst_host_rerror_rate'],\n",
              "       dtype='object'))"
            ]
          },
          "execution_count": 19,
          "metadata": {},
          "output_type": "execute_result"
        }
      ],
      "source": [
        "label_cols = ['target', 'Attack Type', 'benign']\n",
        "\n",
        "mask = np.triu(np.ones_like(corr, dtype=bool), k=1)\n",
        "np.fill_diagonal(mask, True)\n",
        "corr_matrix = corr.mask(mask)\n",
        "\n",
        "threshold = 0.95\n",
        "\n",
        "# Find features with correlation above the threshold\n",
        "high_corr_features = ((corr_matrix.abs() > threshold) & (corr_matrix != 1)).any()\n",
        "\n",
        "# Identify and remove redundant features\n",
        "to_drop = high_corr_features[high_corr_features].index\n",
        "to_drop = to_drop.drop(label_cols, errors='ignore')\n",
        "# Drop the redundant features from the DataFrame\n",
        "df = df.drop(columns=to_drop)\n",
        "test_df = test_df.drop(columns=to_drop)\n",
        "len(to_drop), to_drop"
      ]
    },
    {
      "cell_type": "code",
      "execution_count": null,
      "metadata": {},
      "outputs": [],
      "source": [
        "# print(df.shape)\n",
        "\n",
        "# for f,value in corr[label_col].items():\n",
        "#   if abs(value) > 0.6 and f!=label_col:\n",
        "#     df.drop(f,axis = 1, inplace=True)\n",
        "#     print('dropped', f)\n",
        "# df.shape"
      ]
    },
    {
      "cell_type": "code",
      "execution_count": null,
      "metadata": {
        "colab": {
          "base_uri": "https://localhost:8080/",
          "height": 287
        },
        "id": "Bx2nDMKU-kUH",
        "outputId": "9949ce7a-8371-465f-fd83-ae8f0e41cff1"
      },
      "outputs": [],
      "source": [
        "df['service'].corr(df[label_cols[0]])"
      ]
    },
    {
      "cell_type": "code",
      "execution_count": null,
      "metadata": {
        "colab": {
          "base_uri": "https://localhost:8080/",
          "height": 273
        },
        "id": "vO--vc0D6NOj",
        "outputId": "b36ffad9-61ff-42bc-833a-189c6e687165"
      },
      "outputs": [],
      "source": [
        "df.head()"
      ]
    },
    {
      "cell_type": "code",
      "execution_count": 20,
      "metadata": {
        "colab": {
          "base_uri": "https://localhost:8080/"
        },
        "id": "xZxOqZ0e6TGa",
        "outputId": "f8091e19-4093-4bca-a41c-4431ec8a2a14"
      },
      "outputs": [
        {
          "data": {
            "text/plain": [
              "is_host_login                  1.363993e-03\n",
              "land                           4.917892e-03\n",
              "urgent                         1.540162e-02\n",
              "num_failed_logins              1.558112e-02\n",
              "su_attempted                   1.725250e-02\n",
              "root_shell                     1.738496e-02\n",
              "num_shells                     1.864927e-02\n",
              "dst_host_srv_diff_host_rate    5.636309e-02\n",
              "is_guest_login                 6.154966e-02\n",
              "num_access_files               7.347828e-02\n",
              "wrong_fragment                 8.835986e-02\n",
              "diff_srv_rate                  1.169086e-01\n",
              "dst_host_diff_srv_rate         1.310801e-01\n",
              "dst_host_same_src_port_rate    2.298291e-01\n",
              "dst_host_srv_rerror_rate       2.609840e-01\n",
              "num_file_creations             2.650495e-01\n",
              "srv_diff_host_rate             2.655164e-01\n",
              "protocol_type                  2.918180e-01\n",
              "dst_host_srv_serror_rate       3.913478e-01\n",
              "same_srv_rate                  3.917200e-01\n",
              "dst_host_same_srv_rate         4.259518e-01\n",
              "benign                         4.294263e-01\n",
              "Attack Type                    4.480921e-01\n",
              "logged_in                      4.827732e-01\n",
              "hot                            9.974618e-01\n",
              "target                         1.588310e+00\n",
              "flag                           2.441677e+00\n",
              "num_root                       8.406153e+00\n",
              "service                        1.420448e+01\n",
              "srv_count                      2.941398e+01\n",
              "count                          8.523218e+01\n",
              "dst_host_count                 1.022645e+02\n",
              "dst_host_srv_count             1.098842e+02\n",
              "duration                       1.321605e+03\n",
              "dst_bytes                      1.376866e+06\n",
              "src_bytes                      2.009617e+06\n",
              "dtype: float64"
            ]
          },
          "execution_count": 20,
          "metadata": {},
          "output_type": "execute_result"
        }
      ],
      "source": [
        "df_std = df.std()\n",
        "df_std = df_std.sort_values(ascending = True)\n",
        "df_std"
      ]
    },
    {
      "cell_type": "code",
      "execution_count": 21,
      "metadata": {
        "id": "qweCnPG05RsV"
      },
      "outputs": [],
      "source": [
        "df.to_csv(dataset('dataset2.csv'), index=False)\n",
        "test_df.to_csv(dataset('test_dataset2.csv'), index=False)"
      ]
    },
    {
      "cell_type": "markdown",
      "metadata": {
        "id": "AhZV8_2c-9Pq"
      },
      "source": [
        "# Load data"
      ]
    },
    {
      "cell_type": "code",
      "execution_count": null,
      "metadata": {
        "id": "Nqo-qQid_BqJ"
      },
      "outputs": [],
      "source": [
        "import os\n",
        "import pandas as pd\n",
        "import numpy as np\n",
        "import matplotlib.pyplot as plt\n",
        "import seaborn as sns\n",
        "import time\n",
        "import pandas\n",
        "\n",
        "def dataset(file_name:str = ''):\n",
        "  return f'dataset/{file_name}'"
      ]
    },
    {
      "cell_type": "code",
      "execution_count": null,
      "metadata": {
        "id": "mdscBe6K-wkz"
      },
      "outputs": [],
      "source": [
        "df = pandas.read_csv(dataset('dataset2.csv'))\n",
        "test_df = pandas.read_csv(dataset('test_dataset2.csv'))\n",
        "df.shape"
      ]
    },
    {
      "cell_type": "code",
      "execution_count": null,
      "metadata": {},
      "outputs": [],
      "source": [
        "test_df.head()"
      ]
    },
    {
      "cell_type": "code",
      "execution_count": null,
      "metadata": {},
      "outputs": [],
      "source": [
        "df.head()"
      ]
    },
    {
      "cell_type": "code",
      "execution_count": 22,
      "metadata": {},
      "outputs": [],
      "source": [
        "df = df.drop(['Attack Type','target'], axis=1)\n",
        "test_df = test_df.drop(['Attack Type','target'], axis=1)"
      ]
    },
    {
      "cell_type": "code",
      "execution_count": 23,
      "metadata": {
        "id": "BTjUKpxB9OM3"
      },
      "outputs": [],
      "source": [
        "label_col = 'benign'\n",
        "# Y = df[[label_col]]\n",
        "# X = df.drop([label_col], axis=1)\n",
        "Y_train = df[[label_col]]\n",
        "X_train = df.drop([label_col], axis=1)\n",
        "df = df.drop([label_col], axis=1)"
      ]
    },
    {
      "cell_type": "code",
      "execution_count": 24,
      "metadata": {},
      "outputs": [],
      "source": [
        "Y_test = test_df[[label_col]]\n",
        "X_test = test_df.drop([label_col], axis=1)\n",
        "test_df = test_df.drop([label_col], axis=1)"
      ]
    },
    {
      "cell_type": "code",
      "execution_count": 25,
      "metadata": {
        "colab": {
          "base_uri": "https://localhost:8080/"
        },
        "id": "-Kl915qr9QhR",
        "outputId": "8652cdf3-6100-4e4d-bdad-8937dd68af4c"
      },
      "outputs": [
        {
          "name": "stdout",
          "output_type": "stream",
          "text": [
            "Train (967492, 33) (967492, 1)\n",
            "Validation (107500, 33) (107500, 1)\n",
            "Test (77291, 33) (77291, 1)\n"
          ]
        }
      ],
      "source": [
        "from sklearn.model_selection import train_test_split\n",
        "from sklearn.preprocessing import MinMaxScaler\n",
        "from sklearn.metrics import accuracy_score\n",
        "\n",
        "sc = MinMaxScaler()\n",
        "X_train = sc.fit_transform(X_train)\n",
        "X_test = sc.transform(X_test)\n",
        "\n",
        "X_train, X_val, Y_train, Y_val = train_test_split(X_train, Y_train, test_size=0.1, random_state=273, shuffle=True)\n",
        "print('Train', X_train.shape, Y_train.shape)\n",
        "print('Validation', X_val.shape, Y_val.shape)\n",
        "print('Test', X_test.shape, Y_test.shape)"
      ]
    },
    {
      "cell_type": "code",
      "execution_count": 26,
      "metadata": {
        "id": "_0kdeAb2_L1T"
      },
      "outputs": [],
      "source": [
        "def fit(model):\n",
        "  name = type(model).__name__\n",
        "  start_time = time.time()\n",
        "  model.fit(X_train, Y_train.values.ravel())\n",
        "  end_time = time.time()\n",
        "  print(f\"{name}: Training time: \",end_time-start_time)\n",
        "\n",
        "def fit_evaluate(model):\n",
        "  name = type(model).__name__\n",
        "  fit(model)\n",
        "\n",
        "  start_time = time.time()\n",
        "  Y_test_pred = model.predict(X_test)\n",
        "  end_time = time.time()\n",
        "  print(f\"{name}: Testing time: \",end_time-start_time)\n",
        "\n",
        "  print(f\"{name}: Train score is:\", model.score(X_train, Y_train))\n",
        "  print(f\"{name}: Validation score is:\", model.score(X_val,Y_val))\n",
        "  print(f\"{name}: Test score is:\", model.score(X_test,Y_test))\n"
      ]
    },
    {
      "cell_type": "code",
      "execution_count": 27,
      "metadata": {
        "colab": {
          "base_uri": "https://localhost:8080/"
        },
        "id": "H9mUjhKl9910",
        "outputId": "2b1d1ada-5956-4e70-dec5-e2bdd5bc3642"
      },
      "outputs": [
        {
          "name": "stdout",
          "output_type": "stream",
          "text": [
            "GaussianNB: Training time:  0.3018319606781006\n",
            "GaussianNB: Testing time:  0.013406753540039062\n",
            "GaussianNB: Train score is: 0.9794406568736486\n",
            "GaussianNB: Validation score is: 0.978753488372093\n",
            "GaussianNB: Test score is: 0.9239238721196517\n"
          ]
        }
      ],
      "source": [
        "from sklearn.naive_bayes import GaussianNB\n",
        "fit_evaluate(GaussianNB())"
      ]
    },
    {
      "cell_type": "code",
      "execution_count": 28,
      "metadata": {
        "colab": {
          "base_uri": "https://localhost:8080/"
        },
        "id": "amVbXOPQAOX-",
        "outputId": "3c998ca9-a1b8-4328-eae7-c92833dbb242"
      },
      "outputs": [
        {
          "name": "stdout",
          "output_type": "stream",
          "text": [
            "DecisionTreeClassifier: Training time:  2.482048988342285\n",
            "DecisionTreeClassifier: Testing time:  0.0\n",
            "DecisionTreeClassifier: Train score is: 0.9975679385462619\n",
            "DecisionTreeClassifier: Validation score is: 0.9974046511627906\n",
            "DecisionTreeClassifier: Test score is: 0.9375735855403604\n"
          ]
        }
      ],
      "source": [
        "from sklearn.tree import DecisionTreeClassifier\n",
        "fit_evaluate(DecisionTreeClassifier(criterion=\"entropy\", max_depth = 6))"
      ]
    },
    {
      "cell_type": "code",
      "execution_count": 29,
      "metadata": {
        "colab": {
          "base_uri": "https://localhost:8080/"
        },
        "id": "r_vx5zhAApCy",
        "outputId": "4c82c109-6ff1-41e8-e6c6-ca640cf81667"
      },
      "outputs": [
        {
          "name": "stdout",
          "output_type": "stream",
          "text": [
            "SVC: Training time:  830.7168369293213\n",
            "SVC: Testing time:  42.44450831413269\n",
            "SVC: Train score is: 0.9973116056773597\n",
            "SVC: Validation score is: 0.997339534883721\n",
            "SVC: Test score is: 0.9256963941467958\n"
          ]
        }
      ],
      "source": [
        "from sklearn.svm import SVC\n",
        "fit_evaluate(SVC(gamma = 'scale'))"
      ]
    },
    {
      "cell_type": "code",
      "execution_count": 30,
      "metadata": {
        "colab": {
          "base_uri": "https://localhost:8080/"
        },
        "id": "2rWqae0VA1UH",
        "outputId": "0bef4ed9-9a8f-41a8-f7bb-04680cdb49d6"
      },
      "outputs": [
        {
          "name": "stdout",
          "output_type": "stream",
          "text": [
            "LogisticRegression: Training time:  1.5472776889801025\n",
            "LogisticRegression: Testing time:  0.005089759826660156\n",
            "LogisticRegression: Train score is: 0.9928237132710142\n",
            "LogisticRegression: Validation score is: 0.992753488372093\n",
            "LogisticRegression: Test score is: 0.91024828246497\n"
          ]
        }
      ],
      "source": [
        "from sklearn.linear_model import LogisticRegression\n",
        "fit_evaluate(LogisticRegression(max_iter=1200000))"
      ]
    },
    {
      "cell_type": "code",
      "execution_count": 31,
      "metadata": {
        "colab": {
          "base_uri": "https://localhost:8080/"
        },
        "id": "OHTL1h5jA6Ws",
        "outputId": "461efc1e-4984-4100-c85a-213cae492f61"
      },
      "outputs": [
        {
          "name": "stdout",
          "output_type": "stream",
          "text": [
            "GradientBoostingClassifier: Training time:  196.0295000076294\n",
            "GradientBoostingClassifier: Testing time:  0.06200075149536133\n",
            "GradientBoostingClassifier: Train score is: 0.9983741467629706\n",
            "GradientBoostingClassifier: Validation score is: 0.9983348837209303\n",
            "GradientBoostingClassifier: Test score is: 0.9230311420475864\n"
          ]
        }
      ],
      "source": [
        "from sklearn.ensemble import GradientBoostingClassifier\n",
        "fit_evaluate(GradientBoostingClassifier(random_state=220))"
      ]
    },
    {
      "cell_type": "code",
      "execution_count": 32,
      "metadata": {
        "colab": {
          "base_uri": "https://localhost:8080/"
        },
        "id": "rii_AYA_Ah6C",
        "outputId": "39e38d40-c990-4155-c20a-009b0d90eb1e"
      },
      "outputs": [
        {
          "name": "stdout",
          "output_type": "stream",
          "text": [
            "RandomForestClassifier: Training time:  29.732511281967163\n",
            "RandomForestClassifier: Testing time:  0.0970914363861084\n",
            "RandomForestClassifier: Train score is: 0.9999648575905538\n",
            "RandomForestClassifier: Validation score is: 0.9996744186046511\n",
            "RandomForestClassifier: Test score is: 0.9259680946035114\n"
          ]
        }
      ],
      "source": [
        "from sklearn.ensemble import RandomForestClassifier\n",
        "fit_evaluate(RandomForestClassifier(n_estimators=30))"
      ]
    },
    {
      "cell_type": "code",
      "execution_count": 33,
      "metadata": {
        "colab": {
          "base_uri": "https://localhost:8080/"
        },
        "id": "rqbEov9WF_wh",
        "outputId": "e6fb4261-4b95-46ea-b10a-397fa9fab809"
      },
      "outputs": [
        {
          "name": "stderr",
          "output_type": "stream",
          "text": [
            "c:\\Users\\rezaab\\Projects\\IntrusionDetection-KDD\\.venv\\Lib\\site-packages\\sklearn\\ensemble\\_weight_boosting.py:519: FutureWarning: The SAMME.R algorithm (the default) is deprecated and will be removed in 1.6. Use the SAMME algorithm to circumvent this warning.\n",
            "  warnings.warn(\n"
          ]
        },
        {
          "name": "stdout",
          "output_type": "stream",
          "text": [
            "AdaBoostClassifier: Training time:  55.725242614746094\n",
            "AdaBoostClassifier: Testing time:  0.5748329162597656\n",
            "AdaBoostClassifier: Train score is: 0.9964960950581504\n",
            "AdaBoostClassifier: Validation score is: 0.996353488372093\n",
            "AdaBoostClassifier: Test score is: 0.9195766648122032\n"
          ]
        }
      ],
      "source": [
        "from sklearn.ensemble import AdaBoostClassifier\n",
        "fit_evaluate(AdaBoostClassifier(random_state=387))"
      ]
    },
    {
      "cell_type": "markdown",
      "metadata": {},
      "source": [
        "# NN"
      ]
    },
    {
      "cell_type": "code",
      "execution_count": 34,
      "metadata": {
        "id": "4aG98_GoBFt1"
      },
      "outputs": [
        {
          "name": "stdout",
          "output_type": "stream",
          "text": [
            "WARNING:tensorflow:From c:\\Users\\rezaab\\Projects\\IntrusionDetection-KDD\\.venv\\Lib\\site-packages\\keras\\src\\backend\\common\\global_state.py:74: The name tf.reset_default_graph is deprecated. Please use tf.compat.v1.reset_default_graph instead.\n",
            "\n"
          ]
        },
        {
          "data": {
            "text/html": [
              "<pre style=\"white-space:pre;overflow-x:auto;line-height:normal;font-family:Menlo,'DejaVu Sans Mono',consolas,'Courier New',monospace\"><span style=\"font-weight: bold\">Model: \"sequential\"</span>\n",
              "</pre>\n"
            ],
            "text/plain": [
              "\u001b[1mModel: \"sequential\"\u001b[0m\n"
            ]
          },
          "metadata": {},
          "output_type": "display_data"
        },
        {
          "data": {
            "text/html": [
              "<pre style=\"white-space:pre;overflow-x:auto;line-height:normal;font-family:Menlo,'DejaVu Sans Mono',consolas,'Courier New',monospace\">┏━━━━━━━━━━━━━━━━━━━━━━━━━━━━━━━━━┳━━━━━━━━━━━━━━━━━━━━━━━━┳━━━━━━━━━━━━━━━┓\n",
              "┃<span style=\"font-weight: bold\"> Layer (type)                    </span>┃<span style=\"font-weight: bold\"> Output Shape           </span>┃<span style=\"font-weight: bold\">       Param # </span>┃\n",
              "┡━━━━━━━━━━━━━━━━━━━━━━━━━━━━━━━━━╇━━━━━━━━━━━━━━━━━━━━━━━━╇━━━━━━━━━━━━━━━┩\n",
              "│ dense (<span style=\"color: #0087ff; text-decoration-color: #0087ff\">Dense</span>)                   │ (<span style=\"color: #00d7ff; text-decoration-color: #00d7ff\">None</span>, <span style=\"color: #00af00; text-decoration-color: #00af00\">64</span>)             │         <span style=\"color: #00af00; text-decoration-color: #00af00\">2,176</span> │\n",
              "├─────────────────────────────────┼────────────────────────┼───────────────┤\n",
              "│ batch_normalization             │ (<span style=\"color: #00d7ff; text-decoration-color: #00d7ff\">None</span>, <span style=\"color: #00af00; text-decoration-color: #00af00\">64</span>)             │           <span style=\"color: #00af00; text-decoration-color: #00af00\">256</span> │\n",
              "│ (<span style=\"color: #0087ff; text-decoration-color: #0087ff\">BatchNormalization</span>)            │                        │               │\n",
              "├─────────────────────────────────┼────────────────────────┼───────────────┤\n",
              "│ dropout (<span style=\"color: #0087ff; text-decoration-color: #0087ff\">Dropout</span>)               │ (<span style=\"color: #00d7ff; text-decoration-color: #00d7ff\">None</span>, <span style=\"color: #00af00; text-decoration-color: #00af00\">64</span>)             │             <span style=\"color: #00af00; text-decoration-color: #00af00\">0</span> │\n",
              "├─────────────────────────────────┼────────────────────────┼───────────────┤\n",
              "│ dense_1 (<span style=\"color: #0087ff; text-decoration-color: #0087ff\">Dense</span>)                 │ (<span style=\"color: #00d7ff; text-decoration-color: #00d7ff\">None</span>, <span style=\"color: #00af00; text-decoration-color: #00af00\">32</span>)             │         <span style=\"color: #00af00; text-decoration-color: #00af00\">2,080</span> │\n",
              "├─────────────────────────────────┼────────────────────────┼───────────────┤\n",
              "│ batch_normalization_1           │ (<span style=\"color: #00d7ff; text-decoration-color: #00d7ff\">None</span>, <span style=\"color: #00af00; text-decoration-color: #00af00\">32</span>)             │           <span style=\"color: #00af00; text-decoration-color: #00af00\">128</span> │\n",
              "│ (<span style=\"color: #0087ff; text-decoration-color: #0087ff\">BatchNormalization</span>)            │                        │               │\n",
              "├─────────────────────────────────┼────────────────────────┼───────────────┤\n",
              "│ dropout_1 (<span style=\"color: #0087ff; text-decoration-color: #0087ff\">Dropout</span>)             │ (<span style=\"color: #00d7ff; text-decoration-color: #00d7ff\">None</span>, <span style=\"color: #00af00; text-decoration-color: #00af00\">32</span>)             │             <span style=\"color: #00af00; text-decoration-color: #00af00\">0</span> │\n",
              "├─────────────────────────────────┼────────────────────────┼───────────────┤\n",
              "│ dense_2 (<span style=\"color: #0087ff; text-decoration-color: #0087ff\">Dense</span>)                 │ (<span style=\"color: #00d7ff; text-decoration-color: #00d7ff\">None</span>, <span style=\"color: #00af00; text-decoration-color: #00af00\">2</span>)              │            <span style=\"color: #00af00; text-decoration-color: #00af00\">66</span> │\n",
              "└─────────────────────────────────┴────────────────────────┴───────────────┘\n",
              "</pre>\n"
            ],
            "text/plain": [
              "┏━━━━━━━━━━━━━━━━━━━━━━━━━━━━━━━━━┳━━━━━━━━━━━━━━━━━━━━━━━━┳━━━━━━━━━━━━━━━┓\n",
              "┃\u001b[1m \u001b[0m\u001b[1mLayer (type)                   \u001b[0m\u001b[1m \u001b[0m┃\u001b[1m \u001b[0m\u001b[1mOutput Shape          \u001b[0m\u001b[1m \u001b[0m┃\u001b[1m \u001b[0m\u001b[1m      Param #\u001b[0m\u001b[1m \u001b[0m┃\n",
              "┡━━━━━━━━━━━━━━━━━━━━━━━━━━━━━━━━━╇━━━━━━━━━━━━━━━━━━━━━━━━╇━━━━━━━━━━━━━━━┩\n",
              "│ dense (\u001b[38;5;33mDense\u001b[0m)                   │ (\u001b[38;5;45mNone\u001b[0m, \u001b[38;5;34m64\u001b[0m)             │         \u001b[38;5;34m2,176\u001b[0m │\n",
              "├─────────────────────────────────┼────────────────────────┼───────────────┤\n",
              "│ batch_normalization             │ (\u001b[38;5;45mNone\u001b[0m, \u001b[38;5;34m64\u001b[0m)             │           \u001b[38;5;34m256\u001b[0m │\n",
              "│ (\u001b[38;5;33mBatchNormalization\u001b[0m)            │                        │               │\n",
              "├─────────────────────────────────┼────────────────────────┼───────────────┤\n",
              "│ dropout (\u001b[38;5;33mDropout\u001b[0m)               │ (\u001b[38;5;45mNone\u001b[0m, \u001b[38;5;34m64\u001b[0m)             │             \u001b[38;5;34m0\u001b[0m │\n",
              "├─────────────────────────────────┼────────────────────────┼───────────────┤\n",
              "│ dense_1 (\u001b[38;5;33mDense\u001b[0m)                 │ (\u001b[38;5;45mNone\u001b[0m, \u001b[38;5;34m32\u001b[0m)             │         \u001b[38;5;34m2,080\u001b[0m │\n",
              "├─────────────────────────────────┼────────────────────────┼───────────────┤\n",
              "│ batch_normalization_1           │ (\u001b[38;5;45mNone\u001b[0m, \u001b[38;5;34m32\u001b[0m)             │           \u001b[38;5;34m128\u001b[0m │\n",
              "│ (\u001b[38;5;33mBatchNormalization\u001b[0m)            │                        │               │\n",
              "├─────────────────────────────────┼────────────────────────┼───────────────┤\n",
              "│ dropout_1 (\u001b[38;5;33mDropout\u001b[0m)             │ (\u001b[38;5;45mNone\u001b[0m, \u001b[38;5;34m32\u001b[0m)             │             \u001b[38;5;34m0\u001b[0m │\n",
              "├─────────────────────────────────┼────────────────────────┼───────────────┤\n",
              "│ dense_2 (\u001b[38;5;33mDense\u001b[0m)                 │ (\u001b[38;5;45mNone\u001b[0m, \u001b[38;5;34m2\u001b[0m)              │            \u001b[38;5;34m66\u001b[0m │\n",
              "└─────────────────────────────────┴────────────────────────┴───────────────┘\n"
            ]
          },
          "metadata": {},
          "output_type": "display_data"
        },
        {
          "data": {
            "text/html": [
              "<pre style=\"white-space:pre;overflow-x:auto;line-height:normal;font-family:Menlo,'DejaVu Sans Mono',consolas,'Courier New',monospace\"><span style=\"font-weight: bold\"> Total params: </span><span style=\"color: #00af00; text-decoration-color: #00af00\">4,706</span> (18.38 KB)\n",
              "</pre>\n"
            ],
            "text/plain": [
              "\u001b[1m Total params: \u001b[0m\u001b[38;5;34m4,706\u001b[0m (18.38 KB)\n"
            ]
          },
          "metadata": {},
          "output_type": "display_data"
        },
        {
          "data": {
            "text/html": [
              "<pre style=\"white-space:pre;overflow-x:auto;line-height:normal;font-family:Menlo,'DejaVu Sans Mono',consolas,'Courier New',monospace\"><span style=\"font-weight: bold\"> Trainable params: </span><span style=\"color: #00af00; text-decoration-color: #00af00\">4,514</span> (17.63 KB)\n",
              "</pre>\n"
            ],
            "text/plain": [
              "\u001b[1m Trainable params: \u001b[0m\u001b[38;5;34m4,514\u001b[0m (17.63 KB)\n"
            ]
          },
          "metadata": {},
          "output_type": "display_data"
        },
        {
          "data": {
            "text/html": [
              "<pre style=\"white-space:pre;overflow-x:auto;line-height:normal;font-family:Menlo,'DejaVu Sans Mono',consolas,'Courier New',monospace\"><span style=\"font-weight: bold\"> Non-trainable params: </span><span style=\"color: #00af00; text-decoration-color: #00af00\">192</span> (768.00 B)\n",
              "</pre>\n"
            ],
            "text/plain": [
              "\u001b[1m Non-trainable params: \u001b[0m\u001b[38;5;34m192\u001b[0m (768.00 B)\n"
            ]
          },
          "metadata": {},
          "output_type": "display_data"
        }
      ],
      "source": [
        "import os\n",
        "os.environ[\"KERAS_BACKEND\"] = \"tensorflow\"\n",
        "\n",
        "import keras\n",
        "from keras.models import Sequential\n",
        "from keras.layers import Dense, Input, Dropout, BatchNormalization\n",
        "from scikeras.wrappers import KerasClassifier\n",
        "from keras.losses import CategoricalCrossentropy\n",
        "from keras.optimizers import Adam\n",
        "from keras.metrics import Accuracy\n",
        "import gc\n",
        "\n",
        "keras.backend.clear_session()\n",
        "\n",
        "try:\n",
        "  del kerasModel\n",
        "  gc.collect()\n",
        "  del ann\n",
        "  gc.collect()\n",
        "except:\n",
        "  pass\n",
        "\n",
        "kerasModel = Sequential(\n",
        "\t[\n",
        "\t\tInput(shape=(X_train.shape[1],)),\n",
        "\t\tDense(64, activation='relu', kernel_initializer='he_uniform'),\n",
        "    \tBatchNormalization(),\n",
        "    \tDropout(0.5),\n",
        "\t\tDense(32, activation='relu', kernel_initializer='he_uniform'),\n",
        "    \tBatchNormalization(),\n",
        "    \tDropout(0.5),\n",
        "\t\tDense(2, activation='softmax')\n",
        "\t]\n",
        ")\n",
        "\n",
        "kerasModel.compile(optimizer = 'adam', loss='categorical_crossentropy',metrics = ['accuracy'])\n",
        "\n",
        "kerasModel.summary()"
      ]
    },
    {
      "cell_type": "code",
      "execution_count": null,
      "metadata": {},
      "outputs": [],
      "source": [
        "Y_train.shape"
      ]
    },
    {
      "cell_type": "code",
      "execution_count": 35,
      "metadata": {
        "colab": {
          "base_uri": "https://localhost:8080/"
        },
        "id": "Wx-Wtt4lBTOn",
        "outputId": "f9c9795f-d7d4-45a4-8575-ffa9ac9b5592"
      },
      "outputs": [
        {
          "name": "stdout",
          "output_type": "stream",
          "text": [
            "Epoch 1/100\n",
            "\u001b[1m15118/15118\u001b[0m \u001b[32m━━━━━━━━━━━━━━━━━━━━\u001b[0m\u001b[37m\u001b[0m \u001b[1m20s\u001b[0m 1ms/step - accuracy: 0.9856 - loss: 0.0494 - val_accuracy: 0.9967 - val_loss: 0.0117\n",
            "Epoch 2/100\n",
            "\u001b[1m15118/15118\u001b[0m \u001b[32m━━━━━━━━━━━━━━━━━━━━\u001b[0m\u001b[37m\u001b[0m \u001b[1m17s\u001b[0m 1ms/step - accuracy: 0.9960 - loss: 0.0163 - val_accuracy: 0.9972 - val_loss: 0.0087\n",
            "Epoch 3/100\n",
            "\u001b[1m15118/15118\u001b[0m \u001b[32m━━━━━━━━━━━━━━━━━━━━\u001b[0m\u001b[37m\u001b[0m \u001b[1m18s\u001b[0m 1ms/step - accuracy: 0.9962 - loss: 0.0134 - val_accuracy: 0.9972 - val_loss: 0.0071\n",
            "Epoch 4/100\n",
            "\u001b[1m15118/15118\u001b[0m \u001b[32m━━━━━━━━━━━━━━━━━━━━\u001b[0m\u001b[37m\u001b[0m \u001b[1m18s\u001b[0m 1ms/step - accuracy: 0.9966 - loss: 0.0117 - val_accuracy: 0.9975 - val_loss: 0.0061\n",
            "Epoch 5/100\n",
            "\u001b[1m15118/15118\u001b[0m \u001b[32m━━━━━━━━━━━━━━━━━━━━\u001b[0m\u001b[37m\u001b[0m \u001b[1m16s\u001b[0m 1ms/step - accuracy: 0.9970 - loss: 0.0103 - val_accuracy: 0.9983 - val_loss: 0.0059\n",
            "Epoch 6/100\n",
            "\u001b[1m15118/15118\u001b[0m \u001b[32m━━━━━━━━━━━━━━━━━━━━\u001b[0m\u001b[37m\u001b[0m \u001b[1m17s\u001b[0m 1ms/step - accuracy: 0.9970 - loss: 0.0104 - val_accuracy: 0.9976 - val_loss: 0.0058\n",
            "Epoch 7/100\n",
            "\u001b[1m15118/15118\u001b[0m \u001b[32m━━━━━━━━━━━━━━━━━━━━\u001b[0m\u001b[37m\u001b[0m \u001b[1m17s\u001b[0m 1ms/step - accuracy: 0.9969 - loss: 0.0105 - val_accuracy: 0.9982 - val_loss: 0.0057\n",
            "Epoch 8/100\n",
            "\u001b[1m15118/15118\u001b[0m \u001b[32m━━━━━━━━━━━━━━━━━━━━\u001b[0m\u001b[37m\u001b[0m \u001b[1m17s\u001b[0m 1ms/step - accuracy: 0.9972 - loss: 0.0091 - val_accuracy: 0.9984 - val_loss: 0.0050\n",
            "Epoch 9/100\n",
            "\u001b[1m15118/15118\u001b[0m \u001b[32m━━━━━━━━━━━━━━━━━━━━\u001b[0m\u001b[37m\u001b[0m \u001b[1m17s\u001b[0m 1ms/step - accuracy: 0.9973 - loss: 0.0092 - val_accuracy: 0.9979 - val_loss: 0.0053\n",
            "Epoch 10/100\n",
            "\u001b[1m15118/15118\u001b[0m \u001b[32m━━━━━━━━━━━━━━━━━━━━\u001b[0m\u001b[37m\u001b[0m \u001b[1m17s\u001b[0m 1ms/step - accuracy: 0.9974 - loss: 0.0088 - val_accuracy: 0.9985 - val_loss: 0.0047\n",
            "Epoch 11/100\n",
            "\u001b[1m15118/15118\u001b[0m \u001b[32m━━━━━━━━━━━━━━━━━━━━\u001b[0m\u001b[37m\u001b[0m \u001b[1m17s\u001b[0m 1ms/step - accuracy: 0.9975 - loss: 0.0084 - val_accuracy: 0.9988 - val_loss: 0.0043\n",
            "Epoch 12/100\n",
            "\u001b[1m15118/15118\u001b[0m \u001b[32m━━━━━━━━━━━━━━━━━━━━\u001b[0m\u001b[37m\u001b[0m \u001b[1m17s\u001b[0m 1ms/step - accuracy: 0.9974 - loss: 0.0085 - val_accuracy: 0.9988 - val_loss: 0.0042\n",
            "Epoch 13/100\n",
            "\u001b[1m15118/15118\u001b[0m \u001b[32m━━━━━━━━━━━━━━━━━━━━\u001b[0m\u001b[37m\u001b[0m \u001b[1m18s\u001b[0m 1ms/step - accuracy: 0.9977 - loss: 0.0080 - val_accuracy: 0.9985 - val_loss: 0.0043\n",
            "Epoch 14/100\n",
            "\u001b[1m15118/15118\u001b[0m \u001b[32m━━━━━━━━━━━━━━━━━━━━\u001b[0m\u001b[37m\u001b[0m \u001b[1m17s\u001b[0m 1ms/step - accuracy: 0.9975 - loss: 0.0081 - val_accuracy: 0.9987 - val_loss: 0.0047\n",
            "Epoch 15/100\n",
            "\u001b[1m15118/15118\u001b[0m \u001b[32m━━━━━━━━━━━━━━━━━━━━\u001b[0m\u001b[37m\u001b[0m \u001b[1m16s\u001b[0m 1ms/step - accuracy: 0.9975 - loss: 0.0081 - val_accuracy: 0.9989 - val_loss: 0.0041\n",
            "Epoch 16/100\n",
            "\u001b[1m15118/15118\u001b[0m \u001b[32m━━━━━━━━━━━━━━━━━━━━\u001b[0m\u001b[37m\u001b[0m \u001b[1m18s\u001b[0m 1ms/step - accuracy: 0.9978 - loss: 0.0075 - val_accuracy: 0.9985 - val_loss: 0.0041\n",
            "Epoch 17/100\n",
            "\u001b[1m15118/15118\u001b[0m \u001b[32m━━━━━━━━━━━━━━━━━━━━\u001b[0m\u001b[37m\u001b[0m \u001b[1m16s\u001b[0m 1ms/step - accuracy: 0.9977 - loss: 0.0081 - val_accuracy: 0.9987 - val_loss: 0.0042\n",
            "Epoch 18/100\n",
            "\u001b[1m15118/15118\u001b[0m \u001b[32m━━━━━━━━━━━━━━━━━━━━\u001b[0m\u001b[37m\u001b[0m \u001b[1m16s\u001b[0m 1ms/step - accuracy: 0.9978 - loss: 0.0080 - val_accuracy: 0.9990 - val_loss: 0.0039\n",
            "Epoch 19/100\n",
            "\u001b[1m15118/15118\u001b[0m \u001b[32m━━━━━━━━━━━━━━━━━━━━\u001b[0m\u001b[37m\u001b[0m \u001b[1m16s\u001b[0m 1ms/step - accuracy: 0.9978 - loss: 0.0073 - val_accuracy: 0.9989 - val_loss: 0.0038\n",
            "Epoch 20/100\n",
            "\u001b[1m15118/15118\u001b[0m \u001b[32m━━━━━━━━━━━━━━━━━━━━\u001b[0m\u001b[37m\u001b[0m \u001b[1m16s\u001b[0m 1ms/step - accuracy: 0.9978 - loss: 0.0077 - val_accuracy: 0.9988 - val_loss: 0.0038\n",
            "Epoch 21/100\n",
            "\u001b[1m15118/15118\u001b[0m \u001b[32m━━━━━━━━━━━━━━━━━━━━\u001b[0m\u001b[37m\u001b[0m \u001b[1m15s\u001b[0m 1ms/step - accuracy: 0.9979 - loss: 0.0076 - val_accuracy: 0.9990 - val_loss: 0.0038\n",
            "Epoch 22/100\n",
            "\u001b[1m15118/15118\u001b[0m \u001b[32m━━━━━━━━━━━━━━━━━━━━\u001b[0m\u001b[37m\u001b[0m \u001b[1m16s\u001b[0m 1ms/step - accuracy: 0.9979 - loss: 0.0072 - val_accuracy: 0.9989 - val_loss: 0.0037\n",
            "Epoch 23/100\n",
            "\u001b[1m15118/15118\u001b[0m \u001b[32m━━━━━━━━━━━━━━━━━━━━\u001b[0m\u001b[37m\u001b[0m \u001b[1m16s\u001b[0m 1ms/step - accuracy: 0.9980 - loss: 0.0072 - val_accuracy: 0.9989 - val_loss: 0.0038\n",
            "Epoch 24/100\n",
            "\u001b[1m15118/15118\u001b[0m \u001b[32m━━━━━━━━━━━━━━━━━━━━\u001b[0m\u001b[37m\u001b[0m \u001b[1m16s\u001b[0m 1ms/step - accuracy: 0.9978 - loss: 0.0077 - val_accuracy: 0.9989 - val_loss: 0.0041\n",
            "Epoch 25/100\n",
            "\u001b[1m15118/15118\u001b[0m \u001b[32m━━━━━━━━━━━━━━━━━━━━\u001b[0m\u001b[37m\u001b[0m \u001b[1m16s\u001b[0m 1ms/step - accuracy: 0.9979 - loss: 0.0075 - val_accuracy: 0.9985 - val_loss: 0.0043\n",
            "Epoch 26/100\n",
            "\u001b[1m15118/15118\u001b[0m \u001b[32m━━━━━━━━━━━━━━━━━━━━\u001b[0m\u001b[37m\u001b[0m \u001b[1m16s\u001b[0m 1ms/step - accuracy: 0.9978 - loss: 0.0074 - val_accuracy: 0.9990 - val_loss: 0.0038\n",
            "Epoch 27/100\n",
            "\u001b[1m15118/15118\u001b[0m \u001b[32m━━━━━━━━━━━━━━━━━━━━\u001b[0m\u001b[37m\u001b[0m \u001b[1m16s\u001b[0m 1ms/step - accuracy: 0.9980 - loss: 0.0073 - val_accuracy: 0.9990 - val_loss: 0.0037\n",
            "Epoch 28/100\n",
            "\u001b[1m15118/15118\u001b[0m \u001b[32m━━━━━━━━━━━━━━━━━━━━\u001b[0m\u001b[37m\u001b[0m \u001b[1m16s\u001b[0m 1ms/step - accuracy: 0.9979 - loss: 0.0075 - val_accuracy: 0.9984 - val_loss: 0.0045\n",
            "Epoch 29/100\n",
            "\u001b[1m15118/15118\u001b[0m \u001b[32m━━━━━━━━━━━━━━━━━━━━\u001b[0m\u001b[37m\u001b[0m \u001b[1m16s\u001b[0m 1ms/step - accuracy: 0.9979 - loss: 0.0073 - val_accuracy: 0.9990 - val_loss: 0.0035\n",
            "Epoch 30/100\n",
            "\u001b[1m15118/15118\u001b[0m \u001b[32m━━━━━━━━━━━━━━━━━━━━\u001b[0m\u001b[37m\u001b[0m \u001b[1m16s\u001b[0m 1ms/step - accuracy: 0.9980 - loss: 0.0072 - val_accuracy: 0.9989 - val_loss: 0.0037\n",
            "Epoch 31/100\n",
            "\u001b[1m15118/15118\u001b[0m \u001b[32m━━━━━━━━━━━━━━━━━━━━\u001b[0m\u001b[37m\u001b[0m \u001b[1m16s\u001b[0m 1ms/step - accuracy: 0.9980 - loss: 0.0070 - val_accuracy: 0.9991 - val_loss: 0.0033\n",
            "Epoch 32/100\n",
            "\u001b[1m15118/15118\u001b[0m \u001b[32m━━━━━━━━━━━━━━━━━━━━\u001b[0m\u001b[37m\u001b[0m \u001b[1m15s\u001b[0m 1ms/step - accuracy: 0.9981 - loss: 0.0066 - val_accuracy: 0.9986 - val_loss: 0.0038\n",
            "Epoch 33/100\n",
            "\u001b[1m15118/15118\u001b[0m \u001b[32m━━━━━━━━━━━━━━━━━━━━\u001b[0m\u001b[37m\u001b[0m \u001b[1m15s\u001b[0m 1ms/step - accuracy: 0.9980 - loss: 0.0071 - val_accuracy: 0.9990 - val_loss: 0.0034\n",
            "Epoch 34/100\n",
            "\u001b[1m15118/15118\u001b[0m \u001b[32m━━━━━━━━━━━━━━━━━━━━\u001b[0m\u001b[37m\u001b[0m \u001b[1m16s\u001b[0m 1ms/step - accuracy: 0.9980 - loss: 0.0072 - val_accuracy: 0.9991 - val_loss: 0.0033\n",
            "Epoch 35/100\n",
            "\u001b[1m15118/15118\u001b[0m \u001b[32m━━━━━━━━━━━━━━━━━━━━\u001b[0m\u001b[37m\u001b[0m \u001b[1m16s\u001b[0m 1ms/step - accuracy: 0.9980 - loss: 0.0069 - val_accuracy: 0.9990 - val_loss: 0.0035\n",
            "Epoch 36/100\n",
            "\u001b[1m15118/15118\u001b[0m \u001b[32m━━━━━━━━━━━━━━━━━━━━\u001b[0m\u001b[37m\u001b[0m \u001b[1m11s\u001b[0m 749us/step - accuracy: 0.9980 - loss: 0.0071 - val_accuracy: 0.9990 - val_loss: 0.0036\n",
            "Epoch 37/100\n",
            "\u001b[1m15118/15118\u001b[0m \u001b[32m━━━━━━━━━━━━━━━━━━━━\u001b[0m\u001b[37m\u001b[0m \u001b[1m11s\u001b[0m 699us/step - accuracy: 0.9980 - loss: 0.0071 - val_accuracy: 0.9988 - val_loss: 0.0039\n",
            "Epoch 38/100\n",
            "\u001b[1m15118/15118\u001b[0m \u001b[32m━━━━━━━━━━━━━━━━━━━━\u001b[0m\u001b[37m\u001b[0m \u001b[1m11s\u001b[0m 700us/step - accuracy: 0.9980 - loss: 0.0073 - val_accuracy: 0.9991 - val_loss: 0.0035\n",
            "Epoch 39/100\n",
            "\u001b[1m15118/15118\u001b[0m \u001b[32m━━━━━━━━━━━━━━━━━━━━\u001b[0m\u001b[37m\u001b[0m \u001b[1m10s\u001b[0m 687us/step - accuracy: 0.9981 - loss: 0.0069 - val_accuracy: 0.9991 - val_loss: 0.0031\n",
            "Epoch 40/100\n",
            "\u001b[1m15118/15118\u001b[0m \u001b[32m━━━━━━━━━━━━━━━━━━━━\u001b[0m\u001b[37m\u001b[0m \u001b[1m11s\u001b[0m 718us/step - accuracy: 0.9981 - loss: 0.0069 - val_accuracy: 0.9991 - val_loss: 0.0033\n",
            "Epoch 41/100\n",
            "\u001b[1m15118/15118\u001b[0m \u001b[32m━━━━━━━━━━━━━━━━━━━━\u001b[0m\u001b[37m\u001b[0m \u001b[1m11s\u001b[0m 698us/step - accuracy: 0.9982 - loss: 0.0065 - val_accuracy: 0.9992 - val_loss: 0.0033\n",
            "Epoch 42/100\n",
            "\u001b[1m15118/15118\u001b[0m \u001b[32m━━━━━━━━━━━━━━━━━━━━\u001b[0m\u001b[37m\u001b[0m \u001b[1m10s\u001b[0m 689us/step - accuracy: 0.9981 - loss: 0.0067 - val_accuracy: 0.9991 - val_loss: 0.0033\n",
            "Epoch 43/100\n",
            "\u001b[1m15118/15118\u001b[0m \u001b[32m━━━━━━━━━━━━━━━━━━━━\u001b[0m\u001b[37m\u001b[0m \u001b[1m10s\u001b[0m 677us/step - accuracy: 0.9981 - loss: 0.0066 - val_accuracy: 0.9991 - val_loss: 0.0032\n",
            "Epoch 44/100\n",
            "\u001b[1m15118/15118\u001b[0m \u001b[32m━━━━━━━━━━━━━━━━━━━━\u001b[0m\u001b[37m\u001b[0m \u001b[1m10s\u001b[0m 687us/step - accuracy: 0.9981 - loss: 0.0068 - val_accuracy: 0.9990 - val_loss: 0.0032\n",
            "Epoch 45/100\n",
            "\u001b[1m15118/15118\u001b[0m \u001b[32m━━━━━━━━━━━━━━━━━━━━\u001b[0m\u001b[37m\u001b[0m \u001b[1m11s\u001b[0m 747us/step - accuracy: 0.9980 - loss: 0.0070 - val_accuracy: 0.9989 - val_loss: 0.0035\n",
            "Epoch 46/100\n",
            "\u001b[1m15118/15118\u001b[0m \u001b[32m━━━━━━━━━━━━━━━━━━━━\u001b[0m\u001b[37m\u001b[0m \u001b[1m11s\u001b[0m 724us/step - accuracy: 0.9981 - loss: 0.0067 - val_accuracy: 0.9991 - val_loss: 0.0033\n",
            "Epoch 47/100\n",
            "\u001b[1m15118/15118\u001b[0m \u001b[32m━━━━━━━━━━━━━━━━━━━━\u001b[0m\u001b[37m\u001b[0m \u001b[1m12s\u001b[0m 797us/step - accuracy: 0.9981 - loss: 0.0069 - val_accuracy: 0.9991 - val_loss: 0.0034\n",
            "Epoch 48/100\n",
            "\u001b[1m15118/15118\u001b[0m \u001b[32m━━━━━━━━━━━━━━━━━━━━\u001b[0m\u001b[37m\u001b[0m \u001b[1m12s\u001b[0m 760us/step - accuracy: 0.9980 - loss: 0.0069 - val_accuracy: 0.9991 - val_loss: 0.0035\n",
            "Epoch 49/100\n",
            "\u001b[1m15118/15118\u001b[0m \u001b[32m━━━━━━━━━━━━━━━━━━━━\u001b[0m\u001b[37m\u001b[0m \u001b[1m11s\u001b[0m 703us/step - accuracy: 0.9981 - loss: 0.0069 - val_accuracy: 0.9990 - val_loss: 0.0034\n",
            "Epoch 49: early stopping\n",
            "Restoring model weights from the end of the best epoch: 39.\n",
            "ANN: Training time:  729.4853458404541\n",
            "\u001b[1m30235/30235\u001b[0m \u001b[32m━━━━━━━━━━━━━━━━━━━━\u001b[0m\u001b[37m\u001b[0m \u001b[1m13s\u001b[0m 413us/step\n",
            "\u001b[1m3360/3360\u001b[0m \u001b[32m━━━━━━━━━━━━━━━━━━━━\u001b[0m\u001b[37m\u001b[0m \u001b[1m1s\u001b[0m 378us/step\n",
            "\u001b[1m2416/2416\u001b[0m \u001b[32m━━━━━━━━━━━━━━━━━━━━\u001b[0m\u001b[37m\u001b[0m \u001b[1m1s\u001b[0m 387us/step\n",
            "Train accuracy: 0.9990759613516184\n",
            "Val accuracy: 0.9991162790697674\n",
            "Test accuracy: 0.9258904659015926\n"
          ]
        }
      ],
      "source": [
        "from keras.utils import to_categorical\n",
        "from keras.callbacks import EarlyStopping\n",
        "\n",
        "# ann = KerasClassifier(model=kerasModel, epochs=10, batch_size=64)\n",
        "Y_train_one_hot = to_categorical(Y_train, num_classes=2)\n",
        "Y_val_one_hot = to_categorical(Y_val, num_classes=2)\n",
        "Y_test_one_hot = to_categorical(Y_test, num_classes=2)\n",
        "\n",
        "early_stopping = EarlyStopping(\n",
        "    monitor='val_loss', \n",
        "    min_delta=0.0001, \n",
        "    patience=10, \n",
        "    verbose=1, \n",
        "    mode='min', \n",
        "    restore_best_weights=True\n",
        ")\n",
        "\n",
        "\n",
        "start_time = time.time()\n",
        "kerasModel.fit(X_train, Y_train_one_hot, \n",
        "               validation_data=(X_val, Y_val_one_hot), \n",
        "               epochs=100,\n",
        "               batch_size=64, \n",
        "               callbacks=[early_stopping])\n",
        "end_time = time.time()\n",
        "print(f\"ANN: Training time: \",end_time-start_time)\n",
        "\n",
        "ann_train_pred = kerasModel.predict(X_train)\n",
        "ann_val_pred = kerasModel.predict(X_val)\n",
        "ann_test_pred = kerasModel.predict(X_test)\n",
        "\n",
        "ann_train_pred_scalar = np.argmax(ann_train_pred, axis=1)\n",
        "ann_val_pred_scalar = np.argmax(ann_val_pred, axis=1)\n",
        "ann_test_pred_scalar = np.argmax(ann_test_pred, axis=1)\n",
        "\n",
        "print('Train accuracy:', accuracy_score(Y_train,ann_train_pred_scalar))\n",
        "print('Val accuracy:', accuracy_score(Y_val,ann_val_pred_scalar))\n",
        "print('Test accuracy:', accuracy_score(Y_test,ann_test_pred_scalar))"
      ]
    }
  ],
  "metadata": {
    "accelerator": "GPU",
    "colab": {
      "authorship_tag": "ABX9TyPi4DVO8c3v9CAOr0NMJaNx",
      "gpuType": "T4",
      "include_colab_link": true,
      "mount_file_id": "1543CWaeoEqTPpCEYmRa7jx3W8n7f0qt-",
      "provenance": []
    },
    "kernelspec": {
      "display_name": "Python 3",
      "name": "python3"
    },
    "language_info": {
      "codemirror_mode": {
        "name": "ipython",
        "version": 3
      },
      "file_extension": ".py",
      "mimetype": "text/x-python",
      "name": "python",
      "nbconvert_exporter": "python",
      "pygments_lexer": "ipython3",
      "version": "3.11.9"
    }
  },
  "nbformat": 4,
  "nbformat_minor": 0
}
